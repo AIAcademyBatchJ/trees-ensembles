{
 "cells": [
  {
   "cell_type": "code",
   "execution_count": 1,
   "id": "655f0ad1",
   "metadata": {},
   "outputs": [],
   "source": [
    "import os\n",
    "import pandas as pd\n",
    "import numpy as np"
   ]
  },
  {
   "cell_type": "code",
   "execution_count": 2,
   "id": "f6d5062d",
   "metadata": {},
   "outputs": [],
   "source": [
    "data_dir = r\"C:\\Users\\Swastik\\Desktop\\Dono Consulting\\Deloitte_Training\\decision-tree\"\n",
    "os.chdir(data_dir)"
   ]
  },
  {
   "cell_type": "code",
   "execution_count": 3,
   "id": "7a959e69",
   "metadata": {},
   "outputs": [],
   "source": [
    "data = pd.read_csv('credit_history.csv')"
   ]
  },
  {
   "cell_type": "code",
   "execution_count": 4,
   "id": "108a6603",
   "metadata": {},
   "outputs": [
    {
     "data": {
      "text/html": [
       "<div>\n",
       "<style scoped>\n",
       "    .dataframe tbody tr th:only-of-type {\n",
       "        vertical-align: middle;\n",
       "    }\n",
       "\n",
       "    .dataframe tbody tr th {\n",
       "        vertical-align: top;\n",
       "    }\n",
       "\n",
       "    .dataframe thead th {\n",
       "        text-align: right;\n",
       "    }\n",
       "</style>\n",
       "<table border=\"1\" class=\"dataframe\">\n",
       "  <thead>\n",
       "    <tr style=\"text-align: right;\">\n",
       "      <th></th>\n",
       "      <th>default</th>\n",
       "      <th>amount</th>\n",
       "      <th>grade</th>\n",
       "      <th>years</th>\n",
       "      <th>ownership</th>\n",
       "      <th>income</th>\n",
       "      <th>age</th>\n",
       "    </tr>\n",
       "  </thead>\n",
       "  <tbody>\n",
       "    <tr>\n",
       "      <th>0</th>\n",
       "      <td>0</td>\n",
       "      <td>1000</td>\n",
       "      <td>B</td>\n",
       "      <td>2.0</td>\n",
       "      <td>RENT</td>\n",
       "      <td>19200.0</td>\n",
       "      <td>24</td>\n",
       "    </tr>\n",
       "    <tr>\n",
       "      <th>1</th>\n",
       "      <td>1</td>\n",
       "      <td>6500</td>\n",
       "      <td>A</td>\n",
       "      <td>2.0</td>\n",
       "      <td>MORTGAGE</td>\n",
       "      <td>66000.0</td>\n",
       "      <td>28</td>\n",
       "    </tr>\n",
       "    <tr>\n",
       "      <th>2</th>\n",
       "      <td>0</td>\n",
       "      <td>2400</td>\n",
       "      <td>A</td>\n",
       "      <td>2.0</td>\n",
       "      <td>RENT</td>\n",
       "      <td>60000.0</td>\n",
       "      <td>36</td>\n",
       "    </tr>\n",
       "    <tr>\n",
       "      <th>3</th>\n",
       "      <td>0</td>\n",
       "      <td>10000</td>\n",
       "      <td>C</td>\n",
       "      <td>3.0</td>\n",
       "      <td>RENT</td>\n",
       "      <td>62000.0</td>\n",
       "      <td>24</td>\n",
       "    </tr>\n",
       "    <tr>\n",
       "      <th>4</th>\n",
       "      <td>1</td>\n",
       "      <td>4000</td>\n",
       "      <td>C</td>\n",
       "      <td>2.0</td>\n",
       "      <td>RENT</td>\n",
       "      <td>20000.0</td>\n",
       "      <td>28</td>\n",
       "    </tr>\n",
       "  </tbody>\n",
       "</table>\n",
       "</div>"
      ],
      "text/plain": [
       "   default  amount grade  years ownership   income  age\n",
       "0        0    1000     B    2.0      RENT  19200.0   24\n",
       "1        1    6500     A    2.0  MORTGAGE  66000.0   28\n",
       "2        0    2400     A    2.0      RENT  60000.0   36\n",
       "3        0   10000     C    3.0      RENT  62000.0   24\n",
       "4        1    4000     C    2.0      RENT  20000.0   28"
      ]
     },
     "execution_count": 4,
     "metadata": {},
     "output_type": "execute_result"
    }
   ],
   "source": [
    "data.head()"
   ]
  },
  {
   "cell_type": "code",
   "execution_count": 5,
   "id": "250b77c7",
   "metadata": {},
   "outputs": [
    {
     "data": {
      "text/plain": [
       "default        0\n",
       "amount         0\n",
       "grade          0\n",
       "years        279\n",
       "ownership      0\n",
       "income         0\n",
       "age            0\n",
       "dtype: int64"
      ]
     },
     "execution_count": 5,
     "metadata": {},
     "output_type": "execute_result"
    }
   ],
   "source": [
    "data.isnull().sum()"
   ]
  },
  {
   "cell_type": "code",
   "execution_count": 6,
   "id": "f006c201",
   "metadata": {},
   "outputs": [
    {
     "data": {
      "text/plain": [
       "(7727, 7)"
      ]
     },
     "execution_count": 6,
     "metadata": {},
     "output_type": "execute_result"
    }
   ],
   "source": [
    "data.shape"
   ]
  },
  {
   "cell_type": "code",
   "execution_count": 7,
   "id": "0733eb72",
   "metadata": {},
   "outputs": [
    {
     "data": {
      "text/plain": [
       "count    7448.000000\n",
       "mean        6.086332\n",
       "std         6.700758\n",
       "min         0.000000\n",
       "25%         2.000000\n",
       "50%         4.000000\n",
       "75%         8.000000\n",
       "max        62.000000\n",
       "Name: years, dtype: float64"
      ]
     },
     "execution_count": 7,
     "metadata": {},
     "output_type": "execute_result"
    }
   ],
   "source": [
    "data['years'].describe()"
   ]
  },
  {
   "cell_type": "code",
   "execution_count": 8,
   "id": "1b0ff8e6",
   "metadata": {},
   "outputs": [],
   "source": [
    "data['years'].fillna(4, inplace=True)"
   ]
  },
  {
   "cell_type": "code",
   "execution_count": 10,
   "id": "f119a3bb",
   "metadata": {},
   "outputs": [],
   "source": [
    "X = data.drop('default', axis=1)"
   ]
  },
  {
   "cell_type": "code",
   "execution_count": 11,
   "id": "199bea81",
   "metadata": {},
   "outputs": [],
   "source": [
    "y = data['default']"
   ]
  },
  {
   "cell_type": "code",
   "execution_count": 12,
   "id": "70ba9eca",
   "metadata": {},
   "outputs": [
    {
     "data": {
      "text/plain": [
       "0    0\n",
       "1    1\n",
       "2    0\n",
       "3    0\n",
       "4    1\n",
       "Name: default, dtype: int64"
      ]
     },
     "execution_count": 12,
     "metadata": {},
     "output_type": "execute_result"
    }
   ],
   "source": [
    "y.head()"
   ]
  },
  {
   "cell_type": "code",
   "execution_count": 13,
   "id": "e889a818",
   "metadata": {},
   "outputs": [
    {
     "data": {
      "text/html": [
       "<div>\n",
       "<style scoped>\n",
       "    .dataframe tbody tr th:only-of-type {\n",
       "        vertical-align: middle;\n",
       "    }\n",
       "\n",
       "    .dataframe tbody tr th {\n",
       "        vertical-align: top;\n",
       "    }\n",
       "\n",
       "    .dataframe thead th {\n",
       "        text-align: right;\n",
       "    }\n",
       "</style>\n",
       "<table border=\"1\" class=\"dataframe\">\n",
       "  <thead>\n",
       "    <tr style=\"text-align: right;\">\n",
       "      <th></th>\n",
       "      <th>amount</th>\n",
       "      <th>grade</th>\n",
       "      <th>years</th>\n",
       "      <th>ownership</th>\n",
       "      <th>income</th>\n",
       "      <th>age</th>\n",
       "    </tr>\n",
       "  </thead>\n",
       "  <tbody>\n",
       "    <tr>\n",
       "      <th>0</th>\n",
       "      <td>1000</td>\n",
       "      <td>B</td>\n",
       "      <td>2.0</td>\n",
       "      <td>RENT</td>\n",
       "      <td>19200.0</td>\n",
       "      <td>24</td>\n",
       "    </tr>\n",
       "    <tr>\n",
       "      <th>1</th>\n",
       "      <td>6500</td>\n",
       "      <td>A</td>\n",
       "      <td>2.0</td>\n",
       "      <td>MORTGAGE</td>\n",
       "      <td>66000.0</td>\n",
       "      <td>28</td>\n",
       "    </tr>\n",
       "    <tr>\n",
       "      <th>2</th>\n",
       "      <td>2400</td>\n",
       "      <td>A</td>\n",
       "      <td>2.0</td>\n",
       "      <td>RENT</td>\n",
       "      <td>60000.0</td>\n",
       "      <td>36</td>\n",
       "    </tr>\n",
       "    <tr>\n",
       "      <th>3</th>\n",
       "      <td>10000</td>\n",
       "      <td>C</td>\n",
       "      <td>3.0</td>\n",
       "      <td>RENT</td>\n",
       "      <td>62000.0</td>\n",
       "      <td>24</td>\n",
       "    </tr>\n",
       "    <tr>\n",
       "      <th>4</th>\n",
       "      <td>4000</td>\n",
       "      <td>C</td>\n",
       "      <td>2.0</td>\n",
       "      <td>RENT</td>\n",
       "      <td>20000.0</td>\n",
       "      <td>28</td>\n",
       "    </tr>\n",
       "  </tbody>\n",
       "</table>\n",
       "</div>"
      ],
      "text/plain": [
       "   amount grade  years ownership   income  age\n",
       "0    1000     B    2.0      RENT  19200.0   24\n",
       "1    6500     A    2.0  MORTGAGE  66000.0   28\n",
       "2    2400     A    2.0      RENT  60000.0   36\n",
       "3   10000     C    3.0      RENT  62000.0   24\n",
       "4    4000     C    2.0      RENT  20000.0   28"
      ]
     },
     "execution_count": 13,
     "metadata": {},
     "output_type": "execute_result"
    }
   ],
   "source": [
    "X.head()"
   ]
  },
  {
   "cell_type": "code",
   "execution_count": 14,
   "id": "5709e821",
   "metadata": {},
   "outputs": [],
   "source": [
    "X = pd.get_dummies(X)"
   ]
  },
  {
   "cell_type": "code",
   "execution_count": 15,
   "id": "baf14520",
   "metadata": {},
   "outputs": [
    {
     "data": {
      "text/html": [
       "<div>\n",
       "<style scoped>\n",
       "    .dataframe tbody tr th:only-of-type {\n",
       "        vertical-align: middle;\n",
       "    }\n",
       "\n",
       "    .dataframe tbody tr th {\n",
       "        vertical-align: top;\n",
       "    }\n",
       "\n",
       "    .dataframe thead th {\n",
       "        text-align: right;\n",
       "    }\n",
       "</style>\n",
       "<table border=\"1\" class=\"dataframe\">\n",
       "  <thead>\n",
       "    <tr style=\"text-align: right;\">\n",
       "      <th></th>\n",
       "      <th>amount</th>\n",
       "      <th>years</th>\n",
       "      <th>income</th>\n",
       "      <th>age</th>\n",
       "      <th>grade_A</th>\n",
       "      <th>grade_B</th>\n",
       "      <th>grade_C</th>\n",
       "      <th>grade_D</th>\n",
       "      <th>grade_E</th>\n",
       "      <th>grade_F</th>\n",
       "      <th>grade_G</th>\n",
       "      <th>ownership_MORTGAGE</th>\n",
       "      <th>ownership_OTHER</th>\n",
       "      <th>ownership_OWN</th>\n",
       "      <th>ownership_RENT</th>\n",
       "    </tr>\n",
       "  </thead>\n",
       "  <tbody>\n",
       "    <tr>\n",
       "      <th>0</th>\n",
       "      <td>1000</td>\n",
       "      <td>2.0</td>\n",
       "      <td>19200.0</td>\n",
       "      <td>24</td>\n",
       "      <td>0</td>\n",
       "      <td>1</td>\n",
       "      <td>0</td>\n",
       "      <td>0</td>\n",
       "      <td>0</td>\n",
       "      <td>0</td>\n",
       "      <td>0</td>\n",
       "      <td>0</td>\n",
       "      <td>0</td>\n",
       "      <td>0</td>\n",
       "      <td>1</td>\n",
       "    </tr>\n",
       "    <tr>\n",
       "      <th>1</th>\n",
       "      <td>6500</td>\n",
       "      <td>2.0</td>\n",
       "      <td>66000.0</td>\n",
       "      <td>28</td>\n",
       "      <td>1</td>\n",
       "      <td>0</td>\n",
       "      <td>0</td>\n",
       "      <td>0</td>\n",
       "      <td>0</td>\n",
       "      <td>0</td>\n",
       "      <td>0</td>\n",
       "      <td>1</td>\n",
       "      <td>0</td>\n",
       "      <td>0</td>\n",
       "      <td>0</td>\n",
       "    </tr>\n",
       "    <tr>\n",
       "      <th>2</th>\n",
       "      <td>2400</td>\n",
       "      <td>2.0</td>\n",
       "      <td>60000.0</td>\n",
       "      <td>36</td>\n",
       "      <td>1</td>\n",
       "      <td>0</td>\n",
       "      <td>0</td>\n",
       "      <td>0</td>\n",
       "      <td>0</td>\n",
       "      <td>0</td>\n",
       "      <td>0</td>\n",
       "      <td>0</td>\n",
       "      <td>0</td>\n",
       "      <td>0</td>\n",
       "      <td>1</td>\n",
       "    </tr>\n",
       "    <tr>\n",
       "      <th>3</th>\n",
       "      <td>10000</td>\n",
       "      <td>3.0</td>\n",
       "      <td>62000.0</td>\n",
       "      <td>24</td>\n",
       "      <td>0</td>\n",
       "      <td>0</td>\n",
       "      <td>1</td>\n",
       "      <td>0</td>\n",
       "      <td>0</td>\n",
       "      <td>0</td>\n",
       "      <td>0</td>\n",
       "      <td>0</td>\n",
       "      <td>0</td>\n",
       "      <td>0</td>\n",
       "      <td>1</td>\n",
       "    </tr>\n",
       "    <tr>\n",
       "      <th>4</th>\n",
       "      <td>4000</td>\n",
       "      <td>2.0</td>\n",
       "      <td>20000.0</td>\n",
       "      <td>28</td>\n",
       "      <td>0</td>\n",
       "      <td>0</td>\n",
       "      <td>1</td>\n",
       "      <td>0</td>\n",
       "      <td>0</td>\n",
       "      <td>0</td>\n",
       "      <td>0</td>\n",
       "      <td>0</td>\n",
       "      <td>0</td>\n",
       "      <td>0</td>\n",
       "      <td>1</td>\n",
       "    </tr>\n",
       "  </tbody>\n",
       "</table>\n",
       "</div>"
      ],
      "text/plain": [
       "   amount  years   income  age  grade_A  grade_B  grade_C  grade_D  grade_E  \\\n",
       "0    1000    2.0  19200.0   24        0        1        0        0        0   \n",
       "1    6500    2.0  66000.0   28        1        0        0        0        0   \n",
       "2    2400    2.0  60000.0   36        1        0        0        0        0   \n",
       "3   10000    3.0  62000.0   24        0        0        1        0        0   \n",
       "4    4000    2.0  20000.0   28        0        0        1        0        0   \n",
       "\n",
       "   grade_F  grade_G  ownership_MORTGAGE  ownership_OTHER  ownership_OWN  \\\n",
       "0        0        0                   0                0              0   \n",
       "1        0        0                   1                0              0   \n",
       "2        0        0                   0                0              0   \n",
       "3        0        0                   0                0              0   \n",
       "4        0        0                   0                0              0   \n",
       "\n",
       "   ownership_RENT  \n",
       "0               1  \n",
       "1               0  \n",
       "2               1  \n",
       "3               1  \n",
       "4               1  "
      ]
     },
     "execution_count": 15,
     "metadata": {},
     "output_type": "execute_result"
    }
   ],
   "source": [
    "X.head()"
   ]
  },
  {
   "cell_type": "code",
   "execution_count": 16,
   "id": "ac912c11",
   "metadata": {},
   "outputs": [],
   "source": [
    "import sklearn.model_selection as model_selection\n",
    "\n",
    "X_train, X_test, y_train, y_test = model_selection.train_test_split(X, y, test_size=0.2, random_state=42)"
   ]
  },
  {
   "cell_type": "code",
   "execution_count": 17,
   "id": "5d8c264f",
   "metadata": {},
   "outputs": [],
   "source": [
    "import sklearn.tree as tree"
   ]
  },
  {
   "cell_type": "code",
   "execution_count": 29,
   "id": "3c3e363d",
   "metadata": {},
   "outputs": [
    {
     "data": {
      "text/plain": [
       "0.628072445019405"
      ]
     },
     "execution_count": 29,
     "metadata": {},
     "output_type": "execute_result"
    }
   ],
   "source": [
    "clf = tree.DecisionTreeClassifier(max_depth=5, random_state=42)\n",
    "clf.fit(X_train, y_train)\n",
    "clf.score(X_test, y_test)"
   ]
  },
  {
   "cell_type": "code",
   "execution_count": 19,
   "id": "552e2b69",
   "metadata": {},
   "outputs": [
    {
     "data": {
      "text/plain": [
       "array([[0.86821705, 0.13178295],\n",
       "       [0.6977492 , 0.3022508 ],\n",
       "       [0.50933786, 0.49066214],\n",
       "       ...,\n",
       "       [0.32019704, 0.67980296],\n",
       "       [0.6       , 0.4       ],\n",
       "       [0.64046392, 0.35953608]])"
      ]
     },
     "execution_count": 19,
     "metadata": {},
     "output_type": "execute_result"
    }
   ],
   "source": [
    "clf.predict_proba(X_test)"
   ]
  },
  {
   "cell_type": "code",
   "execution_count": 30,
   "id": "21d37679",
   "metadata": {},
   "outputs": [
    {
     "data": {
      "text/plain": [
       "0.6678748031852548"
      ]
     },
     "execution_count": 30,
     "metadata": {},
     "output_type": "execute_result"
    }
   ],
   "source": [
    "import sklearn.metrics as metrics\n",
    "metrics.roc_auc_score(y_test, clf.predict_proba(X_test)[:,1])"
   ]
  },
  {
   "cell_type": "code",
   "execution_count": null,
   "id": "fd7726b4",
   "metadata": {},
   "outputs": [],
   "source": [
    "!pip install graphviz"
   ]
  },
  {
   "cell_type": "code",
   "execution_count": 22,
   "id": "92307019",
   "metadata": {},
   "outputs": [],
   "source": [
    "import pydotplus\n",
    "import graphviz"
   ]
  },
  {
   "cell_type": "code",
   "execution_count": 31,
   "id": "87210680",
   "metadata": {},
   "outputs": [],
   "source": [
    "os.environ['PATH'] += os.pathsep + 'C:/Program Files/Graphviz/bin'"
   ]
  },
  {
   "cell_type": "code",
   "execution_count": 32,
   "id": "16418b3a",
   "metadata": {},
   "outputs": [],
   "source": [
    "dot_data = tree.export_graphviz(clf, out_file=None,\n",
    "                               feature_names=X.columns,\n",
    "                               class_names=['Not Default','Default'],\n",
    "                               filled=True, rounded=True,\n",
    "                               special_characters=True, proportion=True)"
   ]
  },
  {
   "cell_type": "code",
   "execution_count": 33,
   "id": "18a005ae",
   "metadata": {},
   "outputs": [
    {
     "data": {
      "image/svg+xml": [
       "<?xml version=\"1.0\" encoding=\"UTF-8\" standalone=\"no\"?>\r\n",
       "<!DOCTYPE svg PUBLIC \"-//W3C//DTD SVG 1.1//EN\"\r\n",
       " \"http://www.w3.org/Graphics/SVG/1.1/DTD/svg11.dtd\">\r\n",
       "<!-- Generated by graphviz version 2.49.2 (20211016.1639)\r\n",
       " -->\r\n",
       "<!-- Title: Tree Pages: 1 -->\r\n",
       "<svg width=\"5295pt\" height=\"671pt\"\r\n",
       " viewBox=\"0.00 0.00 5295.00 671.00\" xmlns=\"http://www.w3.org/2000/svg\" xmlns:xlink=\"http://www.w3.org/1999/xlink\">\r\n",
       "<g id=\"graph0\" class=\"graph\" transform=\"scale(1 1) rotate(0) translate(4 667)\">\r\n",
       "<title>Tree</title>\r\n",
       "<polygon fill=\"white\" stroke=\"transparent\" points=\"-4,4 -4,-667 5291,-667 5291,4 -4,4\"/>\r\n",
       "<!-- 0 -->\r\n",
       "<g id=\"node1\" class=\"node\">\r\n",
       "<title>0</title>\r\n",
       "<path fill=\"#fdf5ef\" stroke=\"black\" d=\"M2740,-663C2740,-663 2610,-663 2610,-663 2604,-663 2598,-657 2598,-651 2598,-651 2598,-592 2598,-592 2598,-586 2604,-580 2610,-580 2610,-580 2740,-580 2740,-580 2746,-580 2752,-586 2752,-592 2752,-592 2752,-651 2752,-651 2752,-657 2746,-663 2740,-663\"/>\r\n",
       "<text text-anchor=\"start\" x=\"2629.5\" y=\"-647.8\" font-family=\"Helvetica,sans-Serif\" font-size=\"14.00\">grade_A ≤ 0.5</text>\r\n",
       "<text text-anchor=\"start\" x=\"2637.5\" y=\"-632.8\" font-family=\"Helvetica,sans-Serif\" font-size=\"14.00\">gini = 0.499</text>\r\n",
       "<text text-anchor=\"start\" x=\"2615\" y=\"-617.8\" font-family=\"Helvetica,sans-Serif\" font-size=\"14.00\">samples = 100.0%</text>\r\n",
       "<text text-anchor=\"start\" x=\"2606\" y=\"-602.8\" font-family=\"Helvetica,sans-Serif\" font-size=\"14.00\">value = [0.521, 0.479]</text>\r\n",
       "<text text-anchor=\"start\" x=\"2615\" y=\"-587.8\" font-family=\"Helvetica,sans-Serif\" font-size=\"14.00\">class = Not Default</text>\r\n",
       "</g>\r\n",
       "<!-- 1 -->\r\n",
       "<g id=\"node2\" class=\"node\">\r\n",
       "<title>1</title>\r\n",
       "<path fill=\"#daedfa\" stroke=\"black\" d=\"M2086,-544C2086,-544 1956,-544 1956,-544 1950,-544 1944,-538 1944,-532 1944,-532 1944,-473 1944,-473 1944,-467 1950,-461 1956,-461 1956,-461 2086,-461 2086,-461 2092,-461 2098,-467 2098,-473 2098,-473 2098,-532 2098,-532 2098,-538 2092,-544 2086,-544\"/>\r\n",
       "<text text-anchor=\"start\" x=\"1975.5\" y=\"-528.8\" font-family=\"Helvetica,sans-Serif\" font-size=\"14.00\">grade_B ≤ 0.5</text>\r\n",
       "<text text-anchor=\"start\" x=\"1983.5\" y=\"-513.8\" font-family=\"Helvetica,sans-Serif\" font-size=\"14.00\">gini = 0.495</text>\r\n",
       "<text text-anchor=\"start\" x=\"1965\" y=\"-498.8\" font-family=\"Helvetica,sans-Serif\" font-size=\"14.00\">samples = 73.0%</text>\r\n",
       "<text text-anchor=\"start\" x=\"1952\" y=\"-483.8\" font-family=\"Helvetica,sans-Serif\" font-size=\"14.00\">value = [0.448, 0.552]</text>\r\n",
       "<text text-anchor=\"start\" x=\"1974\" y=\"-468.8\" font-family=\"Helvetica,sans-Serif\" font-size=\"14.00\">class = Default</text>\r\n",
       "</g>\r\n",
       "<!-- 0&#45;&gt;1 -->\r\n",
       "<g id=\"edge1\" class=\"edge\">\r\n",
       "<title>0&#45;&gt;1</title>\r\n",
       "<path fill=\"none\" stroke=\"black\" d=\"M2597.73,-606.68C2475.14,-584.75 2236.84,-542.11 2108.27,-519.11\"/>\r\n",
       "<polygon fill=\"black\" stroke=\"black\" points=\"2108.53,-515.6 2098.07,-517.29 2107.3,-522.49 2108.53,-515.6\"/>\r\n",
       "<text text-anchor=\"middle\" x=\"2112.36\" y=\"-534.1\" font-family=\"Helvetica,sans-Serif\" font-size=\"14.00\">True</text>\r\n",
       "</g>\r\n",
       "<!-- 32 -->\r\n",
       "<g id=\"node33\" class=\"node\">\r\n",
       "<title>32</title>\r\n",
       "<path fill=\"#efb286\" stroke=\"black\" d=\"M3339.5,-544C3339.5,-544 3226.5,-544 3226.5,-544 3220.5,-544 3214.5,-538 3214.5,-532 3214.5,-532 3214.5,-473 3214.5,-473 3214.5,-467 3220.5,-461 3226.5,-461 3226.5,-461 3339.5,-461 3339.5,-461 3345.5,-461 3351.5,-467 3351.5,-473 3351.5,-473 3351.5,-532 3351.5,-532 3351.5,-538 3345.5,-544 3339.5,-544\"/>\r\n",
       "<text text-anchor=\"start\" x=\"3225.5\" y=\"-528.8\" font-family=\"Helvetica,sans-Serif\" font-size=\"14.00\">income ≤ 57003.0</text>\r\n",
       "<text text-anchor=\"start\" x=\"3245.5\" y=\"-513.8\" font-family=\"Helvetica,sans-Serif\" font-size=\"14.00\">gini = 0.403</text>\r\n",
       "<text text-anchor=\"start\" x=\"3227\" y=\"-498.8\" font-family=\"Helvetica,sans-Serif\" font-size=\"14.00\">samples = 27.0%</text>\r\n",
       "<text text-anchor=\"start\" x=\"3222.5\" y=\"-483.8\" font-family=\"Helvetica,sans-Serif\" font-size=\"14.00\">value = [0.72, 0.28]</text>\r\n",
       "<text text-anchor=\"start\" x=\"3223\" y=\"-468.8\" font-family=\"Helvetica,sans-Serif\" font-size=\"14.00\">class = Not Default</text>\r\n",
       "</g>\r\n",
       "<!-- 0&#45;&gt;32 -->\r\n",
       "<g id=\"edge32\" class=\"edge\">\r\n",
       "<title>0&#45;&gt;32</title>\r\n",
       "<path fill=\"none\" stroke=\"black\" d=\"M2752,-605.68C2868.13,-583.34 3086.92,-541.23 3204.13,-518.68\"/>\r\n",
       "<polygon fill=\"black\" stroke=\"black\" points=\"3204.96,-522.08 3214.11,-516.76 3203.63,-515.21 3204.96,-522.08\"/>\r\n",
       "<text text-anchor=\"middle\" x=\"3200.1\" y=\"-533.76\" font-family=\"Helvetica,sans-Serif\" font-size=\"14.00\">False</text>\r\n",
       "</g>\r\n",
       "<!-- 2 -->\r\n",
       "<g id=\"node3\" class=\"node\">\r\n",
       "<title>2</title>\r\n",
       "<path fill=\"#a9d5f4\" stroke=\"black\" d=\"M1067,-425C1067,-425 937,-425 937,-425 931,-425 925,-419 925,-413 925,-413 925,-354 925,-354 925,-348 931,-342 937,-342 937,-342 1067,-342 1067,-342 1073,-342 1079,-348 1079,-354 1079,-354 1079,-413 1079,-413 1079,-419 1073,-425 1067,-425\"/>\r\n",
       "<text text-anchor=\"start\" x=\"944.5\" y=\"-409.8\" font-family=\"Helvetica,sans-Serif\" font-size=\"14.00\">income ≤ 64996.0</text>\r\n",
       "<text text-anchor=\"start\" x=\"964.5\" y=\"-394.8\" font-family=\"Helvetica,sans-Serif\" font-size=\"14.00\">gini = 0.462</text>\r\n",
       "<text text-anchor=\"start\" x=\"946\" y=\"-379.8\" font-family=\"Helvetica,sans-Serif\" font-size=\"14.00\">samples = 41.4%</text>\r\n",
       "<text text-anchor=\"start\" x=\"933\" y=\"-364.8\" font-family=\"Helvetica,sans-Serif\" font-size=\"14.00\">value = [0.362, 0.638]</text>\r\n",
       "<text text-anchor=\"start\" x=\"955\" y=\"-349.8\" font-family=\"Helvetica,sans-Serif\" font-size=\"14.00\">class = Default</text>\r\n",
       "</g>\r\n",
       "<!-- 1&#45;&gt;2 -->\r\n",
       "<g id=\"edge2\" class=\"edge\">\r\n",
       "<title>1&#45;&gt;2</title>\r\n",
       "<path fill=\"none\" stroke=\"black\" d=\"M1943.99,-492.66C1757.94,-471.3 1284.91,-416.98 1089.01,-394.49\"/>\r\n",
       "<polygon fill=\"black\" stroke=\"black\" points=\"1089.38,-391.01 1079.05,-393.35 1088.58,-397.96 1089.38,-391.01\"/>\r\n",
       "</g>\r\n",
       "<!-- 17 -->\r\n",
       "<g id=\"node18\" class=\"node\">\r\n",
       "<title>17</title>\r\n",
       "<path fill=\"#f9e3d4\" stroke=\"black\" d=\"M2086,-425C2086,-425 1956,-425 1956,-425 1950,-425 1944,-419 1944,-413 1944,-413 1944,-354 1944,-354 1944,-348 1950,-342 1956,-342 1956,-342 2086,-342 2086,-342 2092,-342 2098,-348 2098,-354 2098,-354 2098,-413 2098,-413 2098,-419 2092,-425 2086,-425\"/>\r\n",
       "<text text-anchor=\"start\" x=\"1963.5\" y=\"-409.8\" font-family=\"Helvetica,sans-Serif\" font-size=\"14.00\">income ≤ 60998.0</text>\r\n",
       "<text text-anchor=\"start\" x=\"1983.5\" y=\"-394.8\" font-family=\"Helvetica,sans-Serif\" font-size=\"14.00\">gini = 0.492</text>\r\n",
       "<text text-anchor=\"start\" x=\"1965\" y=\"-379.8\" font-family=\"Helvetica,sans-Serif\" font-size=\"14.00\">samples = 31.6%</text>\r\n",
       "<text text-anchor=\"start\" x=\"1952\" y=\"-364.8\" font-family=\"Helvetica,sans-Serif\" font-size=\"14.00\">value = [0.561, 0.439]</text>\r\n",
       "<text text-anchor=\"start\" x=\"1961\" y=\"-349.8\" font-family=\"Helvetica,sans-Serif\" font-size=\"14.00\">class = Not Default</text>\r\n",
       "</g>\r\n",
       "<!-- 1&#45;&gt;17 -->\r\n",
       "<g id=\"edge17\" class=\"edge\">\r\n",
       "<title>1&#45;&gt;17</title>\r\n",
       "<path fill=\"none\" stroke=\"black\" d=\"M2021,-460.91C2021,-452.65 2021,-443.86 2021,-435.3\"/>\r\n",
       "<polygon fill=\"black\" stroke=\"black\" points=\"2024.5,-435.02 2021,-425.02 2017.5,-435.02 2024.5,-435.02\"/>\r\n",
       "</g>\r\n",
       "<!-- 3 -->\r\n",
       "<g id=\"node4\" class=\"node\">\r\n",
       "<title>3</title>\r\n",
       "<path fill=\"#96cbf1\" stroke=\"black\" d=\"M559.5,-306C559.5,-306 446.5,-306 446.5,-306 440.5,-306 434.5,-300 434.5,-294 434.5,-294 434.5,-235 434.5,-235 434.5,-229 440.5,-223 446.5,-223 446.5,-223 559.5,-223 559.5,-223 565.5,-223 571.5,-229 571.5,-235 571.5,-235 571.5,-294 571.5,-294 571.5,-300 565.5,-306 559.5,-306\"/>\r\n",
       "<text text-anchor=\"start\" x=\"463.5\" y=\"-290.8\" font-family=\"Helvetica,sans-Serif\" font-size=\"14.00\">years ≤ 13.5</text>\r\n",
       "<text text-anchor=\"start\" x=\"465.5\" y=\"-275.8\" font-family=\"Helvetica,sans-Serif\" font-size=\"14.00\">gini = 0.435</text>\r\n",
       "<text text-anchor=\"start\" x=\"447\" y=\"-260.8\" font-family=\"Helvetica,sans-Serif\" font-size=\"14.00\">samples = 26.3%</text>\r\n",
       "<text text-anchor=\"start\" x=\"442.5\" y=\"-245.8\" font-family=\"Helvetica,sans-Serif\" font-size=\"14.00\">value = [0.32, 0.68]</text>\r\n",
       "<text text-anchor=\"start\" x=\"456\" y=\"-230.8\" font-family=\"Helvetica,sans-Serif\" font-size=\"14.00\">class = Default</text>\r\n",
       "</g>\r\n",
       "<!-- 2&#45;&gt;3 -->\r\n",
       "<g id=\"edge3\" class=\"edge\">\r\n",
       "<title>2&#45;&gt;3</title>\r\n",
       "<path fill=\"none\" stroke=\"black\" d=\"M924.85,-364.41C831.68,-342.56 675.79,-306.01 581.86,-283.99\"/>\r\n",
       "<polygon fill=\"black\" stroke=\"black\" points=\"582.38,-280.52 571.84,-281.64 580.78,-287.33 582.38,-280.52\"/>\r\n",
       "</g>\r\n",
       "<!-- 10 -->\r\n",
       "<g id=\"node11\" class=\"node\">\r\n",
       "<title>10</title>\r\n",
       "<path fill=\"#d1e8f9\" stroke=\"black\" d=\"M1067,-306C1067,-306 937,-306 937,-306 931,-306 925,-300 925,-294 925,-294 925,-235 925,-235 925,-229 931,-223 937,-223 937,-223 1067,-223 1067,-223 1073,-223 1079,-229 1079,-235 1079,-235 1079,-294 1079,-294 1079,-300 1073,-306 1067,-306\"/>\r\n",
       "<text text-anchor=\"start\" x=\"944.5\" y=\"-290.8\" font-family=\"Helvetica,sans-Serif\" font-size=\"14.00\">amount ≤ 20250.0</text>\r\n",
       "<text text-anchor=\"start\" x=\"964.5\" y=\"-275.8\" font-family=\"Helvetica,sans-Serif\" font-size=\"14.00\">gini = 0.491</text>\r\n",
       "<text text-anchor=\"start\" x=\"946\" y=\"-260.8\" font-family=\"Helvetica,sans-Serif\" font-size=\"14.00\">samples = 15.2%</text>\r\n",
       "<text text-anchor=\"start\" x=\"933\" y=\"-245.8\" font-family=\"Helvetica,sans-Serif\" font-size=\"14.00\">value = [0.434, 0.566]</text>\r\n",
       "<text text-anchor=\"start\" x=\"955\" y=\"-230.8\" font-family=\"Helvetica,sans-Serif\" font-size=\"14.00\">class = Default</text>\r\n",
       "</g>\r\n",
       "<!-- 2&#45;&gt;10 -->\r\n",
       "<g id=\"edge10\" class=\"edge\">\r\n",
       "<title>2&#45;&gt;10</title>\r\n",
       "<path fill=\"none\" stroke=\"black\" d=\"M1002,-341.91C1002,-333.65 1002,-324.86 1002,-316.3\"/>\r\n",
       "<polygon fill=\"black\" stroke=\"black\" points=\"1005.5,-316.02 1002,-306.02 998.5,-316.02 1005.5,-316.02\"/>\r\n",
       "</g>\r\n",
       "<!-- 4 -->\r\n",
       "<g id=\"node5\" class=\"node\">\r\n",
       "<title>4</title>\r\n",
       "<path fill=\"#9bcdf2\" stroke=\"black\" d=\"M314,-187C314,-187 184,-187 184,-187 178,-187 172,-181 172,-175 172,-175 172,-116 172,-116 172,-110 178,-104 184,-104 184,-104 314,-104 314,-104 320,-104 326,-110 326,-116 326,-116 326,-175 326,-175 326,-181 320,-187 314,-187\"/>\r\n",
       "<text text-anchor=\"start\" x=\"203.5\" y=\"-171.8\" font-family=\"Helvetica,sans-Serif\" font-size=\"14.00\">grade_C ≤ 0.5</text>\r\n",
       "<text text-anchor=\"start\" x=\"211.5\" y=\"-156.8\" font-family=\"Helvetica,sans-Serif\" font-size=\"14.00\">gini = 0.443</text>\r\n",
       "<text text-anchor=\"start\" x=\"193\" y=\"-141.8\" font-family=\"Helvetica,sans-Serif\" font-size=\"14.00\">samples = 24.0%</text>\r\n",
       "<text text-anchor=\"start\" x=\"180\" y=\"-126.8\" font-family=\"Helvetica,sans-Serif\" font-size=\"14.00\">value = [0.331, 0.669]</text>\r\n",
       "<text text-anchor=\"start\" x=\"202\" y=\"-111.8\" font-family=\"Helvetica,sans-Serif\" font-size=\"14.00\">class = Default</text>\r\n",
       "</g>\r\n",
       "<!-- 3&#45;&gt;4 -->\r\n",
       "<g id=\"edge4\" class=\"edge\">\r\n",
       "<title>3&#45;&gt;4</title>\r\n",
       "<path fill=\"none\" stroke=\"black\" d=\"M434.26,-231.84C403.91,-217.86 367.89,-201.26 335.71,-186.44\"/>\r\n",
       "<polygon fill=\"black\" stroke=\"black\" points=\"336.85,-183.11 326.3,-182.11 333.92,-189.47 336.85,-183.11\"/>\r\n",
       "</g>\r\n",
       "<!-- 7 -->\r\n",
       "<g id=\"node8\" class=\"node\">\r\n",
       "<title>7</title>\r\n",
       "<path fill=\"#6eb7ec\" stroke=\"black\" d=\"M568,-187C568,-187 438,-187 438,-187 432,-187 426,-181 426,-175 426,-175 426,-116 426,-116 426,-110 432,-104 438,-104 438,-104 568,-104 568,-104 574,-104 580,-110 580,-116 580,-116 580,-175 580,-175 580,-181 574,-187 568,-187\"/>\r\n",
       "<text text-anchor=\"start\" x=\"463.5\" y=\"-171.8\" font-family=\"Helvetica,sans-Serif\" font-size=\"14.00\">years ≤ 15.5</text>\r\n",
       "<text text-anchor=\"start\" x=\"465.5\" y=\"-156.8\" font-family=\"Helvetica,sans-Serif\" font-size=\"14.00\">gini = 0.333</text>\r\n",
       "<text text-anchor=\"start\" x=\"451.5\" y=\"-141.8\" font-family=\"Helvetica,sans-Serif\" font-size=\"14.00\">samples = 2.3%</text>\r\n",
       "<text text-anchor=\"start\" x=\"434\" y=\"-126.8\" font-family=\"Helvetica,sans-Serif\" font-size=\"14.00\">value = [0.211, 0.789]</text>\r\n",
       "<text text-anchor=\"start\" x=\"456\" y=\"-111.8\" font-family=\"Helvetica,sans-Serif\" font-size=\"14.00\">class = Default</text>\r\n",
       "</g>\r\n",
       "<!-- 3&#45;&gt;7 -->\r\n",
       "<g id=\"edge7\" class=\"edge\">\r\n",
       "<title>3&#45;&gt;7</title>\r\n",
       "<path fill=\"none\" stroke=\"black\" d=\"M503,-222.91C503,-214.65 503,-205.86 503,-197.3\"/>\r\n",
       "<polygon fill=\"black\" stroke=\"black\" points=\"506.5,-197.02 503,-187.02 499.5,-197.02 506.5,-197.02\"/>\r\n",
       "</g>\r\n",
       "<!-- 5 -->\r\n",
       "<g id=\"node6\" class=\"node\">\r\n",
       "<title>5</title>\r\n",
       "<path fill=\"#89c5ef\" stroke=\"black\" d=\"M142,-68C142,-68 12,-68 12,-68 6,-68 0,-62 0,-56 0,-56 0,-12 0,-12 0,-6 6,0 12,0 12,0 142,0 142,0 148,0 154,-6 154,-12 154,-12 154,-56 154,-56 154,-62 148,-68 142,-68\"/>\r\n",
       "<text text-anchor=\"start\" x=\"43.5\" y=\"-52.8\" font-family=\"Helvetica,sans-Serif\" font-size=\"14.00\">gini = 0.41</text>\r\n",
       "<text text-anchor=\"start\" x=\"21\" y=\"-37.8\" font-family=\"Helvetica,sans-Serif\" font-size=\"14.00\">samples = 10.8%</text>\r\n",
       "<text text-anchor=\"start\" x=\"8\" y=\"-22.8\" font-family=\"Helvetica,sans-Serif\" font-size=\"14.00\">value = [0.287, 0.713]</text>\r\n",
       "<text text-anchor=\"start\" x=\"30\" y=\"-7.8\" font-family=\"Helvetica,sans-Serif\" font-size=\"14.00\">class = Default</text>\r\n",
       "</g>\r\n",
       "<!-- 4&#45;&gt;5 -->\r\n",
       "<g id=\"edge5\" class=\"edge\">\r\n",
       "<title>4&#45;&gt;5</title>\r\n",
       "<path fill=\"none\" stroke=\"black\" d=\"M184.95,-103.73C169.54,-93.92 153.13,-83.46 137.87,-73.75\"/>\r\n",
       "<polygon fill=\"black\" stroke=\"black\" points=\"139.35,-70.54 129.03,-68.13 135.59,-76.45 139.35,-70.54\"/>\r\n",
       "</g>\r\n",
       "<!-- 6 -->\r\n",
       "<g id=\"node7\" class=\"node\">\r\n",
       "<title>6</title>\r\n",
       "<path fill=\"#abd6f4\" stroke=\"black\" d=\"M314,-68C314,-68 184,-68 184,-68 178,-68 172,-62 172,-56 172,-56 172,-12 172,-12 172,-6 178,0 184,0 184,0 314,0 314,0 320,0 326,-6 326,-12 326,-12 326,-56 326,-56 326,-62 320,-68 314,-68\"/>\r\n",
       "<text text-anchor=\"start\" x=\"211.5\" y=\"-52.8\" font-family=\"Helvetica,sans-Serif\" font-size=\"14.00\">gini = 0.464</text>\r\n",
       "<text text-anchor=\"start\" x=\"193\" y=\"-37.8\" font-family=\"Helvetica,sans-Serif\" font-size=\"14.00\">samples = 13.2%</text>\r\n",
       "<text text-anchor=\"start\" x=\"180\" y=\"-22.8\" font-family=\"Helvetica,sans-Serif\" font-size=\"14.00\">value = [0.366, 0.634]</text>\r\n",
       "<text text-anchor=\"start\" x=\"202\" y=\"-7.8\" font-family=\"Helvetica,sans-Serif\" font-size=\"14.00\">class = Default</text>\r\n",
       "</g>\r\n",
       "<!-- 4&#45;&gt;6 -->\r\n",
       "<g id=\"edge6\" class=\"edge\">\r\n",
       "<title>4&#45;&gt;6</title>\r\n",
       "<path fill=\"none\" stroke=\"black\" d=\"M249,-103.73C249,-95.52 249,-86.86 249,-78.56\"/>\r\n",
       "<polygon fill=\"black\" stroke=\"black\" points=\"252.5,-78.3 249,-68.3 245.5,-78.3 252.5,-78.3\"/>\r\n",
       "</g>\r\n",
       "<!-- 8 -->\r\n",
       "<g id=\"node9\" class=\"node\">\r\n",
       "<title>8</title>\r\n",
       "<path fill=\"#4ea7e8\" stroke=\"black\" d=\"M486,-68C486,-68 356,-68 356,-68 350,-68 344,-62 344,-56 344,-56 344,-12 344,-12 344,-6 350,0 356,0 356,0 486,0 486,0 492,0 498,-6 498,-12 498,-12 498,-56 498,-56 498,-62 492,-68 486,-68\"/>\r\n",
       "<text text-anchor=\"start\" x=\"383.5\" y=\"-52.8\" font-family=\"Helvetica,sans-Serif\" font-size=\"14.00\">gini = 0.172</text>\r\n",
       "<text text-anchor=\"start\" x=\"369.5\" y=\"-37.8\" font-family=\"Helvetica,sans-Serif\" font-size=\"14.00\">samples = 0.7%</text>\r\n",
       "<text text-anchor=\"start\" x=\"352\" y=\"-22.8\" font-family=\"Helvetica,sans-Serif\" font-size=\"14.00\">value = [0.095, 0.905]</text>\r\n",
       "<text text-anchor=\"start\" x=\"374\" y=\"-7.8\" font-family=\"Helvetica,sans-Serif\" font-size=\"14.00\">class = Default</text>\r\n",
       "</g>\r\n",
       "<!-- 7&#45;&gt;8 -->\r\n",
       "<g id=\"edge8\" class=\"edge\">\r\n",
       "<title>7&#45;&gt;8</title>\r\n",
       "<path fill=\"none\" stroke=\"black\" d=\"M472.47,-103.73C465.77,-94.79 458.68,-85.32 451.97,-76.36\"/>\r\n",
       "<polygon fill=\"black\" stroke=\"black\" points=\"454.73,-74.21 445.94,-68.3 449.13,-78.4 454.73,-74.21\"/>\r\n",
       "</g>\r\n",
       "<!-- 9 -->\r\n",
       "<g id=\"node10\" class=\"node\">\r\n",
       "<title>9</title>\r\n",
       "<path fill=\"#7fbfee\" stroke=\"black\" d=\"M641.5,-68C641.5,-68 528.5,-68 528.5,-68 522.5,-68 516.5,-62 516.5,-56 516.5,-56 516.5,-12 516.5,-12 516.5,-6 522.5,0 528.5,0 528.5,0 641.5,0 641.5,0 647.5,0 653.5,-6 653.5,-12 653.5,-12 653.5,-56 653.5,-56 653.5,-62 647.5,-68 641.5,-68\"/>\r\n",
       "<text text-anchor=\"start\" x=\"547.5\" y=\"-52.8\" font-family=\"Helvetica,sans-Serif\" font-size=\"14.00\">gini = 0.385</text>\r\n",
       "<text text-anchor=\"start\" x=\"533.5\" y=\"-37.8\" font-family=\"Helvetica,sans-Serif\" font-size=\"14.00\">samples = 1.6%</text>\r\n",
       "<text text-anchor=\"start\" x=\"524.5\" y=\"-22.8\" font-family=\"Helvetica,sans-Serif\" font-size=\"14.00\">value = [0.26, 0.74]</text>\r\n",
       "<text text-anchor=\"start\" x=\"538\" y=\"-7.8\" font-family=\"Helvetica,sans-Serif\" font-size=\"14.00\">class = Default</text>\r\n",
       "</g>\r\n",
       "<!-- 7&#45;&gt;9 -->\r\n",
       "<g id=\"edge9\" class=\"edge\">\r\n",
       "<title>7&#45;&gt;9</title>\r\n",
       "<path fill=\"none\" stroke=\"black\" d=\"M533.53,-103.73C540.23,-94.79 547.32,-85.32 554.03,-76.36\"/>\r\n",
       "<polygon fill=\"black\" stroke=\"black\" points=\"556.87,-78.4 560.06,-68.3 551.27,-74.21 556.87,-78.4\"/>\r\n",
       "</g>\r\n",
       "<!-- 11 -->\r\n",
       "<g id=\"node12\" class=\"node\">\r\n",
       "<title>11</title>\r\n",
       "<path fill=\"#e5f2fc\" stroke=\"black\" d=\"M981,-187C981,-187 851,-187 851,-187 845,-187 839,-181 839,-175 839,-175 839,-116 839,-116 839,-110 845,-104 851,-104 851,-104 981,-104 981,-104 987,-104 993,-110 993,-116 993,-116 993,-175 993,-175 993,-181 987,-187 981,-187\"/>\r\n",
       "<text text-anchor=\"start\" x=\"870.5\" y=\"-171.8\" font-family=\"Helvetica,sans-Serif\" font-size=\"14.00\">grade_C ≤ 0.5</text>\r\n",
       "<text text-anchor=\"start\" x=\"878.5\" y=\"-156.8\" font-family=\"Helvetica,sans-Serif\" font-size=\"14.00\">gini = 0.497</text>\r\n",
       "<text text-anchor=\"start\" x=\"860\" y=\"-141.8\" font-family=\"Helvetica,sans-Serif\" font-size=\"14.00\">samples = 12.3%</text>\r\n",
       "<text text-anchor=\"start\" x=\"847\" y=\"-126.8\" font-family=\"Helvetica,sans-Serif\" font-size=\"14.00\">value = [0.464, 0.536]</text>\r\n",
       "<text text-anchor=\"start\" x=\"869\" y=\"-111.8\" font-family=\"Helvetica,sans-Serif\" font-size=\"14.00\">class = Default</text>\r\n",
       "</g>\r\n",
       "<!-- 10&#45;&gt;11 -->\r\n",
       "<g id=\"edge11\" class=\"edge\">\r\n",
       "<title>10&#45;&gt;11</title>\r\n",
       "<path fill=\"none\" stroke=\"black\" d=\"M972.16,-222.91C965.63,-214.01 958.64,-204.51 951.89,-195.33\"/>\r\n",
       "<polygon fill=\"black\" stroke=\"black\" points=\"954.53,-193.01 945.78,-187.02 948.89,-197.15 954.53,-193.01\"/>\r\n",
       "</g>\r\n",
       "<!-- 14 -->\r\n",
       "<g id=\"node15\" class=\"node\">\r\n",
       "<title>14</title>\r\n",
       "<path fill=\"#90c8f0\" stroke=\"black\" d=\"M1153,-187C1153,-187 1023,-187 1023,-187 1017,-187 1011,-181 1011,-175 1011,-175 1011,-116 1011,-116 1011,-110 1017,-104 1023,-104 1023,-104 1153,-104 1153,-104 1159,-104 1165,-110 1165,-116 1165,-116 1165,-175 1165,-175 1165,-181 1159,-187 1153,-187\"/>\r\n",
       "<text text-anchor=\"start\" x=\"1053\" y=\"-171.8\" font-family=\"Helvetica,sans-Serif\" font-size=\"14.00\">years ≤ 0.5</text>\r\n",
       "<text text-anchor=\"start\" x=\"1050.5\" y=\"-156.8\" font-family=\"Helvetica,sans-Serif\" font-size=\"14.00\">gini = 0.424</text>\r\n",
       "<text text-anchor=\"start\" x=\"1036.5\" y=\"-141.8\" font-family=\"Helvetica,sans-Serif\" font-size=\"14.00\">samples = 2.9%</text>\r\n",
       "<text text-anchor=\"start\" x=\"1019\" y=\"-126.8\" font-family=\"Helvetica,sans-Serif\" font-size=\"14.00\">value = [0.305, 0.695]</text>\r\n",
       "<text text-anchor=\"start\" x=\"1041\" y=\"-111.8\" font-family=\"Helvetica,sans-Serif\" font-size=\"14.00\">class = Default</text>\r\n",
       "</g>\r\n",
       "<!-- 10&#45;&gt;14 -->\r\n",
       "<g id=\"edge14\" class=\"edge\">\r\n",
       "<title>10&#45;&gt;14</title>\r\n",
       "<path fill=\"none\" stroke=\"black\" d=\"M1031.84,-222.91C1038.37,-214.01 1045.36,-204.51 1052.11,-195.33\"/>\r\n",
       "<polygon fill=\"black\" stroke=\"black\" points=\"1055.11,-197.15 1058.22,-187.02 1049.47,-193.01 1055.11,-197.15\"/>\r\n",
       "</g>\r\n",
       "<!-- 12 -->\r\n",
       "<g id=\"node13\" class=\"node\">\r\n",
       "<title>12</title>\r\n",
       "<path fill=\"#c0e0f7\" stroke=\"black\" d=\"M814,-68C814,-68 684,-68 684,-68 678,-68 672,-62 672,-56 672,-56 672,-12 672,-12 672,-6 678,0 684,0 684,0 814,0 814,0 820,0 826,-6 826,-12 826,-12 826,-56 826,-56 826,-62 820,-68 814,-68\"/>\r\n",
       "<text text-anchor=\"start\" x=\"711.5\" y=\"-52.8\" font-family=\"Helvetica,sans-Serif\" font-size=\"14.00\">gini = 0.482</text>\r\n",
       "<text text-anchor=\"start\" x=\"697.5\" y=\"-37.8\" font-family=\"Helvetica,sans-Serif\" font-size=\"14.00\">samples = 5.6%</text>\r\n",
       "<text text-anchor=\"start\" x=\"680\" y=\"-22.8\" font-family=\"Helvetica,sans-Serif\" font-size=\"14.00\">value = [0.405, 0.595]</text>\r\n",
       "<text text-anchor=\"start\" x=\"702\" y=\"-7.8\" font-family=\"Helvetica,sans-Serif\" font-size=\"14.00\">class = Default</text>\r\n",
       "</g>\r\n",
       "<!-- 11&#45;&gt;12 -->\r\n",
       "<g id=\"edge12\" class=\"edge\">\r\n",
       "<title>11&#45;&gt;12</title>\r\n",
       "<path fill=\"none\" stroke=\"black\" d=\"M853.82,-103.73C838.85,-93.92 822.91,-83.46 808.1,-73.75\"/>\r\n",
       "<polygon fill=\"black\" stroke=\"black\" points=\"809.8,-70.68 799.52,-68.13 805.96,-76.54 809.8,-70.68\"/>\r\n",
       "</g>\r\n",
       "<!-- 13 -->\r\n",
       "<g id=\"node14\" class=\"node\">\r\n",
       "<title>13</title>\r\n",
       "<path fill=\"#fef8f4\" stroke=\"black\" d=\"M986,-68C986,-68 856,-68 856,-68 850,-68 844,-62 844,-56 844,-56 844,-12 844,-12 844,-6 850,0 856,0 856,0 986,0 986,0 992,0 998,-6 998,-12 998,-12 998,-56 998,-56 998,-62 992,-68 986,-68\"/>\r\n",
       "<text text-anchor=\"start\" x=\"892\" y=\"-52.8\" font-family=\"Helvetica,sans-Serif\" font-size=\"14.00\">gini = 0.5</text>\r\n",
       "<text text-anchor=\"start\" x=\"869.5\" y=\"-37.8\" font-family=\"Helvetica,sans-Serif\" font-size=\"14.00\">samples = 6.7%</text>\r\n",
       "<text text-anchor=\"start\" x=\"852\" y=\"-22.8\" font-family=\"Helvetica,sans-Serif\" font-size=\"14.00\">value = [0.514, 0.486]</text>\r\n",
       "<text text-anchor=\"start\" x=\"861\" y=\"-7.8\" font-family=\"Helvetica,sans-Serif\" font-size=\"14.00\">class = Not Default</text>\r\n",
       "</g>\r\n",
       "<!-- 11&#45;&gt;13 -->\r\n",
       "<g id=\"edge13\" class=\"edge\">\r\n",
       "<title>11&#45;&gt;13</title>\r\n",
       "<path fill=\"none\" stroke=\"black\" d=\"M917.86,-103.73C918.24,-95.52 918.63,-86.86 919.01,-78.56\"/>\r\n",
       "<polygon fill=\"black\" stroke=\"black\" points=\"922.52,-78.45 919.48,-68.3 915.53,-78.13 922.52,-78.45\"/>\r\n",
       "</g>\r\n",
       "<!-- 15 -->\r\n",
       "<g id=\"node16\" class=\"node\">\r\n",
       "<title>15</title>\r\n",
       "<path fill=\"#f6d5bd\" stroke=\"black\" d=\"M1140,-68C1140,-68 1028,-68 1028,-68 1022,-68 1016,-62 1016,-56 1016,-56 1016,-12 1016,-12 1016,-6 1022,0 1028,0 1028,0 1140,0 1140,0 1146,0 1152,-6 1152,-12 1152,-12 1152,-56 1152,-56 1152,-62 1146,-68 1140,-68\"/>\r\n",
       "<text text-anchor=\"start\" x=\"1050.5\" y=\"-52.8\" font-family=\"Helvetica,sans-Serif\" font-size=\"14.00\">gini = 0.48</text>\r\n",
       "<text text-anchor=\"start\" x=\"1032.5\" y=\"-37.8\" font-family=\"Helvetica,sans-Serif\" font-size=\"14.00\">samples = 0.3%</text>\r\n",
       "<text text-anchor=\"start\" x=\"1031.5\" y=\"-22.8\" font-family=\"Helvetica,sans-Serif\" font-size=\"14.00\">value = [0.6, 0.4]</text>\r\n",
       "<text text-anchor=\"start\" x=\"1024\" y=\"-7.8\" font-family=\"Helvetica,sans-Serif\" font-size=\"14.00\">class = Not Default</text>\r\n",
       "</g>\r\n",
       "<!-- 14&#45;&gt;15 -->\r\n",
       "<g id=\"edge15\" class=\"edge\">\r\n",
       "<title>14&#45;&gt;15</title>\r\n",
       "<path fill=\"none\" stroke=\"black\" d=\"M1086.51,-103.73C1086.21,-95.52 1085.89,-86.86 1085.59,-78.56\"/>\r\n",
       "<polygon fill=\"black\" stroke=\"black\" points=\"1089.08,-78.17 1085.22,-68.3 1082.08,-78.42 1089.08,-78.17\"/>\r\n",
       "</g>\r\n",
       "<!-- 16 -->\r\n",
       "<g id=\"node17\" class=\"node\">\r\n",
       "<title>16</title>\r\n",
       "<path fill=\"#81c1ee\" stroke=\"black\" d=\"M1312,-68C1312,-68 1182,-68 1182,-68 1176,-68 1170,-62 1170,-56 1170,-56 1170,-12 1170,-12 1170,-6 1176,0 1182,0 1182,0 1312,0 1312,0 1318,0 1324,-6 1324,-12 1324,-12 1324,-56 1324,-56 1324,-62 1318,-68 1312,-68\"/>\r\n",
       "<text text-anchor=\"start\" x=\"1209.5\" y=\"-52.8\" font-family=\"Helvetica,sans-Serif\" font-size=\"14.00\">gini = 0.392</text>\r\n",
       "<text text-anchor=\"start\" x=\"1195.5\" y=\"-37.8\" font-family=\"Helvetica,sans-Serif\" font-size=\"14.00\">samples = 2.5%</text>\r\n",
       "<text text-anchor=\"start\" x=\"1178\" y=\"-22.8\" font-family=\"Helvetica,sans-Serif\" font-size=\"14.00\">value = [0.268, 0.732]</text>\r\n",
       "<text text-anchor=\"start\" x=\"1200\" y=\"-7.8\" font-family=\"Helvetica,sans-Serif\" font-size=\"14.00\">class = Default</text>\r\n",
       "</g>\r\n",
       "<!-- 14&#45;&gt;16 -->\r\n",
       "<g id=\"edge16\" class=\"edge\">\r\n",
       "<title>14&#45;&gt;16</title>\r\n",
       "<path fill=\"none\" stroke=\"black\" d=\"M1147.21,-103.73C1161.32,-94.01 1176.34,-83.66 1190.34,-74.02\"/>\r\n",
       "<polygon fill=\"black\" stroke=\"black\" points=\"1192.65,-76.68 1198.9,-68.13 1188.68,-70.91 1192.65,-76.68\"/>\r\n",
       "</g>\r\n",
       "<!-- 18 -->\r\n",
       "<g id=\"node19\" class=\"node\">\r\n",
       "<title>18</title>\r\n",
       "<path fill=\"#fefaf8\" stroke=\"black\" d=\"M1914,-306C1914,-306 1784,-306 1784,-306 1778,-306 1772,-300 1772,-294 1772,-294 1772,-235 1772,-235 1772,-229 1778,-223 1784,-223 1784,-223 1914,-223 1914,-223 1920,-223 1926,-229 1926,-235 1926,-235 1926,-294 1926,-294 1926,-300 1920,-306 1914,-306\"/>\r\n",
       "<text text-anchor=\"start\" x=\"1815\" y=\"-290.8\" font-family=\"Helvetica,sans-Serif\" font-size=\"14.00\">age ≤ 26.5</text>\r\n",
       "<text text-anchor=\"start\" x=\"1820\" y=\"-275.8\" font-family=\"Helvetica,sans-Serif\" font-size=\"14.00\">gini = 0.5</text>\r\n",
       "<text text-anchor=\"start\" x=\"1793\" y=\"-260.8\" font-family=\"Helvetica,sans-Serif\" font-size=\"14.00\">samples = 19.1%</text>\r\n",
       "<text text-anchor=\"start\" x=\"1780\" y=\"-245.8\" font-family=\"Helvetica,sans-Serif\" font-size=\"14.00\">value = [0.509, 0.491]</text>\r\n",
       "<text text-anchor=\"start\" x=\"1789\" y=\"-230.8\" font-family=\"Helvetica,sans-Serif\" font-size=\"14.00\">class = Not Default</text>\r\n",
       "</g>\r\n",
       "<!-- 17&#45;&gt;18 -->\r\n",
       "<g id=\"edge18\" class=\"edge\">\r\n",
       "<title>17&#45;&gt;18</title>\r\n",
       "<path fill=\"none\" stroke=\"black\" d=\"M1961.33,-341.91C1947.05,-332.2 1931.7,-321.76 1917.08,-311.81\"/>\r\n",
       "<polygon fill=\"black\" stroke=\"black\" points=\"1918.81,-308.75 1908.57,-306.02 1914.87,-314.54 1918.81,-308.75\"/>\r\n",
       "</g>\r\n",
       "<!-- 25 -->\r\n",
       "<g id=\"node26\" class=\"node\">\r\n",
       "<title>25</title>\r\n",
       "<path fill=\"#f4c8a8\" stroke=\"black\" d=\"M2241.5,-306C2241.5,-306 2128.5,-306 2128.5,-306 2122.5,-306 2116.5,-300 2116.5,-294 2116.5,-294 2116.5,-235 2116.5,-235 2116.5,-229 2122.5,-223 2128.5,-223 2128.5,-223 2241.5,-223 2241.5,-223 2247.5,-223 2253.5,-229 2253.5,-235 2253.5,-235 2253.5,-294 2253.5,-294 2253.5,-300 2247.5,-306 2241.5,-306\"/>\r\n",
       "<text text-anchor=\"start\" x=\"2127.5\" y=\"-290.8\" font-family=\"Helvetica,sans-Serif\" font-size=\"14.00\">amount ≤ 23875.0</text>\r\n",
       "<text text-anchor=\"start\" x=\"2147.5\" y=\"-275.8\" font-family=\"Helvetica,sans-Serif\" font-size=\"14.00\">gini = 0.461</text>\r\n",
       "<text text-anchor=\"start\" x=\"2129\" y=\"-260.8\" font-family=\"Helvetica,sans-Serif\" font-size=\"14.00\">samples = 12.6%</text>\r\n",
       "<text text-anchor=\"start\" x=\"2124.5\" y=\"-245.8\" font-family=\"Helvetica,sans-Serif\" font-size=\"14.00\">value = [0.64, 0.36]</text>\r\n",
       "<text text-anchor=\"start\" x=\"2125\" y=\"-230.8\" font-family=\"Helvetica,sans-Serif\" font-size=\"14.00\">class = Not Default</text>\r\n",
       "</g>\r\n",
       "<!-- 17&#45;&gt;25 -->\r\n",
       "<g id=\"edge25\" class=\"edge\">\r\n",
       "<title>17&#45;&gt;25</title>\r\n",
       "<path fill=\"none\" stroke=\"black\" d=\"M2077.9,-341.91C2091.38,-332.29 2105.87,-321.95 2119.69,-312.09\"/>\r\n",
       "<polygon fill=\"black\" stroke=\"black\" points=\"2122.09,-314.68 2128.2,-306.02 2118.03,-308.98 2122.09,-314.68\"/>\r\n",
       "</g>\r\n",
       "<!-- 19 -->\r\n",
       "<g id=\"node20\" class=\"node\">\r\n",
       "<title>19</title>\r\n",
       "<path fill=\"#e8f4fc\" stroke=\"black\" d=\"M1647.5,-187C1647.5,-187 1534.5,-187 1534.5,-187 1528.5,-187 1522.5,-181 1522.5,-175 1522.5,-175 1522.5,-116 1522.5,-116 1522.5,-110 1528.5,-104 1534.5,-104 1534.5,-104 1647.5,-104 1647.5,-104 1653.5,-104 1659.5,-110 1659.5,-116 1659.5,-116 1659.5,-175 1659.5,-175 1659.5,-181 1653.5,-187 1647.5,-187\"/>\r\n",
       "<text text-anchor=\"start\" x=\"1533.5\" y=\"-171.8\" font-family=\"Helvetica,sans-Serif\" font-size=\"14.00\">income ≤ 33998.0</text>\r\n",
       "<text text-anchor=\"start\" x=\"1553.5\" y=\"-156.8\" font-family=\"Helvetica,sans-Serif\" font-size=\"14.00\">gini = 0.498</text>\r\n",
       "<text text-anchor=\"start\" x=\"1535\" y=\"-141.8\" font-family=\"Helvetica,sans-Serif\" font-size=\"14.00\">samples = 11.2%</text>\r\n",
       "<text text-anchor=\"start\" x=\"1530.5\" y=\"-126.8\" font-family=\"Helvetica,sans-Serif\" font-size=\"14.00\">value = [0.47, 0.53]</text>\r\n",
       "<text text-anchor=\"start\" x=\"1544\" y=\"-111.8\" font-family=\"Helvetica,sans-Serif\" font-size=\"14.00\">class = Default</text>\r\n",
       "</g>\r\n",
       "<!-- 18&#45;&gt;19 -->\r\n",
       "<g id=\"edge19\" class=\"edge\">\r\n",
       "<title>18&#45;&gt;19</title>\r\n",
       "<path fill=\"none\" stroke=\"black\" d=\"M1771.94,-228.55C1739.51,-213.85 1701.81,-196.75 1669.25,-181.99\"/>\r\n",
       "<polygon fill=\"black\" stroke=\"black\" points=\"1670.32,-178.63 1659.77,-177.69 1667.43,-185 1670.32,-178.63\"/>\r\n",
       "</g>\r\n",
       "<!-- 22 -->\r\n",
       "<g id=\"node23\" class=\"node\">\r\n",
       "<title>22</title>\r\n",
       "<path fill=\"#f9e2d1\" stroke=\"black\" d=\"M1914,-187C1914,-187 1784,-187 1784,-187 1778,-187 1772,-181 1772,-175 1772,-175 1772,-116 1772,-116 1772,-110 1778,-104 1784,-104 1784,-104 1914,-104 1914,-104 1920,-104 1926,-110 1926,-116 1926,-116 1926,-175 1926,-175 1926,-181 1920,-187 1914,-187\"/>\r\n",
       "<text text-anchor=\"start\" x=\"1809.5\" y=\"-171.8\" font-family=\"Helvetica,sans-Serif\" font-size=\"14.00\">years ≤ 22.0</text>\r\n",
       "<text text-anchor=\"start\" x=\"1811.5\" y=\"-156.8\" font-family=\"Helvetica,sans-Serif\" font-size=\"14.00\">gini = 0.491</text>\r\n",
       "<text text-anchor=\"start\" x=\"1797.5\" y=\"-141.8\" font-family=\"Helvetica,sans-Serif\" font-size=\"14.00\">samples = 7.9%</text>\r\n",
       "<text text-anchor=\"start\" x=\"1780\" y=\"-126.8\" font-family=\"Helvetica,sans-Serif\" font-size=\"14.00\">value = [0.566, 0.434]</text>\r\n",
       "<text text-anchor=\"start\" x=\"1789\" y=\"-111.8\" font-family=\"Helvetica,sans-Serif\" font-size=\"14.00\">class = Not Default</text>\r\n",
       "</g>\r\n",
       "<!-- 18&#45;&gt;22 -->\r\n",
       "<g id=\"edge22\" class=\"edge\">\r\n",
       "<title>18&#45;&gt;22</title>\r\n",
       "<path fill=\"none\" stroke=\"black\" d=\"M1849,-222.91C1849,-214.65 1849,-205.86 1849,-197.3\"/>\r\n",
       "<polygon fill=\"black\" stroke=\"black\" points=\"1852.5,-197.02 1849,-187.02 1845.5,-197.02 1852.5,-197.02\"/>\r\n",
       "</g>\r\n",
       "<!-- 20 -->\r\n",
       "<g id=\"node21\" class=\"node\">\r\n",
       "<title>20</title>\r\n",
       "<path fill=\"#acd6f4\" stroke=\"black\" d=\"M1484,-68C1484,-68 1354,-68 1354,-68 1348,-68 1342,-62 1342,-56 1342,-56 1342,-12 1342,-12 1342,-6 1348,0 1354,0 1354,0 1484,0 1484,0 1490,0 1496,-6 1496,-12 1496,-12 1496,-56 1496,-56 1496,-62 1490,-68 1484,-68\"/>\r\n",
       "<text text-anchor=\"start\" x=\"1381.5\" y=\"-52.8\" font-family=\"Helvetica,sans-Serif\" font-size=\"14.00\">gini = 0.465</text>\r\n",
       "<text text-anchor=\"start\" x=\"1367.5\" y=\"-37.8\" font-family=\"Helvetica,sans-Serif\" font-size=\"14.00\">samples = 3.6%</text>\r\n",
       "<text text-anchor=\"start\" x=\"1350\" y=\"-22.8\" font-family=\"Helvetica,sans-Serif\" font-size=\"14.00\">value = [0.368, 0.632]</text>\r\n",
       "<text text-anchor=\"start\" x=\"1372\" y=\"-7.8\" font-family=\"Helvetica,sans-Serif\" font-size=\"14.00\">class = Default</text>\r\n",
       "</g>\r\n",
       "<!-- 19&#45;&gt;20 -->\r\n",
       "<g id=\"edge20\" class=\"edge\">\r\n",
       "<title>19&#45;&gt;20</title>\r\n",
       "<path fill=\"none\" stroke=\"black\" d=\"M1526.95,-103.73C1511.54,-93.92 1495.13,-83.46 1479.87,-73.75\"/>\r\n",
       "<polygon fill=\"black\" stroke=\"black\" points=\"1481.35,-70.54 1471.03,-68.13 1477.59,-76.45 1481.35,-70.54\"/>\r\n",
       "</g>\r\n",
       "<!-- 21 -->\r\n",
       "<g id=\"node22\" class=\"node\">\r\n",
       "<title>21</title>\r\n",
       "<path fill=\"#fdf6f1\" stroke=\"black\" d=\"M1656,-68C1656,-68 1526,-68 1526,-68 1520,-68 1514,-62 1514,-56 1514,-56 1514,-12 1514,-12 1514,-6 1520,0 1526,0 1526,0 1656,0 1656,0 1662,0 1668,-6 1668,-12 1668,-12 1668,-56 1668,-56 1668,-62 1662,-68 1656,-68\"/>\r\n",
       "<text text-anchor=\"start\" x=\"1553.5\" y=\"-52.8\" font-family=\"Helvetica,sans-Serif\" font-size=\"14.00\">gini = 0.499</text>\r\n",
       "<text text-anchor=\"start\" x=\"1539.5\" y=\"-37.8\" font-family=\"Helvetica,sans-Serif\" font-size=\"14.00\">samples = 7.6%</text>\r\n",
       "<text text-anchor=\"start\" x=\"1522\" y=\"-22.8\" font-family=\"Helvetica,sans-Serif\" font-size=\"14.00\">value = [0.518, 0.482]</text>\r\n",
       "<text text-anchor=\"start\" x=\"1531\" y=\"-7.8\" font-family=\"Helvetica,sans-Serif\" font-size=\"14.00\">class = Not Default</text>\r\n",
       "</g>\r\n",
       "<!-- 19&#45;&gt;21 -->\r\n",
       "<g id=\"edge21\" class=\"edge\">\r\n",
       "<title>19&#45;&gt;21</title>\r\n",
       "<path fill=\"none\" stroke=\"black\" d=\"M1591,-103.73C1591,-95.52 1591,-86.86 1591,-78.56\"/>\r\n",
       "<polygon fill=\"black\" stroke=\"black\" points=\"1594.5,-78.3 1591,-68.3 1587.5,-78.3 1594.5,-78.3\"/>\r\n",
       "</g>\r\n",
       "<!-- 23 -->\r\n",
       "<g id=\"node24\" class=\"node\">\r\n",
       "<title>23</title>\r\n",
       "<path fill=\"#f8deca\" stroke=\"black\" d=\"M1828,-68C1828,-68 1698,-68 1698,-68 1692,-68 1686,-62 1686,-56 1686,-56 1686,-12 1686,-12 1686,-6 1692,0 1698,0 1698,0 1828,0 1828,0 1834,0 1840,-6 1840,-12 1840,-12 1840,-56 1840,-56 1840,-62 1834,-68 1828,-68\"/>\r\n",
       "<text text-anchor=\"start\" x=\"1725.5\" y=\"-52.8\" font-family=\"Helvetica,sans-Serif\" font-size=\"14.00\">gini = 0.488</text>\r\n",
       "<text text-anchor=\"start\" x=\"1711.5\" y=\"-37.8\" font-family=\"Helvetica,sans-Serif\" font-size=\"14.00\">samples = 7.7%</text>\r\n",
       "<text text-anchor=\"start\" x=\"1694\" y=\"-22.8\" font-family=\"Helvetica,sans-Serif\" font-size=\"14.00\">value = [0.577, 0.423]</text>\r\n",
       "<text text-anchor=\"start\" x=\"1703\" y=\"-7.8\" font-family=\"Helvetica,sans-Serif\" font-size=\"14.00\">class = Not Default</text>\r\n",
       "</g>\r\n",
       "<!-- 22&#45;&gt;23 -->\r\n",
       "<g id=\"edge23\" class=\"edge\">\r\n",
       "<title>22&#45;&gt;23</title>\r\n",
       "<path fill=\"none\" stroke=\"black\" d=\"M1816.98,-103.73C1809.96,-94.79 1802.52,-85.32 1795.48,-76.36\"/>\r\n",
       "<polygon fill=\"black\" stroke=\"black\" points=\"1798.08,-74 1789.15,-68.3 1792.58,-78.33 1798.08,-74\"/>\r\n",
       "</g>\r\n",
       "<!-- 24 -->\r\n",
       "<g id=\"node25\" class=\"node\">\r\n",
       "<title>24</title>\r\n",
       "<path fill=\"#4da7e8\" stroke=\"black\" d=\"M2000,-68C2000,-68 1870,-68 1870,-68 1864,-68 1858,-62 1858,-56 1858,-56 1858,-12 1858,-12 1858,-6 1864,0 1870,0 1870,0 2000,0 2000,0 2006,0 2012,-6 2012,-12 2012,-12 2012,-56 2012,-56 2012,-62 2006,-68 2000,-68\"/>\r\n",
       "<text text-anchor=\"start\" x=\"1897.5\" y=\"-52.8\" font-family=\"Helvetica,sans-Serif\" font-size=\"14.00\">gini = 0.165</text>\r\n",
       "<text text-anchor=\"start\" x=\"1883.5\" y=\"-37.8\" font-family=\"Helvetica,sans-Serif\" font-size=\"14.00\">samples = 0.2%</text>\r\n",
       "<text text-anchor=\"start\" x=\"1866\" y=\"-22.8\" font-family=\"Helvetica,sans-Serif\" font-size=\"14.00\">value = [0.091, 0.909]</text>\r\n",
       "<text text-anchor=\"start\" x=\"1888\" y=\"-7.8\" font-family=\"Helvetica,sans-Serif\" font-size=\"14.00\">class = Default</text>\r\n",
       "</g>\r\n",
       "<!-- 22&#45;&gt;24 -->\r\n",
       "<g id=\"edge24\" class=\"edge\">\r\n",
       "<title>22&#45;&gt;24</title>\r\n",
       "<path fill=\"none\" stroke=\"black\" d=\"M1881.02,-103.73C1888.04,-94.79 1895.48,-85.32 1902.52,-76.36\"/>\r\n",
       "<polygon fill=\"black\" stroke=\"black\" points=\"1905.42,-78.33 1908.85,-68.3 1899.92,-74 1905.42,-78.33\"/>\r\n",
       "</g>\r\n",
       "<!-- 26 -->\r\n",
       "<g id=\"node27\" class=\"node\">\r\n",
       "<title>26</title>\r\n",
       "<path fill=\"#f2c29f\" stroke=\"black\" d=\"M2250,-187C2250,-187 2120,-187 2120,-187 2114,-187 2108,-181 2108,-175 2108,-175 2108,-116 2108,-116 2108,-110 2114,-104 2120,-104 2120,-104 2250,-104 2250,-104 2256,-104 2262,-110 2262,-116 2262,-116 2262,-175 2262,-175 2262,-181 2256,-187 2250,-187\"/>\r\n",
       "<text text-anchor=\"start\" x=\"2127.5\" y=\"-171.8\" font-family=\"Helvetica,sans-Serif\" font-size=\"14.00\">income ≤ 90650.0</text>\r\n",
       "<text text-anchor=\"start\" x=\"2147.5\" y=\"-156.8\" font-family=\"Helvetica,sans-Serif\" font-size=\"14.00\">gini = 0.448</text>\r\n",
       "<text text-anchor=\"start\" x=\"2129\" y=\"-141.8\" font-family=\"Helvetica,sans-Serif\" font-size=\"14.00\">samples = 11.3%</text>\r\n",
       "<text text-anchor=\"start\" x=\"2116\" y=\"-126.8\" font-family=\"Helvetica,sans-Serif\" font-size=\"14.00\">value = [0.661, 0.339]</text>\r\n",
       "<text text-anchor=\"start\" x=\"2125\" y=\"-111.8\" font-family=\"Helvetica,sans-Serif\" font-size=\"14.00\">class = Not Default</text>\r\n",
       "</g>\r\n",
       "<!-- 25&#45;&gt;26 -->\r\n",
       "<g id=\"edge26\" class=\"edge\">\r\n",
       "<title>25&#45;&gt;26</title>\r\n",
       "<path fill=\"none\" stroke=\"black\" d=\"M2185,-222.91C2185,-214.65 2185,-205.86 2185,-197.3\"/>\r\n",
       "<polygon fill=\"black\" stroke=\"black\" points=\"2188.5,-197.02 2185,-187.02 2181.5,-197.02 2188.5,-197.02\"/>\r\n",
       "</g>\r\n",
       "<!-- 29 -->\r\n",
       "<g id=\"node30\" class=\"node\">\r\n",
       "<title>29</title>\r\n",
       "<path fill=\"#deeffb\" stroke=\"black\" d=\"M2500,-187C2500,-187 2370,-187 2370,-187 2364,-187 2358,-181 2358,-175 2358,-175 2358,-116 2358,-116 2358,-110 2364,-104 2370,-104 2370,-104 2500,-104 2500,-104 2506,-104 2512,-110 2512,-116 2512,-116 2512,-175 2512,-175 2512,-181 2506,-187 2500,-187\"/>\r\n",
       "<text text-anchor=\"start\" x=\"2401\" y=\"-171.8\" font-family=\"Helvetica,sans-Serif\" font-size=\"14.00\">age ≤ 23.5</text>\r\n",
       "<text text-anchor=\"start\" x=\"2397.5\" y=\"-156.8\" font-family=\"Helvetica,sans-Serif\" font-size=\"14.00\">gini = 0.496</text>\r\n",
       "<text text-anchor=\"start\" x=\"2383.5\" y=\"-141.8\" font-family=\"Helvetica,sans-Serif\" font-size=\"14.00\">samples = 1.2%</text>\r\n",
       "<text text-anchor=\"start\" x=\"2366\" y=\"-126.8\" font-family=\"Helvetica,sans-Serif\" font-size=\"14.00\">value = [0.455, 0.545]</text>\r\n",
       "<text text-anchor=\"start\" x=\"2388\" y=\"-111.8\" font-family=\"Helvetica,sans-Serif\" font-size=\"14.00\">class = Default</text>\r\n",
       "</g>\r\n",
       "<!-- 25&#45;&gt;29 -->\r\n",
       "<g id=\"edge29\" class=\"edge\">\r\n",
       "<title>25&#45;&gt;29</title>\r\n",
       "<path fill=\"none\" stroke=\"black\" d=\"M2253.64,-231.37C2282.98,-217.64 2317.56,-201.46 2348.61,-186.93\"/>\r\n",
       "<polygon fill=\"black\" stroke=\"black\" points=\"2350.12,-190.09 2357.7,-182.68 2347.16,-183.75 2350.12,-190.09\"/>\r\n",
       "</g>\r\n",
       "<!-- 27 -->\r\n",
       "<g id=\"node28\" class=\"node\">\r\n",
       "<title>27</title>\r\n",
       "<path fill=\"#f4cbad\" stroke=\"black\" d=\"M2155.5,-68C2155.5,-68 2042.5,-68 2042.5,-68 2036.5,-68 2030.5,-62 2030.5,-56 2030.5,-56 2030.5,-12 2030.5,-12 2030.5,-6 2036.5,0 2042.5,0 2042.5,0 2155.5,0 2155.5,0 2161.5,0 2167.5,-6 2167.5,-12 2167.5,-12 2167.5,-56 2167.5,-56 2167.5,-62 2161.5,-68 2155.5,-68\"/>\r\n",
       "<text text-anchor=\"start\" x=\"2061.5\" y=\"-52.8\" font-family=\"Helvetica,sans-Serif\" font-size=\"14.00\">gini = 0.466</text>\r\n",
       "<text text-anchor=\"start\" x=\"2047.5\" y=\"-37.8\" font-family=\"Helvetica,sans-Serif\" font-size=\"14.00\">samples = 7.2%</text>\r\n",
       "<text text-anchor=\"start\" x=\"2038.5\" y=\"-22.8\" font-family=\"Helvetica,sans-Serif\" font-size=\"14.00\">value = [0.63, 0.37]</text>\r\n",
       "<text text-anchor=\"start\" x=\"2039\" y=\"-7.8\" font-family=\"Helvetica,sans-Serif\" font-size=\"14.00\">class = Not Default</text>\r\n",
       "</g>\r\n",
       "<!-- 26&#45;&gt;27 -->\r\n",
       "<g id=\"edge27\" class=\"edge\">\r\n",
       "<title>26&#45;&gt;27</title>\r\n",
       "<path fill=\"none\" stroke=\"black\" d=\"M2152.98,-103.73C2145.96,-94.79 2138.52,-85.32 2131.48,-76.36\"/>\r\n",
       "<polygon fill=\"black\" stroke=\"black\" points=\"2134.08,-74 2125.15,-68.3 2128.58,-78.33 2134.08,-74\"/>\r\n",
       "</g>\r\n",
       "<!-- 28 -->\r\n",
       "<g id=\"node29\" class=\"node\">\r\n",
       "<title>28</title>\r\n",
       "<path fill=\"#efb388\" stroke=\"black\" d=\"M2328,-68C2328,-68 2198,-68 2198,-68 2192,-68 2186,-62 2186,-56 2186,-56 2186,-12 2186,-12 2186,-6 2192,0 2198,0 2198,0 2328,0 2328,0 2334,0 2340,-6 2340,-12 2340,-12 2340,-56 2340,-56 2340,-62 2334,-68 2328,-68\"/>\r\n",
       "<text text-anchor=\"start\" x=\"2225.5\" y=\"-52.8\" font-family=\"Helvetica,sans-Serif\" font-size=\"14.00\">gini = 0.407</text>\r\n",
       "<text text-anchor=\"start\" x=\"2211.5\" y=\"-37.8\" font-family=\"Helvetica,sans-Serif\" font-size=\"14.00\">samples = 4.1%</text>\r\n",
       "<text text-anchor=\"start\" x=\"2194\" y=\"-22.8\" font-family=\"Helvetica,sans-Serif\" font-size=\"14.00\">value = [0.715, 0.285]</text>\r\n",
       "<text text-anchor=\"start\" x=\"2203\" y=\"-7.8\" font-family=\"Helvetica,sans-Serif\" font-size=\"14.00\">class = Not Default</text>\r\n",
       "</g>\r\n",
       "<!-- 26&#45;&gt;28 -->\r\n",
       "<g id=\"edge28\" class=\"edge\">\r\n",
       "<title>26&#45;&gt;28</title>\r\n",
       "<path fill=\"none\" stroke=\"black\" d=\"M2214.04,-103.73C2220.35,-94.88 2227.02,-85.51 2233.35,-76.63\"/>\r\n",
       "<polygon fill=\"black\" stroke=\"black\" points=\"2236.33,-78.48 2239.28,-68.3 2230.63,-74.41 2236.33,-78.48\"/>\r\n",
       "</g>\r\n",
       "<!-- 30 -->\r\n",
       "<g id=\"node31\" class=\"node\">\r\n",
       "<title>30</title>\r\n",
       "<path fill=\"#5aade9\" stroke=\"black\" d=\"M2500,-68C2500,-68 2370,-68 2370,-68 2364,-68 2358,-62 2358,-56 2358,-56 2358,-12 2358,-12 2358,-6 2364,0 2370,0 2370,0 2500,0 2500,0 2506,0 2512,-6 2512,-12 2512,-12 2512,-56 2512,-56 2512,-62 2506,-68 2500,-68\"/>\r\n",
       "<text text-anchor=\"start\" x=\"2397.5\" y=\"-52.8\" font-family=\"Helvetica,sans-Serif\" font-size=\"14.00\">gini = 0.245</text>\r\n",
       "<text text-anchor=\"start\" x=\"2383.5\" y=\"-37.8\" font-family=\"Helvetica,sans-Serif\" font-size=\"14.00\">samples = 0.2%</text>\r\n",
       "<text text-anchor=\"start\" x=\"2366\" y=\"-22.8\" font-family=\"Helvetica,sans-Serif\" font-size=\"14.00\">value = [0.143, 0.857]</text>\r\n",
       "<text text-anchor=\"start\" x=\"2388\" y=\"-7.8\" font-family=\"Helvetica,sans-Serif\" font-size=\"14.00\">class = Default</text>\r\n",
       "</g>\r\n",
       "<!-- 29&#45;&gt;30 -->\r\n",
       "<g id=\"edge30\" class=\"edge\">\r\n",
       "<title>29&#45;&gt;30</title>\r\n",
       "<path fill=\"none\" stroke=\"black\" d=\"M2435,-103.73C2435,-95.52 2435,-86.86 2435,-78.56\"/>\r\n",
       "<polygon fill=\"black\" stroke=\"black\" points=\"2438.5,-78.3 2435,-68.3 2431.5,-78.3 2438.5,-78.3\"/>\r\n",
       "</g>\r\n",
       "<!-- 31 -->\r\n",
       "<g id=\"node32\" class=\"node\">\r\n",
       "<title>31</title>\r\n",
       "<path fill=\"#fdf4ed\" stroke=\"black\" d=\"M2672,-68C2672,-68 2542,-68 2542,-68 2536,-68 2530,-62 2530,-56 2530,-56 2530,-12 2530,-12 2530,-6 2536,0 2542,0 2542,0 2672,0 2672,0 2678,0 2684,-6 2684,-12 2684,-12 2684,-56 2684,-56 2684,-62 2678,-68 2672,-68\"/>\r\n",
       "<text text-anchor=\"start\" x=\"2569.5\" y=\"-52.8\" font-family=\"Helvetica,sans-Serif\" font-size=\"14.00\">gini = 0.499</text>\r\n",
       "<text text-anchor=\"start\" x=\"2555.5\" y=\"-37.8\" font-family=\"Helvetica,sans-Serif\" font-size=\"14.00\">samples = 1.0%</text>\r\n",
       "<text text-anchor=\"start\" x=\"2538\" y=\"-22.8\" font-family=\"Helvetica,sans-Serif\" font-size=\"14.00\">value = [0.524, 0.476]</text>\r\n",
       "<text text-anchor=\"start\" x=\"2547\" y=\"-7.8\" font-family=\"Helvetica,sans-Serif\" font-size=\"14.00\">class = Not Default</text>\r\n",
       "</g>\r\n",
       "<!-- 29&#45;&gt;31 -->\r\n",
       "<g id=\"edge31\" class=\"edge\">\r\n",
       "<title>29&#45;&gt;31</title>\r\n",
       "<path fill=\"none\" stroke=\"black\" d=\"M2499.05,-103.73C2514.46,-93.92 2530.87,-83.46 2546.13,-73.75\"/>\r\n",
       "<polygon fill=\"black\" stroke=\"black\" points=\"2548.41,-76.45 2554.97,-68.13 2544.65,-70.54 2548.41,-76.45\"/>\r\n",
       "</g>\r\n",
       "<!-- 33 -->\r\n",
       "<g id=\"node34\" class=\"node\">\r\n",
       "<title>33</title>\r\n",
       "<path fill=\"#f4caab\" stroke=\"black\" d=\"M3348,-425C3348,-425 3218,-425 3218,-425 3212,-425 3206,-419 3206,-413 3206,-413 3206,-354 3206,-354 3206,-348 3212,-342 3218,-342 3218,-342 3348,-342 3348,-342 3354,-342 3360,-348 3360,-354 3360,-354 3360,-413 3360,-413 3360,-419 3354,-425 3348,-425\"/>\r\n",
       "<text text-anchor=\"start\" x=\"3225.5\" y=\"-409.8\" font-family=\"Helvetica,sans-Serif\" font-size=\"14.00\">income ≤ 43979.0</text>\r\n",
       "<text text-anchor=\"start\" x=\"3245.5\" y=\"-394.8\" font-family=\"Helvetica,sans-Serif\" font-size=\"14.00\">gini = 0.464</text>\r\n",
       "<text text-anchor=\"start\" x=\"3227\" y=\"-379.8\" font-family=\"Helvetica,sans-Serif\" font-size=\"14.00\">samples = 14.3%</text>\r\n",
       "<text text-anchor=\"start\" x=\"3214\" y=\"-364.8\" font-family=\"Helvetica,sans-Serif\" font-size=\"14.00\">value = [0.634, 0.366]</text>\r\n",
       "<text text-anchor=\"start\" x=\"3223\" y=\"-349.8\" font-family=\"Helvetica,sans-Serif\" font-size=\"14.00\">class = Not Default</text>\r\n",
       "</g>\r\n",
       "<!-- 32&#45;&gt;33 -->\r\n",
       "<g id=\"edge33\" class=\"edge\">\r\n",
       "<title>32&#45;&gt;33</title>\r\n",
       "<path fill=\"none\" stroke=\"black\" d=\"M3283,-460.91C3283,-452.65 3283,-443.86 3283,-435.3\"/>\r\n",
       "<polygon fill=\"black\" stroke=\"black\" points=\"3286.5,-435.02 3283,-425.02 3279.5,-435.02 3286.5,-435.02\"/>\r\n",
       "</g>\r\n",
       "<!-- 48 -->\r\n",
       "<g id=\"node49\" class=\"node\">\r\n",
       "<title>48</title>\r\n",
       "<path fill=\"#eb9d65\" stroke=\"black\" d=\"M4387,-425C4387,-425 4257,-425 4257,-425 4251,-425 4245,-419 4245,-413 4245,-413 4245,-354 4245,-354 4245,-348 4251,-342 4257,-342 4257,-342 4387,-342 4387,-342 4393,-342 4399,-348 4399,-354 4399,-354 4399,-413 4399,-413 4399,-419 4393,-425 4387,-425\"/>\r\n",
       "<text text-anchor=\"start\" x=\"4264.5\" y=\"-409.8\" font-family=\"Helvetica,sans-Serif\" font-size=\"14.00\">income ≤ 92190.5</text>\r\n",
       "<text text-anchor=\"start\" x=\"4284.5\" y=\"-394.8\" font-family=\"Helvetica,sans-Serif\" font-size=\"14.00\">gini = 0.299</text>\r\n",
       "<text text-anchor=\"start\" x=\"4266\" y=\"-379.8\" font-family=\"Helvetica,sans-Serif\" font-size=\"14.00\">samples = 12.6%</text>\r\n",
       "<text text-anchor=\"start\" x=\"4253\" y=\"-364.8\" font-family=\"Helvetica,sans-Serif\" font-size=\"14.00\">value = [0.817, 0.183]</text>\r\n",
       "<text text-anchor=\"start\" x=\"4262\" y=\"-349.8\" font-family=\"Helvetica,sans-Serif\" font-size=\"14.00\">class = Not Default</text>\r\n",
       "</g>\r\n",
       "<!-- 32&#45;&gt;48 -->\r\n",
       "<g id=\"edge48\" class=\"edge\">\r\n",
       "<title>32&#45;&gt;48</title>\r\n",
       "<path fill=\"none\" stroke=\"black\" d=\"M3351.57,-493.78C3534.29,-473.2 4032.71,-417.08 4234.97,-394.3\"/>\r\n",
       "<polygon fill=\"black\" stroke=\"black\" points=\"4235.41,-397.77 4244.96,-393.18 4234.63,-390.82 4235.41,-397.77\"/>\r\n",
       "</g>\r\n",
       "<!-- 34 -->\r\n",
       "<g id=\"node35\" class=\"node\">\r\n",
       "<title>34</title>\r\n",
       "<path fill=\"#f6d5bd\" stroke=\"black\" d=\"M3261,-306C3261,-306 3149,-306 3149,-306 3143,-306 3137,-300 3137,-294 3137,-294 3137,-235 3137,-235 3137,-229 3143,-223 3149,-223 3149,-223 3261,-223 3261,-223 3267,-223 3273,-229 3273,-235 3273,-235 3273,-294 3273,-294 3273,-300 3267,-306 3261,-306\"/>\r\n",
       "<text text-anchor=\"start\" x=\"3147.5\" y=\"-290.8\" font-family=\"Helvetica,sans-Serif\" font-size=\"14.00\">amount ≤ 13100.0</text>\r\n",
       "<text text-anchor=\"start\" x=\"3171.5\" y=\"-275.8\" font-family=\"Helvetica,sans-Serif\" font-size=\"14.00\">gini = 0.48</text>\r\n",
       "<text text-anchor=\"start\" x=\"3153.5\" y=\"-260.8\" font-family=\"Helvetica,sans-Serif\" font-size=\"14.00\">samples = 9.3%</text>\r\n",
       "<text text-anchor=\"start\" x=\"3152.5\" y=\"-245.8\" font-family=\"Helvetica,sans-Serif\" font-size=\"14.00\">value = [0.6, 0.4]</text>\r\n",
       "<text text-anchor=\"start\" x=\"3145\" y=\"-230.8\" font-family=\"Helvetica,sans-Serif\" font-size=\"14.00\">class = Not Default</text>\r\n",
       "</g>\r\n",
       "<!-- 33&#45;&gt;34 -->\r\n",
       "<g id=\"edge34\" class=\"edge\">\r\n",
       "<title>33&#45;&gt;34</title>\r\n",
       "<path fill=\"none\" stroke=\"black\" d=\"M3255.94,-341.91C3250.07,-333.1 3243.8,-323.7 3237.74,-314.61\"/>\r\n",
       "<polygon fill=\"black\" stroke=\"black\" points=\"3240.47,-312.4 3232.01,-306.02 3234.65,-316.28 3240.47,-312.4\"/>\r\n",
       "</g>\r\n",
       "<!-- 41 -->\r\n",
       "<g id=\"node42\" class=\"node\">\r\n",
       "<title>41</title>\r\n",
       "<path fill=\"#f0b88f\" stroke=\"black\" d=\"M3572,-306C3572,-306 3442,-306 3442,-306 3436,-306 3430,-300 3430,-294 3430,-294 3430,-235 3430,-235 3430,-229 3436,-223 3442,-223 3442,-223 3572,-223 3572,-223 3578,-223 3584,-229 3584,-235 3584,-235 3584,-294 3584,-294 3584,-300 3578,-306 3572,-306\"/>\r\n",
       "<text text-anchor=\"start\" x=\"3473\" y=\"-290.8\" font-family=\"Helvetica,sans-Serif\" font-size=\"14.00\">age ≤ 31.5</text>\r\n",
       "<text text-anchor=\"start\" x=\"3469.5\" y=\"-275.8\" font-family=\"Helvetica,sans-Serif\" font-size=\"14.00\">gini = 0.422</text>\r\n",
       "<text text-anchor=\"start\" x=\"3455.5\" y=\"-260.8\" font-family=\"Helvetica,sans-Serif\" font-size=\"14.00\">samples = 5.0%</text>\r\n",
       "<text text-anchor=\"start\" x=\"3438\" y=\"-245.8\" font-family=\"Helvetica,sans-Serif\" font-size=\"14.00\">value = [0.698, 0.302]</text>\r\n",
       "<text text-anchor=\"start\" x=\"3447\" y=\"-230.8\" font-family=\"Helvetica,sans-Serif\" font-size=\"14.00\">class = Not Default</text>\r\n",
       "</g>\r\n",
       "<!-- 33&#45;&gt;41 -->\r\n",
       "<g id=\"edge41\" class=\"edge\">\r\n",
       "<title>33&#45;&gt;41</title>\r\n",
       "<path fill=\"none\" stroke=\"black\" d=\"M3360.09,-342.24C3379.62,-332.03 3400.73,-321.01 3420.69,-310.58\"/>\r\n",
       "<polygon fill=\"black\" stroke=\"black\" points=\"3422.53,-313.57 3429.77,-305.84 3419.29,-307.37 3422.53,-313.57\"/>\r\n",
       "</g>\r\n",
       "<!-- 35 -->\r\n",
       "<g id=\"node36\" class=\"node\">\r\n",
       "<title>35</title>\r\n",
       "<path fill=\"#f7dac4\" stroke=\"black\" d=\"M3016,-187C3016,-187 2886,-187 2886,-187 2880,-187 2874,-181 2874,-175 2874,-175 2874,-116 2874,-116 2874,-110 2880,-104 2886,-104 2886,-104 3016,-104 3016,-104 3022,-104 3028,-110 3028,-116 3028,-116 3028,-175 3028,-175 3028,-181 3022,-187 3016,-187\"/>\r\n",
       "<text text-anchor=\"start\" x=\"2916\" y=\"-171.8\" font-family=\"Helvetica,sans-Serif\" font-size=\"14.00\">years ≤ 3.5</text>\r\n",
       "<text text-anchor=\"start\" x=\"2913.5\" y=\"-156.8\" font-family=\"Helvetica,sans-Serif\" font-size=\"14.00\">gini = 0.485</text>\r\n",
       "<text text-anchor=\"start\" x=\"2899.5\" y=\"-141.8\" font-family=\"Helvetica,sans-Serif\" font-size=\"14.00\">samples = 8.8%</text>\r\n",
       "<text text-anchor=\"start\" x=\"2882\" y=\"-126.8\" font-family=\"Helvetica,sans-Serif\" font-size=\"14.00\">value = [0.587, 0.413]</text>\r\n",
       "<text text-anchor=\"start\" x=\"2891\" y=\"-111.8\" font-family=\"Helvetica,sans-Serif\" font-size=\"14.00\">class = Not Default</text>\r\n",
       "</g>\r\n",
       "<!-- 34&#45;&gt;35 -->\r\n",
       "<g id=\"edge35\" class=\"edge\">\r\n",
       "<title>34&#45;&gt;35</title>\r\n",
       "<path fill=\"none\" stroke=\"black\" d=\"M3136.93,-232.15C3106.44,-218.1 3070.12,-201.37 3037.71,-186.44\"/>\r\n",
       "<polygon fill=\"black\" stroke=\"black\" points=\"3038.78,-183.08 3028.23,-182.08 3035.85,-189.44 3038.78,-183.08\"/>\r\n",
       "</g>\r\n",
       "<!-- 38 -->\r\n",
       "<g id=\"node39\" class=\"node\">\r\n",
       "<title>38</title>\r\n",
       "<path fill=\"#e9965a\" stroke=\"black\" d=\"M3270,-187C3270,-187 3140,-187 3140,-187 3134,-187 3128,-181 3128,-175 3128,-175 3128,-116 3128,-116 3128,-110 3134,-104 3140,-104 3140,-104 3270,-104 3270,-104 3276,-104 3282,-110 3282,-116 3282,-116 3282,-175 3282,-175 3282,-181 3276,-187 3270,-187\"/>\r\n",
       "<text text-anchor=\"start\" x=\"3170\" y=\"-171.8\" font-family=\"Helvetica,sans-Serif\" font-size=\"14.00\">years ≤ 0.5</text>\r\n",
       "<text text-anchor=\"start\" x=\"3167.5\" y=\"-156.8\" font-family=\"Helvetica,sans-Serif\" font-size=\"14.00\">gini = 0.245</text>\r\n",
       "<text text-anchor=\"start\" x=\"3153.5\" y=\"-141.8\" font-family=\"Helvetica,sans-Serif\" font-size=\"14.00\">samples = 0.5%</text>\r\n",
       "<text text-anchor=\"start\" x=\"3136\" y=\"-126.8\" font-family=\"Helvetica,sans-Serif\" font-size=\"14.00\">value = [0.857, 0.143]</text>\r\n",
       "<text text-anchor=\"start\" x=\"3145\" y=\"-111.8\" font-family=\"Helvetica,sans-Serif\" font-size=\"14.00\">class = Not Default</text>\r\n",
       "</g>\r\n",
       "<!-- 34&#45;&gt;38 -->\r\n",
       "<g id=\"edge38\" class=\"edge\">\r\n",
       "<title>34&#45;&gt;38</title>\r\n",
       "<path fill=\"none\" stroke=\"black\" d=\"M3205,-222.91C3205,-214.65 3205,-205.86 3205,-197.3\"/>\r\n",
       "<polygon fill=\"black\" stroke=\"black\" points=\"3208.5,-197.02 3205,-187.02 3201.5,-197.02 3208.5,-197.02\"/>\r\n",
       "</g>\r\n",
       "<!-- 36 -->\r\n",
       "<g id=\"node37\" class=\"node\">\r\n",
       "<title>36</title>\r\n",
       "<path fill=\"#f2c19e\" stroke=\"black\" d=\"M2844,-68C2844,-68 2714,-68 2714,-68 2708,-68 2702,-62 2702,-56 2702,-56 2702,-12 2702,-12 2702,-6 2708,0 2714,0 2714,0 2844,0 2844,0 2850,0 2856,-6 2856,-12 2856,-12 2856,-56 2856,-56 2856,-62 2850,-68 2844,-68\"/>\r\n",
       "<text text-anchor=\"start\" x=\"2741.5\" y=\"-52.8\" font-family=\"Helvetica,sans-Serif\" font-size=\"14.00\">gini = 0.447</text>\r\n",
       "<text text-anchor=\"start\" x=\"2727.5\" y=\"-37.8\" font-family=\"Helvetica,sans-Serif\" font-size=\"14.00\">samples = 4.0%</text>\r\n",
       "<text text-anchor=\"start\" x=\"2710\" y=\"-22.8\" font-family=\"Helvetica,sans-Serif\" font-size=\"14.00\">value = [0.663, 0.337]</text>\r\n",
       "<text text-anchor=\"start\" x=\"2719\" y=\"-7.8\" font-family=\"Helvetica,sans-Serif\" font-size=\"14.00\">class = Not Default</text>\r\n",
       "</g>\r\n",
       "<!-- 35&#45;&gt;36 -->\r\n",
       "<g id=\"edge36\" class=\"edge\">\r\n",
       "<title>35&#45;&gt;36</title>\r\n",
       "<path fill=\"none\" stroke=\"black\" d=\"M2886.95,-103.73C2871.54,-93.92 2855.13,-83.46 2839.87,-73.75\"/>\r\n",
       "<polygon fill=\"black\" stroke=\"black\" points=\"2841.35,-70.54 2831.03,-68.13 2837.59,-76.45 2841.35,-70.54\"/>\r\n",
       "</g>\r\n",
       "<!-- 37 -->\r\n",
       "<g id=\"node38\" class=\"node\">\r\n",
       "<title>37</title>\r\n",
       "<path fill=\"#fdf3ec\" stroke=\"black\" d=\"M3016,-68C3016,-68 2886,-68 2886,-68 2880,-68 2874,-62 2874,-56 2874,-56 2874,-12 2874,-12 2874,-6 2880,0 2886,0 2886,0 3016,0 3016,0 3022,0 3028,-6 3028,-12 3028,-12 3028,-56 3028,-56 3028,-62 3022,-68 3016,-68\"/>\r\n",
       "<text text-anchor=\"start\" x=\"2913.5\" y=\"-52.8\" font-family=\"Helvetica,sans-Serif\" font-size=\"14.00\">gini = 0.499</text>\r\n",
       "<text text-anchor=\"start\" x=\"2899.5\" y=\"-37.8\" font-family=\"Helvetica,sans-Serif\" font-size=\"14.00\">samples = 4.9%</text>\r\n",
       "<text text-anchor=\"start\" x=\"2882\" y=\"-22.8\" font-family=\"Helvetica,sans-Serif\" font-size=\"14.00\">value = [0.525, 0.475]</text>\r\n",
       "<text text-anchor=\"start\" x=\"2891\" y=\"-7.8\" font-family=\"Helvetica,sans-Serif\" font-size=\"14.00\">class = Not Default</text>\r\n",
       "</g>\r\n",
       "<!-- 35&#45;&gt;37 -->\r\n",
       "<g id=\"edge37\" class=\"edge\">\r\n",
       "<title>35&#45;&gt;37</title>\r\n",
       "<path fill=\"none\" stroke=\"black\" d=\"M2951,-103.73C2951,-95.52 2951,-86.86 2951,-78.56\"/>\r\n",
       "<polygon fill=\"black\" stroke=\"black\" points=\"2954.5,-78.3 2951,-68.3 2947.5,-78.3 2954.5,-78.3\"/>\r\n",
       "</g>\r\n",
       "<!-- 39 -->\r\n",
       "<g id=\"node40\" class=\"node\">\r\n",
       "<title>39</title>\r\n",
       "<path fill=\"#9ccef2\" stroke=\"black\" d=\"M3188,-68C3188,-68 3058,-68 3058,-68 3052,-68 3046,-62 3046,-56 3046,-56 3046,-12 3046,-12 3046,-6 3052,0 3058,0 3058,0 3188,0 3188,0 3194,0 3200,-6 3200,-12 3200,-12 3200,-56 3200,-56 3200,-62 3194,-68 3188,-68\"/>\r\n",
       "<text text-anchor=\"start\" x=\"3085.5\" y=\"-52.8\" font-family=\"Helvetica,sans-Serif\" font-size=\"14.00\">gini = 0.444</text>\r\n",
       "<text text-anchor=\"start\" x=\"3071.5\" y=\"-37.8\" font-family=\"Helvetica,sans-Serif\" font-size=\"14.00\">samples = 0.0%</text>\r\n",
       "<text text-anchor=\"start\" x=\"3054\" y=\"-22.8\" font-family=\"Helvetica,sans-Serif\" font-size=\"14.00\">value = [0.333, 0.667]</text>\r\n",
       "<text text-anchor=\"start\" x=\"3076\" y=\"-7.8\" font-family=\"Helvetica,sans-Serif\" font-size=\"14.00\">class = Default</text>\r\n",
       "</g>\r\n",
       "<!-- 38&#45;&gt;39 -->\r\n",
       "<g id=\"edge39\" class=\"edge\">\r\n",
       "<title>38&#45;&gt;39</title>\r\n",
       "<path fill=\"none\" stroke=\"black\" d=\"M3174.47,-103.73C3167.77,-94.79 3160.68,-85.32 3153.97,-76.36\"/>\r\n",
       "<polygon fill=\"black\" stroke=\"black\" points=\"3156.73,-74.21 3147.94,-68.3 3151.13,-78.4 3156.73,-74.21\"/>\r\n",
       "</g>\r\n",
       "<!-- 40 -->\r\n",
       "<g id=\"node41\" class=\"node\">\r\n",
       "<title>40</title>\r\n",
       "<path fill=\"#e78c4a\" stroke=\"black\" d=\"M3343.5,-68C3343.5,-68 3230.5,-68 3230.5,-68 3224.5,-68 3218.5,-62 3218.5,-56 3218.5,-56 3218.5,-12 3218.5,-12 3218.5,-6 3224.5,0 3230.5,0 3230.5,0 3343.5,0 3343.5,0 3349.5,0 3355.5,-6 3355.5,-12 3355.5,-12 3355.5,-56 3355.5,-56 3355.5,-62 3349.5,-68 3343.5,-68\"/>\r\n",
       "<text text-anchor=\"start\" x=\"3249.5\" y=\"-52.8\" font-family=\"Helvetica,sans-Serif\" font-size=\"14.00\">gini = 0.147</text>\r\n",
       "<text text-anchor=\"start\" x=\"3235.5\" y=\"-37.8\" font-family=\"Helvetica,sans-Serif\" font-size=\"14.00\">samples = 0.4%</text>\r\n",
       "<text text-anchor=\"start\" x=\"3226.5\" y=\"-22.8\" font-family=\"Helvetica,sans-Serif\" font-size=\"14.00\">value = [0.92, 0.08]</text>\r\n",
       "<text text-anchor=\"start\" x=\"3227\" y=\"-7.8\" font-family=\"Helvetica,sans-Serif\" font-size=\"14.00\">class = Not Default</text>\r\n",
       "</g>\r\n",
       "<!-- 38&#45;&gt;40 -->\r\n",
       "<g id=\"edge40\" class=\"edge\">\r\n",
       "<title>38&#45;&gt;40</title>\r\n",
       "<path fill=\"none\" stroke=\"black\" d=\"M3235.53,-103.73C3242.23,-94.79 3249.32,-85.32 3256.03,-76.36\"/>\r\n",
       "<polygon fill=\"black\" stroke=\"black\" points=\"3258.87,-78.4 3262.06,-68.3 3253.27,-74.21 3258.87,-78.4\"/>\r\n",
       "</g>\r\n",
       "<!-- 42 -->\r\n",
       "<g id=\"node43\" class=\"node\">\r\n",
       "<title>42</title>\r\n",
       "<path fill=\"#f3c3a1\" stroke=\"black\" d=\"M3572,-187C3572,-187 3442,-187 3442,-187 3436,-187 3430,-181 3430,-175 3430,-175 3430,-116 3430,-116 3430,-110 3436,-104 3442,-104 3442,-104 3572,-104 3572,-104 3578,-104 3584,-110 3584,-116 3584,-116 3584,-175 3584,-175 3584,-181 3578,-187 3572,-187\"/>\r\n",
       "<text text-anchor=\"start\" x=\"3449.5\" y=\"-171.8\" font-family=\"Helvetica,sans-Serif\" font-size=\"14.00\">income ≤ 44700.0</text>\r\n",
       "<text text-anchor=\"start\" x=\"3469.5\" y=\"-156.8\" font-family=\"Helvetica,sans-Serif\" font-size=\"14.00\">gini = 0.451</text>\r\n",
       "<text text-anchor=\"start\" x=\"3455.5\" y=\"-141.8\" font-family=\"Helvetica,sans-Serif\" font-size=\"14.00\">samples = 4.0%</text>\r\n",
       "<text text-anchor=\"start\" x=\"3438\" y=\"-126.8\" font-family=\"Helvetica,sans-Serif\" font-size=\"14.00\">value = [0.656, 0.344]</text>\r\n",
       "<text text-anchor=\"start\" x=\"3447\" y=\"-111.8\" font-family=\"Helvetica,sans-Serif\" font-size=\"14.00\">class = Not Default</text>\r\n",
       "</g>\r\n",
       "<!-- 41&#45;&gt;42 -->\r\n",
       "<g id=\"edge42\" class=\"edge\">\r\n",
       "<title>41&#45;&gt;42</title>\r\n",
       "<path fill=\"none\" stroke=\"black\" d=\"M3507,-222.91C3507,-214.65 3507,-205.86 3507,-197.3\"/>\r\n",
       "<polygon fill=\"black\" stroke=\"black\" points=\"3510.5,-197.02 3507,-187.02 3503.5,-197.02 3510.5,-197.02\"/>\r\n",
       "</g>\r\n",
       "<!-- 45 -->\r\n",
       "<g id=\"node46\" class=\"node\">\r\n",
       "<title>45</title>\r\n",
       "<path fill=\"#e99457\" stroke=\"black\" d=\"M3809,-187C3809,-187 3679,-187 3679,-187 3673,-187 3667,-181 3667,-175 3667,-175 3667,-116 3667,-116 3667,-110 3673,-104 3679,-104 3679,-104 3809,-104 3809,-104 3815,-104 3821,-110 3821,-116 3821,-116 3821,-175 3821,-175 3821,-181 3815,-187 3809,-187\"/>\r\n",
       "<text text-anchor=\"start\" x=\"3690.5\" y=\"-171.8\" font-family=\"Helvetica,sans-Serif\" font-size=\"14.00\">amount ≤ 1637.5</text>\r\n",
       "<text text-anchor=\"start\" x=\"3706.5\" y=\"-156.8\" font-family=\"Helvetica,sans-Serif\" font-size=\"14.00\">gini = 0.228</text>\r\n",
       "<text text-anchor=\"start\" x=\"3692.5\" y=\"-141.8\" font-family=\"Helvetica,sans-Serif\" font-size=\"14.00\">samples = 1.0%</text>\r\n",
       "<text text-anchor=\"start\" x=\"3675\" y=\"-126.8\" font-family=\"Helvetica,sans-Serif\" font-size=\"14.00\">value = [0.869, 0.131]</text>\r\n",
       "<text text-anchor=\"start\" x=\"3684\" y=\"-111.8\" font-family=\"Helvetica,sans-Serif\" font-size=\"14.00\">class = Not Default</text>\r\n",
       "</g>\r\n",
       "<!-- 41&#45;&gt;45 -->\r\n",
       "<g id=\"edge45\" class=\"edge\">\r\n",
       "<title>41&#45;&gt;45</title>\r\n",
       "<path fill=\"none\" stroke=\"black\" d=\"M3584.27,-225.35C3607.75,-213.76 3633.69,-200.95 3657.72,-189.09\"/>\r\n",
       "<polygon fill=\"black\" stroke=\"black\" points=\"3659.41,-192.16 3666.83,-184.6 3656.31,-185.88 3659.41,-192.16\"/>\r\n",
       "</g>\r\n",
       "<!-- 43 -->\r\n",
       "<g id=\"node44\" class=\"node\">\r\n",
       "<title>43</title>\r\n",
       "<path fill=\"#e58139\" stroke=\"black\" d=\"M3498,-68C3498,-68 3386,-68 3386,-68 3380,-68 3374,-62 3374,-56 3374,-56 3374,-12 3374,-12 3374,-6 3380,0 3386,0 3386,0 3498,0 3498,0 3504,0 3510,-6 3510,-12 3510,-12 3510,-56 3510,-56 3510,-62 3504,-68 3498,-68\"/>\r\n",
       "<text text-anchor=\"start\" x=\"3413\" y=\"-52.8\" font-family=\"Helvetica,sans-Serif\" font-size=\"14.00\">gini = 0.0</text>\r\n",
       "<text text-anchor=\"start\" x=\"3390.5\" y=\"-37.8\" font-family=\"Helvetica,sans-Serif\" font-size=\"14.00\">samples = 0.2%</text>\r\n",
       "<text text-anchor=\"start\" x=\"3389.5\" y=\"-22.8\" font-family=\"Helvetica,sans-Serif\" font-size=\"14.00\">value = [1.0, 0.0]</text>\r\n",
       "<text text-anchor=\"start\" x=\"3382\" y=\"-7.8\" font-family=\"Helvetica,sans-Serif\" font-size=\"14.00\">class = Not Default</text>\r\n",
       "</g>\r\n",
       "<!-- 42&#45;&gt;43 -->\r\n",
       "<g id=\"edge43\" class=\"edge\">\r\n",
       "<title>42&#45;&gt;43</title>\r\n",
       "<path fill=\"none\" stroke=\"black\" d=\"M3482.8,-103.73C3477.6,-94.97 3472.1,-85.7 3466.88,-76.91\"/>\r\n",
       "<polygon fill=\"black\" stroke=\"black\" points=\"3469.88,-75.11 3461.77,-68.3 3463.86,-78.69 3469.88,-75.11\"/>\r\n",
       "</g>\r\n",
       "<!-- 44 -->\r\n",
       "<g id=\"node45\" class=\"node\">\r\n",
       "<title>44</title>\r\n",
       "<path fill=\"#f4c8a8\" stroke=\"black\" d=\"M3653.5,-68C3653.5,-68 3540.5,-68 3540.5,-68 3534.5,-68 3528.5,-62 3528.5,-56 3528.5,-56 3528.5,-12 3528.5,-12 3528.5,-6 3534.5,0 3540.5,0 3540.5,0 3653.5,0 3653.5,0 3659.5,0 3665.5,-6 3665.5,-12 3665.5,-12 3665.5,-56 3665.5,-56 3665.5,-62 3659.5,-68 3653.5,-68\"/>\r\n",
       "<text text-anchor=\"start\" x=\"3559.5\" y=\"-52.8\" font-family=\"Helvetica,sans-Serif\" font-size=\"14.00\">gini = 0.461</text>\r\n",
       "<text text-anchor=\"start\" x=\"3545.5\" y=\"-37.8\" font-family=\"Helvetica,sans-Serif\" font-size=\"14.00\">samples = 3.9%</text>\r\n",
       "<text text-anchor=\"start\" x=\"3536.5\" y=\"-22.8\" font-family=\"Helvetica,sans-Serif\" font-size=\"14.00\">value = [0.64, 0.36]</text>\r\n",
       "<text text-anchor=\"start\" x=\"3537\" y=\"-7.8\" font-family=\"Helvetica,sans-Serif\" font-size=\"14.00\">class = Not Default</text>\r\n",
       "</g>\r\n",
       "<!-- 42&#45;&gt;44 -->\r\n",
       "<g id=\"edge44\" class=\"edge\">\r\n",
       "<title>42&#45;&gt;44</title>\r\n",
       "<path fill=\"none\" stroke=\"black\" d=\"M3540.51,-103.73C3547.93,-94.7 3555.8,-85.12 3563.23,-76.08\"/>\r\n",
       "<polygon fill=\"black\" stroke=\"black\" points=\"3565.98,-78.25 3569.63,-68.3 3560.58,-73.8 3565.98,-78.25\"/>\r\n",
       "</g>\r\n",
       "<!-- 46 -->\r\n",
       "<g id=\"node47\" class=\"node\">\r\n",
       "<title>46</title>\r\n",
       "<path fill=\"#399de5\" stroke=\"black\" d=\"M3792.5,-68C3792.5,-68 3695.5,-68 3695.5,-68 3689.5,-68 3683.5,-62 3683.5,-56 3683.5,-56 3683.5,-12 3683.5,-12 3683.5,-6 3689.5,0 3695.5,0 3695.5,0 3792.5,0 3792.5,0 3798.5,0 3804.5,-6 3804.5,-12 3804.5,-12 3804.5,-56 3804.5,-56 3804.5,-62 3798.5,-68 3792.5,-68\"/>\r\n",
       "<text text-anchor=\"start\" x=\"3715\" y=\"-52.8\" font-family=\"Helvetica,sans-Serif\" font-size=\"14.00\">gini = 0.0</text>\r\n",
       "<text text-anchor=\"start\" x=\"3692.5\" y=\"-37.8\" font-family=\"Helvetica,sans-Serif\" font-size=\"14.00\">samples = 0.0%</text>\r\n",
       "<text text-anchor=\"start\" x=\"3691.5\" y=\"-22.8\" font-family=\"Helvetica,sans-Serif\" font-size=\"14.00\">value = [0.0, 1.0]</text>\r\n",
       "<text text-anchor=\"start\" x=\"3697\" y=\"-7.8\" font-family=\"Helvetica,sans-Serif\" font-size=\"14.00\">class = Default</text>\r\n",
       "</g>\r\n",
       "<!-- 45&#45;&gt;46 -->\r\n",
       "<g id=\"edge46\" class=\"edge\">\r\n",
       "<title>45&#45;&gt;46</title>\r\n",
       "<path fill=\"none\" stroke=\"black\" d=\"M3744,-103.73C3744,-95.52 3744,-86.86 3744,-78.56\"/>\r\n",
       "<polygon fill=\"black\" stroke=\"black\" points=\"3747.5,-78.3 3744,-68.3 3740.5,-78.3 3747.5,-78.3\"/>\r\n",
       "</g>\r\n",
       "<!-- 47 -->\r\n",
       "<g id=\"node48\" class=\"node\">\r\n",
       "<title>47</title>\r\n",
       "<path fill=\"#e88f4f\" stroke=\"black\" d=\"M3965,-68C3965,-68 3835,-68 3835,-68 3829,-68 3823,-62 3823,-56 3823,-56 3823,-12 3823,-12 3823,-6 3829,0 3835,0 3835,0 3965,0 3965,0 3971,0 3977,-6 3977,-12 3977,-12 3977,-56 3977,-56 3977,-62 3971,-68 3965,-68\"/>\r\n",
       "<text text-anchor=\"start\" x=\"3862.5\" y=\"-52.8\" font-family=\"Helvetica,sans-Serif\" font-size=\"14.00\">gini = 0.183</text>\r\n",
       "<text text-anchor=\"start\" x=\"3848.5\" y=\"-37.8\" font-family=\"Helvetica,sans-Serif\" font-size=\"14.00\">samples = 1.0%</text>\r\n",
       "<text text-anchor=\"start\" x=\"3831\" y=\"-22.8\" font-family=\"Helvetica,sans-Serif\" font-size=\"14.00\">value = [0.898, 0.102]</text>\r\n",
       "<text text-anchor=\"start\" x=\"3840\" y=\"-7.8\" font-family=\"Helvetica,sans-Serif\" font-size=\"14.00\">class = Not Default</text>\r\n",
       "</g>\r\n",
       "<!-- 45&#45;&gt;47 -->\r\n",
       "<g id=\"edge47\" class=\"edge\">\r\n",
       "<title>45&#45;&gt;47</title>\r\n",
       "<path fill=\"none\" stroke=\"black\" d=\"M3802.09,-103.73C3815.86,-94.06 3830.52,-83.77 3844.19,-74.17\"/>\r\n",
       "<polygon fill=\"black\" stroke=\"black\" points=\"3846.39,-76.91 3852.56,-68.3 3842.36,-71.18 3846.39,-76.91\"/>\r\n",
       "</g>\r\n",
       "<!-- 49 -->\r\n",
       "<g id=\"node50\" class=\"node\">\r\n",
       "<title>49</title>\r\n",
       "<path fill=\"#eca26d\" stroke=\"black\" d=\"M4387,-306C4387,-306 4257,-306 4257,-306 4251,-306 4245,-300 4245,-294 4245,-294 4245,-235 4245,-235 4245,-229 4251,-223 4257,-223 4257,-223 4387,-223 4387,-223 4393,-223 4399,-229 4399,-235 4399,-235 4399,-294 4399,-294 4399,-300 4393,-306 4387,-306\"/>\r\n",
       "<text text-anchor=\"start\" x=\"4264.5\" y=\"-290.8\" font-family=\"Helvetica,sans-Serif\" font-size=\"14.00\">income ≤ 91696.0</text>\r\n",
       "<text text-anchor=\"start\" x=\"4288.5\" y=\"-275.8\" font-family=\"Helvetica,sans-Serif\" font-size=\"14.00\">gini = 0.33</text>\r\n",
       "<text text-anchor=\"start\" x=\"4270.5\" y=\"-260.8\" font-family=\"Helvetica,sans-Serif\" font-size=\"14.00\">samples = 8.4%</text>\r\n",
       "<text text-anchor=\"start\" x=\"4253\" y=\"-245.8\" font-family=\"Helvetica,sans-Serif\" font-size=\"14.00\">value = [0.791, 0.209]</text>\r\n",
       "<text text-anchor=\"start\" x=\"4262\" y=\"-230.8\" font-family=\"Helvetica,sans-Serif\" font-size=\"14.00\">class = Not Default</text>\r\n",
       "</g>\r\n",
       "<!-- 48&#45;&gt;49 -->\r\n",
       "<g id=\"edge49\" class=\"edge\">\r\n",
       "<title>48&#45;&gt;49</title>\r\n",
       "<path fill=\"none\" stroke=\"black\" d=\"M4322,-341.91C4322,-333.65 4322,-324.86 4322,-316.3\"/>\r\n",
       "<polygon fill=\"black\" stroke=\"black\" points=\"4325.5,-316.02 4322,-306.02 4318.5,-316.02 4325.5,-316.02\"/>\r\n",
       "</g>\r\n",
       "<!-- 56 -->\r\n",
       "<g id=\"node57\" class=\"node\">\r\n",
       "<title>56</title>\r\n",
       "<path fill=\"#e99457\" stroke=\"black\" d=\"M4884.5,-306C4884.5,-306 4699.5,-306 4699.5,-306 4693.5,-306 4687.5,-300 4687.5,-294 4687.5,-294 4687.5,-235 4687.5,-235 4687.5,-229 4693.5,-223 4699.5,-223 4699.5,-223 4884.5,-223 4884.5,-223 4890.5,-223 4896.5,-229 4896.5,-235 4896.5,-235 4896.5,-294 4896.5,-294 4896.5,-300 4890.5,-306 4884.5,-306\"/>\r\n",
       "<text text-anchor=\"start\" x=\"4695.5\" y=\"-290.8\" font-family=\"Helvetica,sans-Serif\" font-size=\"14.00\">ownership_MORTGAGE ≤ 0.5</text>\r\n",
       "<text text-anchor=\"start\" x=\"4754.5\" y=\"-275.8\" font-family=\"Helvetica,sans-Serif\" font-size=\"14.00\">gini = 0.229</text>\r\n",
       "<text text-anchor=\"start\" x=\"4740.5\" y=\"-260.8\" font-family=\"Helvetica,sans-Serif\" font-size=\"14.00\">samples = 4.2%</text>\r\n",
       "<text text-anchor=\"start\" x=\"4723\" y=\"-245.8\" font-family=\"Helvetica,sans-Serif\" font-size=\"14.00\">value = [0.868, 0.132]</text>\r\n",
       "<text text-anchor=\"start\" x=\"4732\" y=\"-230.8\" font-family=\"Helvetica,sans-Serif\" font-size=\"14.00\">class = Not Default</text>\r\n",
       "</g>\r\n",
       "<!-- 48&#45;&gt;56 -->\r\n",
       "<g id=\"edge56\" class=\"edge\">\r\n",
       "<title>48&#45;&gt;56</title>\r\n",
       "<path fill=\"none\" stroke=\"black\" d=\"M4399.08,-363.31C4474.69,-344.49 4590.88,-315.57 4677.32,-294.05\"/>\r\n",
       "<polygon fill=\"black\" stroke=\"black\" points=\"4678.32,-297.4 4687.18,-291.59 4676.63,-290.61 4678.32,-297.4\"/>\r\n",
       "</g>\r\n",
       "<!-- 50 -->\r\n",
       "<g id=\"node51\" class=\"node\">\r\n",
       "<title>50</title>\r\n",
       "<path fill=\"#eca16c\" stroke=\"black\" d=\"M4305,-187C4305,-187 4175,-187 4175,-187 4169,-187 4163,-181 4163,-175 4163,-175 4163,-116 4163,-116 4163,-110 4169,-104 4175,-104 4175,-104 4305,-104 4305,-104 4311,-104 4317,-110 4317,-116 4317,-116 4317,-175 4317,-175 4317,-181 4311,-187 4305,-187\"/>\r\n",
       "<text text-anchor=\"start\" x=\"4205\" y=\"-171.8\" font-family=\"Helvetica,sans-Serif\" font-size=\"14.00\">years ≤ 9.5</text>\r\n",
       "<text text-anchor=\"start\" x=\"4202.5\" y=\"-156.8\" font-family=\"Helvetica,sans-Serif\" font-size=\"14.00\">gini = 0.326</text>\r\n",
       "<text text-anchor=\"start\" x=\"4188.5\" y=\"-141.8\" font-family=\"Helvetica,sans-Serif\" font-size=\"14.00\">samples = 8.4%</text>\r\n",
       "<text text-anchor=\"start\" x=\"4171\" y=\"-126.8\" font-family=\"Helvetica,sans-Serif\" font-size=\"14.00\">value = [0.795, 0.205]</text>\r\n",
       "<text text-anchor=\"start\" x=\"4180\" y=\"-111.8\" font-family=\"Helvetica,sans-Serif\" font-size=\"14.00\">class = Not Default</text>\r\n",
       "</g>\r\n",
       "<!-- 49&#45;&gt;50 -->\r\n",
       "<g id=\"edge50\" class=\"edge\">\r\n",
       "<title>49&#45;&gt;50</title>\r\n",
       "<path fill=\"none\" stroke=\"black\" d=\"M4293.55,-222.91C4287.32,-214.01 4280.66,-204.51 4274.22,-195.33\"/>\r\n",
       "<polygon fill=\"black\" stroke=\"black\" points=\"4277,-193.2 4268.4,-187.02 4271.27,-197.22 4277,-193.2\"/>\r\n",
       "</g>\r\n",
       "<!-- 53 -->\r\n",
       "<g id=\"node54\" class=\"node\">\r\n",
       "<title>53</title>\r\n",
       "<path fill=\"#7bbeee\" stroke=\"black\" d=\"M4460.5,-187C4460.5,-187 4347.5,-187 4347.5,-187 4341.5,-187 4335.5,-181 4335.5,-175 4335.5,-175 4335.5,-116 4335.5,-116 4335.5,-110 4341.5,-104 4347.5,-104 4347.5,-104 4460.5,-104 4460.5,-104 4466.5,-104 4472.5,-110 4472.5,-116 4472.5,-116 4472.5,-175 4472.5,-175 4472.5,-181 4466.5,-187 4460.5,-187\"/>\r\n",
       "<text text-anchor=\"start\" x=\"4350.5\" y=\"-171.8\" font-family=\"Helvetica,sans-Serif\" font-size=\"14.00\">amount ≤ 6737.5</text>\r\n",
       "<text text-anchor=\"start\" x=\"4366.5\" y=\"-156.8\" font-family=\"Helvetica,sans-Serif\" font-size=\"14.00\">gini = 0.375</text>\r\n",
       "<text text-anchor=\"start\" x=\"4352.5\" y=\"-141.8\" font-family=\"Helvetica,sans-Serif\" font-size=\"14.00\">samples = 0.1%</text>\r\n",
       "<text text-anchor=\"start\" x=\"4343.5\" y=\"-126.8\" font-family=\"Helvetica,sans-Serif\" font-size=\"14.00\">value = [0.25, 0.75]</text>\r\n",
       "<text text-anchor=\"start\" x=\"4357\" y=\"-111.8\" font-family=\"Helvetica,sans-Serif\" font-size=\"14.00\">class = Default</text>\r\n",
       "</g>\r\n",
       "<!-- 49&#45;&gt;53 -->\r\n",
       "<g id=\"edge53\" class=\"edge\">\r\n",
       "<title>49&#45;&gt;53</title>\r\n",
       "<path fill=\"none\" stroke=\"black\" d=\"M4350.45,-222.91C4356.68,-214.01 4363.34,-204.51 4369.78,-195.33\"/>\r\n",
       "<polygon fill=\"black\" stroke=\"black\" points=\"4372.73,-197.22 4375.6,-187.02 4367,-193.2 4372.73,-197.22\"/>\r\n",
       "</g>\r\n",
       "<!-- 51 -->\r\n",
       "<g id=\"node52\" class=\"node\">\r\n",
       "<title>51</title>\r\n",
       "<path fill=\"#eb9c64\" stroke=\"black\" d=\"M4137,-68C4137,-68 4007,-68 4007,-68 4001,-68 3995,-62 3995,-56 3995,-56 3995,-12 3995,-12 3995,-6 4001,0 4007,0 4007,0 4137,0 4137,0 4143,0 4149,-6 4149,-12 4149,-12 4149,-56 4149,-56 4149,-62 4143,-68 4137,-68\"/>\r\n",
       "<text text-anchor=\"start\" x=\"4034.5\" y=\"-52.8\" font-family=\"Helvetica,sans-Serif\" font-size=\"14.00\">gini = 0.292</text>\r\n",
       "<text text-anchor=\"start\" x=\"4020.5\" y=\"-37.8\" font-family=\"Helvetica,sans-Serif\" font-size=\"14.00\">samples = 6.1%</text>\r\n",
       "<text text-anchor=\"start\" x=\"4003\" y=\"-22.8\" font-family=\"Helvetica,sans-Serif\" font-size=\"14.00\">value = [0.823, 0.177]</text>\r\n",
       "<text text-anchor=\"start\" x=\"4012\" y=\"-7.8\" font-family=\"Helvetica,sans-Serif\" font-size=\"14.00\">class = Not Default</text>\r\n",
       "</g>\r\n",
       "<!-- 50&#45;&gt;51 -->\r\n",
       "<g id=\"edge51\" class=\"edge\">\r\n",
       "<title>50&#45;&gt;51</title>\r\n",
       "<path fill=\"none\" stroke=\"black\" d=\"M4177.44,-103.73C4162.39,-93.92 4146.36,-83.46 4131.45,-73.75\"/>\r\n",
       "<polygon fill=\"black\" stroke=\"black\" points=\"4133.11,-70.65 4122.82,-68.13 4129.29,-76.52 4133.11,-70.65\"/>\r\n",
       "</g>\r\n",
       "<!-- 52 -->\r\n",
       "<g id=\"node53\" class=\"node\">\r\n",
       "<title>52</title>\r\n",
       "<path fill=\"#efb285\" stroke=\"black\" d=\"M4309,-68C4309,-68 4179,-68 4179,-68 4173,-68 4167,-62 4167,-56 4167,-56 4167,-12 4167,-12 4167,-6 4173,0 4179,0 4179,0 4309,0 4309,0 4315,0 4321,-6 4321,-12 4321,-12 4321,-56 4321,-56 4321,-62 4315,-68 4309,-68\"/>\r\n",
       "<text text-anchor=\"start\" x=\"4206.5\" y=\"-52.8\" font-family=\"Helvetica,sans-Serif\" font-size=\"14.00\">gini = 0.402</text>\r\n",
       "<text text-anchor=\"start\" x=\"4192.5\" y=\"-37.8\" font-family=\"Helvetica,sans-Serif\" font-size=\"14.00\">samples = 2.3%</text>\r\n",
       "<text text-anchor=\"start\" x=\"4175\" y=\"-22.8\" font-family=\"Helvetica,sans-Serif\" font-size=\"14.00\">value = [0.721, 0.279]</text>\r\n",
       "<text text-anchor=\"start\" x=\"4184\" y=\"-7.8\" font-family=\"Helvetica,sans-Serif\" font-size=\"14.00\">class = Not Default</text>\r\n",
       "</g>\r\n",
       "<!-- 50&#45;&gt;52 -->\r\n",
       "<g id=\"edge52\" class=\"edge\">\r\n",
       "<title>50&#45;&gt;52</title>\r\n",
       "<path fill=\"none\" stroke=\"black\" d=\"M4241.49,-103.73C4241.79,-95.52 4242.11,-86.86 4242.41,-78.56\"/>\r\n",
       "<polygon fill=\"black\" stroke=\"black\" points=\"4245.92,-78.42 4242.78,-68.3 4238.92,-78.17 4245.92,-78.42\"/>\r\n",
       "</g>\r\n",
       "<!-- 54 -->\r\n",
       "<g id=\"node55\" class=\"node\">\r\n",
       "<title>54</title>\r\n",
       "<path fill=\"#399de5\" stroke=\"black\" d=\"M4448.5,-68C4448.5,-68 4351.5,-68 4351.5,-68 4345.5,-68 4339.5,-62 4339.5,-56 4339.5,-56 4339.5,-12 4339.5,-12 4339.5,-6 4345.5,0 4351.5,0 4351.5,0 4448.5,0 4448.5,0 4454.5,0 4460.5,-6 4460.5,-12 4460.5,-12 4460.5,-56 4460.5,-56 4460.5,-62 4454.5,-68 4448.5,-68\"/>\r\n",
       "<text text-anchor=\"start\" x=\"4371\" y=\"-52.8\" font-family=\"Helvetica,sans-Serif\" font-size=\"14.00\">gini = 0.0</text>\r\n",
       "<text text-anchor=\"start\" x=\"4348.5\" y=\"-37.8\" font-family=\"Helvetica,sans-Serif\" font-size=\"14.00\">samples = 0.0%</text>\r\n",
       "<text text-anchor=\"start\" x=\"4347.5\" y=\"-22.8\" font-family=\"Helvetica,sans-Serif\" font-size=\"14.00\">value = [0.0, 1.0]</text>\r\n",
       "<text text-anchor=\"start\" x=\"4353\" y=\"-7.8\" font-family=\"Helvetica,sans-Serif\" font-size=\"14.00\">class = Default</text>\r\n",
       "</g>\r\n",
       "<!-- 53&#45;&gt;54 -->\r\n",
       "<g id=\"edge54\" class=\"edge\">\r\n",
       "<title>53&#45;&gt;54</title>\r\n",
       "<path fill=\"none\" stroke=\"black\" d=\"M4402.51,-103.73C4402.21,-95.52 4401.89,-86.86 4401.59,-78.56\"/>\r\n",
       "<polygon fill=\"black\" stroke=\"black\" points=\"4405.08,-78.17 4401.22,-68.3 4398.08,-78.42 4405.08,-78.17\"/>\r\n",
       "</g>\r\n",
       "<!-- 55 -->\r\n",
       "<g id=\"node56\" class=\"node\">\r\n",
       "<title>55</title>\r\n",
       "<path fill=\"#ffffff\" stroke=\"black\" d=\"M4603,-68C4603,-68 4491,-68 4491,-68 4485,-68 4479,-62 4479,-56 4479,-56 4479,-12 4479,-12 4479,-6 4485,0 4491,0 4491,0 4603,0 4603,0 4609,0 4615,-6 4615,-12 4615,-12 4615,-56 4615,-56 4615,-62 4609,-68 4603,-68\"/>\r\n",
       "<text text-anchor=\"start\" x=\"4518\" y=\"-52.8\" font-family=\"Helvetica,sans-Serif\" font-size=\"14.00\">gini = 0.5</text>\r\n",
       "<text text-anchor=\"start\" x=\"4495.5\" y=\"-37.8\" font-family=\"Helvetica,sans-Serif\" font-size=\"14.00\">samples = 0.0%</text>\r\n",
       "<text text-anchor=\"start\" x=\"4494.5\" y=\"-22.8\" font-family=\"Helvetica,sans-Serif\" font-size=\"14.00\">value = [0.5, 0.5]</text>\r\n",
       "<text text-anchor=\"start\" x=\"4487\" y=\"-7.8\" font-family=\"Helvetica,sans-Serif\" font-size=\"14.00\">class = Not Default</text>\r\n",
       "</g>\r\n",
       "<!-- 53&#45;&gt;55 -->\r\n",
       "<g id=\"edge55\" class=\"edge\">\r\n",
       "<title>53&#45;&gt;55</title>\r\n",
       "<path fill=\"none\" stroke=\"black\" d=\"M4457.25,-103.73C4469.75,-94.15 4483.06,-83.96 4495.49,-74.44\"/>\r\n",
       "<polygon fill=\"black\" stroke=\"black\" points=\"4497.7,-77.16 4503.51,-68.3 4493.45,-71.6 4497.7,-77.16\"/>\r\n",
       "</g>\r\n",
       "<!-- 57 -->\r\n",
       "<g id=\"node58\" class=\"node\">\r\n",
       "<title>57</title>\r\n",
       "<path fill=\"#eead7e\" stroke=\"black\" d=\"M4857,-187C4857,-187 4727,-187 4727,-187 4721,-187 4715,-181 4715,-175 4715,-175 4715,-116 4715,-116 4715,-110 4721,-104 4727,-104 4727,-104 4857,-104 4857,-104 4863,-104 4869,-110 4869,-116 4869,-116 4869,-175 4869,-175 4869,-181 4863,-187 4857,-187\"/>\r\n",
       "<text text-anchor=\"start\" x=\"4758\" y=\"-171.8\" font-family=\"Helvetica,sans-Serif\" font-size=\"14.00\">age ≤ 30.5</text>\r\n",
       "<text text-anchor=\"start\" x=\"4754.5\" y=\"-156.8\" font-family=\"Helvetica,sans-Serif\" font-size=\"14.00\">gini = 0.383</text>\r\n",
       "<text text-anchor=\"start\" x=\"4740.5\" y=\"-141.8\" font-family=\"Helvetica,sans-Serif\" font-size=\"14.00\">samples = 0.9%</text>\r\n",
       "<text text-anchor=\"start\" x=\"4723\" y=\"-126.8\" font-family=\"Helvetica,sans-Serif\" font-size=\"14.00\">value = [0.741, 0.259]</text>\r\n",
       "<text text-anchor=\"start\" x=\"4732\" y=\"-111.8\" font-family=\"Helvetica,sans-Serif\" font-size=\"14.00\">class = Not Default</text>\r\n",
       "</g>\r\n",
       "<!-- 56&#45;&gt;57 -->\r\n",
       "<g id=\"edge57\" class=\"edge\">\r\n",
       "<title>56&#45;&gt;57</title>\r\n",
       "<path fill=\"none\" stroke=\"black\" d=\"M4792,-222.91C4792,-214.65 4792,-205.86 4792,-197.3\"/>\r\n",
       "<polygon fill=\"black\" stroke=\"black\" points=\"4795.5,-197.02 4792,-187.02 4788.5,-197.02 4795.5,-197.02\"/>\r\n",
       "</g>\r\n",
       "<!-- 60 -->\r\n",
       "<g id=\"node61\" class=\"node\">\r\n",
       "<title>60</title>\r\n",
       "<path fill=\"#e88e4e\" stroke=\"black\" d=\"M5111,-187C5111,-187 4981,-187 4981,-187 4975,-187 4969,-181 4969,-175 4969,-175 4969,-116 4969,-116 4969,-110 4975,-104 4981,-104 4981,-104 5111,-104 5111,-104 5117,-104 5123,-110 5123,-116 5123,-116 5123,-175 5123,-175 5123,-181 5117,-187 5111,-187\"/>\r\n",
       "<text text-anchor=\"start\" x=\"4992.5\" y=\"-171.8\" font-family=\"Helvetica,sans-Serif\" font-size=\"14.00\">amount ≤ 6900.0</text>\r\n",
       "<text text-anchor=\"start\" x=\"5008.5\" y=\"-156.8\" font-family=\"Helvetica,sans-Serif\" font-size=\"14.00\">gini = 0.172</text>\r\n",
       "<text text-anchor=\"start\" x=\"4994.5\" y=\"-141.8\" font-family=\"Helvetica,sans-Serif\" font-size=\"14.00\">samples = 3.2%</text>\r\n",
       "<text text-anchor=\"start\" x=\"4977\" y=\"-126.8\" font-family=\"Helvetica,sans-Serif\" font-size=\"14.00\">value = [0.905, 0.095]</text>\r\n",
       "<text text-anchor=\"start\" x=\"4986\" y=\"-111.8\" font-family=\"Helvetica,sans-Serif\" font-size=\"14.00\">class = Not Default</text>\r\n",
       "</g>\r\n",
       "<!-- 56&#45;&gt;60 -->\r\n",
       "<g id=\"edge60\" class=\"edge\">\r\n",
       "<title>56&#45;&gt;60</title>\r\n",
       "<path fill=\"none\" stroke=\"black\" d=\"M4880.12,-222.91C4905.77,-211.09 4933.77,-198.2 4959.33,-186.42\"/>\r\n",
       "<polygon fill=\"black\" stroke=\"black\" points=\"4961.01,-189.5 4968.62,-182.14 4958.08,-183.15 4961.01,-189.5\"/>\r\n",
       "</g>\r\n",
       "<!-- 58 -->\r\n",
       "<g id=\"node59\" class=\"node\">\r\n",
       "<title>58</title>\r\n",
       "<path fill=\"#eb9c63\" stroke=\"black\" d=\"M4775,-68C4775,-68 4645,-68 4645,-68 4639,-68 4633,-62 4633,-56 4633,-56 4633,-12 4633,-12 4633,-6 4639,0 4645,0 4645,0 4775,0 4775,0 4781,0 4787,-6 4787,-12 4787,-12 4787,-56 4787,-56 4787,-62 4781,-68 4775,-68\"/>\r\n",
       "<text text-anchor=\"start\" x=\"4672.5\" y=\"-52.8\" font-family=\"Helvetica,sans-Serif\" font-size=\"14.00\">gini = 0.289</text>\r\n",
       "<text text-anchor=\"start\" x=\"4658.5\" y=\"-37.8\" font-family=\"Helvetica,sans-Serif\" font-size=\"14.00\">samples = 0.6%</text>\r\n",
       "<text text-anchor=\"start\" x=\"4641\" y=\"-22.8\" font-family=\"Helvetica,sans-Serif\" font-size=\"14.00\">value = [0.825, 0.175]</text>\r\n",
       "<text text-anchor=\"start\" x=\"4650\" y=\"-7.8\" font-family=\"Helvetica,sans-Serif\" font-size=\"14.00\">class = Not Default</text>\r\n",
       "</g>\r\n",
       "<!-- 57&#45;&gt;58 -->\r\n",
       "<g id=\"edge58\" class=\"edge\">\r\n",
       "<title>57&#45;&gt;58</title>\r\n",
       "<path fill=\"none\" stroke=\"black\" d=\"M4761.47,-103.73C4754.77,-94.79 4747.68,-85.32 4740.97,-76.36\"/>\r\n",
       "<polygon fill=\"black\" stroke=\"black\" points=\"4743.73,-74.21 4734.94,-68.3 4738.13,-78.4 4743.73,-74.21\"/>\r\n",
       "</g>\r\n",
       "<!-- 59 -->\r\n",
       "<g id=\"node60\" class=\"node\">\r\n",
       "<title>59</title>\r\n",
       "<path fill=\"#fae6d7\" stroke=\"black\" d=\"M4947,-68C4947,-68 4817,-68 4817,-68 4811,-68 4805,-62 4805,-56 4805,-56 4805,-12 4805,-12 4805,-6 4811,0 4817,0 4817,0 4947,0 4947,0 4953,0 4959,-6 4959,-12 4959,-12 4959,-56 4959,-56 4959,-62 4953,-68 4947,-68\"/>\r\n",
       "<text text-anchor=\"start\" x=\"4844.5\" y=\"-52.8\" font-family=\"Helvetica,sans-Serif\" font-size=\"14.00\">gini = 0.494</text>\r\n",
       "<text text-anchor=\"start\" x=\"4830.5\" y=\"-37.8\" font-family=\"Helvetica,sans-Serif\" font-size=\"14.00\">samples = 0.3%</text>\r\n",
       "<text text-anchor=\"start\" x=\"4813\" y=\"-22.8\" font-family=\"Helvetica,sans-Serif\" font-size=\"14.00\">value = [0.556, 0.444]</text>\r\n",
       "<text text-anchor=\"start\" x=\"4822\" y=\"-7.8\" font-family=\"Helvetica,sans-Serif\" font-size=\"14.00\">class = Not Default</text>\r\n",
       "</g>\r\n",
       "<!-- 57&#45;&gt;59 -->\r\n",
       "<g id=\"edge59\" class=\"edge\">\r\n",
       "<title>57&#45;&gt;59</title>\r\n",
       "<path fill=\"none\" stroke=\"black\" d=\"M4825.51,-103.73C4832.93,-94.7 4840.8,-85.12 4848.23,-76.08\"/>\r\n",
       "<polygon fill=\"black\" stroke=\"black\" points=\"4850.98,-78.25 4854.63,-68.3 4845.58,-73.8 4850.98,-78.25\"/>\r\n",
       "</g>\r\n",
       "<!-- 61 -->\r\n",
       "<g id=\"node62\" class=\"node\">\r\n",
       "<title>61</title>\r\n",
       "<path fill=\"#e6843d\" stroke=\"black\" d=\"M5102.5,-68C5102.5,-68 4989.5,-68 4989.5,-68 4983.5,-68 4977.5,-62 4977.5,-56 4977.5,-56 4977.5,-12 4977.5,-12 4977.5,-6 4983.5,0 4989.5,0 4989.5,0 5102.5,0 5102.5,0 5108.5,0 5114.5,-6 5114.5,-12 5114.5,-12 5114.5,-56 5114.5,-56 5114.5,-62 5108.5,-68 5102.5,-68\"/>\r\n",
       "<text text-anchor=\"start\" x=\"5012.5\" y=\"-52.8\" font-family=\"Helvetica,sans-Serif\" font-size=\"14.00\">gini = 0.04</text>\r\n",
       "<text text-anchor=\"start\" x=\"4994.5\" y=\"-37.8\" font-family=\"Helvetica,sans-Serif\" font-size=\"14.00\">samples = 0.8%</text>\r\n",
       "<text text-anchor=\"start\" x=\"4985.5\" y=\"-22.8\" font-family=\"Helvetica,sans-Serif\" font-size=\"14.00\">value = [0.98, 0.02]</text>\r\n",
       "<text text-anchor=\"start\" x=\"4986\" y=\"-7.8\" font-family=\"Helvetica,sans-Serif\" font-size=\"14.00\">class = Not Default</text>\r\n",
       "</g>\r\n",
       "<!-- 60&#45;&gt;61 -->\r\n",
       "<g id=\"edge61\" class=\"edge\">\r\n",
       "<title>60&#45;&gt;61</title>\r\n",
       "<path fill=\"none\" stroke=\"black\" d=\"M5046,-103.73C5046,-95.52 5046,-86.86 5046,-78.56\"/>\r\n",
       "<polygon fill=\"black\" stroke=\"black\" points=\"5049.5,-78.3 5046,-68.3 5042.5,-78.3 5049.5,-78.3\"/>\r\n",
       "</g>\r\n",
       "<!-- 62 -->\r\n",
       "<g id=\"node63\" class=\"node\">\r\n",
       "<title>62</title>\r\n",
       "<path fill=\"#e99254\" stroke=\"black\" d=\"M5275,-68C5275,-68 5145,-68 5145,-68 5139,-68 5133,-62 5133,-56 5133,-56 5133,-12 5133,-12 5133,-6 5139,0 5145,0 5145,0 5275,0 5275,0 5281,0 5287,-6 5287,-12 5287,-12 5287,-56 5287,-56 5287,-62 5281,-68 5275,-68\"/>\r\n",
       "<text text-anchor=\"start\" x=\"5176.5\" y=\"-52.8\" font-family=\"Helvetica,sans-Serif\" font-size=\"14.00\">gini = 0.21</text>\r\n",
       "<text text-anchor=\"start\" x=\"5158.5\" y=\"-37.8\" font-family=\"Helvetica,sans-Serif\" font-size=\"14.00\">samples = 2.4%</text>\r\n",
       "<text text-anchor=\"start\" x=\"5141\" y=\"-22.8\" font-family=\"Helvetica,sans-Serif\" font-size=\"14.00\">value = [0.881, 0.119]</text>\r\n",
       "<text text-anchor=\"start\" x=\"5150\" y=\"-7.8\" font-family=\"Helvetica,sans-Serif\" font-size=\"14.00\">class = Not Default</text>\r\n",
       "</g>\r\n",
       "<!-- 60&#45;&gt;62 -->\r\n",
       "<g id=\"edge62\" class=\"edge\">\r\n",
       "<title>60&#45;&gt;62</title>\r\n",
       "<path fill=\"none\" stroke=\"black\" d=\"M5107.07,-103.73C5121.76,-93.92 5137.41,-83.46 5151.96,-73.75\"/>\r\n",
       "<polygon fill=\"black\" stroke=\"black\" points=\"5154.01,-76.59 5160.39,-68.13 5150.13,-70.77 5154.01,-76.59\"/>\r\n",
       "</g>\r\n",
       "</g>\r\n",
       "</svg>\r\n"
      ],
      "text/plain": [
       "<graphviz.files.Source at 0x19be256daf0>"
      ]
     },
     "execution_count": 33,
     "metadata": {},
     "output_type": "execute_result"
    }
   ],
   "source": [
    "graph = graphviz.Source(dot_data, format='png')\n",
    "graph"
   ]
  },
  {
   "cell_type": "code",
   "execution_count": 34,
   "id": "8fadda44",
   "metadata": {},
   "outputs": [
    {
     "data": {
      "text/plain": [
       "'dt_classifier.png'"
      ]
     },
     "execution_count": 34,
     "metadata": {},
     "output_type": "execute_result"
    }
   ],
   "source": [
    "graph.render('dt_classifier', view=True)"
   ]
  },
  {
   "cell_type": "code",
   "execution_count": 35,
   "id": "b3628248",
   "metadata": {},
   "outputs": [],
   "source": [
    "clf = tree.DecisionTreeClassifier(max_depth=3, random_state=42)"
   ]
  },
  {
   "cell_type": "code",
   "execution_count": 39,
   "id": "cdd8160f",
   "metadata": {},
   "outputs": [
    {
     "data": {
      "text/plain": [
       "GridSearchCV(estimator=DecisionTreeClassifier(max_depth=3, random_state=42),\n",
       "             param_grid={'max_depth': [2, 3, 4, 5, 6, 7]})"
      ]
     },
     "execution_count": 39,
     "metadata": {},
     "output_type": "execute_result"
    }
   ],
   "source": [
    "# mod = model_selection.GridSearchCV(clf, param_grid = {'max_depth':[2,3,4,5,6],\n",
    "#                                                      'max_features':['sqrt', 'log2'],\n",
    "#                                                      'min_samples_split':[0.05,0.10]})\n",
    "\n",
    "mod = model_selection.GridSearchCV(clf, param_grid = {'max_depth':[2,3,4,5,6,7]})\n",
    "\n",
    "mod.fit(X_train, y_train)"
   ]
  },
  {
   "cell_type": "code",
   "execution_count": 40,
   "id": "3d5a3576",
   "metadata": {},
   "outputs": [
    {
     "data": {
      "text/plain": [
       "DecisionTreeClassifier(max_depth=2, random_state=42)"
      ]
     },
     "execution_count": 40,
     "metadata": {},
     "output_type": "execute_result"
    }
   ],
   "source": [
    "mod.best_estimator_"
   ]
  },
  {
   "cell_type": "code",
   "execution_count": 41,
   "id": "f35ac922",
   "metadata": {},
   "outputs": [
    {
     "data": {
      "text/plain": [
       "0.6358188591775175"
      ]
     },
     "execution_count": 41,
     "metadata": {},
     "output_type": "execute_result"
    }
   ],
   "source": [
    "mod.best_score_"
   ]
  },
  {
   "cell_type": "code",
   "execution_count": 42,
   "id": "3ccfe541",
   "metadata": {},
   "outputs": [
    {
     "data": {
      "text/plain": [
       "0.6144890038809832"
      ]
     },
     "execution_count": 42,
     "metadata": {},
     "output_type": "execute_result"
    }
   ],
   "source": [
    "mod.score(X_test, y_test)"
   ]
  },
  {
   "cell_type": "code",
   "execution_count": null,
   "id": "d9f27253",
   "metadata": {},
   "outputs": [],
   "source": []
  },
  {
   "cell_type": "code",
   "execution_count": 43,
   "id": "44447124",
   "metadata": {},
   "outputs": [],
   "source": [
    "dat = pd.read_csv('dm.csv')"
   ]
  },
  {
   "cell_type": "code",
   "execution_count": 44,
   "id": "20ec3bc5",
   "metadata": {},
   "outputs": [
    {
     "data": {
      "text/html": [
       "<div>\n",
       "<style scoped>\n",
       "    .dataframe tbody tr th:only-of-type {\n",
       "        vertical-align: middle;\n",
       "    }\n",
       "\n",
       "    .dataframe tbody tr th {\n",
       "        vertical-align: top;\n",
       "    }\n",
       "\n",
       "    .dataframe thead th {\n",
       "        text-align: right;\n",
       "    }\n",
       "</style>\n",
       "<table border=\"1\" class=\"dataframe\">\n",
       "  <thead>\n",
       "    <tr style=\"text-align: right;\">\n",
       "      <th></th>\n",
       "      <th>Age</th>\n",
       "      <th>Gender</th>\n",
       "      <th>OwnHome</th>\n",
       "      <th>Married</th>\n",
       "      <th>Location</th>\n",
       "      <th>Salary</th>\n",
       "      <th>Children</th>\n",
       "      <th>History</th>\n",
       "      <th>Catalogs</th>\n",
       "      <th>AmountSpent</th>\n",
       "      <th>Cust_Id</th>\n",
       "    </tr>\n",
       "  </thead>\n",
       "  <tbody>\n",
       "    <tr>\n",
       "      <th>0</th>\n",
       "      <td>Old</td>\n",
       "      <td>Female</td>\n",
       "      <td>Own</td>\n",
       "      <td>Single</td>\n",
       "      <td>Far</td>\n",
       "      <td>47500</td>\n",
       "      <td>0</td>\n",
       "      <td>High</td>\n",
       "      <td>6</td>\n",
       "      <td>755</td>\n",
       "      <td>247</td>\n",
       "    </tr>\n",
       "    <tr>\n",
       "      <th>1</th>\n",
       "      <td>Middle</td>\n",
       "      <td>Male</td>\n",
       "      <td>Rent</td>\n",
       "      <td>Single</td>\n",
       "      <td>Close</td>\n",
       "      <td>63600</td>\n",
       "      <td>0</td>\n",
       "      <td>High</td>\n",
       "      <td>6</td>\n",
       "      <td>1318</td>\n",
       "      <td>127</td>\n",
       "    </tr>\n",
       "    <tr>\n",
       "      <th>2</th>\n",
       "      <td>Young</td>\n",
       "      <td>Female</td>\n",
       "      <td>Rent</td>\n",
       "      <td>Single</td>\n",
       "      <td>Close</td>\n",
       "      <td>13500</td>\n",
       "      <td>0</td>\n",
       "      <td>Low</td>\n",
       "      <td>18</td>\n",
       "      <td>296</td>\n",
       "      <td>479</td>\n",
       "    </tr>\n",
       "    <tr>\n",
       "      <th>3</th>\n",
       "      <td>Middle</td>\n",
       "      <td>Male</td>\n",
       "      <td>Own</td>\n",
       "      <td>Married</td>\n",
       "      <td>Close</td>\n",
       "      <td>85600</td>\n",
       "      <td>1</td>\n",
       "      <td>High</td>\n",
       "      <td>18</td>\n",
       "      <td>2436</td>\n",
       "      <td>475</td>\n",
       "    </tr>\n",
       "    <tr>\n",
       "      <th>4</th>\n",
       "      <td>Middle</td>\n",
       "      <td>Female</td>\n",
       "      <td>Own</td>\n",
       "      <td>Single</td>\n",
       "      <td>Close</td>\n",
       "      <td>68400</td>\n",
       "      <td>0</td>\n",
       "      <td>High</td>\n",
       "      <td>12</td>\n",
       "      <td>1304</td>\n",
       "      <td>151</td>\n",
       "    </tr>\n",
       "  </tbody>\n",
       "</table>\n",
       "</div>"
      ],
      "text/plain": [
       "      Age  Gender OwnHome  Married Location  Salary  Children History  \\\n",
       "0     Old  Female     Own   Single      Far   47500         0    High   \n",
       "1  Middle    Male    Rent   Single    Close   63600         0    High   \n",
       "2   Young  Female    Rent   Single    Close   13500         0     Low   \n",
       "3  Middle    Male     Own  Married    Close   85600         1    High   \n",
       "4  Middle  Female     Own   Single    Close   68400         0    High   \n",
       "\n",
       "   Catalogs  AmountSpent  Cust_Id  \n",
       "0         6          755      247  \n",
       "1         6         1318      127  \n",
       "2        18          296      479  \n",
       "3        18         2436      475  \n",
       "4        12         1304      151  "
      ]
     },
     "execution_count": 44,
     "metadata": {},
     "output_type": "execute_result"
    }
   ],
   "source": [
    "dat.head()"
   ]
  },
  {
   "cell_type": "code",
   "execution_count": 45,
   "id": "dfdff8ae",
   "metadata": {},
   "outputs": [],
   "source": [
    "X = dat.drop(['Cust_Id','AmountSpent'], axis=1)"
   ]
  },
  {
   "cell_type": "code",
   "execution_count": 46,
   "id": "d21617f1",
   "metadata": {},
   "outputs": [
    {
     "data": {
      "text/html": [
       "<div>\n",
       "<style scoped>\n",
       "    .dataframe tbody tr th:only-of-type {\n",
       "        vertical-align: middle;\n",
       "    }\n",
       "\n",
       "    .dataframe tbody tr th {\n",
       "        vertical-align: top;\n",
       "    }\n",
       "\n",
       "    .dataframe thead th {\n",
       "        text-align: right;\n",
       "    }\n",
       "</style>\n",
       "<table border=\"1\" class=\"dataframe\">\n",
       "  <thead>\n",
       "    <tr style=\"text-align: right;\">\n",
       "      <th></th>\n",
       "      <th>Age</th>\n",
       "      <th>Gender</th>\n",
       "      <th>OwnHome</th>\n",
       "      <th>Married</th>\n",
       "      <th>Location</th>\n",
       "      <th>Salary</th>\n",
       "      <th>Children</th>\n",
       "      <th>History</th>\n",
       "      <th>Catalogs</th>\n",
       "    </tr>\n",
       "  </thead>\n",
       "  <tbody>\n",
       "    <tr>\n",
       "      <th>0</th>\n",
       "      <td>Old</td>\n",
       "      <td>Female</td>\n",
       "      <td>Own</td>\n",
       "      <td>Single</td>\n",
       "      <td>Far</td>\n",
       "      <td>47500</td>\n",
       "      <td>0</td>\n",
       "      <td>High</td>\n",
       "      <td>6</td>\n",
       "    </tr>\n",
       "    <tr>\n",
       "      <th>1</th>\n",
       "      <td>Middle</td>\n",
       "      <td>Male</td>\n",
       "      <td>Rent</td>\n",
       "      <td>Single</td>\n",
       "      <td>Close</td>\n",
       "      <td>63600</td>\n",
       "      <td>0</td>\n",
       "      <td>High</td>\n",
       "      <td>6</td>\n",
       "    </tr>\n",
       "    <tr>\n",
       "      <th>2</th>\n",
       "      <td>Young</td>\n",
       "      <td>Female</td>\n",
       "      <td>Rent</td>\n",
       "      <td>Single</td>\n",
       "      <td>Close</td>\n",
       "      <td>13500</td>\n",
       "      <td>0</td>\n",
       "      <td>Low</td>\n",
       "      <td>18</td>\n",
       "    </tr>\n",
       "    <tr>\n",
       "      <th>3</th>\n",
       "      <td>Middle</td>\n",
       "      <td>Male</td>\n",
       "      <td>Own</td>\n",
       "      <td>Married</td>\n",
       "      <td>Close</td>\n",
       "      <td>85600</td>\n",
       "      <td>1</td>\n",
       "      <td>High</td>\n",
       "      <td>18</td>\n",
       "    </tr>\n",
       "    <tr>\n",
       "      <th>4</th>\n",
       "      <td>Middle</td>\n",
       "      <td>Female</td>\n",
       "      <td>Own</td>\n",
       "      <td>Single</td>\n",
       "      <td>Close</td>\n",
       "      <td>68400</td>\n",
       "      <td>0</td>\n",
       "      <td>High</td>\n",
       "      <td>12</td>\n",
       "    </tr>\n",
       "  </tbody>\n",
       "</table>\n",
       "</div>"
      ],
      "text/plain": [
       "      Age  Gender OwnHome  Married Location  Salary  Children History  \\\n",
       "0     Old  Female     Own   Single      Far   47500         0    High   \n",
       "1  Middle    Male    Rent   Single    Close   63600         0    High   \n",
       "2   Young  Female    Rent   Single    Close   13500         0     Low   \n",
       "3  Middle    Male     Own  Married    Close   85600         1    High   \n",
       "4  Middle  Female     Own   Single    Close   68400         0    High   \n",
       "\n",
       "   Catalogs  \n",
       "0         6  \n",
       "1         6  \n",
       "2        18  \n",
       "3        18  \n",
       "4        12  "
      ]
     },
     "execution_count": 46,
     "metadata": {},
     "output_type": "execute_result"
    }
   ],
   "source": [
    "X.head()"
   ]
  },
  {
   "cell_type": "code",
   "execution_count": 48,
   "id": "161ea9e5",
   "metadata": {},
   "outputs": [],
   "source": [
    "y = dat['AmountSpent']"
   ]
  },
  {
   "cell_type": "code",
   "execution_count": 49,
   "id": "81ae5044",
   "metadata": {},
   "outputs": [
    {
     "data": {
      "text/plain": [
       "0     755\n",
       "1    1318\n",
       "2     296\n",
       "3    2436\n",
       "4    1304\n",
       "Name: AmountSpent, dtype: int64"
      ]
     },
     "execution_count": 49,
     "metadata": {},
     "output_type": "execute_result"
    }
   ],
   "source": [
    "y.head()"
   ]
  },
  {
   "cell_type": "code",
   "execution_count": 50,
   "id": "ea8d6c50",
   "metadata": {},
   "outputs": [],
   "source": [
    "X = pd.get_dummies(X)"
   ]
  },
  {
   "cell_type": "code",
   "execution_count": 51,
   "id": "9c338af4",
   "metadata": {},
   "outputs": [
    {
     "data": {
      "text/html": [
       "<div>\n",
       "<style scoped>\n",
       "    .dataframe tbody tr th:only-of-type {\n",
       "        vertical-align: middle;\n",
       "    }\n",
       "\n",
       "    .dataframe tbody tr th {\n",
       "        vertical-align: top;\n",
       "    }\n",
       "\n",
       "    .dataframe thead th {\n",
       "        text-align: right;\n",
       "    }\n",
       "</style>\n",
       "<table border=\"1\" class=\"dataframe\">\n",
       "  <thead>\n",
       "    <tr style=\"text-align: right;\">\n",
       "      <th></th>\n",
       "      <th>Salary</th>\n",
       "      <th>Children</th>\n",
       "      <th>Catalogs</th>\n",
       "      <th>Age_Middle</th>\n",
       "      <th>Age_Old</th>\n",
       "      <th>Age_Young</th>\n",
       "      <th>Gender_Female</th>\n",
       "      <th>Gender_Male</th>\n",
       "      <th>OwnHome_Own</th>\n",
       "      <th>OwnHome_Rent</th>\n",
       "      <th>Married_Married</th>\n",
       "      <th>Married_Single</th>\n",
       "      <th>Location_Close</th>\n",
       "      <th>Location_Far</th>\n",
       "      <th>History_High</th>\n",
       "      <th>History_Low</th>\n",
       "      <th>History_Medium</th>\n",
       "    </tr>\n",
       "  </thead>\n",
       "  <tbody>\n",
       "    <tr>\n",
       "      <th>0</th>\n",
       "      <td>47500</td>\n",
       "      <td>0</td>\n",
       "      <td>6</td>\n",
       "      <td>0</td>\n",
       "      <td>1</td>\n",
       "      <td>0</td>\n",
       "      <td>1</td>\n",
       "      <td>0</td>\n",
       "      <td>1</td>\n",
       "      <td>0</td>\n",
       "      <td>0</td>\n",
       "      <td>1</td>\n",
       "      <td>0</td>\n",
       "      <td>1</td>\n",
       "      <td>1</td>\n",
       "      <td>0</td>\n",
       "      <td>0</td>\n",
       "    </tr>\n",
       "    <tr>\n",
       "      <th>1</th>\n",
       "      <td>63600</td>\n",
       "      <td>0</td>\n",
       "      <td>6</td>\n",
       "      <td>1</td>\n",
       "      <td>0</td>\n",
       "      <td>0</td>\n",
       "      <td>0</td>\n",
       "      <td>1</td>\n",
       "      <td>0</td>\n",
       "      <td>1</td>\n",
       "      <td>0</td>\n",
       "      <td>1</td>\n",
       "      <td>1</td>\n",
       "      <td>0</td>\n",
       "      <td>1</td>\n",
       "      <td>0</td>\n",
       "      <td>0</td>\n",
       "    </tr>\n",
       "    <tr>\n",
       "      <th>2</th>\n",
       "      <td>13500</td>\n",
       "      <td>0</td>\n",
       "      <td>18</td>\n",
       "      <td>0</td>\n",
       "      <td>0</td>\n",
       "      <td>1</td>\n",
       "      <td>1</td>\n",
       "      <td>0</td>\n",
       "      <td>0</td>\n",
       "      <td>1</td>\n",
       "      <td>0</td>\n",
       "      <td>1</td>\n",
       "      <td>1</td>\n",
       "      <td>0</td>\n",
       "      <td>0</td>\n",
       "      <td>1</td>\n",
       "      <td>0</td>\n",
       "    </tr>\n",
       "    <tr>\n",
       "      <th>3</th>\n",
       "      <td>85600</td>\n",
       "      <td>1</td>\n",
       "      <td>18</td>\n",
       "      <td>1</td>\n",
       "      <td>0</td>\n",
       "      <td>0</td>\n",
       "      <td>0</td>\n",
       "      <td>1</td>\n",
       "      <td>1</td>\n",
       "      <td>0</td>\n",
       "      <td>1</td>\n",
       "      <td>0</td>\n",
       "      <td>1</td>\n",
       "      <td>0</td>\n",
       "      <td>1</td>\n",
       "      <td>0</td>\n",
       "      <td>0</td>\n",
       "    </tr>\n",
       "    <tr>\n",
       "      <th>4</th>\n",
       "      <td>68400</td>\n",
       "      <td>0</td>\n",
       "      <td>12</td>\n",
       "      <td>1</td>\n",
       "      <td>0</td>\n",
       "      <td>0</td>\n",
       "      <td>1</td>\n",
       "      <td>0</td>\n",
       "      <td>1</td>\n",
       "      <td>0</td>\n",
       "      <td>0</td>\n",
       "      <td>1</td>\n",
       "      <td>1</td>\n",
       "      <td>0</td>\n",
       "      <td>1</td>\n",
       "      <td>0</td>\n",
       "      <td>0</td>\n",
       "    </tr>\n",
       "  </tbody>\n",
       "</table>\n",
       "</div>"
      ],
      "text/plain": [
       "   Salary  Children  Catalogs  Age_Middle  Age_Old  Age_Young  Gender_Female  \\\n",
       "0   47500         0         6           0        1          0              1   \n",
       "1   63600         0         6           1        0          0              0   \n",
       "2   13500         0        18           0        0          1              1   \n",
       "3   85600         1        18           1        0          0              0   \n",
       "4   68400         0        12           1        0          0              1   \n",
       "\n",
       "   Gender_Male  OwnHome_Own  OwnHome_Rent  Married_Married  Married_Single  \\\n",
       "0            0            1             0                0               1   \n",
       "1            1            0             1                0               1   \n",
       "2            0            0             1                0               1   \n",
       "3            1            1             0                1               0   \n",
       "4            0            1             0                0               1   \n",
       "\n",
       "   Location_Close  Location_Far  History_High  History_Low  History_Medium  \n",
       "0               0             1             1            0               0  \n",
       "1               1             0             1            0               0  \n",
       "2               1             0             0            1               0  \n",
       "3               1             0             1            0               0  \n",
       "4               1             0             1            0               0  "
      ]
     },
     "execution_count": 51,
     "metadata": {},
     "output_type": "execute_result"
    }
   ],
   "source": [
    "X.head()"
   ]
  },
  {
   "cell_type": "code",
   "execution_count": 52,
   "id": "8a0db0dd",
   "metadata": {},
   "outputs": [
    {
     "data": {
      "text/plain": [
       "Index(['Salary', 'Children', 'Catalogs', 'Age_Middle', 'Age_Old', 'Age_Young',\n",
       "       'Gender_Female', 'Gender_Male', 'OwnHome_Own', 'OwnHome_Rent',\n",
       "       'Married_Married', 'Married_Single', 'Location_Close', 'Location_Far',\n",
       "       'History_High', 'History_Low', 'History_Medium'],\n",
       "      dtype='object')"
      ]
     },
     "execution_count": 52,
     "metadata": {},
     "output_type": "execute_result"
    }
   ],
   "source": [
    "X.columns"
   ]
  },
  {
   "cell_type": "code",
   "execution_count": 53,
   "id": "b8a0434d",
   "metadata": {},
   "outputs": [],
   "source": [
    "X = X.drop(['Gender_Male','OwnHome_Own','Married_Single','Location_Far'], axis=1)"
   ]
  },
  {
   "cell_type": "code",
   "execution_count": 54,
   "id": "7e1cac0e",
   "metadata": {},
   "outputs": [
    {
     "data": {
      "text/html": [
       "<div>\n",
       "<style scoped>\n",
       "    .dataframe tbody tr th:only-of-type {\n",
       "        vertical-align: middle;\n",
       "    }\n",
       "\n",
       "    .dataframe tbody tr th {\n",
       "        vertical-align: top;\n",
       "    }\n",
       "\n",
       "    .dataframe thead th {\n",
       "        text-align: right;\n",
       "    }\n",
       "</style>\n",
       "<table border=\"1\" class=\"dataframe\">\n",
       "  <thead>\n",
       "    <tr style=\"text-align: right;\">\n",
       "      <th></th>\n",
       "      <th>Salary</th>\n",
       "      <th>Children</th>\n",
       "      <th>Catalogs</th>\n",
       "      <th>Age_Middle</th>\n",
       "      <th>Age_Old</th>\n",
       "      <th>Age_Young</th>\n",
       "      <th>Gender_Female</th>\n",
       "      <th>OwnHome_Rent</th>\n",
       "      <th>Married_Married</th>\n",
       "      <th>Location_Close</th>\n",
       "      <th>History_High</th>\n",
       "      <th>History_Low</th>\n",
       "      <th>History_Medium</th>\n",
       "    </tr>\n",
       "  </thead>\n",
       "  <tbody>\n",
       "    <tr>\n",
       "      <th>0</th>\n",
       "      <td>47500</td>\n",
       "      <td>0</td>\n",
       "      <td>6</td>\n",
       "      <td>0</td>\n",
       "      <td>1</td>\n",
       "      <td>0</td>\n",
       "      <td>1</td>\n",
       "      <td>0</td>\n",
       "      <td>0</td>\n",
       "      <td>0</td>\n",
       "      <td>1</td>\n",
       "      <td>0</td>\n",
       "      <td>0</td>\n",
       "    </tr>\n",
       "    <tr>\n",
       "      <th>1</th>\n",
       "      <td>63600</td>\n",
       "      <td>0</td>\n",
       "      <td>6</td>\n",
       "      <td>1</td>\n",
       "      <td>0</td>\n",
       "      <td>0</td>\n",
       "      <td>0</td>\n",
       "      <td>1</td>\n",
       "      <td>0</td>\n",
       "      <td>1</td>\n",
       "      <td>1</td>\n",
       "      <td>0</td>\n",
       "      <td>0</td>\n",
       "    </tr>\n",
       "    <tr>\n",
       "      <th>2</th>\n",
       "      <td>13500</td>\n",
       "      <td>0</td>\n",
       "      <td>18</td>\n",
       "      <td>0</td>\n",
       "      <td>0</td>\n",
       "      <td>1</td>\n",
       "      <td>1</td>\n",
       "      <td>1</td>\n",
       "      <td>0</td>\n",
       "      <td>1</td>\n",
       "      <td>0</td>\n",
       "      <td>1</td>\n",
       "      <td>0</td>\n",
       "    </tr>\n",
       "    <tr>\n",
       "      <th>3</th>\n",
       "      <td>85600</td>\n",
       "      <td>1</td>\n",
       "      <td>18</td>\n",
       "      <td>1</td>\n",
       "      <td>0</td>\n",
       "      <td>0</td>\n",
       "      <td>0</td>\n",
       "      <td>0</td>\n",
       "      <td>1</td>\n",
       "      <td>1</td>\n",
       "      <td>1</td>\n",
       "      <td>0</td>\n",
       "      <td>0</td>\n",
       "    </tr>\n",
       "    <tr>\n",
       "      <th>4</th>\n",
       "      <td>68400</td>\n",
       "      <td>0</td>\n",
       "      <td>12</td>\n",
       "      <td>1</td>\n",
       "      <td>0</td>\n",
       "      <td>0</td>\n",
       "      <td>1</td>\n",
       "      <td>0</td>\n",
       "      <td>0</td>\n",
       "      <td>1</td>\n",
       "      <td>1</td>\n",
       "      <td>0</td>\n",
       "      <td>0</td>\n",
       "    </tr>\n",
       "  </tbody>\n",
       "</table>\n",
       "</div>"
      ],
      "text/plain": [
       "   Salary  Children  Catalogs  Age_Middle  Age_Old  Age_Young  Gender_Female  \\\n",
       "0   47500         0         6           0        1          0              1   \n",
       "1   63600         0         6           1        0          0              0   \n",
       "2   13500         0        18           0        0          1              1   \n",
       "3   85600         1        18           1        0          0              0   \n",
       "4   68400         0        12           1        0          0              1   \n",
       "\n",
       "   OwnHome_Rent  Married_Married  Location_Close  History_High  History_Low  \\\n",
       "0             0                0               0             1            0   \n",
       "1             1                0               1             1            0   \n",
       "2             1                0               1             0            1   \n",
       "3             0                1               1             1            0   \n",
       "4             0                0               1             1            0   \n",
       "\n",
       "   History_Medium  \n",
       "0               0  \n",
       "1               0  \n",
       "2               0  \n",
       "3               0  \n",
       "4               0  "
      ]
     },
     "execution_count": 54,
     "metadata": {},
     "output_type": "execute_result"
    }
   ],
   "source": [
    "X.head()"
   ]
  },
  {
   "cell_type": "code",
   "execution_count": 55,
   "id": "a1e6eaa0",
   "metadata": {},
   "outputs": [],
   "source": [
    "X_train, X_test, y_train, y_test = model_selection.train_test_split(X, y, test_size=0.2, random_state=200)"
   ]
  },
  {
   "cell_type": "code",
   "execution_count": 82,
   "id": "b65dbbec",
   "metadata": {},
   "outputs": [
    {
     "data": {
      "text/plain": [
       "DecisionTreeRegressor(max_depth=4)"
      ]
     },
     "execution_count": 82,
     "metadata": {},
     "output_type": "execute_result"
    }
   ],
   "source": [
    "reg = tree.DecisionTreeRegressor(max_depth=4)\n",
    "reg.fit(X_train,y_train)"
   ]
  },
  {
   "cell_type": "code",
   "execution_count": 83,
   "id": "e262cbae",
   "metadata": {},
   "outputs": [
    {
     "data": {
      "text/plain": [
       "0.6634882283053326"
      ]
     },
     "execution_count": 83,
     "metadata": {},
     "output_type": "execute_result"
    }
   ],
   "source": [
    "reg.score(X_test, y_test)"
   ]
  },
  {
   "cell_type": "code",
   "execution_count": 84,
   "id": "5f826bda",
   "metadata": {},
   "outputs": [
    {
     "data": {
      "text/plain": [
       "array([0.65313755, 0.        , 0.16573856, 0.        , 0.        ,\n",
       "       0.        , 0.        , 0.        , 0.        , 0.        ,\n",
       "       0.03270813, 0.06257607, 0.08583969])"
      ]
     },
     "execution_count": 84,
     "metadata": {},
     "output_type": "execute_result"
    }
   ],
   "source": [
    "reg.feature_importances_"
   ]
  },
  {
   "cell_type": "code",
   "execution_count": 85,
   "id": "76378b16",
   "metadata": {},
   "outputs": [
    {
     "data": {
      "text/plain": [
       "Salary            0.653138\n",
       "Catalogs          0.165739\n",
       "History_Medium    0.085840\n",
       "History_Low       0.062576\n",
       "History_High      0.032708\n",
       "dtype: float64"
      ]
     },
     "execution_count": 85,
     "metadata": {},
     "output_type": "execute_result"
    }
   ],
   "source": [
    "pd.Series(reg.feature_importances_, index=X.columns).sort_values(ascending=False).head(5)"
   ]
  },
  {
   "cell_type": "code",
   "execution_count": 87,
   "id": "5212aabc",
   "metadata": {},
   "outputs": [],
   "source": [
    "dot_data = tree.export_graphviz(reg, out_file=None,\n",
    "                               feature_names=X.columns,\n",
    "                               filled=True, rounded=True,\n",
    "                               special_characters=True, proportion=True)"
   ]
  },
  {
   "cell_type": "code",
   "execution_count": 88,
   "id": "bd9f71e4",
   "metadata": {},
   "outputs": [
    {
     "data": {
      "image/svg+xml": [
       "<?xml version=\"1.0\" encoding=\"UTF-8\" standalone=\"no\"?>\r\n",
       "<!DOCTYPE svg PUBLIC \"-//W3C//DTD SVG 1.1//EN\"\r\n",
       " \"http://www.w3.org/Graphics/SVG/1.1/DTD/svg11.dtd\">\r\n",
       "<!-- Generated by graphviz version 2.49.2 (20211016.1639)\r\n",
       " -->\r\n",
       "<!-- Title: Tree Pages: 1 -->\r\n",
       "<svg width=\"2368pt\" height=\"477pt\"\r\n",
       " viewBox=\"0.00 0.00 2367.50 477.00\" xmlns=\"http://www.w3.org/2000/svg\" xmlns:xlink=\"http://www.w3.org/1999/xlink\">\r\n",
       "<g id=\"graph0\" class=\"graph\" transform=\"scale(1 1) rotate(0) translate(4 473)\">\r\n",
       "<title>Tree</title>\r\n",
       "<polygon fill=\"white\" stroke=\"transparent\" points=\"-4,4 -4,-473 2363.5,-473 2363.5,4 -4,4\"/>\r\n",
       "<!-- 0 -->\r\n",
       "<g id=\"node1\" class=\"node\">\r\n",
       "<title>0</title>\r\n",
       "<path fill=\"#f7d6bf\" stroke=\"black\" d=\"M1230,-469C1230,-469 1116,-469 1116,-469 1110,-469 1104,-463 1104,-457 1104,-457 1104,-413 1104,-413 1104,-407 1110,-401 1116,-401 1116,-401 1230,-401 1230,-401 1236,-401 1242,-407 1242,-413 1242,-413 1242,-457 1242,-457 1242,-463 1236,-469 1230,-469\"/>\r\n",
       "<text text-anchor=\"start\" x=\"1119\" y=\"-453.8\" font-family=\"Helvetica,sans-Serif\" font-size=\"14.00\">Salary ≤ 58650.0</text>\r\n",
       "<text text-anchor=\"start\" x=\"1112\" y=\"-438.8\" font-family=\"Helvetica,sans-Serif\" font-size=\"14.00\">mse = 895015.685</text>\r\n",
       "<text text-anchor=\"start\" x=\"1113\" y=\"-423.8\" font-family=\"Helvetica,sans-Serif\" font-size=\"14.00\">samples = 100.0%</text>\r\n",
       "<text text-anchor=\"start\" x=\"1117.5\" y=\"-408.8\" font-family=\"Helvetica,sans-Serif\" font-size=\"14.00\">value = 1227.126</text>\r\n",
       "</g>\r\n",
       "<!-- 1 -->\r\n",
       "<g id=\"node2\" class=\"node\">\r\n",
       "<title>1</title>\r\n",
       "<path fill=\"#fbebdf\" stroke=\"black\" d=\"M933,-365C933,-365 819,-365 819,-365 813,-365 807,-359 807,-353 807,-353 807,-309 807,-309 807,-303 813,-297 819,-297 819,-297 933,-297 933,-297 939,-297 945,-303 945,-309 945,-309 945,-353 945,-353 945,-359 939,-365 933,-365\"/>\r\n",
       "<text text-anchor=\"start\" x=\"822\" y=\"-349.8\" font-family=\"Helvetica,sans-Serif\" font-size=\"14.00\">Salary ≤ 32650.0</text>\r\n",
       "<text text-anchor=\"start\" x=\"815\" y=\"-334.8\" font-family=\"Helvetica,sans-Serif\" font-size=\"14.00\">mse = 247665.232</text>\r\n",
       "<text text-anchor=\"start\" x=\"820\" y=\"-319.8\" font-family=\"Helvetica,sans-Serif\" font-size=\"14.00\">samples = 55.4%</text>\r\n",
       "<text text-anchor=\"start\" x=\"824.5\" y=\"-304.8\" font-family=\"Helvetica,sans-Serif\" font-size=\"14.00\">value = 713.756</text>\r\n",
       "</g>\r\n",
       "<!-- 0&#45;&gt;1 -->\r\n",
       "<g id=\"edge1\" class=\"edge\">\r\n",
       "<title>0&#45;&gt;1</title>\r\n",
       "<path fill=\"none\" stroke=\"black\" d=\"M1103.74,-410.21C1059.17,-394.91 1001.14,-374.98 954.81,-359.07\"/>\r\n",
       "<polygon fill=\"black\" stroke=\"black\" points=\"955.71,-355.67 945.11,-355.74 953.43,-362.29 955.71,-355.67\"/>\r\n",
       "<text text-anchor=\"middle\" x=\"956.09\" y=\"-374.5\" font-family=\"Helvetica,sans-Serif\" font-size=\"14.00\">True</text>\r\n",
       "</g>\r\n",
       "<!-- 16 -->\r\n",
       "<g id=\"node17\" class=\"node\">\r\n",
       "<title>16</title>\r\n",
       "<path fill=\"#f1bd97\" stroke=\"black\" d=\"M1532,-365C1532,-365 1418,-365 1418,-365 1412,-365 1406,-359 1406,-353 1406,-353 1406,-309 1406,-309 1406,-303 1412,-297 1418,-297 1418,-297 1532,-297 1532,-297 1538,-297 1544,-303 1544,-309 1544,-309 1544,-353 1544,-353 1544,-359 1538,-365 1532,-365\"/>\r\n",
       "<text text-anchor=\"start\" x=\"1425\" y=\"-349.8\" font-family=\"Helvetica,sans-Serif\" font-size=\"14.00\">Catalogs ≤ 15.0</text>\r\n",
       "<text text-anchor=\"start\" x=\"1414\" y=\"-334.8\" font-family=\"Helvetica,sans-Serif\" font-size=\"14.00\">mse = 965455.051</text>\r\n",
       "<text text-anchor=\"start\" x=\"1419\" y=\"-319.8\" font-family=\"Helvetica,sans-Serif\" font-size=\"14.00\">samples = 44.6%</text>\r\n",
       "<text text-anchor=\"start\" x=\"1419.5\" y=\"-304.8\" font-family=\"Helvetica,sans-Serif\" font-size=\"14.00\">value = 1864.165</text>\r\n",
       "</g>\r\n",
       "<!-- 0&#45;&gt;16 -->\r\n",
       "<g id=\"edge16\" class=\"edge\">\r\n",
       "<title>0&#45;&gt;16</title>\r\n",
       "<path fill=\"none\" stroke=\"black\" d=\"M1242.28,-410.6C1288.15,-395.11 1348.4,-374.76 1396.1,-358.65\"/>\r\n",
       "<polygon fill=\"black\" stroke=\"black\" points=\"1397.42,-361.9 1405.78,-355.38 1395.18,-355.26 1397.42,-361.9\"/>\r\n",
       "<text text-anchor=\"middle\" x=\"1394.68\" y=\"-374.08\" font-family=\"Helvetica,sans-Serif\" font-size=\"14.00\">False</text>\r\n",
       "</g>\r\n",
       "<!-- 2 -->\r\n",
       "<g id=\"node3\" class=\"node\">\r\n",
       "<title>2</title>\r\n",
       "<path fill=\"#fdf8f3\" stroke=\"black\" d=\"M480,-261C480,-261 374,-261 374,-261 368,-261 362,-255 362,-249 362,-249 362,-205 362,-205 362,-199 368,-193 374,-193 374,-193 480,-193 480,-193 486,-193 492,-199 492,-205 492,-205 492,-249 492,-249 492,-255 486,-261 480,-261\"/>\r\n",
       "<text text-anchor=\"start\" x=\"373\" y=\"-245.8\" font-family=\"Helvetica,sans-Serif\" font-size=\"14.00\">Salary ≤ 19350.0</text>\r\n",
       "<text text-anchor=\"start\" x=\"370\" y=\"-230.8\" font-family=\"Helvetica,sans-Serif\" font-size=\"14.00\">mse = 47704.332</text>\r\n",
       "<text text-anchor=\"start\" x=\"371\" y=\"-215.8\" font-family=\"Helvetica,sans-Serif\" font-size=\"14.00\">samples = 26.4%</text>\r\n",
       "<text text-anchor=\"start\" x=\"375.5\" y=\"-200.8\" font-family=\"Helvetica,sans-Serif\" font-size=\"14.00\">value = 393.389</text>\r\n",
       "</g>\r\n",
       "<!-- 1&#45;&gt;2 -->\r\n",
       "<g id=\"edge2\" class=\"edge\">\r\n",
       "<title>1&#45;&gt;2</title>\r\n",
       "<path fill=\"none\" stroke=\"black\" d=\"M806.83,-314.29C724.36,-295.55 587.06,-264.36 502.08,-245.06\"/>\r\n",
       "<polygon fill=\"black\" stroke=\"black\" points=\"502.76,-241.62 492.24,-242.82 501.21,-248.45 502.76,-241.62\"/>\r\n",
       "</g>\r\n",
       "<!-- 9 -->\r\n",
       "<g id=\"node10\" class=\"node\">\r\n",
       "<title>9</title>\r\n",
       "<path fill=\"#f8dfcd\" stroke=\"black\" d=\"M933,-261C933,-261 819,-261 819,-261 813,-261 807,-255 807,-249 807,-249 807,-205 807,-205 807,-199 813,-193 819,-193 819,-193 933,-193 933,-193 939,-193 945,-199 945,-205 945,-205 945,-249 945,-249 945,-255 939,-261 933,-261\"/>\r\n",
       "<text text-anchor=\"start\" x=\"818\" y=\"-245.8\" font-family=\"Helvetica,sans-Serif\" font-size=\"14.00\">History_High ≤ 0.5</text>\r\n",
       "<text text-anchor=\"start\" x=\"815\" y=\"-230.8\" font-family=\"Helvetica,sans-Serif\" font-size=\"14.00\">mse = 251285.334</text>\r\n",
       "<text text-anchor=\"start\" x=\"820\" y=\"-215.8\" font-family=\"Helvetica,sans-Serif\" font-size=\"14.00\">samples = 29.0%</text>\r\n",
       "<text text-anchor=\"start\" x=\"820.5\" y=\"-200.8\" font-family=\"Helvetica,sans-Serif\" font-size=\"14.00\">value = 1005.125</text>\r\n",
       "</g>\r\n",
       "<!-- 1&#45;&gt;9 -->\r\n",
       "<g id=\"edge9\" class=\"edge\">\r\n",
       "<title>1&#45;&gt;9</title>\r\n",
       "<path fill=\"none\" stroke=\"black\" d=\"M876,-296.88C876,-288.78 876,-279.98 876,-271.47\"/>\r\n",
       "<polygon fill=\"black\" stroke=\"black\" points=\"879.5,-271.3 876,-261.3 872.5,-271.3 879.5,-271.3\"/>\r\n",
       "</g>\r\n",
       "<!-- 3 -->\r\n",
       "<g id=\"node4\" class=\"node\">\r\n",
       "<title>3</title>\r\n",
       "<path fill=\"#fefbf9\" stroke=\"black\" d=\"M258,-157C258,-157 152,-157 152,-157 146,-157 140,-151 140,-145 140,-145 140,-101 140,-101 140,-95 146,-89 152,-89 152,-89 258,-89 258,-89 264,-89 270,-95 270,-101 270,-101 270,-145 270,-145 270,-151 264,-157 258,-157\"/>\r\n",
       "<text text-anchor=\"start\" x=\"159\" y=\"-141.8\" font-family=\"Helvetica,sans-Serif\" font-size=\"14.00\">Catalogs ≤ 9.0</text>\r\n",
       "<text text-anchor=\"start\" x=\"148\" y=\"-126.8\" font-family=\"Helvetica,sans-Serif\" font-size=\"14.00\">mse = 21561.911</text>\r\n",
       "<text text-anchor=\"start\" x=\"149\" y=\"-111.8\" font-family=\"Helvetica,sans-Serif\" font-size=\"14.00\">samples = 14.2%</text>\r\n",
       "<text text-anchor=\"start\" x=\"153.5\" y=\"-96.8\" font-family=\"Helvetica,sans-Serif\" font-size=\"14.00\">value = 297.965</text>\r\n",
       "</g>\r\n",
       "<!-- 2&#45;&gt;3 -->\r\n",
       "<g id=\"edge3\" class=\"edge\">\r\n",
       "<title>2&#45;&gt;3</title>\r\n",
       "<path fill=\"none\" stroke=\"black\" d=\"M361.89,-196.09C336.03,-184.2 306.13,-170.46 279.41,-158.19\"/>\r\n",
       "<polygon fill=\"black\" stroke=\"black\" points=\"280.65,-154.91 270.11,-153.91 277.73,-161.27 280.65,-154.91\"/>\r\n",
       "</g>\r\n",
       "<!-- 6 -->\r\n",
       "<g id=\"node7\" class=\"node\">\r\n",
       "<title>6</title>\r\n",
       "<path fill=\"#fdf3ec\" stroke=\"black\" d=\"M480,-157C480,-157 374,-157 374,-157 368,-157 362,-151 362,-145 362,-145 362,-101 362,-101 362,-95 368,-89 374,-89 374,-89 480,-89 480,-89 486,-89 492,-95 492,-101 492,-101 492,-145 492,-145 492,-151 486,-157 480,-157\"/>\r\n",
       "<text text-anchor=\"start\" x=\"381\" y=\"-141.8\" font-family=\"Helvetica,sans-Serif\" font-size=\"14.00\">Catalogs ≤ 9.0</text>\r\n",
       "<text text-anchor=\"start\" x=\"370\" y=\"-126.8\" font-family=\"Helvetica,sans-Serif\" font-size=\"14.00\">mse = 55149.836</text>\r\n",
       "<text text-anchor=\"start\" x=\"371\" y=\"-111.8\" font-family=\"Helvetica,sans-Serif\" font-size=\"14.00\">samples = 12.1%</text>\r\n",
       "<text text-anchor=\"start\" x=\"375.5\" y=\"-96.8\" font-family=\"Helvetica,sans-Serif\" font-size=\"14.00\">value = 505.536</text>\r\n",
       "</g>\r\n",
       "<!-- 2&#45;&gt;6 -->\r\n",
       "<g id=\"edge6\" class=\"edge\">\r\n",
       "<title>2&#45;&gt;6</title>\r\n",
       "<path fill=\"none\" stroke=\"black\" d=\"M427,-192.88C427,-184.78 427,-175.98 427,-167.47\"/>\r\n",
       "<polygon fill=\"black\" stroke=\"black\" points=\"430.5,-167.3 427,-157.3 423.5,-167.3 430.5,-167.3\"/>\r\n",
       "</g>\r\n",
       "<!-- 4 -->\r\n",
       "<g id=\"node5\" class=\"node\">\r\n",
       "<title>4</title>\r\n",
       "<path fill=\"#ffffff\" stroke=\"black\" d=\"M110,-53C110,-53 12,-53 12,-53 6,-53 0,-47 0,-41 0,-41 0,-12 0,-12 0,-6 6,0 12,0 12,0 110,0 110,0 116,0 122,-6 122,-12 122,-12 122,-41 122,-41 122,-47 116,-53 110,-53\"/>\r\n",
       "<text text-anchor=\"start\" x=\"8\" y=\"-37.8\" font-family=\"Helvetica,sans-Serif\" font-size=\"14.00\">mse = 7782.139</text>\r\n",
       "<text text-anchor=\"start\" x=\"9.5\" y=\"-22.8\" font-family=\"Helvetica,sans-Serif\" font-size=\"14.00\">samples = 6.0%</text>\r\n",
       "<text text-anchor=\"start\" x=\"9.5\" y=\"-7.8\" font-family=\"Helvetica,sans-Serif\" font-size=\"14.00\">value = 205.833</text>\r\n",
       "</g>\r\n",
       "<!-- 3&#45;&gt;4 -->\r\n",
       "<g id=\"edge4\" class=\"edge\">\r\n",
       "<title>3&#45;&gt;4</title>\r\n",
       "<path fill=\"none\" stroke=\"black\" d=\"M154.64,-88.95C139.72,-79.16 123.44,-68.48 108.7,-58.8\"/>\r\n",
       "<polygon fill=\"black\" stroke=\"black\" points=\"110.5,-55.8 100.22,-53.24 106.66,-61.65 110.5,-55.8\"/>\r\n",
       "</g>\r\n",
       "<!-- 5 -->\r\n",
       "<g id=\"node6\" class=\"node\">\r\n",
       "<title>5</title>\r\n",
       "<path fill=\"#fef9f5\" stroke=\"black\" d=\"M258,-53C258,-53 152,-53 152,-53 146,-53 140,-47 140,-41 140,-41 140,-12 140,-12 140,-6 146,0 152,0 152,0 258,0 258,0 264,0 270,-6 270,-12 270,-12 270,-41 270,-41 270,-47 264,-53 258,-53\"/>\r\n",
       "<text text-anchor=\"start\" x=\"148\" y=\"-37.8\" font-family=\"Helvetica,sans-Serif\" font-size=\"14.00\">mse = 20920.666</text>\r\n",
       "<text text-anchor=\"start\" x=\"153.5\" y=\"-22.8\" font-family=\"Helvetica,sans-Serif\" font-size=\"14.00\">samples = 8.2%</text>\r\n",
       "<text text-anchor=\"start\" x=\"158\" y=\"-7.8\" font-family=\"Helvetica,sans-Serif\" font-size=\"14.00\">value = 364.97</text>\r\n",
       "</g>\r\n",
       "<!-- 3&#45;&gt;5 -->\r\n",
       "<g id=\"edge5\" class=\"edge\">\r\n",
       "<title>3&#45;&gt;5</title>\r\n",
       "<path fill=\"none\" stroke=\"black\" d=\"M205,-88.95C205,-80.72 205,-71.85 205,-63.48\"/>\r\n",
       "<polygon fill=\"black\" stroke=\"black\" points=\"208.5,-63.24 205,-53.24 201.5,-63.24 208.5,-63.24\"/>\r\n",
       "</g>\r\n",
       "<!-- 7 -->\r\n",
       "<g id=\"node8\" class=\"node\">\r\n",
       "<title>7</title>\r\n",
       "<path fill=\"#fef9f6\" stroke=\"black\" d=\"M406,-53C406,-53 300,-53 300,-53 294,-53 288,-47 288,-41 288,-41 288,-12 288,-12 288,-6 294,0 300,0 300,0 406,0 406,0 412,0 418,-6 418,-12 418,-12 418,-41 418,-41 418,-47 412,-53 406,-53\"/>\r\n",
       "<text text-anchor=\"start\" x=\"296\" y=\"-37.8\" font-family=\"Helvetica,sans-Serif\" font-size=\"14.00\">mse = 21997.803</text>\r\n",
       "<text text-anchor=\"start\" x=\"301.5\" y=\"-22.8\" font-family=\"Helvetica,sans-Serif\" font-size=\"14.00\">samples = 4.1%</text>\r\n",
       "<text text-anchor=\"start\" x=\"301.5\" y=\"-7.8\" font-family=\"Helvetica,sans-Serif\" font-size=\"14.00\">value = 355.212</text>\r\n",
       "</g>\r\n",
       "<!-- 6&#45;&gt;7 -->\r\n",
       "<g id=\"edge7\" class=\"edge\">\r\n",
       "<title>6&#45;&gt;7</title>\r\n",
       "<path fill=\"none\" stroke=\"black\" d=\"M401.12,-88.95C394.1,-79.98 386.49,-70.27 379.44,-61.26\"/>\r\n",
       "<polygon fill=\"black\" stroke=\"black\" points=\"382.07,-58.95 373.15,-53.24 376.56,-63.27 382.07,-58.95\"/>\r\n",
       "</g>\r\n",
       "<!-- 8 -->\r\n",
       "<g id=\"node9\" class=\"node\">\r\n",
       "<title>8</title>\r\n",
       "<path fill=\"#fcf0e7\" stroke=\"black\" d=\"M554,-53C554,-53 448,-53 448,-53 442,-53 436,-47 436,-41 436,-41 436,-12 436,-12 436,-6 442,0 448,0 448,0 554,0 554,0 560,0 566,-6 566,-12 566,-12 566,-41 566,-41 566,-47 560,-53 554,-53\"/>\r\n",
       "<text text-anchor=\"start\" x=\"444\" y=\"-37.8\" font-family=\"Helvetica,sans-Serif\" font-size=\"14.00\">mse = 54584.201</text>\r\n",
       "<text text-anchor=\"start\" x=\"449.5\" y=\"-22.8\" font-family=\"Helvetica,sans-Serif\" font-size=\"14.00\">samples = 8.0%</text>\r\n",
       "<text text-anchor=\"start\" x=\"449.5\" y=\"-7.8\" font-family=\"Helvetica,sans-Serif\" font-size=\"14.00\">value = 583.047</text>\r\n",
       "</g>\r\n",
       "<!-- 6&#45;&gt;8 -->\r\n",
       "<g id=\"edge8\" class=\"edge\">\r\n",
       "<title>6&#45;&gt;8</title>\r\n",
       "<path fill=\"none\" stroke=\"black\" d=\"M452.88,-88.95C459.9,-79.98 467.51,-70.27 474.56,-61.26\"/>\r\n",
       "<polygon fill=\"black\" stroke=\"black\" points=\"477.44,-63.27 480.85,-53.24 471.93,-58.95 477.44,-63.27\"/>\r\n",
       "</g>\r\n",
       "<!-- 10 -->\r\n",
       "<g id=\"node11\" class=\"node\">\r\n",
       "<title>10</title>\r\n",
       "<path fill=\"#f9e3d3\" stroke=\"black\" d=\"M855,-157C855,-157 741,-157 741,-157 735,-157 729,-151 729,-145 729,-145 729,-101 729,-101 729,-95 735,-89 741,-89 741,-89 855,-89 855,-89 861,-89 867,-95 867,-101 867,-101 867,-145 867,-145 867,-151 861,-157 855,-157\"/>\r\n",
       "<text text-anchor=\"start\" x=\"741\" y=\"-141.8\" font-family=\"Helvetica,sans-Serif\" font-size=\"14.00\">History_Low ≤ 0.5</text>\r\n",
       "<text text-anchor=\"start\" x=\"737\" y=\"-126.8\" font-family=\"Helvetica,sans-Serif\" font-size=\"14.00\">mse = 173727.967</text>\r\n",
       "<text text-anchor=\"start\" x=\"742\" y=\"-111.8\" font-family=\"Helvetica,sans-Serif\" font-size=\"14.00\">samples = 26.1%</text>\r\n",
       "<text text-anchor=\"start\" x=\"746.5\" y=\"-96.8\" font-family=\"Helvetica,sans-Serif\" font-size=\"14.00\">value = 916.574</text>\r\n",
       "</g>\r\n",
       "<!-- 9&#45;&gt;10 -->\r\n",
       "<g id=\"edge10\" class=\"edge\">\r\n",
       "<title>9&#45;&gt;10</title>\r\n",
       "<path fill=\"none\" stroke=\"black\" d=\"M850.68,-192.88C844,-184.15 836.71,-174.62 829.75,-165.51\"/>\r\n",
       "<polygon fill=\"black\" stroke=\"black\" points=\"832.32,-163.12 823.46,-157.3 826.76,-167.37 832.32,-163.12\"/>\r\n",
       "</g>\r\n",
       "<!-- 13 -->\r\n",
       "<g id=\"node14\" class=\"node\">\r\n",
       "<title>13</title>\r\n",
       "<path fill=\"#f2bf9b\" stroke=\"black\" d=\"M1011,-157C1011,-157 897,-157 897,-157 891,-157 885,-151 885,-145 885,-145 885,-101 885,-101 885,-95 891,-89 897,-89 897,-89 1011,-89 1011,-89 1017,-89 1023,-95 1023,-101 1023,-101 1023,-145 1023,-145 1023,-151 1017,-157 1011,-157\"/>\r\n",
       "<text text-anchor=\"start\" x=\"908\" y=\"-141.8\" font-family=\"Helvetica,sans-Serif\" font-size=\"14.00\">Catalogs ≤ 9.0</text>\r\n",
       "<text text-anchor=\"start\" x=\"893\" y=\"-126.8\" font-family=\"Helvetica,sans-Serif\" font-size=\"14.00\">mse = 237318.779</text>\r\n",
       "<text text-anchor=\"start\" x=\"902.5\" y=\"-111.8\" font-family=\"Helvetica,sans-Serif\" font-size=\"14.00\">samples = 2.9%</text>\r\n",
       "<text text-anchor=\"start\" x=\"898.5\" y=\"-96.8\" font-family=\"Helvetica,sans-Serif\" font-size=\"14.00\">value = 1809.783</text>\r\n",
       "</g>\r\n",
       "<!-- 9&#45;&gt;13 -->\r\n",
       "<g id=\"edge13\" class=\"edge\">\r\n",
       "<title>9&#45;&gt;13</title>\r\n",
       "<path fill=\"none\" stroke=\"black\" d=\"M901.32,-192.88C908,-184.15 915.29,-174.62 922.25,-165.51\"/>\r\n",
       "<polygon fill=\"black\" stroke=\"black\" points=\"925.24,-167.37 928.54,-157.3 919.68,-163.12 925.24,-167.37\"/>\r\n",
       "</g>\r\n",
       "<!-- 11 -->\r\n",
       "<g id=\"node12\" class=\"node\">\r\n",
       "<title>11</title>\r\n",
       "<path fill=\"#f8dfcc\" stroke=\"black\" d=\"M710,-53C710,-53 596,-53 596,-53 590,-53 584,-47 584,-41 584,-41 584,-12 584,-12 584,-6 590,0 596,0 596,0 710,0 710,0 716,0 722,-6 722,-12 722,-12 722,-41 722,-41 722,-47 716,-53 710,-53\"/>\r\n",
       "<text text-anchor=\"start\" x=\"592\" y=\"-37.8\" font-family=\"Helvetica,sans-Serif\" font-size=\"14.00\">mse = 136523.035</text>\r\n",
       "<text text-anchor=\"start\" x=\"597\" y=\"-22.8\" font-family=\"Helvetica,sans-Serif\" font-size=\"14.00\">samples = 21.6%</text>\r\n",
       "<text text-anchor=\"start\" x=\"597.5\" y=\"-7.8\" font-family=\"Helvetica,sans-Serif\" font-size=\"14.00\">value = 1022.538</text>\r\n",
       "</g>\r\n",
       "<!-- 10&#45;&gt;11 -->\r\n",
       "<g id=\"edge11\" class=\"edge\">\r\n",
       "<title>10&#45;&gt;11</title>\r\n",
       "<path fill=\"none\" stroke=\"black\" d=\"M747.29,-88.95C732.27,-79.16 715.87,-68.48 701.03,-58.8\"/>\r\n",
       "<polygon fill=\"black\" stroke=\"black\" points=\"702.78,-55.76 692.49,-53.24 698.96,-61.63 702.78,-55.76\"/>\r\n",
       "</g>\r\n",
       "<!-- 12 -->\r\n",
       "<g id=\"node13\" class=\"node\">\r\n",
       "<title>12</title>\r\n",
       "<path fill=\"#fdf7f2\" stroke=\"black\" d=\"M858,-53C858,-53 752,-53 752,-53 746,-53 740,-47 740,-41 740,-41 740,-12 740,-12 740,-6 746,0 752,0 752,0 858,0 858,0 864,0 870,-6 870,-12 870,-12 870,-41 870,-41 870,-47 864,-53 858,-53\"/>\r\n",
       "<text text-anchor=\"start\" x=\"748\" y=\"-37.8\" font-family=\"Helvetica,sans-Serif\" font-size=\"14.00\">mse = 39262.453</text>\r\n",
       "<text text-anchor=\"start\" x=\"753.5\" y=\"-22.8\" font-family=\"Helvetica,sans-Serif\" font-size=\"14.00\">samples = 4.5%</text>\r\n",
       "<text text-anchor=\"start\" x=\"753.5\" y=\"-7.8\" font-family=\"Helvetica,sans-Serif\" font-size=\"14.00\">value = 407.361</text>\r\n",
       "</g>\r\n",
       "<!-- 10&#45;&gt;12 -->\r\n",
       "<g id=\"edge12\" class=\"edge\">\r\n",
       "<title>10&#45;&gt;12</title>\r\n",
       "<path fill=\"none\" stroke=\"black\" d=\"M800.45,-88.95C801.06,-80.72 801.71,-71.85 802.33,-63.48\"/>\r\n",
       "<polygon fill=\"black\" stroke=\"black\" points=\"805.85,-63.47 803.09,-53.24 798.86,-62.95 805.85,-63.47\"/>\r\n",
       "</g>\r\n",
       "<!-- 14 -->\r\n",
       "<g id=\"node15\" class=\"node\">\r\n",
       "<title>14</title>\r\n",
       "<path fill=\"#fae7da\" stroke=\"black\" d=\"M995.5,-53C995.5,-53 900.5,-53 900.5,-53 894.5,-53 888.5,-47 888.5,-41 888.5,-41 888.5,-12 888.5,-12 888.5,-6 894.5,0 900.5,0 900.5,0 995.5,0 995.5,0 1001.5,0 1007.5,-6 1007.5,-12 1007.5,-12 1007.5,-41 1007.5,-41 1007.5,-47 1001.5,-53 995.5,-53\"/>\r\n",
       "<text text-anchor=\"start\" x=\"903.5\" y=\"-37.8\" font-family=\"Helvetica,sans-Serif\" font-size=\"14.00\">mse = 2116.0</text>\r\n",
       "<text text-anchor=\"start\" x=\"896.5\" y=\"-22.8\" font-family=\"Helvetica,sans-Serif\" font-size=\"14.00\">samples = 0.2%</text>\r\n",
       "<text text-anchor=\"start\" x=\"905\" y=\"-7.8\" font-family=\"Helvetica,sans-Serif\" font-size=\"14.00\">value = 801.0</text>\r\n",
       "</g>\r\n",
       "<!-- 13&#45;&gt;14 -->\r\n",
       "<g id=\"edge14\" class=\"edge\">\r\n",
       "<title>13&#45;&gt;14</title>\r\n",
       "<path fill=\"none\" stroke=\"black\" d=\"M951.9,-88.95C951.38,-80.72 950.82,-71.85 950.28,-63.48\"/>\r\n",
       "<polygon fill=\"black\" stroke=\"black\" points=\"953.76,-62.99 949.63,-53.24 946.77,-63.44 953.76,-62.99\"/>\r\n",
       "</g>\r\n",
       "<!-- 15 -->\r\n",
       "<g id=\"node16\" class=\"node\">\r\n",
       "<title>15</title>\r\n",
       "<path fill=\"#f1bb95\" stroke=\"black\" d=\"M1152,-53C1152,-53 1038,-53 1038,-53 1032,-53 1026,-47 1026,-41 1026,-41 1026,-12 1026,-12 1026,-6 1032,0 1038,0 1038,0 1152,0 1152,0 1158,0 1164,-6 1164,-12 1164,-12 1164,-41 1164,-41 1164,-47 1158,-53 1152,-53\"/>\r\n",
       "<text text-anchor=\"start\" x=\"1034\" y=\"-37.8\" font-family=\"Helvetica,sans-Serif\" font-size=\"14.00\">mse = 153570.408</text>\r\n",
       "<text text-anchor=\"start\" x=\"1043.5\" y=\"-22.8\" font-family=\"Helvetica,sans-Serif\" font-size=\"14.00\">samples = 2.6%</text>\r\n",
       "<text text-anchor=\"start\" x=\"1039.5\" y=\"-7.8\" font-family=\"Helvetica,sans-Serif\" font-size=\"14.00\">value = 1905.857</text>\r\n",
       "</g>\r\n",
       "<!-- 13&#45;&gt;15 -->\r\n",
       "<g id=\"edge15\" class=\"edge\">\r\n",
       "<title>13&#45;&gt;15</title>\r\n",
       "<path fill=\"none\" stroke=\"black\" d=\"M1003.31,-88.95C1017.78,-79.25 1033.56,-68.68 1047.89,-59.07\"/>\r\n",
       "<polygon fill=\"black\" stroke=\"black\" points=\"1050.24,-61.71 1056.6,-53.24 1046.34,-55.9 1050.24,-61.71\"/>\r\n",
       "</g>\r\n",
       "<!-- 17 -->\r\n",
       "<g id=\"node18\" class=\"node\">\r\n",
       "<title>17</title>\r\n",
       "<path fill=\"#f6d2b8\" stroke=\"black\" d=\"M1532,-261C1532,-261 1418,-261 1418,-261 1412,-261 1406,-255 1406,-249 1406,-249 1406,-205 1406,-205 1406,-199 1412,-193 1418,-193 1418,-193 1532,-193 1532,-193 1538,-193 1544,-199 1544,-205 1544,-205 1544,-249 1544,-249 1544,-255 1538,-261 1532,-261\"/>\r\n",
       "<text text-anchor=\"start\" x=\"1418\" y=\"-245.8\" font-family=\"Helvetica,sans-Serif\" font-size=\"14.00\">History_Low ≤ 0.5</text>\r\n",
       "<text text-anchor=\"start\" x=\"1414\" y=\"-230.8\" font-family=\"Helvetica,sans-Serif\" font-size=\"14.00\">mse = 558394.322</text>\r\n",
       "<text text-anchor=\"start\" x=\"1419\" y=\"-215.8\" font-family=\"Helvetica,sans-Serif\" font-size=\"14.00\">samples = 20.0%</text>\r\n",
       "<text text-anchor=\"start\" x=\"1419.5\" y=\"-200.8\" font-family=\"Helvetica,sans-Serif\" font-size=\"14.00\">value = 1339.875</text>\r\n",
       "</g>\r\n",
       "<!-- 16&#45;&gt;17 -->\r\n",
       "<g id=\"edge17\" class=\"edge\">\r\n",
       "<title>16&#45;&gt;17</title>\r\n",
       "<path fill=\"none\" stroke=\"black\" d=\"M1475,-296.88C1475,-288.78 1475,-279.98 1475,-271.47\"/>\r\n",
       "<polygon fill=\"black\" stroke=\"black\" points=\"1478.5,-271.3 1475,-261.3 1471.5,-271.3 1478.5,-271.3\"/>\r\n",
       "</g>\r\n",
       "<!-- 24 -->\r\n",
       "<g id=\"node25\" class=\"node\">\r\n",
       "<title>24</title>\r\n",
       "<path fill=\"#eeac7d\" stroke=\"black\" d=\"M1978,-261C1978,-261 1848,-261 1848,-261 1842,-261 1836,-255 1836,-249 1836,-249 1836,-205 1836,-205 1836,-199 1842,-193 1848,-193 1848,-193 1978,-193 1978,-193 1984,-193 1990,-199 1990,-205 1990,-205 1990,-249 1990,-249 1990,-255 1984,-261 1978,-261\"/>\r\n",
       "<text text-anchor=\"start\" x=\"1844\" y=\"-245.8\" font-family=\"Helvetica,sans-Serif\" font-size=\"14.00\">History_Medium ≤ 0.5</text>\r\n",
       "<text text-anchor=\"start\" x=\"1852\" y=\"-230.8\" font-family=\"Helvetica,sans-Serif\" font-size=\"14.00\">mse = 891487.477</text>\r\n",
       "<text text-anchor=\"start\" x=\"1857\" y=\"-215.8\" font-family=\"Helvetica,sans-Serif\" font-size=\"14.00\">samples = 24.6%</text>\r\n",
       "<text text-anchor=\"start\" x=\"1857.5\" y=\"-200.8\" font-family=\"Helvetica,sans-Serif\" font-size=\"14.00\">value = 2289.985</text>\r\n",
       "</g>\r\n",
       "<!-- 16&#45;&gt;24 -->\r\n",
       "<g id=\"edge24\" class=\"edge\">\r\n",
       "<title>16&#45;&gt;24</title>\r\n",
       "<path fill=\"none\" stroke=\"black\" d=\"M1544.4,-313.84C1620.66,-296.08 1743.28,-267.52 1825.94,-248.28\"/>\r\n",
       "<polygon fill=\"black\" stroke=\"black\" points=\"1826.87,-251.65 1835.81,-245.98 1825.28,-244.83 1826.87,-251.65\"/>\r\n",
       "</g>\r\n",
       "<!-- 18 -->\r\n",
       "<g id=\"node19\" class=\"node\">\r\n",
       "<title>18</title>\r\n",
       "<path fill=\"#f5cdb0\" stroke=\"black\" d=\"M1460,-157C1460,-157 1330,-157 1330,-157 1324,-157 1318,-151 1318,-145 1318,-145 1318,-101 1318,-101 1318,-95 1324,-89 1330,-89 1330,-89 1460,-89 1460,-89 1466,-89 1472,-95 1472,-101 1472,-101 1472,-145 1472,-145 1472,-151 1466,-157 1460,-157\"/>\r\n",
       "<text text-anchor=\"start\" x=\"1326\" y=\"-141.8\" font-family=\"Helvetica,sans-Serif\" font-size=\"14.00\">History_Medium ≤ 0.5</text>\r\n",
       "<text text-anchor=\"start\" x=\"1334\" y=\"-126.8\" font-family=\"Helvetica,sans-Serif\" font-size=\"14.00\">mse = 484198.497</text>\r\n",
       "<text text-anchor=\"start\" x=\"1339\" y=\"-111.8\" font-family=\"Helvetica,sans-Serif\" font-size=\"14.00\">samples = 17.8%</text>\r\n",
       "<text text-anchor=\"start\" x=\"1339.5\" y=\"-96.8\" font-family=\"Helvetica,sans-Serif\" font-size=\"14.00\">value = 1466.845</text>\r\n",
       "</g>\r\n",
       "<!-- 17&#45;&gt;18 -->\r\n",
       "<g id=\"edge18\" class=\"edge\">\r\n",
       "<title>17&#45;&gt;18</title>\r\n",
       "<path fill=\"none\" stroke=\"black\" d=\"M1449.03,-192.88C1442.11,-184.07 1434.55,-174.43 1427.34,-165.24\"/>\r\n",
       "<polygon fill=\"black\" stroke=\"black\" points=\"1430.04,-163.01 1421.12,-157.3 1424.53,-167.33 1430.04,-163.01\"/>\r\n",
       "</g>\r\n",
       "<!-- 21 -->\r\n",
       "<g id=\"node22\" class=\"node\">\r\n",
       "<title>21</title>\r\n",
       "<path fill=\"#fefaf7\" stroke=\"black\" d=\"M1608,-157C1608,-157 1502,-157 1502,-157 1496,-157 1490,-151 1490,-145 1490,-145 1490,-101 1490,-101 1490,-95 1496,-89 1502,-89 1502,-89 1608,-89 1608,-89 1614,-89 1620,-95 1620,-101 1620,-101 1620,-145 1620,-145 1620,-151 1614,-157 1608,-157\"/>\r\n",
       "<text text-anchor=\"start\" x=\"1501\" y=\"-141.8\" font-family=\"Helvetica,sans-Serif\" font-size=\"14.00\">Salary ≤ 99950.0</text>\r\n",
       "<text text-anchor=\"start\" x=\"1498\" y=\"-126.8\" font-family=\"Helvetica,sans-Serif\" font-size=\"14.00\">mse = 13228.728</text>\r\n",
       "<text text-anchor=\"start\" x=\"1503.5\" y=\"-111.8\" font-family=\"Helvetica,sans-Serif\" font-size=\"14.00\">samples = 2.2%</text>\r\n",
       "<text text-anchor=\"start\" x=\"1503.5\" y=\"-96.8\" font-family=\"Helvetica,sans-Serif\" font-size=\"14.00\">value = 338.222</text>\r\n",
       "</g>\r\n",
       "<!-- 17&#45;&gt;21 -->\r\n",
       "<g id=\"edge21\" class=\"edge\">\r\n",
       "<title>17&#45;&gt;21</title>\r\n",
       "<path fill=\"none\" stroke=\"black\" d=\"M1500.97,-192.88C1507.89,-184.07 1515.45,-174.43 1522.66,-165.24\"/>\r\n",
       "<polygon fill=\"black\" stroke=\"black\" points=\"1525.47,-167.33 1528.88,-157.3 1519.96,-163.01 1525.47,-167.33\"/>\r\n",
       "</g>\r\n",
       "<!-- 19 -->\r\n",
       "<g id=\"node20\" class=\"node\">\r\n",
       "<title>19</title>\r\n",
       "<path fill=\"#f3c6a5\" stroke=\"black\" d=\"M1308,-53C1308,-53 1194,-53 1194,-53 1188,-53 1182,-47 1182,-41 1182,-41 1182,-12 1182,-12 1182,-6 1188,0 1194,0 1194,0 1308,0 1308,0 1314,0 1320,-6 1320,-12 1320,-12 1320,-41 1320,-41 1320,-47 1314,-53 1308,-53\"/>\r\n",
       "<text text-anchor=\"start\" x=\"1190\" y=\"-37.8\" font-family=\"Helvetica,sans-Serif\" font-size=\"14.00\">mse = 441699.909</text>\r\n",
       "<text text-anchor=\"start\" x=\"1195\" y=\"-22.8\" font-family=\"Helvetica,sans-Serif\" font-size=\"14.00\">samples = 14.1%</text>\r\n",
       "<text text-anchor=\"start\" x=\"1195.5\" y=\"-7.8\" font-family=\"Helvetica,sans-Serif\" font-size=\"14.00\">value = 1640.699</text>\r\n",
       "</g>\r\n",
       "<!-- 18&#45;&gt;19 -->\r\n",
       "<g id=\"edge19\" class=\"edge\">\r\n",
       "<title>18&#45;&gt;19</title>\r\n",
       "<path fill=\"none\" stroke=\"black\" d=\"M1344.64,-88.95C1329.72,-79.16 1313.44,-68.48 1298.7,-58.8\"/>\r\n",
       "<polygon fill=\"black\" stroke=\"black\" points=\"1300.5,-55.8 1290.22,-53.24 1296.66,-61.65 1300.5,-55.8\"/>\r\n",
       "</g>\r\n",
       "<!-- 20 -->\r\n",
       "<g id=\"node21\" class=\"node\">\r\n",
       "<title>20</title>\r\n",
       "<path fill=\"#fae8db\" stroke=\"black\" d=\"M1456,-53C1456,-53 1350,-53 1350,-53 1344,-53 1338,-47 1338,-41 1338,-41 1338,-12 1338,-12 1338,-6 1344,0 1350,0 1350,0 1456,0 1456,0 1462,0 1468,-6 1468,-12 1468,-12 1468,-41 1468,-41 1468,-47 1462,-53 1456,-53\"/>\r\n",
       "<text text-anchor=\"start\" x=\"1346\" y=\"-37.8\" font-family=\"Helvetica,sans-Serif\" font-size=\"14.00\">mse = 73109.139</text>\r\n",
       "<text text-anchor=\"start\" x=\"1351.5\" y=\"-22.8\" font-family=\"Helvetica,sans-Serif\" font-size=\"14.00\">samples = 3.6%</text>\r\n",
       "<text text-anchor=\"start\" x=\"1351.5\" y=\"-7.8\" font-family=\"Helvetica,sans-Serif\" font-size=\"14.00\">value = 789.414</text>\r\n",
       "</g>\r\n",
       "<!-- 18&#45;&gt;20 -->\r\n",
       "<g id=\"edge20\" class=\"edge\">\r\n",
       "<title>18&#45;&gt;20</title>\r\n",
       "<path fill=\"none\" stroke=\"black\" d=\"M1397.8,-88.95C1398.5,-80.62 1399.26,-71.65 1399.98,-63.2\"/>\r\n",
       "<polygon fill=\"black\" stroke=\"black\" points=\"1403.47,-63.5 1400.82,-53.24 1396.49,-62.91 1403.47,-63.5\"/>\r\n",
       "</g>\r\n",
       "<!-- 22 -->\r\n",
       "<g id=\"node23\" class=\"node\">\r\n",
       "<title>22</title>\r\n",
       "<path fill=\"#fefcfa\" stroke=\"black\" d=\"M1596,-53C1596,-53 1498,-53 1498,-53 1492,-53 1486,-47 1486,-41 1486,-41 1486,-12 1486,-12 1486,-6 1492,0 1498,0 1498,0 1596,0 1596,0 1602,0 1608,-6 1608,-12 1608,-12 1608,-41 1608,-41 1608,-47 1602,-53 1596,-53\"/>\r\n",
       "<text text-anchor=\"start\" x=\"1494\" y=\"-37.8\" font-family=\"Helvetica,sans-Serif\" font-size=\"14.00\">mse = 5361.822</text>\r\n",
       "<text text-anchor=\"start\" x=\"1495.5\" y=\"-22.8\" font-family=\"Helvetica,sans-Serif\" font-size=\"14.00\">samples = 1.6%</text>\r\n",
       "<text text-anchor=\"start\" x=\"1495.5\" y=\"-7.8\" font-family=\"Helvetica,sans-Serif\" font-size=\"14.00\">value = 287.154</text>\r\n",
       "</g>\r\n",
       "<!-- 21&#45;&gt;22 -->\r\n",
       "<g id=\"edge22\" class=\"edge\">\r\n",
       "<title>21&#45;&gt;22</title>\r\n",
       "<path fill=\"none\" stroke=\"black\" d=\"M1552.2,-88.95C1551.5,-80.62 1550.74,-71.65 1550.02,-63.2\"/>\r\n",
       "<polygon fill=\"black\" stroke=\"black\" points=\"1553.51,-62.91 1549.18,-53.24 1546.53,-63.5 1553.51,-62.91\"/>\r\n",
       "</g>\r\n",
       "<!-- 23 -->\r\n",
       "<g id=\"node24\" class=\"node\">\r\n",
       "<title>23</title>\r\n",
       "<path fill=\"#fdf4ee\" stroke=\"black\" d=\"M1733.5,-53C1733.5,-53 1638.5,-53 1638.5,-53 1632.5,-53 1626.5,-47 1626.5,-41 1626.5,-41 1626.5,-12 1626.5,-12 1626.5,-6 1632.5,0 1638.5,0 1638.5,0 1733.5,0 1733.5,0 1739.5,0 1745.5,-6 1745.5,-12 1745.5,-12 1745.5,-41 1745.5,-41 1745.5,-47 1739.5,-53 1733.5,-53\"/>\r\n",
       "<text text-anchor=\"start\" x=\"1641.5\" y=\"-37.8\" font-family=\"Helvetica,sans-Serif\" font-size=\"14.00\">mse = 9272.0</text>\r\n",
       "<text text-anchor=\"start\" x=\"1634.5\" y=\"-22.8\" font-family=\"Helvetica,sans-Serif\" font-size=\"14.00\">samples = 0.6%</text>\r\n",
       "<text text-anchor=\"start\" x=\"1643\" y=\"-7.8\" font-family=\"Helvetica,sans-Serif\" font-size=\"14.00\">value = 471.0</text>\r\n",
       "</g>\r\n",
       "<!-- 21&#45;&gt;23 -->\r\n",
       "<g id=\"edge23\" class=\"edge\">\r\n",
       "<title>21&#45;&gt;23</title>\r\n",
       "<path fill=\"none\" stroke=\"black\" d=\"M1600.82,-88.95C1614.13,-79.34 1628.64,-68.87 1641.86,-59.34\"/>\r\n",
       "<polygon fill=\"black\" stroke=\"black\" points=\"1644.26,-61.93 1650.32,-53.24 1640.16,-56.25 1644.26,-61.93\"/>\r\n",
       "</g>\r\n",
       "<!-- 25 -->\r\n",
       "<g id=\"node26\" class=\"node\">\r\n",
       "<title>25</title>\r\n",
       "<path fill=\"#eda775\" stroke=\"black\" d=\"M1970,-157C1970,-157 1856,-157 1856,-157 1850,-157 1844,-151 1844,-145 1844,-145 1844,-101 1844,-101 1844,-95 1850,-89 1856,-89 1856,-89 1970,-89 1970,-89 1976,-89 1982,-95 1982,-101 1982,-101 1982,-145 1982,-145 1982,-151 1976,-157 1970,-157\"/>\r\n",
       "<text text-anchor=\"start\" x=\"1855\" y=\"-141.8\" font-family=\"Helvetica,sans-Serif\" font-size=\"14.00\">Salary ≤ 109500.0</text>\r\n",
       "<text text-anchor=\"start\" x=\"1852\" y=\"-126.8\" font-family=\"Helvetica,sans-Serif\" font-size=\"14.00\">mse = 832673.455</text>\r\n",
       "<text text-anchor=\"start\" x=\"1857\" y=\"-111.8\" font-family=\"Helvetica,sans-Serif\" font-size=\"14.00\">samples = 21.9%</text>\r\n",
       "<text text-anchor=\"start\" x=\"1857.5\" y=\"-96.8\" font-family=\"Helvetica,sans-Serif\" font-size=\"14.00\">value = 2420.417</text>\r\n",
       "</g>\r\n",
       "<!-- 24&#45;&gt;25 -->\r\n",
       "<g id=\"edge25\" class=\"edge\">\r\n",
       "<title>24&#45;&gt;25</title>\r\n",
       "<path fill=\"none\" stroke=\"black\" d=\"M1913,-192.88C1913,-184.78 1913,-175.98 1913,-167.47\"/>\r\n",
       "<polygon fill=\"black\" stroke=\"black\" points=\"1916.5,-167.3 1913,-157.3 1909.5,-167.3 1916.5,-167.3\"/>\r\n",
       "</g>\r\n",
       "<!-- 28 -->\r\n",
       "<g id=\"node29\" class=\"node\">\r\n",
       "<title>28</title>\r\n",
       "<path fill=\"#f6d5be\" stroke=\"black\" d=\"M2210,-157C2210,-157 2096,-157 2096,-157 2090,-157 2084,-151 2084,-145 2084,-145 2084,-101 2084,-101 2084,-95 2090,-89 2096,-89 2096,-89 2210,-89 2210,-89 2216,-89 2222,-95 2222,-101 2222,-101 2222,-145 2222,-145 2222,-151 2216,-157 2210,-157\"/>\r\n",
       "<text text-anchor=\"start\" x=\"2095\" y=\"-141.8\" font-family=\"Helvetica,sans-Serif\" font-size=\"14.00\">Salary ≤ 116400.0</text>\r\n",
       "<text text-anchor=\"start\" x=\"2092\" y=\"-126.8\" font-family=\"Helvetica,sans-Serif\" font-size=\"14.00\">mse = 147529.793</text>\r\n",
       "<text text-anchor=\"start\" x=\"2101.5\" y=\"-111.8\" font-family=\"Helvetica,sans-Serif\" font-size=\"14.00\">samples = 2.8%</text>\r\n",
       "<text text-anchor=\"start\" x=\"2097.5\" y=\"-96.8\" font-family=\"Helvetica,sans-Serif\" font-size=\"14.00\">value = 1252.455</text>\r\n",
       "</g>\r\n",
       "<!-- 24&#45;&gt;28 -->\r\n",
       "<g id=\"edge28\" class=\"edge\">\r\n",
       "<title>24&#45;&gt;28</title>\r\n",
       "<path fill=\"none\" stroke=\"black\" d=\"M1990.26,-193.17C2017.23,-181.7 2047.51,-168.84 2074.57,-157.33\"/>\r\n",
       "<polygon fill=\"black\" stroke=\"black\" points=\"2076.16,-160.46 2083.99,-153.33 2073.42,-154.02 2076.16,-160.46\"/>\r\n",
       "</g>\r\n",
       "<!-- 26 -->\r\n",
       "<g id=\"node27\" class=\"node\">\r\n",
       "<title>26</title>\r\n",
       "<path fill=\"#eead7e\" stroke=\"black\" d=\"M1890,-53C1890,-53 1776,-53 1776,-53 1770,-53 1764,-47 1764,-41 1764,-41 1764,-12 1764,-12 1764,-6 1770,0 1776,0 1776,0 1890,0 1890,0 1896,0 1902,-6 1902,-12 1902,-12 1902,-41 1902,-41 1902,-47 1896,-53 1890,-53\"/>\r\n",
       "<text text-anchor=\"start\" x=\"1772\" y=\"-37.8\" font-family=\"Helvetica,sans-Serif\" font-size=\"14.00\">mse = 544568.126</text>\r\n",
       "<text text-anchor=\"start\" x=\"1777\" y=\"-22.8\" font-family=\"Helvetica,sans-Serif\" font-size=\"14.00\">samples = 19.0%</text>\r\n",
       "<text text-anchor=\"start\" x=\"1777.5\" y=\"-7.8\" font-family=\"Helvetica,sans-Serif\" font-size=\"14.00\">value = 2276.362</text>\r\n",
       "</g>\r\n",
       "<!-- 25&#45;&gt;26 -->\r\n",
       "<g id=\"edge26\" class=\"edge\">\r\n",
       "<title>25&#45;&gt;26</title>\r\n",
       "<path fill=\"none\" stroke=\"black\" d=\"M1885.02,-88.95C1877.35,-79.89 1869.04,-70.07 1861.35,-60.99\"/>\r\n",
       "<polygon fill=\"black\" stroke=\"black\" points=\"1863.92,-58.61 1854.79,-53.24 1858.58,-63.13 1863.92,-58.61\"/>\r\n",
       "</g>\r\n",
       "<!-- 27 -->\r\n",
       "<g id=\"node28\" class=\"node\">\r\n",
       "<title>27</title>\r\n",
       "<path fill=\"#e58139\" stroke=\"black\" d=\"M2054,-53C2054,-53 1932,-53 1932,-53 1926,-53 1920,-47 1920,-41 1920,-41 1920,-12 1920,-12 1920,-6 1926,0 1932,0 1932,0 2054,0 2054,0 2060,0 2066,-6 2066,-12 2066,-12 2066,-41 2066,-41 2066,-47 2060,-53 2054,-53\"/>\r\n",
       "<text text-anchor=\"start\" x=\"1928\" y=\"-37.8\" font-family=\"Helvetica,sans-Serif\" font-size=\"14.00\">mse = 1693193.115</text>\r\n",
       "<text text-anchor=\"start\" x=\"1941.5\" y=\"-22.8\" font-family=\"Helvetica,sans-Serif\" font-size=\"14.00\">samples = 2.9%</text>\r\n",
       "<text text-anchor=\"start\" x=\"1937.5\" y=\"-7.8\" font-family=\"Helvetica,sans-Serif\" font-size=\"14.00\">value = 3372.435</text>\r\n",
       "</g>\r\n",
       "<!-- 25&#45;&gt;27 -->\r\n",
       "<g id=\"edge27\" class=\"edge\">\r\n",
       "<title>25&#45;&gt;27</title>\r\n",
       "<path fill=\"none\" stroke=\"black\" d=\"M1940.98,-88.95C1948.65,-79.89 1956.96,-70.07 1964.65,-60.99\"/>\r\n",
       "<polygon fill=\"black\" stroke=\"black\" points=\"1967.42,-63.13 1971.21,-53.24 1962.08,-58.61 1967.42,-63.13\"/>\r\n",
       "</g>\r\n",
       "<!-- 29 -->\r\n",
       "<g id=\"node30\" class=\"node\">\r\n",
       "<title>29</title>\r\n",
       "<path fill=\"#f7d7c0\" stroke=\"black\" d=\"M2210,-53C2210,-53 2096,-53 2096,-53 2090,-53 2084,-47 2084,-41 2084,-41 2084,-12 2084,-12 2084,-6 2090,0 2096,0 2096,0 2210,0 2210,0 2216,0 2222,-6 2222,-12 2222,-12 2222,-41 2222,-41 2222,-47 2216,-53 2210,-53\"/>\r\n",
       "<text text-anchor=\"start\" x=\"2092\" y=\"-37.8\" font-family=\"Helvetica,sans-Serif\" font-size=\"14.00\">mse = 119560.435</text>\r\n",
       "<text text-anchor=\"start\" x=\"2101.5\" y=\"-22.8\" font-family=\"Helvetica,sans-Serif\" font-size=\"14.00\">samples = 2.6%</text>\r\n",
       "<text text-anchor=\"start\" x=\"2097.5\" y=\"-7.8\" font-family=\"Helvetica,sans-Serif\" font-size=\"14.00\">value = 1212.571</text>\r\n",
       "</g>\r\n",
       "<!-- 28&#45;&gt;29 -->\r\n",
       "<g id=\"edge29\" class=\"edge\">\r\n",
       "<title>28&#45;&gt;29</title>\r\n",
       "<path fill=\"none\" stroke=\"black\" d=\"M2153,-88.95C2153,-80.72 2153,-71.85 2153,-63.48\"/>\r\n",
       "<polygon fill=\"black\" stroke=\"black\" points=\"2156.5,-63.24 2153,-53.24 2149.5,-63.24 2156.5,-63.24\"/>\r\n",
       "</g>\r\n",
       "<!-- 30 -->\r\n",
       "<g id=\"node31\" class=\"node\">\r\n",
       "<title>30</title>\r\n",
       "<path fill=\"#f0b489\" stroke=\"black\" d=\"M2347.5,-53C2347.5,-53 2252.5,-53 2252.5,-53 2246.5,-53 2240.5,-47 2240.5,-41 2240.5,-41 2240.5,-12 2240.5,-12 2240.5,-6 2246.5,0 2252.5,0 2252.5,0 2347.5,0 2347.5,0 2353.5,0 2359.5,-6 2359.5,-12 2359.5,-12 2359.5,-41 2359.5,-41 2359.5,-47 2353.5,-53 2347.5,-53\"/>\r\n",
       "<text text-anchor=\"start\" x=\"2268\" y=\"-37.8\" font-family=\"Helvetica,sans-Serif\" font-size=\"14.00\">mse = 0.0</text>\r\n",
       "<text text-anchor=\"start\" x=\"2248.5\" y=\"-22.8\" font-family=\"Helvetica,sans-Serif\" font-size=\"14.00\">samples = 0.1%</text>\r\n",
       "<text text-anchor=\"start\" x=\"2253\" y=\"-7.8\" font-family=\"Helvetica,sans-Serif\" font-size=\"14.00\">value = 2090.0</text>\r\n",
       "</g>\r\n",
       "<!-- 28&#45;&gt;30 -->\r\n",
       "<g id=\"edge30\" class=\"edge\">\r\n",
       "<title>28&#45;&gt;30</title>\r\n",
       "<path fill=\"none\" stroke=\"black\" d=\"M2204.41,-88.95C2219.64,-79.16 2236.26,-68.48 2251.31,-58.8\"/>\r\n",
       "<polygon fill=\"black\" stroke=\"black\" points=\"2253.45,-61.59 2259.97,-53.24 2249.66,-55.7 2253.45,-61.59\"/>\r\n",
       "</g>\r\n",
       "</g>\r\n",
       "</svg>\r\n"
      ],
      "text/plain": [
       "<graphviz.files.Source at 0x19be28f2850>"
      ]
     },
     "execution_count": 88,
     "metadata": {},
     "output_type": "execute_result"
    }
   ],
   "source": [
    "graph = graphviz.Source(dot_data, format='png')\n",
    "graph"
   ]
  },
  {
   "cell_type": "code",
   "execution_count": 89,
   "id": "d66f76b9",
   "metadata": {},
   "outputs": [
    {
     "data": {
      "text/plain": [
       "'dt_regressor.png'"
      ]
     },
     "execution_count": 89,
     "metadata": {},
     "output_type": "execute_result"
    }
   ],
   "source": [
    "graph.render('dt_regressor', view=True)"
   ]
  },
  {
   "cell_type": "code",
   "execution_count": null,
   "id": "cb416802",
   "metadata": {},
   "outputs": [],
   "source": []
  },
  {
   "cell_type": "code",
   "execution_count": 91,
   "id": "89f2c23d",
   "metadata": {},
   "outputs": [],
   "source": [
    "data_dir = r'C:\\Users\\Swastik\\Desktop\\Dono Consulting\\Deloitte_Training\\ensemble'"
   ]
  },
  {
   "cell_type": "code",
   "execution_count": 92,
   "id": "77594049",
   "metadata": {},
   "outputs": [],
   "source": [
    "os.chdir(data_dir)"
   ]
  },
  {
   "cell_type": "code",
   "execution_count": 93,
   "id": "e4a2ce6b",
   "metadata": {},
   "outputs": [],
   "source": [
    "hr_data = pd.read_csv('HR_comma_sep.csv')"
   ]
  },
  {
   "cell_type": "code",
   "execution_count": 94,
   "id": "627138a9",
   "metadata": {},
   "outputs": [
    {
     "data": {
      "text/html": [
       "<div>\n",
       "<style scoped>\n",
       "    .dataframe tbody tr th:only-of-type {\n",
       "        vertical-align: middle;\n",
       "    }\n",
       "\n",
       "    .dataframe tbody tr th {\n",
       "        vertical-align: top;\n",
       "    }\n",
       "\n",
       "    .dataframe thead th {\n",
       "        text-align: right;\n",
       "    }\n",
       "</style>\n",
       "<table border=\"1\" class=\"dataframe\">\n",
       "  <thead>\n",
       "    <tr style=\"text-align: right;\">\n",
       "      <th></th>\n",
       "      <th>satisfaction_level</th>\n",
       "      <th>last_evaluation</th>\n",
       "      <th>number_project</th>\n",
       "      <th>average_montly_hours</th>\n",
       "      <th>time_spend_company</th>\n",
       "      <th>Work_accident</th>\n",
       "      <th>left</th>\n",
       "      <th>promotion_last_5years</th>\n",
       "      <th>sales</th>\n",
       "      <th>salary</th>\n",
       "    </tr>\n",
       "  </thead>\n",
       "  <tbody>\n",
       "    <tr>\n",
       "      <th>0</th>\n",
       "      <td>0.38</td>\n",
       "      <td>0.53</td>\n",
       "      <td>2</td>\n",
       "      <td>157</td>\n",
       "      <td>3</td>\n",
       "      <td>0</td>\n",
       "      <td>1</td>\n",
       "      <td>0</td>\n",
       "      <td>sales</td>\n",
       "      <td>low</td>\n",
       "    </tr>\n",
       "    <tr>\n",
       "      <th>1</th>\n",
       "      <td>0.80</td>\n",
       "      <td>0.86</td>\n",
       "      <td>5</td>\n",
       "      <td>262</td>\n",
       "      <td>6</td>\n",
       "      <td>0</td>\n",
       "      <td>1</td>\n",
       "      <td>0</td>\n",
       "      <td>sales</td>\n",
       "      <td>medium</td>\n",
       "    </tr>\n",
       "    <tr>\n",
       "      <th>2</th>\n",
       "      <td>0.11</td>\n",
       "      <td>0.88</td>\n",
       "      <td>7</td>\n",
       "      <td>272</td>\n",
       "      <td>4</td>\n",
       "      <td>0</td>\n",
       "      <td>1</td>\n",
       "      <td>0</td>\n",
       "      <td>sales</td>\n",
       "      <td>medium</td>\n",
       "    </tr>\n",
       "    <tr>\n",
       "      <th>3</th>\n",
       "      <td>0.72</td>\n",
       "      <td>0.87</td>\n",
       "      <td>5</td>\n",
       "      <td>223</td>\n",
       "      <td>5</td>\n",
       "      <td>0</td>\n",
       "      <td>1</td>\n",
       "      <td>0</td>\n",
       "      <td>sales</td>\n",
       "      <td>low</td>\n",
       "    </tr>\n",
       "    <tr>\n",
       "      <th>4</th>\n",
       "      <td>0.37</td>\n",
       "      <td>0.52</td>\n",
       "      <td>2</td>\n",
       "      <td>159</td>\n",
       "      <td>3</td>\n",
       "      <td>0</td>\n",
       "      <td>1</td>\n",
       "      <td>0</td>\n",
       "      <td>sales</td>\n",
       "      <td>low</td>\n",
       "    </tr>\n",
       "  </tbody>\n",
       "</table>\n",
       "</div>"
      ],
      "text/plain": [
       "   satisfaction_level  last_evaluation  number_project  average_montly_hours  \\\n",
       "0                0.38             0.53               2                   157   \n",
       "1                0.80             0.86               5                   262   \n",
       "2                0.11             0.88               7                   272   \n",
       "3                0.72             0.87               5                   223   \n",
       "4                0.37             0.52               2                   159   \n",
       "\n",
       "   time_spend_company  Work_accident  left  promotion_last_5years  sales  \\\n",
       "0                   3              0     1                      0  sales   \n",
       "1                   6              0     1                      0  sales   \n",
       "2                   4              0     1                      0  sales   \n",
       "3                   5              0     1                      0  sales   \n",
       "4                   3              0     1                      0  sales   \n",
       "\n",
       "   salary  \n",
       "0     low  \n",
       "1  medium  \n",
       "2  medium  \n",
       "3     low  \n",
       "4     low  "
      ]
     },
     "execution_count": 94,
     "metadata": {},
     "output_type": "execute_result"
    }
   ],
   "source": [
    "hr_data.head()"
   ]
  },
  {
   "cell_type": "code",
   "execution_count": 95,
   "id": "c483ec6a",
   "metadata": {},
   "outputs": [
    {
     "data": {
      "text/plain": [
       "satisfaction_level       0\n",
       "last_evaluation          0\n",
       "number_project           0\n",
       "average_montly_hours     0\n",
       "time_spend_company       0\n",
       "Work_accident            0\n",
       "left                     0\n",
       "promotion_last_5years    0\n",
       "sales                    0\n",
       "salary                   0\n",
       "dtype: int64"
      ]
     },
     "execution_count": 95,
     "metadata": {},
     "output_type": "execute_result"
    }
   ],
   "source": [
    "hr_data.isnull().sum()"
   ]
  },
  {
   "cell_type": "code",
   "execution_count": 96,
   "id": "1c68b2f1",
   "metadata": {},
   "outputs": [
    {
     "data": {
      "text/plain": [
       "satisfaction_level       float64\n",
       "last_evaluation          float64\n",
       "number_project             int64\n",
       "average_montly_hours       int64\n",
       "time_spend_company         int64\n",
       "Work_accident              int64\n",
       "left                       int64\n",
       "promotion_last_5years      int64\n",
       "sales                     object\n",
       "salary                    object\n",
       "dtype: object"
      ]
     },
     "execution_count": 96,
     "metadata": {},
     "output_type": "execute_result"
    }
   ],
   "source": [
    "hr_data.dtypes"
   ]
  },
  {
   "cell_type": "code",
   "execution_count": 97,
   "id": "6e9f5bd0",
   "metadata": {},
   "outputs": [
    {
     "data": {
      "text/plain": [
       "array(['low', 'medium', 'high'], dtype=object)"
      ]
     },
     "execution_count": 97,
     "metadata": {},
     "output_type": "execute_result"
    }
   ],
   "source": [
    "hr_data['salary'].unique()"
   ]
  },
  {
   "cell_type": "code",
   "execution_count": 98,
   "id": "a205c97c",
   "metadata": {},
   "outputs": [
    {
     "data": {
      "text/plain": [
       "array([2, 5, 7, 6, 4, 3], dtype=int64)"
      ]
     },
     "execution_count": 98,
     "metadata": {},
     "output_type": "execute_result"
    }
   ],
   "source": [
    "hr_data['number_project'].unique()"
   ]
  },
  {
   "cell_type": "code",
   "execution_count": 99,
   "id": "f9797ad2",
   "metadata": {},
   "outputs": [
    {
     "data": {
      "text/plain": [
       "array([0, 1], dtype=int64)"
      ]
     },
     "execution_count": 99,
     "metadata": {},
     "output_type": "execute_result"
    }
   ],
   "source": [
    "hr_data['Work_accident'].unique()"
   ]
  },
  {
   "cell_type": "code",
   "execution_count": 100,
   "id": "2d1a717a",
   "metadata": {},
   "outputs": [
    {
     "data": {
      "text/plain": [
       "array([1, 0], dtype=int64)"
      ]
     },
     "execution_count": 100,
     "metadata": {},
     "output_type": "execute_result"
    }
   ],
   "source": [
    "hr_data['left'].unique()"
   ]
  },
  {
   "cell_type": "code",
   "execution_count": 101,
   "id": "79160776",
   "metadata": {},
   "outputs": [
    {
     "data": {
      "text/plain": [
       "array([0, 1], dtype=int64)"
      ]
     },
     "execution_count": 101,
     "metadata": {},
     "output_type": "execute_result"
    }
   ],
   "source": [
    "hr_data['promotion_last_5years'].unique()"
   ]
  },
  {
   "cell_type": "code",
   "execution_count": 102,
   "id": "823b328c",
   "metadata": {},
   "outputs": [
    {
     "data": {
      "text/plain": [
       "array(['sales', 'accounting', 'hr', 'technical', 'support', 'management',\n",
       "       'IT', 'product_mng', 'marketing', 'RandD'], dtype=object)"
      ]
     },
     "execution_count": 102,
     "metadata": {},
     "output_type": "execute_result"
    }
   ],
   "source": [
    "hr_data['sales'].unique()"
   ]
  },
  {
   "cell_type": "code",
   "execution_count": 107,
   "id": "e2822d9b",
   "metadata": {},
   "outputs": [],
   "source": [
    "hr_data.rename(columns={'sales':'deptt'}, inplace=True)"
   ]
  },
  {
   "cell_type": "code",
   "execution_count": 108,
   "id": "7437b70a",
   "metadata": {},
   "outputs": [
    {
     "data": {
      "text/html": [
       "<div>\n",
       "<style scoped>\n",
       "    .dataframe tbody tr th:only-of-type {\n",
       "        vertical-align: middle;\n",
       "    }\n",
       "\n",
       "    .dataframe tbody tr th {\n",
       "        vertical-align: top;\n",
       "    }\n",
       "\n",
       "    .dataframe thead th {\n",
       "        text-align: right;\n",
       "    }\n",
       "</style>\n",
       "<table border=\"1\" class=\"dataframe\">\n",
       "  <thead>\n",
       "    <tr style=\"text-align: right;\">\n",
       "      <th></th>\n",
       "      <th>satisfaction_level</th>\n",
       "      <th>last_evaluation</th>\n",
       "      <th>number_project</th>\n",
       "      <th>average_montly_hours</th>\n",
       "      <th>time_spend_company</th>\n",
       "      <th>Work_accident</th>\n",
       "      <th>left</th>\n",
       "      <th>promotion_last_5years</th>\n",
       "      <th>deptt</th>\n",
       "      <th>salary</th>\n",
       "    </tr>\n",
       "  </thead>\n",
       "  <tbody>\n",
       "    <tr>\n",
       "      <th>0</th>\n",
       "      <td>0.38</td>\n",
       "      <td>0.53</td>\n",
       "      <td>2</td>\n",
       "      <td>157</td>\n",
       "      <td>3</td>\n",
       "      <td>0</td>\n",
       "      <td>1</td>\n",
       "      <td>0</td>\n",
       "      <td>sales</td>\n",
       "      <td>low</td>\n",
       "    </tr>\n",
       "    <tr>\n",
       "      <th>1</th>\n",
       "      <td>0.80</td>\n",
       "      <td>0.86</td>\n",
       "      <td>5</td>\n",
       "      <td>262</td>\n",
       "      <td>6</td>\n",
       "      <td>0</td>\n",
       "      <td>1</td>\n",
       "      <td>0</td>\n",
       "      <td>sales</td>\n",
       "      <td>medium</td>\n",
       "    </tr>\n",
       "    <tr>\n",
       "      <th>2</th>\n",
       "      <td>0.11</td>\n",
       "      <td>0.88</td>\n",
       "      <td>7</td>\n",
       "      <td>272</td>\n",
       "      <td>4</td>\n",
       "      <td>0</td>\n",
       "      <td>1</td>\n",
       "      <td>0</td>\n",
       "      <td>sales</td>\n",
       "      <td>medium</td>\n",
       "    </tr>\n",
       "    <tr>\n",
       "      <th>3</th>\n",
       "      <td>0.72</td>\n",
       "      <td>0.87</td>\n",
       "      <td>5</td>\n",
       "      <td>223</td>\n",
       "      <td>5</td>\n",
       "      <td>0</td>\n",
       "      <td>1</td>\n",
       "      <td>0</td>\n",
       "      <td>sales</td>\n",
       "      <td>low</td>\n",
       "    </tr>\n",
       "    <tr>\n",
       "      <th>4</th>\n",
       "      <td>0.37</td>\n",
       "      <td>0.52</td>\n",
       "      <td>2</td>\n",
       "      <td>159</td>\n",
       "      <td>3</td>\n",
       "      <td>0</td>\n",
       "      <td>1</td>\n",
       "      <td>0</td>\n",
       "      <td>sales</td>\n",
       "      <td>low</td>\n",
       "    </tr>\n",
       "  </tbody>\n",
       "</table>\n",
       "</div>"
      ],
      "text/plain": [
       "   satisfaction_level  last_evaluation  number_project  average_montly_hours  \\\n",
       "0                0.38             0.53               2                   157   \n",
       "1                0.80             0.86               5                   262   \n",
       "2                0.11             0.88               7                   272   \n",
       "3                0.72             0.87               5                   223   \n",
       "4                0.37             0.52               2                   159   \n",
       "\n",
       "   time_spend_company  Work_accident  left  promotion_last_5years  deptt  \\\n",
       "0                   3              0     1                      0  sales   \n",
       "1                   6              0     1                      0  sales   \n",
       "2                   4              0     1                      0  sales   \n",
       "3                   5              0     1                      0  sales   \n",
       "4                   3              0     1                      0  sales   \n",
       "\n",
       "   salary  \n",
       "0     low  \n",
       "1  medium  \n",
       "2  medium  \n",
       "3     low  \n",
       "4     low  "
      ]
     },
     "execution_count": 108,
     "metadata": {},
     "output_type": "execute_result"
    }
   ],
   "source": [
    "hr_data.head()"
   ]
  },
  {
   "cell_type": "code",
   "execution_count": 109,
   "id": "0fd654b1",
   "metadata": {},
   "outputs": [],
   "source": [
    "X = hr_data.drop('left', axis=1)\n",
    "y = hr_data['left']"
   ]
  },
  {
   "cell_type": "code",
   "execution_count": 110,
   "id": "d157a6d2",
   "metadata": {},
   "outputs": [
    {
     "data": {
      "text/html": [
       "<div>\n",
       "<style scoped>\n",
       "    .dataframe tbody tr th:only-of-type {\n",
       "        vertical-align: middle;\n",
       "    }\n",
       "\n",
       "    .dataframe tbody tr th {\n",
       "        vertical-align: top;\n",
       "    }\n",
       "\n",
       "    .dataframe thead th {\n",
       "        text-align: right;\n",
       "    }\n",
       "</style>\n",
       "<table border=\"1\" class=\"dataframe\">\n",
       "  <thead>\n",
       "    <tr style=\"text-align: right;\">\n",
       "      <th></th>\n",
       "      <th>satisfaction_level</th>\n",
       "      <th>last_evaluation</th>\n",
       "      <th>number_project</th>\n",
       "      <th>average_montly_hours</th>\n",
       "      <th>time_spend_company</th>\n",
       "      <th>Work_accident</th>\n",
       "      <th>promotion_last_5years</th>\n",
       "      <th>deptt</th>\n",
       "      <th>salary</th>\n",
       "    </tr>\n",
       "  </thead>\n",
       "  <tbody>\n",
       "    <tr>\n",
       "      <th>0</th>\n",
       "      <td>0.38</td>\n",
       "      <td>0.53</td>\n",
       "      <td>2</td>\n",
       "      <td>157</td>\n",
       "      <td>3</td>\n",
       "      <td>0</td>\n",
       "      <td>0</td>\n",
       "      <td>sales</td>\n",
       "      <td>low</td>\n",
       "    </tr>\n",
       "    <tr>\n",
       "      <th>1</th>\n",
       "      <td>0.80</td>\n",
       "      <td>0.86</td>\n",
       "      <td>5</td>\n",
       "      <td>262</td>\n",
       "      <td>6</td>\n",
       "      <td>0</td>\n",
       "      <td>0</td>\n",
       "      <td>sales</td>\n",
       "      <td>medium</td>\n",
       "    </tr>\n",
       "    <tr>\n",
       "      <th>2</th>\n",
       "      <td>0.11</td>\n",
       "      <td>0.88</td>\n",
       "      <td>7</td>\n",
       "      <td>272</td>\n",
       "      <td>4</td>\n",
       "      <td>0</td>\n",
       "      <td>0</td>\n",
       "      <td>sales</td>\n",
       "      <td>medium</td>\n",
       "    </tr>\n",
       "    <tr>\n",
       "      <th>3</th>\n",
       "      <td>0.72</td>\n",
       "      <td>0.87</td>\n",
       "      <td>5</td>\n",
       "      <td>223</td>\n",
       "      <td>5</td>\n",
       "      <td>0</td>\n",
       "      <td>0</td>\n",
       "      <td>sales</td>\n",
       "      <td>low</td>\n",
       "    </tr>\n",
       "    <tr>\n",
       "      <th>4</th>\n",
       "      <td>0.37</td>\n",
       "      <td>0.52</td>\n",
       "      <td>2</td>\n",
       "      <td>159</td>\n",
       "      <td>3</td>\n",
       "      <td>0</td>\n",
       "      <td>0</td>\n",
       "      <td>sales</td>\n",
       "      <td>low</td>\n",
       "    </tr>\n",
       "  </tbody>\n",
       "</table>\n",
       "</div>"
      ],
      "text/plain": [
       "   satisfaction_level  last_evaluation  number_project  average_montly_hours  \\\n",
       "0                0.38             0.53               2                   157   \n",
       "1                0.80             0.86               5                   262   \n",
       "2                0.11             0.88               7                   272   \n",
       "3                0.72             0.87               5                   223   \n",
       "4                0.37             0.52               2                   159   \n",
       "\n",
       "   time_spend_company  Work_accident  promotion_last_5years  deptt  salary  \n",
       "0                   3              0                      0  sales     low  \n",
       "1                   6              0                      0  sales  medium  \n",
       "2                   4              0                      0  sales  medium  \n",
       "3                   5              0                      0  sales     low  \n",
       "4                   3              0                      0  sales     low  "
      ]
     },
     "execution_count": 110,
     "metadata": {},
     "output_type": "execute_result"
    }
   ],
   "source": [
    "X.head()"
   ]
  },
  {
   "cell_type": "code",
   "execution_count": 111,
   "id": "24352a57",
   "metadata": {},
   "outputs": [],
   "source": [
    "X = pd.get_dummies(X)"
   ]
  },
  {
   "cell_type": "code",
   "execution_count": 112,
   "id": "97d47d1d",
   "metadata": {},
   "outputs": [
    {
     "data": {
      "text/html": [
       "<div>\n",
       "<style scoped>\n",
       "    .dataframe tbody tr th:only-of-type {\n",
       "        vertical-align: middle;\n",
       "    }\n",
       "\n",
       "    .dataframe tbody tr th {\n",
       "        vertical-align: top;\n",
       "    }\n",
       "\n",
       "    .dataframe thead th {\n",
       "        text-align: right;\n",
       "    }\n",
       "</style>\n",
       "<table border=\"1\" class=\"dataframe\">\n",
       "  <thead>\n",
       "    <tr style=\"text-align: right;\">\n",
       "      <th></th>\n",
       "      <th>satisfaction_level</th>\n",
       "      <th>last_evaluation</th>\n",
       "      <th>number_project</th>\n",
       "      <th>average_montly_hours</th>\n",
       "      <th>time_spend_company</th>\n",
       "      <th>Work_accident</th>\n",
       "      <th>promotion_last_5years</th>\n",
       "      <th>deptt_IT</th>\n",
       "      <th>deptt_RandD</th>\n",
       "      <th>deptt_accounting</th>\n",
       "      <th>deptt_hr</th>\n",
       "      <th>deptt_management</th>\n",
       "      <th>deptt_marketing</th>\n",
       "      <th>deptt_product_mng</th>\n",
       "      <th>deptt_sales</th>\n",
       "      <th>deptt_support</th>\n",
       "      <th>deptt_technical</th>\n",
       "      <th>salary_high</th>\n",
       "      <th>salary_low</th>\n",
       "      <th>salary_medium</th>\n",
       "    </tr>\n",
       "  </thead>\n",
       "  <tbody>\n",
       "    <tr>\n",
       "      <th>0</th>\n",
       "      <td>0.38</td>\n",
       "      <td>0.53</td>\n",
       "      <td>2</td>\n",
       "      <td>157</td>\n",
       "      <td>3</td>\n",
       "      <td>0</td>\n",
       "      <td>0</td>\n",
       "      <td>0</td>\n",
       "      <td>0</td>\n",
       "      <td>0</td>\n",
       "      <td>0</td>\n",
       "      <td>0</td>\n",
       "      <td>0</td>\n",
       "      <td>0</td>\n",
       "      <td>1</td>\n",
       "      <td>0</td>\n",
       "      <td>0</td>\n",
       "      <td>0</td>\n",
       "      <td>1</td>\n",
       "      <td>0</td>\n",
       "    </tr>\n",
       "    <tr>\n",
       "      <th>1</th>\n",
       "      <td>0.80</td>\n",
       "      <td>0.86</td>\n",
       "      <td>5</td>\n",
       "      <td>262</td>\n",
       "      <td>6</td>\n",
       "      <td>0</td>\n",
       "      <td>0</td>\n",
       "      <td>0</td>\n",
       "      <td>0</td>\n",
       "      <td>0</td>\n",
       "      <td>0</td>\n",
       "      <td>0</td>\n",
       "      <td>0</td>\n",
       "      <td>0</td>\n",
       "      <td>1</td>\n",
       "      <td>0</td>\n",
       "      <td>0</td>\n",
       "      <td>0</td>\n",
       "      <td>0</td>\n",
       "      <td>1</td>\n",
       "    </tr>\n",
       "    <tr>\n",
       "      <th>2</th>\n",
       "      <td>0.11</td>\n",
       "      <td>0.88</td>\n",
       "      <td>7</td>\n",
       "      <td>272</td>\n",
       "      <td>4</td>\n",
       "      <td>0</td>\n",
       "      <td>0</td>\n",
       "      <td>0</td>\n",
       "      <td>0</td>\n",
       "      <td>0</td>\n",
       "      <td>0</td>\n",
       "      <td>0</td>\n",
       "      <td>0</td>\n",
       "      <td>0</td>\n",
       "      <td>1</td>\n",
       "      <td>0</td>\n",
       "      <td>0</td>\n",
       "      <td>0</td>\n",
       "      <td>0</td>\n",
       "      <td>1</td>\n",
       "    </tr>\n",
       "    <tr>\n",
       "      <th>3</th>\n",
       "      <td>0.72</td>\n",
       "      <td>0.87</td>\n",
       "      <td>5</td>\n",
       "      <td>223</td>\n",
       "      <td>5</td>\n",
       "      <td>0</td>\n",
       "      <td>0</td>\n",
       "      <td>0</td>\n",
       "      <td>0</td>\n",
       "      <td>0</td>\n",
       "      <td>0</td>\n",
       "      <td>0</td>\n",
       "      <td>0</td>\n",
       "      <td>0</td>\n",
       "      <td>1</td>\n",
       "      <td>0</td>\n",
       "      <td>0</td>\n",
       "      <td>0</td>\n",
       "      <td>1</td>\n",
       "      <td>0</td>\n",
       "    </tr>\n",
       "    <tr>\n",
       "      <th>4</th>\n",
       "      <td>0.37</td>\n",
       "      <td>0.52</td>\n",
       "      <td>2</td>\n",
       "      <td>159</td>\n",
       "      <td>3</td>\n",
       "      <td>0</td>\n",
       "      <td>0</td>\n",
       "      <td>0</td>\n",
       "      <td>0</td>\n",
       "      <td>0</td>\n",
       "      <td>0</td>\n",
       "      <td>0</td>\n",
       "      <td>0</td>\n",
       "      <td>0</td>\n",
       "      <td>1</td>\n",
       "      <td>0</td>\n",
       "      <td>0</td>\n",
       "      <td>0</td>\n",
       "      <td>1</td>\n",
       "      <td>0</td>\n",
       "    </tr>\n",
       "  </tbody>\n",
       "</table>\n",
       "</div>"
      ],
      "text/plain": [
       "   satisfaction_level  last_evaluation  number_project  average_montly_hours  \\\n",
       "0                0.38             0.53               2                   157   \n",
       "1                0.80             0.86               5                   262   \n",
       "2                0.11             0.88               7                   272   \n",
       "3                0.72             0.87               5                   223   \n",
       "4                0.37             0.52               2                   159   \n",
       "\n",
       "   time_spend_company  Work_accident  promotion_last_5years  deptt_IT  \\\n",
       "0                   3              0                      0         0   \n",
       "1                   6              0                      0         0   \n",
       "2                   4              0                      0         0   \n",
       "3                   5              0                      0         0   \n",
       "4                   3              0                      0         0   \n",
       "\n",
       "   deptt_RandD  deptt_accounting  deptt_hr  deptt_management  deptt_marketing  \\\n",
       "0            0                 0         0                 0                0   \n",
       "1            0                 0         0                 0                0   \n",
       "2            0                 0         0                 0                0   \n",
       "3            0                 0         0                 0                0   \n",
       "4            0                 0         0                 0                0   \n",
       "\n",
       "   deptt_product_mng  deptt_sales  deptt_support  deptt_technical  \\\n",
       "0                  0            1              0                0   \n",
       "1                  0            1              0                0   \n",
       "2                  0            1              0                0   \n",
       "3                  0            1              0                0   \n",
       "4                  0            1              0                0   \n",
       "\n",
       "   salary_high  salary_low  salary_medium  \n",
       "0            0           1              0  \n",
       "1            0           0              1  \n",
       "2            0           0              1  \n",
       "3            0           1              0  \n",
       "4            0           1              0  "
      ]
     },
     "execution_count": 112,
     "metadata": {},
     "output_type": "execute_result"
    }
   ],
   "source": [
    "X.head()"
   ]
  },
  {
   "cell_type": "code",
   "execution_count": 113,
   "id": "4b55a96f",
   "metadata": {},
   "outputs": [],
   "source": [
    "X_train, X_test, y_train, y_test = model_selection.train_test_split(X, y, test_size=0.2, random_state=400)"
   ]
  },
  {
   "cell_type": "code",
   "execution_count": 114,
   "id": "e837b97f",
   "metadata": {},
   "outputs": [],
   "source": [
    "from sklearn.ensemble import BaggingClassifier\n",
    "from sklearn.tree import DecisionTreeClassifier"
   ]
  },
  {
   "cell_type": "code",
   "execution_count": 117,
   "id": "cb1dea1e",
   "metadata": {},
   "outputs": [],
   "source": [
    "clf = BaggingClassifier(oob_score=True, n_jobs=-1, n_estimators=20, base_estimator=DecisionTreeClassifier(), random_state=400)"
   ]
  },
  {
   "cell_type": "code",
   "execution_count": 118,
   "id": "37886abd",
   "metadata": {},
   "outputs": [
    {
     "name": "stderr",
     "output_type": "stream",
     "text": [
      "C:\\Users\\Swastik\\anaconda3\\lib\\site-packages\\sklearn\\ensemble\\_bagging.py:640: UserWarning: Some inputs do not have OOB scores. This probably means too few estimators were used to compute any reliable oob estimates.\n",
      "  warn(\"Some inputs do not have OOB scores. \"\n",
      "C:\\Users\\Swastik\\anaconda3\\lib\\site-packages\\sklearn\\ensemble\\_bagging.py:644: RuntimeWarning: invalid value encountered in true_divide\n",
      "  oob_decision_function = (predictions /\n"
     ]
    },
    {
     "data": {
      "text/plain": [
       "BaggingClassifier(base_estimator=DecisionTreeClassifier(), n_estimators=20,\n",
       "                  n_jobs=-1, oob_score=True, random_state=400)"
      ]
     },
     "execution_count": 118,
     "metadata": {},
     "output_type": "execute_result"
    }
   ],
   "source": [
    "clf.fit(X_train, y_train)"
   ]
  },
  {
   "cell_type": "code",
   "execution_count": 119,
   "id": "57c22937",
   "metadata": {},
   "outputs": [
    {
     "data": {
      "text/plain": [
       "0.987415617968164"
      ]
     },
     "execution_count": 119,
     "metadata": {},
     "output_type": "execute_result"
    }
   ],
   "source": [
    "clf.oob_score_"
   ]
  },
  {
   "cell_type": "code",
   "execution_count": 120,
   "id": "602d714b",
   "metadata": {},
   "outputs": [
    {
     "data": {
      "text/plain": [
       "0.986"
      ]
     },
     "execution_count": 120,
     "metadata": {},
     "output_type": "execute_result"
    }
   ],
   "source": [
    "clf.score(X_test, y_test)"
   ]
  },
  {
   "cell_type": "code",
   "execution_count": 121,
   "id": "af05a8e8",
   "metadata": {},
   "outputs": [
    {
     "data": {
      "text/html": [
       "<div>\n",
       "<style scoped>\n",
       "    .dataframe tbody tr th:only-of-type {\n",
       "        vertical-align: middle;\n",
       "    }\n",
       "\n",
       "    .dataframe tbody tr th {\n",
       "        vertical-align: top;\n",
       "    }\n",
       "\n",
       "    .dataframe thead th {\n",
       "        text-align: right;\n",
       "    }\n",
       "</style>\n",
       "<table border=\"1\" class=\"dataframe\">\n",
       "  <thead>\n",
       "    <tr style=\"text-align: right;\">\n",
       "      <th></th>\n",
       "      <th>satisfaction_level</th>\n",
       "      <th>last_evaluation</th>\n",
       "      <th>number_project</th>\n",
       "      <th>average_montly_hours</th>\n",
       "      <th>time_spend_company</th>\n",
       "      <th>Work_accident</th>\n",
       "      <th>promotion_last_5years</th>\n",
       "      <th>deptt_IT</th>\n",
       "      <th>deptt_RandD</th>\n",
       "      <th>deptt_accounting</th>\n",
       "      <th>deptt_hr</th>\n",
       "      <th>deptt_management</th>\n",
       "      <th>deptt_marketing</th>\n",
       "      <th>deptt_product_mng</th>\n",
       "      <th>deptt_sales</th>\n",
       "      <th>deptt_support</th>\n",
       "      <th>deptt_technical</th>\n",
       "      <th>salary_high</th>\n",
       "      <th>salary_low</th>\n",
       "      <th>salary_medium</th>\n",
       "    </tr>\n",
       "  </thead>\n",
       "  <tbody>\n",
       "    <tr>\n",
       "      <th>6792</th>\n",
       "      <td>0.89</td>\n",
       "      <td>0.66</td>\n",
       "      <td>3</td>\n",
       "      <td>272</td>\n",
       "      <td>3</td>\n",
       "      <td>0</td>\n",
       "      <td>0</td>\n",
       "      <td>0</td>\n",
       "      <td>1</td>\n",
       "      <td>0</td>\n",
       "      <td>0</td>\n",
       "      <td>0</td>\n",
       "      <td>0</td>\n",
       "      <td>0</td>\n",
       "      <td>0</td>\n",
       "      <td>0</td>\n",
       "      <td>0</td>\n",
       "      <td>0</td>\n",
       "      <td>0</td>\n",
       "      <td>1</td>\n",
       "    </tr>\n",
       "    <tr>\n",
       "      <th>14398</th>\n",
       "      <td>0.40</td>\n",
       "      <td>0.46</td>\n",
       "      <td>2</td>\n",
       "      <td>143</td>\n",
       "      <td>3</td>\n",
       "      <td>0</td>\n",
       "      <td>0</td>\n",
       "      <td>0</td>\n",
       "      <td>0</td>\n",
       "      <td>0</td>\n",
       "      <td>1</td>\n",
       "      <td>0</td>\n",
       "      <td>0</td>\n",
       "      <td>0</td>\n",
       "      <td>0</td>\n",
       "      <td>0</td>\n",
       "      <td>0</td>\n",
       "      <td>0</td>\n",
       "      <td>0</td>\n",
       "      <td>1</td>\n",
       "    </tr>\n",
       "    <tr>\n",
       "      <th>7902</th>\n",
       "      <td>0.64</td>\n",
       "      <td>0.78</td>\n",
       "      <td>5</td>\n",
       "      <td>200</td>\n",
       "      <td>3</td>\n",
       "      <td>0</td>\n",
       "      <td>0</td>\n",
       "      <td>0</td>\n",
       "      <td>0</td>\n",
       "      <td>0</td>\n",
       "      <td>0</td>\n",
       "      <td>0</td>\n",
       "      <td>0</td>\n",
       "      <td>0</td>\n",
       "      <td>0</td>\n",
       "      <td>0</td>\n",
       "      <td>1</td>\n",
       "      <td>0</td>\n",
       "      <td>0</td>\n",
       "      <td>1</td>\n",
       "    </tr>\n",
       "    <tr>\n",
       "      <th>7843</th>\n",
       "      <td>0.59</td>\n",
       "      <td>0.50</td>\n",
       "      <td>3</td>\n",
       "      <td>199</td>\n",
       "      <td>2</td>\n",
       "      <td>0</td>\n",
       "      <td>0</td>\n",
       "      <td>0</td>\n",
       "      <td>0</td>\n",
       "      <td>0</td>\n",
       "      <td>0</td>\n",
       "      <td>0</td>\n",
       "      <td>0</td>\n",
       "      <td>0</td>\n",
       "      <td>0</td>\n",
       "      <td>0</td>\n",
       "      <td>1</td>\n",
       "      <td>1</td>\n",
       "      <td>0</td>\n",
       "      <td>0</td>\n",
       "    </tr>\n",
       "    <tr>\n",
       "      <th>3959</th>\n",
       "      <td>0.81</td>\n",
       "      <td>0.75</td>\n",
       "      <td>5</td>\n",
       "      <td>170</td>\n",
       "      <td>3</td>\n",
       "      <td>1</td>\n",
       "      <td>0</td>\n",
       "      <td>0</td>\n",
       "      <td>0</td>\n",
       "      <td>0</td>\n",
       "      <td>0</td>\n",
       "      <td>0</td>\n",
       "      <td>0</td>\n",
       "      <td>1</td>\n",
       "      <td>0</td>\n",
       "      <td>0</td>\n",
       "      <td>0</td>\n",
       "      <td>0</td>\n",
       "      <td>0</td>\n",
       "      <td>1</td>\n",
       "    </tr>\n",
       "  </tbody>\n",
       "</table>\n",
       "</div>"
      ],
      "text/plain": [
       "       satisfaction_level  last_evaluation  number_project  \\\n",
       "6792                 0.89             0.66               3   \n",
       "14398                0.40             0.46               2   \n",
       "7902                 0.64             0.78               5   \n",
       "7843                 0.59             0.50               3   \n",
       "3959                 0.81             0.75               5   \n",
       "\n",
       "       average_montly_hours  time_spend_company  Work_accident  \\\n",
       "6792                    272                   3              0   \n",
       "14398                   143                   3              0   \n",
       "7902                    200                   3              0   \n",
       "7843                    199                   2              0   \n",
       "3959                    170                   3              1   \n",
       "\n",
       "       promotion_last_5years  deptt_IT  deptt_RandD  deptt_accounting  \\\n",
       "6792                       0         0            1                 0   \n",
       "14398                      0         0            0                 0   \n",
       "7902                       0         0            0                 0   \n",
       "7843                       0         0            0                 0   \n",
       "3959                       0         0            0                 0   \n",
       "\n",
       "       deptt_hr  deptt_management  deptt_marketing  deptt_product_mng  \\\n",
       "6792          0                 0                0                  0   \n",
       "14398         1                 0                0                  0   \n",
       "7902          0                 0                0                  0   \n",
       "7843          0                 0                0                  0   \n",
       "3959          0                 0                0                  1   \n",
       "\n",
       "       deptt_sales  deptt_support  deptt_technical  salary_high  salary_low  \\\n",
       "6792             0              0                0            0           0   \n",
       "14398            0              0                0            0           0   \n",
       "7902             0              0                1            0           0   \n",
       "7843             0              0                1            1           0   \n",
       "3959             0              0                0            0           0   \n",
       "\n",
       "       salary_medium  \n",
       "6792               1  \n",
       "14398              1  \n",
       "7902               1  \n",
       "7843               0  \n",
       "3959               1  "
      ]
     },
     "execution_count": 121,
     "metadata": {},
     "output_type": "execute_result"
    }
   ],
   "source": [
    "X_test.head()"
   ]
  },
  {
   "cell_type": "code",
   "execution_count": 122,
   "id": "fca261cd",
   "metadata": {},
   "outputs": [
    {
     "data": {
      "text/plain": [
       "6792     0\n",
       "14398    1\n",
       "7902     0\n",
       "7843     0\n",
       "3959     0\n",
       "Name: left, dtype: int64"
      ]
     },
     "execution_count": 122,
     "metadata": {},
     "output_type": "execute_result"
    }
   ],
   "source": [
    "y_test.head()"
   ]
  },
  {
   "cell_type": "code",
   "execution_count": 127,
   "id": "c3513dd2",
   "metadata": {
    "scrolled": true
   },
   "outputs": [
    {
     "name": "stderr",
     "output_type": "stream",
     "text": [
      "C:\\Users\\Swastik\\anaconda3\\lib\\site-packages\\sklearn\\ensemble\\_bagging.py:640: UserWarning: Some inputs do not have OOB scores. This probably means too few estimators were used to compute any reliable oob estimates.\n",
      "  warn(\"Some inputs do not have OOB scores. \"\n",
      "C:\\Users\\Swastik\\anaconda3\\lib\\site-packages\\sklearn\\ensemble\\_bagging.py:644: RuntimeWarning: invalid value encountered in true_divide\n",
      "  oob_decision_function = (predictions /\n"
     ]
    },
    {
     "name": "stdout",
     "output_type": "stream",
     "text": [
      "For base learners = 10\n",
      "OOB score is 0.9830819234936244\n",
      "***************************\n",
      "For base learners = 30\n",
      "OOB score is 0.9884990415867989\n",
      "***************************\n",
      "For base learners = 50\n",
      "OOB score is 0.9892491040920076\n",
      "***************************\n",
      "For base learners = 70\n",
      "OOB score is 0.9895824652054338\n",
      "***************************\n",
      "For base learners = 90\n",
      "OOB score is 0.990082506875573\n",
      "***************************\n",
      "For base learners = 110\n",
      "OOB score is 0.990082506875573\n",
      "***************************\n",
      "For base learners = 130\n",
      "OOB score is 0.9903325277106425\n",
      "***************************\n",
      "For base learners = 150\n",
      "OOB score is 0.990415867988999\n",
      "***************************\n",
      "For base learners = 170\n",
      "OOB score is 0.9902491874322861\n",
      "***************************\n",
      "For base learners = 190\n",
      "OOB score is 0.9901658471539295\n",
      "***************************\n",
      "For base learners = 210\n",
      "OOB score is 0.9902491874322861\n",
      "***************************\n",
      "For base learners = 230\n",
      "OOB score is 0.9902491874322861\n",
      "***************************\n",
      "For base learners = 250\n",
      "OOB score is 0.990082506875573\n",
      "***************************\n",
      "For base learners = 270\n",
      "OOB score is 0.9903325277106425\n",
      "***************************\n",
      "For base learners = 290\n",
      "OOB score is 0.9902491874322861\n",
      "***************************\n"
     ]
    }
   ],
   "source": [
    "for w in range(10,300,20):\n",
    "    clf = BaggingClassifier(oob_score=True, n_jobs=-1, n_estimators=w, \n",
    "                            base_estimator=DecisionTreeClassifier(), random_state=400)\n",
    "    clf.fit(X_train, y_train)\n",
    "    oob = clf.oob_score_\n",
    "    print('For base learners = ' + str(w))\n",
    "    print('OOB score is ' + str(oob))\n",
    "    print('***************************')"
   ]
  },
  {
   "cell_type": "code",
   "execution_count": 128,
   "id": "46384694",
   "metadata": {},
   "outputs": [
    {
     "data": {
      "text/plain": [
       "BaggingClassifier(base_estimator=DecisionTreeClassifier(), n_estimators=150,\n",
       "                  n_jobs=-1, oob_score=True, random_state=400)"
      ]
     },
     "execution_count": 128,
     "metadata": {},
     "output_type": "execute_result"
    }
   ],
   "source": [
    "clf = BaggingClassifier(oob_score=True, n_jobs=-1, n_estimators=150, \n",
    "                        base_estimator=DecisionTreeClassifier(), random_state=400)\n",
    "\n",
    "clf.fit(X_train, y_train)"
   ]
  },
  {
   "cell_type": "code",
   "execution_count": 129,
   "id": "f755870e",
   "metadata": {},
   "outputs": [
    {
     "data": {
      "text/plain": [
       "0.9893333333333333"
      ]
     },
     "execution_count": 129,
     "metadata": {},
     "output_type": "execute_result"
    }
   ],
   "source": [
    "clf.score(X_test,y_test)"
   ]
  },
  {
   "cell_type": "code",
   "execution_count": 130,
   "id": "63018a8f",
   "metadata": {
    "collapsed": true
   },
   "outputs": [
    {
     "data": {
      "text/plain": [
       "[DecisionTreeClassifier(random_state=1859118377),\n",
       " DecisionTreeClassifier(random_state=1559503733),\n",
       " DecisionTreeClassifier(random_state=1714796222),\n",
       " DecisionTreeClassifier(random_state=1907120008),\n",
       " DecisionTreeClassifier(random_state=2074988447),\n",
       " DecisionTreeClassifier(random_state=270530007),\n",
       " DecisionTreeClassifier(random_state=494610195),\n",
       " DecisionTreeClassifier(random_state=914653141),\n",
       " DecisionTreeClassifier(random_state=1249763274),\n",
       " DecisionTreeClassifier(random_state=1698305238),\n",
       " DecisionTreeClassifier(random_state=764038977),\n",
       " DecisionTreeClassifier(random_state=554023484),\n",
       " DecisionTreeClassifier(random_state=980045649),\n",
       " DecisionTreeClassifier(random_state=618787335),\n",
       " DecisionTreeClassifier(random_state=1478338621),\n",
       " DecisionTreeClassifier(random_state=878522688),\n",
       " DecisionTreeClassifier(random_state=1479530151),\n",
       " DecisionTreeClassifier(random_state=529095905),\n",
       " DecisionTreeClassifier(random_state=1322465795),\n",
       " DecisionTreeClassifier(random_state=2138769912),\n",
       " DecisionTreeClassifier(random_state=61502782),\n",
       " DecisionTreeClassifier(random_state=1799310766),\n",
       " DecisionTreeClassifier(random_state=830858493),\n",
       " DecisionTreeClassifier(random_state=386390921),\n",
       " DecisionTreeClassifier(random_state=557988009),\n",
       " DecisionTreeClassifier(random_state=1236397848),\n",
       " DecisionTreeClassifier(random_state=2117385448),\n",
       " DecisionTreeClassifier(random_state=758019998),\n",
       " DecisionTreeClassifier(random_state=1432275623),\n",
       " DecisionTreeClassifier(random_state=1719636617),\n",
       " DecisionTreeClassifier(random_state=1689285904),\n",
       " DecisionTreeClassifier(random_state=686057112),\n",
       " DecisionTreeClassifier(random_state=882441692),\n",
       " DecisionTreeClassifier(random_state=1800072583),\n",
       " DecisionTreeClassifier(random_state=1714547571),\n",
       " DecisionTreeClassifier(random_state=1582051556),\n",
       " DecisionTreeClassifier(random_state=144629911),\n",
       " DecisionTreeClassifier(random_state=1872696256),\n",
       " DecisionTreeClassifier(random_state=1041021512),\n",
       " DecisionTreeClassifier(random_state=242714384),\n",
       " DecisionTreeClassifier(random_state=67350880),\n",
       " DecisionTreeClassifier(random_state=1803048660),\n",
       " DecisionTreeClassifier(random_state=1974008533),\n",
       " DecisionTreeClassifier(random_state=1958374617),\n",
       " DecisionTreeClassifier(random_state=1068946429),\n",
       " DecisionTreeClassifier(random_state=601425038),\n",
       " DecisionTreeClassifier(random_state=1256188943),\n",
       " DecisionTreeClassifier(random_state=1667272400),\n",
       " DecisionTreeClassifier(random_state=911707597),\n",
       " DecisionTreeClassifier(random_state=1683690693),\n",
       " DecisionTreeClassifier(random_state=644321642),\n",
       " DecisionTreeClassifier(random_state=1679272972),\n",
       " DecisionTreeClassifier(random_state=326694465),\n",
       " DecisionTreeClassifier(random_state=1093209313),\n",
       " DecisionTreeClassifier(random_state=758743505),\n",
       " DecisionTreeClassifier(random_state=1783367317),\n",
       " DecisionTreeClassifier(random_state=1110312258),\n",
       " DecisionTreeClassifier(random_state=755174166),\n",
       " DecisionTreeClassifier(random_state=443767883),\n",
       " DecisionTreeClassifier(random_state=512295005),\n",
       " DecisionTreeClassifier(random_state=1813233843),\n",
       " DecisionTreeClassifier(random_state=170003804),\n",
       " DecisionTreeClassifier(random_state=470033576),\n",
       " DecisionTreeClassifier(random_state=1747558770),\n",
       " DecisionTreeClassifier(random_state=103293719),\n",
       " DecisionTreeClassifier(random_state=266139621),\n",
       " DecisionTreeClassifier(random_state=1563088756),\n",
       " DecisionTreeClassifier(random_state=1645327151),\n",
       " DecisionTreeClassifier(random_state=1870515361),\n",
       " DecisionTreeClassifier(random_state=1259068907),\n",
       " DecisionTreeClassifier(random_state=803643537),\n",
       " DecisionTreeClassifier(random_state=1254692651),\n",
       " DecisionTreeClassifier(random_state=2110998686),\n",
       " DecisionTreeClassifier(random_state=169260570),\n",
       " DecisionTreeClassifier(random_state=1113025921),\n",
       " DecisionTreeClassifier(random_state=1212617349),\n",
       " DecisionTreeClassifier(random_state=171457250),\n",
       " DecisionTreeClassifier(random_state=478068692),\n",
       " DecisionTreeClassifier(random_state=924519212),\n",
       " DecisionTreeClassifier(random_state=733466383),\n",
       " DecisionTreeClassifier(random_state=1672275314),\n",
       " DecisionTreeClassifier(random_state=238185900),\n",
       " DecisionTreeClassifier(random_state=1536103009),\n",
       " DecisionTreeClassifier(random_state=689675985),\n",
       " DecisionTreeClassifier(random_state=1907793030),\n",
       " DecisionTreeClassifier(random_state=382225545),\n",
       " DecisionTreeClassifier(random_state=1644972390),\n",
       " DecisionTreeClassifier(random_state=847339331),\n",
       " DecisionTreeClassifier(random_state=1626851145),\n",
       " DecisionTreeClassifier(random_state=2011798348),\n",
       " DecisionTreeClassifier(random_state=2037082241),\n",
       " DecisionTreeClassifier(random_state=1857215151),\n",
       " DecisionTreeClassifier(random_state=416378566),\n",
       " DecisionTreeClassifier(random_state=1971571535),\n",
       " DecisionTreeClassifier(random_state=1274175726),\n",
       " DecisionTreeClassifier(random_state=2136282860),\n",
       " DecisionTreeClassifier(random_state=1489155995),\n",
       " DecisionTreeClassifier(random_state=53921855),\n",
       " DecisionTreeClassifier(random_state=804108957),\n",
       " DecisionTreeClassifier(random_state=944403480),\n",
       " DecisionTreeClassifier(random_state=1332483768),\n",
       " DecisionTreeClassifier(random_state=1685797527),\n",
       " DecisionTreeClassifier(random_state=954553673),\n",
       " DecisionTreeClassifier(random_state=242740042),\n",
       " DecisionTreeClassifier(random_state=277182503),\n",
       " DecisionTreeClassifier(random_state=47259024),\n",
       " DecisionTreeClassifier(random_state=248138264),\n",
       " DecisionTreeClassifier(random_state=702422597),\n",
       " DecisionTreeClassifier(random_state=939207604),\n",
       " DecisionTreeClassifier(random_state=1529342700),\n",
       " DecisionTreeClassifier(random_state=1284390939),\n",
       " DecisionTreeClassifier(random_state=863052931),\n",
       " DecisionTreeClassifier(random_state=679550330),\n",
       " DecisionTreeClassifier(random_state=453847719),\n",
       " DecisionTreeClassifier(random_state=1881191122),\n",
       " DecisionTreeClassifier(random_state=1807201344),\n",
       " DecisionTreeClassifier(random_state=1127250893),\n",
       " DecisionTreeClassifier(random_state=1690499701),\n",
       " DecisionTreeClassifier(random_state=87023501),\n",
       " DecisionTreeClassifier(random_state=196785349),\n",
       " DecisionTreeClassifier(random_state=2146979218),\n",
       " DecisionTreeClassifier(random_state=227036993),\n",
       " DecisionTreeClassifier(random_state=6548784),\n",
       " DecisionTreeClassifier(random_state=401703767),\n",
       " DecisionTreeClassifier(random_state=1957637872),\n",
       " DecisionTreeClassifier(random_state=413734935),\n",
       " DecisionTreeClassifier(random_state=2077008103),\n",
       " DecisionTreeClassifier(random_state=721477487),\n",
       " DecisionTreeClassifier(random_state=632227614),\n",
       " DecisionTreeClassifier(random_state=903198017),\n",
       " DecisionTreeClassifier(random_state=593799005),\n",
       " DecisionTreeClassifier(random_state=1050746870),\n",
       " DecisionTreeClassifier(random_state=1974551827),\n",
       " DecisionTreeClassifier(random_state=2083303979),\n",
       " DecisionTreeClassifier(random_state=640587267),\n",
       " DecisionTreeClassifier(random_state=1200156522),\n",
       " DecisionTreeClassifier(random_state=1027993271),\n",
       " DecisionTreeClassifier(random_state=1434528107),\n",
       " DecisionTreeClassifier(random_state=543625240),\n",
       " DecisionTreeClassifier(random_state=195990617),\n",
       " DecisionTreeClassifier(random_state=1040953304),\n",
       " DecisionTreeClassifier(random_state=1140418201),\n",
       " DecisionTreeClassifier(random_state=1630026140),\n",
       " DecisionTreeClassifier(random_state=1948767777),\n",
       " DecisionTreeClassifier(random_state=1645147505),\n",
       " DecisionTreeClassifier(random_state=1477362306),\n",
       " DecisionTreeClassifier(random_state=716788797),\n",
       " DecisionTreeClassifier(random_state=1727268797),\n",
       " DecisionTreeClassifier(random_state=149885973),\n",
       " DecisionTreeClassifier(random_state=1634624159)]"
      ]
     },
     "execution_count": 130,
     "metadata": {},
     "output_type": "execute_result"
    }
   ],
   "source": [
    "clf.estimators_"
   ]
  },
  {
   "cell_type": "code",
   "execution_count": 132,
   "id": "257c8955",
   "metadata": {},
   "outputs": [
    {
     "data": {
      "text/plain": [
       "array([5.05132052e-01, 1.32278580e-01, 1.09549979e-01, 7.25546688e-02,\n",
       "       1.56255590e-01, 9.77054732e-04, 3.25242845e-04, 9.23910569e-04,\n",
       "       1.08261950e-03, 2.53629992e-03, 4.89557936e-04, 1.25108377e-03,\n",
       "       8.91966484e-04, 8.15148799e-04, 2.43313148e-03, 2.96579677e-03,\n",
       "       3.16560556e-03, 5.68974302e-04, 4.97063874e-03, 8.32099901e-04])"
      ]
     },
     "execution_count": 132,
     "metadata": {},
     "output_type": "execute_result"
    }
   ],
   "source": [
    "clf.estimators_[0].feature_importances_"
   ]
  },
  {
   "cell_type": "code",
   "execution_count": 133,
   "id": "ab128918",
   "metadata": {},
   "outputs": [],
   "source": [
    "imp=[]\n",
    "for i in clf.estimators_:\n",
    "    imp.append(i.feature_importances_)"
   ]
  },
  {
   "cell_type": "code",
   "execution_count": 134,
   "id": "d16a22af",
   "metadata": {},
   "outputs": [
    {
     "data": {
      "text/plain": [
       "[array([5.05132052e-01, 1.32278580e-01, 1.09549979e-01, 7.25546688e-02,\n",
       "        1.56255590e-01, 9.77054732e-04, 3.25242845e-04, 9.23910569e-04,\n",
       "        1.08261950e-03, 2.53629992e-03, 4.89557936e-04, 1.25108377e-03,\n",
       "        8.91966484e-04, 8.15148799e-04, 2.43313148e-03, 2.96579677e-03,\n",
       "        3.16560556e-03, 5.68974302e-04, 4.97063874e-03, 8.32099901e-04]),\n",
       " array([3.86864908e-01, 1.65497880e-01, 2.19807061e-01, 7.86005696e-02,\n",
       "        1.28854285e-01, 2.42813434e-03, 7.57130099e-06, 6.03048998e-04,\n",
       "        0.00000000e+00, 1.37024526e-03, 6.56585426e-04, 1.12741732e-04,\n",
       "        1.44226767e-03, 5.84106267e-04, 1.61694260e-03, 3.32979477e-03,\n",
       "        3.21225805e-03, 1.66973547e-03, 1.98301782e-03, 1.35884640e-03]),\n",
       " array([4.94743838e-01, 1.16596241e-01, 1.12440173e-01, 1.18832715e-01,\n",
       "        1.39236397e-01, 3.04444311e-04, 1.98000577e-05, 0.00000000e+00,\n",
       "        0.00000000e+00, 1.69520128e-03, 6.69825401e-04, 2.86088110e-04,\n",
       "        2.33727053e-04, 8.47122483e-05, 1.29834325e-03, 4.83976633e-03,\n",
       "        2.91298885e-03, 4.26034070e-04, 3.20872734e-03, 2.17097788e-03]),\n",
       " array([4.70571132e-01, 1.21222279e-01, 1.10485516e-01, 1.22862002e-01,\n",
       "        1.54348923e-01, 1.72131505e-03, 1.73914370e-04, 1.75141508e-03,\n",
       "        0.00000000e+00, 9.44476463e-04, 4.82611867e-04, 2.29205700e-04,\n",
       "        5.43662269e-04, 1.43747992e-03, 2.73121241e-03, 2.32540294e-03,\n",
       "        3.69871552e-03, 3.85494091e-04, 1.74760198e-03, 2.33764096e-03]),\n",
       " array([4.98402891e-01, 1.40927806e-01, 1.08481259e-01, 1.12012104e-01,\n",
       "        1.17565763e-01, 1.97293520e-03, 3.76400360e-04, 4.19059563e-03,\n",
       "        6.14927421e-05, 1.28806810e-03, 2.61947240e-04, 7.44308876e-04,\n",
       "        0.00000000e+00, 9.01641906e-04, 2.52686246e-03, 2.27443017e-03,\n",
       "        2.31182943e-03, 8.61892430e-04, 3.36049949e-03, 1.47727210e-03]),\n",
       " array([4.89800971e-01, 1.36729367e-01, 1.21201281e-01, 9.35272764e-02,\n",
       "        1.35486688e-01, 1.52945803e-03, 1.39472808e-04, 2.65864769e-03,\n",
       "        7.62512410e-04, 1.65792998e-03, 1.02818987e-03, 3.07754329e-04,\n",
       "        7.24260355e-04, 3.59046718e-04, 3.29974810e-03, 1.37985152e-03,\n",
       "        4.65256434e-03, 1.68647204e-03, 2.76075387e-03, 3.07754329e-04]),\n",
       " array([4.99573864e-01, 1.36754291e-01, 1.14847718e-01, 9.71808401e-02,\n",
       "        1.28148643e-01, 5.23415068e-04, 1.95120150e-04, 8.06537025e-04,\n",
       "        3.61894038e-05, 7.14432188e-04, 8.66147492e-04, 1.46792663e-04,\n",
       "        1.32693644e-03, 2.37221605e-04, 5.69717982e-03, 8.58355708e-04,\n",
       "        5.20257616e-03, 8.98091265e-04, 4.65228283e-03, 1.33336648e-03]),\n",
       " array([4.98584209e-01, 1.24763930e-01, 9.97826697e-02, 1.18268183e-01,\n",
       "        1.33229600e-01, 1.00875938e-03, 0.00000000e+00, 9.61215667e-04,\n",
       "        7.33870425e-04, 1.27023163e-03, 2.11399870e-03, 1.27379930e-04,\n",
       "        1.50269791e-03, 3.07604672e-04, 3.62390575e-03, 4.95719923e-03,\n",
       "        1.86114752e-03, 0.00000000e+00, 2.87057256e-03, 4.03282543e-03]),\n",
       " array([4.82966394e-01, 1.37291913e-01, 1.02382081e-01, 1.12112554e-01,\n",
       "        1.41113408e-01, 3.98197750e-04, 4.56074792e-04, 2.62237304e-03,\n",
       "        8.82659096e-04, 1.09820658e-03, 5.51267400e-04, 3.11670896e-04,\n",
       "        1.74312880e-03, 1.20968341e-03, 3.01187937e-03, 2.39303718e-03,\n",
       "        2.99169265e-03, 8.54660125e-04, 2.22931334e-03, 3.37980495e-03]),\n",
       " array([5.08177367e-01, 1.41063266e-01, 1.12335495e-01, 8.73706529e-02,\n",
       "        1.31691205e-01, 3.42657577e-04, 2.98644467e-05, 1.05643560e-03,\n",
       "        6.20006947e-04, 1.47414610e-03, 6.71135390e-04, 2.00046953e-05,\n",
       "        1.37320403e-03, 4.38099397e-04, 3.88559243e-03, 2.47417141e-03,\n",
       "        3.01877048e-03, 1.79135877e-03, 2.16656719e-03, 0.00000000e+00]),\n",
       " array([4.96593669e-01, 1.56868828e-01, 1.02860239e-01, 9.05286438e-02,\n",
       "        1.36983113e-01, 2.30089378e-04, 2.42765990e-05, 1.93160473e-04,\n",
       "        1.22714335e-03, 2.45965364e-03, 9.49630073e-04, 1.23138615e-04,\n",
       "        0.00000000e+00, 3.45134067e-04, 2.23614299e-03, 9.90296799e-04,\n",
       "        2.11085459e-03, 1.24410300e-03, 3.21409476e-03, 8.17788552e-04]),\n",
       " array([4.81823861e-01, 1.44145548e-01, 9.95380271e-02, 1.08659711e-01,\n",
       "        1.36338949e-01, 2.62515478e-03, 0.00000000e+00, 7.89148602e-04,\n",
       "        1.40285364e-03, 3.51768556e-04, 9.44634838e-04, 4.25370952e-04,\n",
       "        7.28208279e-04, 4.46397788e-04, 3.90364985e-03, 4.62278329e-03,\n",
       "        3.07292579e-03, 1.25074825e-03, 6.54050622e-03, 2.38975409e-03]),\n",
       " array([4.77214062e-01, 1.53734076e-01, 1.11266447e-01, 9.79937455e-02,\n",
       "        1.41760302e-01, 9.37420501e-04, 3.87906272e-05, 2.73836180e-03,\n",
       "        2.16195356e-04, 7.75024174e-04, 1.76246275e-04, 6.76612886e-04,\n",
       "        8.92501317e-05, 3.74077539e-04, 3.05643091e-03, 3.50648157e-03,\n",
       "        2.17332650e-03, 5.15626301e-04, 1.47163143e-03, 1.28589154e-03]),\n",
       " array([4.97568331e-01, 1.52042037e-01, 1.05760653e-01, 6.27239684e-02,\n",
       "        1.59401865e-01, 2.71942728e-03, 4.78758910e-05, 8.49223894e-04,\n",
       "        2.27799181e-04, 9.46194068e-04, 9.15889184e-04, 1.93025877e-04,\n",
       "        4.96353460e-04, 2.09789822e-04, 3.46592350e-03, 4.52282459e-03,\n",
       "        1.38342076e-03, 1.36445376e-05, 5.41574321e-03, 1.09601024e-03]),\n",
       " array([4.96152109e-01, 9.98351375e-02, 1.18278640e-01, 1.36246506e-01,\n",
       "        1.26885826e-01, 0.00000000e+00, 2.13817742e-05, 1.76772140e-03,\n",
       "        0.00000000e+00, 1.47959609e-03, 1.77377197e-04, 3.57191746e-04,\n",
       "        1.25984446e-03, 6.99098260e-04, 1.71182294e-03, 2.96829529e-03,\n",
       "        6.81912862e-03, 1.87066161e-03, 1.38390602e-03, 2.08575663e-03]),\n",
       " array([4.85338358e-01, 1.47287399e-01, 1.24152462e-01, 6.91518518e-02,\n",
       "        1.56007472e-01, 1.17975936e-03, 1.32694481e-05, 1.97046041e-03,\n",
       "        1.41687302e-03, 1.02404818e-03, 1.46687611e-04, 0.00000000e+00,\n",
       "        1.40764443e-03, 2.04164958e-04, 4.14218767e-03, 1.70444016e-03,\n",
       "        2.11032252e-03, 8.05253808e-05, 1.51629178e-03, 1.14578143e-03]),\n",
       " array([5.06402889e-01, 1.37235922e-01, 1.05487423e-01, 1.07954369e-01,\n",
       "        1.19208164e-01, 5.78449183e-04, 0.00000000e+00, 2.11967450e-03,\n",
       "        7.93301736e-04, 1.24656318e-03, 1.12321971e-03, 5.36247015e-04,\n",
       "        5.80475270e-04, 1.13614659e-03, 4.56827897e-03, 2.40429637e-03,\n",
       "        2.13236882e-03, 4.56211080e-05, 3.24849809e-03, 3.19809261e-03]),\n",
       " array([5.01424985e-01, 1.13712435e-01, 1.09426357e-01, 1.20796295e-01,\n",
       "        1.32401046e-01, 2.01337203e-03, 5.99376810e-04, 4.92116520e-04,\n",
       "        6.80090022e-04, 9.29713745e-04, 4.97515069e-04, 1.31151837e-03,\n",
       "        9.35305501e-04, 5.69195112e-04, 2.15569135e-03, 4.72005867e-03,\n",
       "        2.98503930e-03, 5.68589786e-04, 1.40125147e-03, 2.38004915e-03]),\n",
       " array([4.79776271e-01, 1.12371514e-01, 1.16231697e-01, 1.05251320e-01,\n",
       "        1.59744924e-01, 3.90251283e-04, 8.90893264e-04, 2.14698748e-03,\n",
       "        5.33543068e-04, 2.36044494e-03, 3.34468202e-04, 4.36184240e-04,\n",
       "        4.22281968e-04, 0.00000000e+00, 4.80801750e-03, 2.01519492e-03,\n",
       "        2.94644203e-03, 1.20604987e-03, 6.54368610e-03, 1.58983014e-03]),\n",
       " array([4.93312670e-01, 1.57588380e-01, 9.53014767e-02, 8.38291290e-02,\n",
       "        1.45808330e-01, 5.31714720e-04, 7.34152805e-05, 3.29939613e-03,\n",
       "        8.47419825e-04, 1.98772826e-03, 6.59243127e-04, 3.97795115e-04,\n",
       "        7.06915318e-04, 1.28861237e-03, 2.05309134e-03, 2.25776575e-03,\n",
       "        2.98564371e-03, 1.02961038e-03, 3.76155421e-03, 2.28010948e-03]),\n",
       " array([4.76709705e-01, 1.49997135e-01, 1.14904025e-01, 9.52268739e-02,\n",
       "        1.40968190e-01, 1.52447508e-03, 1.10356446e-04, 5.26713228e-04,\n",
       "        3.97234650e-04, 2.53583518e-03, 5.29787211e-04, 0.00000000e+00,\n",
       "        7.59945603e-04, 1.10028373e-03, 3.43438634e-03, 3.08270053e-03,\n",
       "        5.07803462e-03, 3.94250069e-04, 2.48834829e-03, 2.31720213e-04]),\n",
       " array([5.13484601e-01, 1.39772565e-01, 1.10259327e-01, 9.36586709e-02,\n",
       "        1.23643130e-01, 4.07219726e-04, 1.63290007e-04, 3.85044365e-04,\n",
       "        6.96964651e-05, 2.46592616e-03, 8.97905220e-04, 8.73191576e-04,\n",
       "        1.54396365e-03, 5.61823081e-04, 2.66645301e-03, 1.55646424e-03,\n",
       "        2.07763836e-03, 1.40657409e-03, 3.28294256e-03, 8.23572973e-04]),\n",
       " array([5.10682018e-01, 1.47295598e-01, 9.92838614e-02, 8.74023983e-02,\n",
       "        1.31284203e-01, 1.08509800e-03, 1.24567755e-05, 1.12378571e-03,\n",
       "        3.57636016e-04, 3.73514386e-04, 3.78446967e-04, 1.76480013e-03,\n",
       "        5.63534598e-04, 4.47049950e-04, 2.34020617e-03, 3.42255974e-03,\n",
       "        4.60478359e-03, 1.06056390e-05, 5.64074549e-03, 1.92669794e-03]),\n",
       " array([4.91946990e-01, 1.43460673e-01, 1.08579164e-01, 9.55733085e-02,\n",
       "        1.28465279e-01, 1.36230843e-03, 1.99691583e-05, 1.03241482e-03,\n",
       "        2.46990624e-04, 1.19210882e-03, 1.14823063e-03, 7.20082283e-04,\n",
       "        1.23081897e-03, 1.24405765e-03, 1.77995896e-03, 4.49556516e-03,\n",
       "        6.63010074e-03, 1.23489102e-03, 6.18250489e-03, 3.45458403e-03]),\n",
       " array([5.01322799e-01, 1.37746551e-01, 1.20380331e-01, 9.74323816e-02,\n",
       "        1.22646292e-01, 2.06089146e-03, 1.10793951e-04, 2.43659324e-03,\n",
       "        7.55330055e-04, 2.51361481e-03, 1.00653623e-03, 1.03465320e-03,\n",
       "        6.13757575e-04, 5.26136819e-04, 1.86758678e-03, 2.59892338e-03,\n",
       "        1.17373673e-03, 7.33537641e-05, 1.97028109e-03, 1.72945605e-03]),\n",
       " array([5.01168077e-01, 1.42937829e-01, 1.02360494e-01, 8.97532536e-02,\n",
       "        1.43497257e-01, 1.35610088e-04, 1.49425668e-05, 8.27236246e-04,\n",
       "        0.00000000e+00, 4.43353507e-04, 3.58401978e-04, 1.66793156e-04,\n",
       "        7.34763189e-04, 7.56950367e-04, 2.92760485e-03, 2.10954075e-03,\n",
       "        2.14283429e-03, 7.86796771e-04, 3.73954864e-03, 5.13871356e-03]),\n",
       " array([4.88908626e-01, 1.44025827e-01, 1.04524449e-01, 1.06091359e-01,\n",
       "        1.33298977e-01, 3.48947265e-03, 1.51958548e-05, 1.20150385e-03,\n",
       "        1.97350998e-04, 1.21212665e-03, 4.79172180e-04, 1.75422497e-04,\n",
       "        2.18011437e-04, 1.63577636e-03, 3.04275874e-03, 2.08073893e-03,\n",
       "        5.09387665e-03, 6.03118880e-04, 1.33845829e-03, 2.36777847e-03]),\n",
       " array([5.02894504e-01, 1.56257914e-01, 9.83630067e-02, 9.60963512e-02,\n",
       "        1.24424283e-01, 3.04013069e-03, 1.97707921e-05, 2.84384439e-03,\n",
       "        1.16522338e-03, 4.79669024e-04, 4.69171534e-04, 1.21676772e-03,\n",
       "        8.29496912e-04, 4.98508731e-04, 1.84956461e-03, 1.64277039e-03,\n",
       "        2.83113516e-03, 2.16224724e-04, 1.52180085e-03, 3.33986234e-03]),\n",
       " array([5.22479204e-01, 1.47989442e-01, 1.03322142e-01, 8.85765886e-02,\n",
       "        1.17420568e-01, 5.47221389e-04, 4.66563600e-04, 1.03694997e-03,\n",
       "        1.30492174e-03, 2.76240526e-03, 8.91883340e-05, 9.79631154e-04,\n",
       "        3.39569200e-04, 2.94657671e-04, 3.53222530e-03, 3.11731797e-03,\n",
       "        2.11884682e-03, 5.55236969e-04, 1.61117128e-03, 1.45614782e-03]),\n",
       " array([4.87095551e-01, 1.58907502e-01, 1.25387673e-01, 8.94508493e-02,\n",
       "        1.19506123e-01, 1.86148571e-03, 6.11393064e-05, 1.17327569e-03,\n",
       "        1.42056914e-03, 2.21111853e-03, 3.69048428e-04, 3.47580319e-04,\n",
       "        4.20929603e-04, 3.86200354e-04, 2.60672756e-03, 8.65231536e-04,\n",
       "        1.80783149e-03, 1.49027901e-03, 2.41766789e-03, 2.21321837e-03]),\n",
       " array([5.25371122e-01, 1.03563205e-01, 1.03805992e-01, 1.01295029e-01,\n",
       "        1.39988914e-01, 3.93485653e-03, 7.87454277e-05, 1.17322911e-03,\n",
       "        6.99962429e-04, 2.62390992e-03, 5.29329846e-04, 0.00000000e+00,\n",
       "        5.85562272e-04, 4.32332042e-04, 3.77326726e-03, 2.59315813e-03,\n",
       "        4.71492074e-03, 7.83069911e-04, 1.66266967e-03, 2.39072386e-03]),\n",
       " array([4.89055703e-01, 1.53945480e-01, 1.22333829e-01, 8.89380319e-02,\n",
       "        1.27689565e-01, 5.79350276e-04, 1.58192950e-04, 2.05256329e-03,\n",
       "        1.69156279e-03, 1.32029299e-03, 1.06604665e-04, 0.00000000e+00,\n",
       "        0.00000000e+00, 0.00000000e+00, 3.41089942e-03, 3.36441139e-03,\n",
       "        1.71831747e-03, 1.38865737e-04, 2.40163382e-03, 1.09469619e-03]),\n",
       " array([4.82099496e-01, 1.17138083e-01, 1.07606574e-01, 1.31637846e-01,\n",
       "        1.36525068e-01, 2.07375767e-03, 3.63298139e-05, 2.02005178e-03,\n",
       "        2.54216501e-04, 1.29470953e-03, 2.09967626e-04, 1.45309022e-03,\n",
       "        2.05281663e-03, 7.32236334e-04, 1.76594521e-03, 2.07717223e-03,\n",
       "        5.05067848e-03, 3.88448161e-04, 3.69304766e-03, 1.89046459e-03]),\n",
       " array([4.82659149e-01, 1.21431732e-01, 1.09669954e-01, 1.19375110e-01,\n",
       "        1.41639551e-01, 1.64641108e-03, 1.97696429e-05, 1.75521829e-03,\n",
       "        3.50057801e-05, 3.13402657e-03, 8.08597475e-04, 2.34306681e-04,\n",
       "        2.41644681e-04, 1.38655763e-03, 1.68694416e-03, 2.33580444e-03,\n",
       "        4.29397997e-03, 1.09439668e-05, 4.44844207e-03, 3.18685108e-03]),\n",
       " array([4.78691270e-01, 1.49631150e-01, 1.15367567e-01, 9.29518422e-02,\n",
       "        1.40289238e-01, 1.81741197e-03, 4.16350575e-05, 2.34642481e-03,\n",
       "        1.31472840e-03, 2.10747884e-03, 1.81101861e-03, 9.36071420e-05,\n",
       "        2.18348861e-04, 0.00000000e+00, 1.87868339e-03, 3.50089567e-03,\n",
       "        2.23261769e-03, 1.56627928e-03, 2.01041902e-03, 2.12938411e-03]),\n",
       " array([4.94080357e-01, 1.54138638e-01, 1.10031091e-01, 8.45451483e-02,\n",
       "        1.30139843e-01, 3.43507115e-03, 6.17163508e-04, 6.19846609e-05,\n",
       "        1.01037249e-03, 9.59303351e-04, 3.86712599e-04, 3.39876835e-04,\n",
       "        1.54849367e-03, 4.62872631e-04, 2.22735842e-03, 3.42164586e-03,\n",
       "        4.87582601e-03, 1.26320811e-03, 5.19325879e-03, 1.26177424e-03]),\n",
       " array([5.24329249e-01, 1.07399199e-01, 1.15680647e-01, 1.11616681e-01,\n",
       "        1.20535913e-01, 6.78034316e-04, 0.00000000e+00, 1.65124184e-03,\n",
       "        1.88607356e-04, 8.22219928e-04, 4.39744461e-04, 1.58564247e-05,\n",
       "        1.65878986e-03, 7.55983071e-04, 2.18578810e-03, 1.87334958e-03,\n",
       "        3.96293528e-03, 1.12262908e-03, 2.52240635e-03, 2.56072617e-03]),\n",
       " array([5.05963970e-01, 1.44166677e-01, 1.11319186e-01, 6.59434050e-02,\n",
       "        1.50156553e-01, 1.44149584e-03, 1.25141215e-03, 1.22148428e-03,\n",
       "        7.49979425e-04, 1.32601514e-03, 2.36751319e-04, 9.70554090e-05,\n",
       "        1.20503276e-03, 8.21926455e-04, 2.58495069e-03, 5.04165087e-03,\n",
       "        2.03590312e-03, 1.36883113e-03, 1.32939996e-03, 1.73832097e-03]),\n",
       " array([4.82729943e-01, 1.52431056e-01, 1.05300240e-01, 9.38347437e-02,\n",
       "        1.40715354e-01, 2.45028476e-03, 1.91362962e-04, 1.91675064e-03,\n",
       "        3.94934910e-04, 8.83690458e-04, 9.60433921e-04, 3.48105574e-04,\n",
       "        6.80128803e-04, 6.87777803e-04, 3.57367156e-03, 2.49868587e-03,\n",
       "        4.42695830e-03, 4.16904493e-04, 3.02938797e-03, 2.52958530e-03]),\n",
       " array([0.49568893, 0.16184088, 0.11687487, 0.08251817, 0.12464735,\n",
       "        0.00182457, 0.        , 0.00113673, 0.        , 0.00085485,\n",
       "        0.00056074, 0.00107456, 0.00158914, 0.00092456, 0.00180273,\n",
       "        0.0007705 , 0.00062563, 0.00121474, 0.00458158, 0.00146949]),\n",
       " array([4.86868921e-01, 1.39543665e-01, 1.15272683e-01, 1.03421825e-01,\n",
       "        1.35110209e-01, 7.47862874e-04, 2.74659426e-04, 2.93069420e-03,\n",
       "        1.19245781e-03, 2.66683660e-03, 3.67690770e-04, 0.00000000e+00,\n",
       "        4.23291763e-04, 3.35275628e-04, 1.06301658e-03, 1.46763187e-03,\n",
       "        2.65282168e-03, 2.17977236e-03, 1.66041330e-03, 1.82027158e-03]),\n",
       " array([5.01609228e-01, 1.14678838e-01, 1.08231896e-01, 1.29621337e-01,\n",
       "        1.23805687e-01, 1.94563363e-03, 8.15440135e-05, 1.27376204e-03,\n",
       "        1.21509766e-03, 1.22734661e-03, 6.55979707e-04, 2.75368994e-04,\n",
       "        1.76473383e-04, 8.92639051e-05, 2.08964026e-03, 4.67753046e-03,\n",
       "        4.56896460e-03, 1.16596070e-03, 1.13376752e-03, 1.47668003e-03]),\n",
       " array([4.97135631e-01, 1.40057912e-01, 1.04987642e-01, 9.25900003e-02,\n",
       "        1.39679722e-01, 5.04594638e-05, 1.68341917e-05, 1.51403431e-03,\n",
       "        3.36677037e-04, 1.12645515e-03, 5.72247909e-04, 6.88271974e-04,\n",
       "        5.39101137e-04, 1.74975411e-03, 1.60300470e-03, 3.09588759e-03,\n",
       "        5.19265497e-03, 1.10041711e-03, 3.08268265e-03, 4.88060960e-03]),\n",
       " array([5.01809341e-01, 1.40676971e-01, 1.07423703e-01, 9.87160786e-02,\n",
       "        1.31348686e-01, 1.36702122e-03, 1.54981229e-05, 7.65167883e-04,\n",
       "        9.78107782e-04, 6.25734614e-04, 5.08700396e-04, 8.72013939e-04,\n",
       "        4.72286329e-04, 4.07266820e-04, 1.56607733e-03, 3.23224747e-03,\n",
       "        1.15544074e-03, 2.76260074e-03, 2.66507638e-03, 2.63198115e-03]),\n",
       " array([5.03288930e-01, 1.44951456e-01, 1.13509438e-01, 6.19050506e-02,\n",
       "        1.53344495e-01, 1.97792593e-03, 1.43570757e-05, 1.02790080e-03,\n",
       "        5.59454779e-05, 1.56648472e-03, 1.16856694e-03, 1.43397448e-03,\n",
       "        1.14879837e-03, 0.00000000e+00, 1.09185448e-03, 3.22769410e-03,\n",
       "        1.92069766e-03, 1.26453033e-03, 4.32484075e-03, 2.77705880e-03]),\n",
       " array([4.91767849e-01, 1.37939817e-01, 1.08004311e-01, 8.19338399e-02,\n",
       "        1.61174704e-01, 2.70456009e-03, 6.31232550e-05, 2.84546789e-03,\n",
       "        3.75087479e-04, 1.49318541e-03, 2.56182826e-04, 0.00000000e+00,\n",
       "        9.28941099e-04, 4.22428438e-04, 9.02275210e-04, 1.52235265e-03,\n",
       "        2.96414109e-03, 1.12421175e-03, 1.68991993e-03, 1.88760154e-03]),\n",
       " array([4.94873397e-01, 1.47842290e-01, 1.13559422e-01, 8.89603795e-02,\n",
       "        1.32837476e-01, 1.18187098e-03, 2.09939521e-05, 2.23278988e-03,\n",
       "        1.26223086e-03, 1.61362130e-03, 3.31729763e-04, 3.41018483e-04,\n",
       "        1.02613814e-04, 4.23514606e-04, 1.44015835e-03, 3.53235242e-03,\n",
       "        4.97290342e-03, 9.21762244e-04, 9.15802475e-04, 2.63367232e-03]),\n",
       " array([4.92225537e-01, 1.54460350e-01, 1.11333245e-01, 9.19173042e-02,\n",
       "        1.30577247e-01, 2.38120214e-03, 2.68516984e-05, 1.73691835e-03,\n",
       "        2.82774413e-05, 3.41609734e-04, 1.21480791e-03, 4.27561546e-04,\n",
       "        1.51821511e-03, 1.83465686e-04, 2.44626371e-03, 3.80726025e-03,\n",
       "        1.40429576e-03, 1.03485332e-03, 1.92617243e-03, 1.00856207e-03]),\n",
       " array([4.92973399e-01, 1.54518185e-01, 1.08734345e-01, 8.22784703e-02,\n",
       "        1.39763407e-01, 1.47920643e-03, 6.40368835e-04, 1.18867156e-03,\n",
       "        6.21902899e-04, 8.50183412e-04, 8.78757448e-04, 4.26532157e-04,\n",
       "        2.40875908e-04, 1.83788397e-03, 1.14271668e-03, 5.32965372e-03,\n",
       "        2.90545330e-03, 3.68768592e-05, 2.30966290e-03, 1.84344654e-03]),\n",
       " array([5.10466078e-01, 1.49344641e-01, 1.09189343e-01, 8.42287879e-02,\n",
       "        1.19768944e-01, 1.31155355e-03, 0.00000000e+00, 4.59132407e-05,\n",
       "        4.47756432e-04, 1.97175806e-03, 1.33385101e-03, 6.09029151e-04,\n",
       "        1.34551978e-03, 3.94934910e-04, 2.71276776e-03, 4.16358976e-03,\n",
       "        3.66801086e-03, 1.58328258e-04, 5.96435488e-03, 2.87483863e-03]),\n",
       " array([4.95355519e-01, 1.15056257e-01, 1.10539931e-01, 1.22969206e-01,\n",
       "        1.31017173e-01, 1.42230862e-03, 2.85803470e-05, 1.91673525e-03,\n",
       "        1.47934474e-03, 3.86836549e-04, 7.45971039e-04, 8.60503375e-04,\n",
       "        1.21427936e-03, 8.62083071e-04, 2.20964153e-03, 4.21001568e-03,\n",
       "        2.88053400e-03, 2.09234049e-03, 2.81277781e-03, 1.93996216e-03]),\n",
       " array([4.72299527e-01, 1.55557305e-01, 1.01703612e-01, 1.00029595e-01,\n",
       "        1.44778386e-01, 1.51062810e-03, 5.01889550e-05, 4.01856684e-04,\n",
       "        1.40773004e-04, 2.80102118e-03, 1.04946664e-03, 4.97671863e-04,\n",
       "        4.73181174e-05, 8.62002741e-05, 4.22070020e-03, 2.89684090e-03,\n",
       "        2.52422726e-03, 1.68479968e-03, 3.11737952e-03, 4.60250306e-03]),\n",
       " array([5.01461088e-01, 1.43561096e-01, 9.63008984e-02, 9.69559797e-02,\n",
       "        1.40236400e-01, 2.60748445e-03, 6.33828746e-05, 1.65409633e-03,\n",
       "        5.45725282e-04, 1.76763959e-03, 4.31869208e-04, 1.09488281e-03,\n",
       "        8.30169110e-04, 2.02111393e-04, 1.87033267e-03, 1.29506799e-03,\n",
       "        4.35989178e-03, 1.50064179e-03, 1.39323953e-03, 1.86800272e-03]),\n",
       " array([5.12675827e-01, 1.10574829e-01, 9.73421853e-02, 1.32608674e-01,\n",
       "        1.25765041e-01, 2.26556666e-03, 1.72994605e-05, 1.69185304e-03,\n",
       "        3.28480271e-04, 1.52460400e-03, 5.54992072e-04, 7.70690651e-04,\n",
       "        3.85164613e-04, 4.20819124e-04, 4.49835510e-03, 1.94043048e-03,\n",
       "        7.43984543e-04, 3.31080173e-04, 2.54604762e-03, 3.01407543e-03]),\n",
       " array([4.92682390e-01, 1.44893171e-01, 1.06298611e-01, 9.10195624e-02,\n",
       "        1.38047828e-01, 2.30334547e-03, 6.85839950e-06, 2.00105670e-03,\n",
       "        1.05925031e-03, 1.17462120e-03, 3.06917932e-04, 1.56951268e-04,\n",
       "        4.61148347e-04, 2.16425844e-04, 5.94702010e-03, 4.61040819e-03,\n",
       "        3.28628739e-03, 1.01910585e-04, 3.85928103e-03, 1.56695459e-03]),\n",
       " array([5.19899518e-01, 1.39670537e-01, 1.09622457e-01, 8.28871347e-02,\n",
       "        1.24688398e-01, 1.92516145e-03, 8.59358260e-05, 7.31506080e-04,\n",
       "        7.50357834e-04, 6.06710647e-04, 2.16100659e-03, 7.22639874e-04,\n",
       "        8.64121274e-04, 1.02316975e-03, 2.97020153e-03, 2.19816098e-03,\n",
       "        4.82759367e-03, 9.76741396e-05, 1.37615277e-03, 2.89156298e-03]),\n",
       " array([5.20321012e-01, 1.38859330e-01, 1.04709038e-01, 9.65066438e-02,\n",
       "        1.19898924e-01, 9.49923416e-04, 5.86864669e-05, 2.60559472e-03,\n",
       "        1.01255992e-03, 4.89495143e-05, 4.69862200e-05, 1.70394123e-05,\n",
       "        2.10164151e-03, 0.00000000e+00, 1.32652736e-03, 3.20908188e-03,\n",
       "        3.81607838e-03, 2.55241513e-04, 2.30008138e-03, 1.95666079e-03]),\n",
       " array([4.97966353e-01, 1.15106694e-01, 1.06168576e-01, 1.21954868e-01,\n",
       "        1.31774502e-01, 1.41642881e-03, 7.38740901e-05, 3.17249627e-03,\n",
       "        1.76248209e-03, 1.04995643e-03, 5.14074591e-04, 5.64165043e-05,\n",
       "        6.11882717e-04, 9.09596659e-04, 2.58875632e-03, 4.78555525e-03,\n",
       "        5.33690227e-03, 6.05502044e-04, 8.28910328e-04, 3.31617264e-03]),\n",
       " array([4.65537921e-01, 1.51887772e-01, 1.05281560e-01, 1.03267707e-01,\n",
       "        1.44950299e-01, 5.74796264e-04, 9.27352698e-04, 1.26804610e-03,\n",
       "        9.12568734e-04, 1.21318477e-03, 4.20694168e-04, 1.87153624e-03,\n",
       "        1.20296147e-03, 1.43793112e-03, 4.67728479e-03, 2.03134717e-03,\n",
       "        5.76791571e-03, 4.53695380e-04, 3.74051317e-03, 2.57491248e-03]),\n",
       " array([5.09065811e-01, 1.21890818e-01, 1.01974985e-01, 1.17540499e-01,\n",
       "        1.26640973e-01, 1.26600949e-03, 3.88266560e-04, 2.92383983e-03,\n",
       "        4.03352661e-04, 7.23321197e-04, 8.48129917e-04, 3.88947209e-04,\n",
       "        1.15188207e-04, 7.86537689e-04, 3.28953235e-03, 7.88777885e-04,\n",
       "        5.78456225e-03, 1.12595062e-03, 3.01398073e-03, 1.04051689e-03]),\n",
       " array([4.92969429e-01, 1.25660523e-01, 1.00182644e-01, 1.22077198e-01,\n",
       "        1.36885333e-01, 4.83503351e-04, 1.06068723e-05, 4.99047974e-04,\n",
       "        6.98228901e-04, 1.13512766e-03, 3.28477192e-04, 1.24820903e-04,\n",
       "        5.83083597e-04, 0.00000000e+00, 2.64952888e-03, 3.62122803e-03,\n",
       "        4.57833046e-03, 1.16068697e-03, 5.51774563e-03, 8.34455896e-04]),\n",
       " array([4.90900742e-01, 1.48905807e-01, 1.04827261e-01, 7.33558785e-02,\n",
       "        1.57579271e-01, 1.85901711e-03, 4.20086111e-04, 1.33319673e-03,\n",
       "        0.00000000e+00, 1.11273153e-03, 4.86269780e-04, 9.35428244e-04,\n",
       "        5.69986900e-04, 4.76088200e-04, 3.24639106e-03, 1.03312915e-03,\n",
       "        2.56274602e-03, 7.99063494e-04, 6.31601111e-03, 3.28089464e-03]),\n",
       " array([4.99183519e-01, 1.54096070e-01, 1.07010081e-01, 1.04487244e-01,\n",
       "        1.16698516e-01, 1.89746517e-03, 6.57064603e-05, 1.17971803e-03,\n",
       "        9.98468200e-04, 1.12739274e-03, 1.97975087e-04, 8.39332510e-05,\n",
       "        8.07936229e-04, 1.93383934e-03, 2.20356710e-03, 2.55665141e-03,\n",
       "        1.59784036e-03, 7.01852580e-04, 2.73211037e-03, 4.40113185e-04]),\n",
       " array([5.00702325e-01, 1.35093480e-01, 1.16308006e-01, 6.73123935e-02,\n",
       "        1.61869458e-01, 1.37748679e-03, 2.83265597e-05, 8.62153351e-04,\n",
       "        3.09645492e-04, 1.37150316e-03, 3.42315940e-04, 1.15417956e-03,\n",
       "        2.01307356e-04, 1.19812736e-03, 1.21726840e-03, 4.30737655e-03,\n",
       "        8.64012947e-04, 1.39540243e-03, 3.11758956e-03, 9.67642162e-04]),\n",
       " array([4.82540943e-01, 1.19681679e-01, 1.10515937e-01, 1.31766038e-01,\n",
       "        1.38002963e-01, 2.02172833e-03, 0.00000000e+00, 9.44464936e-04,\n",
       "        9.40867143e-04, 2.59678248e-03, 3.31585348e-04, 1.13933566e-03,\n",
       "        6.47967961e-04, 8.66966346e-04, 2.01861818e-03, 1.32409109e-03,\n",
       "        1.36633504e-03, 6.78473128e-04, 1.59770946e-03, 1.01751451e-03]),\n",
       " array([4.98721046e-01, 1.44300539e-01, 1.02440182e-01, 9.84062242e-02,\n",
       "        1.32490320e-01, 2.27828779e-03, 6.67114773e-05, 2.37213309e-05,\n",
       "        4.81100354e-04, 3.24086851e-03, 2.15286715e-04, 6.04354438e-04,\n",
       "        1.15252706e-03, 1.14217668e-04, 3.14531896e-03, 2.97341785e-03,\n",
       "        1.25024077e-03, 1.58512738e-03, 4.53149132e-03, 1.97901776e-03]),\n",
       " array([5.04262473e-01, 1.29003314e-01, 1.06427111e-01, 9.57499645e-02,\n",
       "        1.36915915e-01, 1.33424844e-03, 2.54225992e-04, 2.14357951e-03,\n",
       "        2.30677711e-03, 1.08075885e-03, 4.18365623e-04, 0.00000000e+00,\n",
       "        1.11430341e-03, 1.87904289e-03, 3.25031037e-03, 3.73494666e-03,\n",
       "        7.70883332e-04, 1.09908716e-03, 4.76138724e-03, 3.49330530e-03]),\n",
       " array([5.04863625e-01, 1.05358027e-01, 1.07952065e-01, 1.17333129e-01,\n",
       "        1.31647048e-01, 3.30282019e-03, 0.00000000e+00, 2.06378918e-03,\n",
       "        1.10135865e-03, 1.04609512e-03, 3.41548477e-04, 1.07411637e-03,\n",
       "        1.46121101e-03, 9.19102147e-04, 6.19542875e-03, 4.81302812e-03,\n",
       "        3.82888747e-03, 1.11044294e-03, 3.51183965e-03, 2.07643777e-03]),\n",
       " array([4.88336097e-01, 1.49960538e-01, 1.07779736e-01, 1.01826137e-01,\n",
       "        1.29231356e-01, 4.93103804e-04, 4.56452549e-05, 3.74492146e-03,\n",
       "        8.94601603e-04, 1.13123857e-03, 2.81605018e-04, 8.37239076e-04,\n",
       "        5.10317868e-04, 7.88731990e-04, 1.56813425e-03, 2.18445714e-03,\n",
       "        2.54990683e-03, 7.63706042e-04, 4.49258231e-03, 2.57994394e-03]),\n",
       " array([5.08168424e-01, 1.48483739e-01, 1.12174479e-01, 8.02632502e-02,\n",
       "        1.31159048e-01, 1.41668519e-03, 1.16957015e-05, 9.14596620e-04,\n",
       "        0.00000000e+00, 1.21778985e-03, 1.58297011e-03, 0.00000000e+00,\n",
       "        8.76939775e-04, 1.09713929e-03, 4.08002081e-03, 1.85311580e-03,\n",
       "        4.16908966e-03, 8.47137074e-06, 1.82165925e-03, 7.00886244e-04]),\n",
       " array([4.98764191e-01, 1.48123604e-01, 1.02869323e-01, 9.41284213e-02,\n",
       "        1.33507023e-01, 2.01161535e-03, 2.88067842e-04, 1.73179963e-03,\n",
       "        0.00000000e+00, 1.90442214e-03, 1.38242657e-04, 5.79733088e-04,\n",
       "        1.35409880e-03, 1.22991787e-03, 1.30316891e-03, 1.13934349e-03,\n",
       "        3.99724414e-03, 5.87582590e-04, 4.05634750e-03, 2.28585423e-03]),\n",
       " array([5.03388456e-01, 1.16478518e-01, 1.20271891e-01, 7.72677602e-02,\n",
       "        1.52290474e-01, 2.01602811e-03, 6.55046101e-06, 1.93762278e-03,\n",
       "        9.54086466e-04, 1.57961984e-03, 1.45576601e-03, 7.15003091e-04,\n",
       "        2.63115994e-03, 1.25817075e-03, 1.49875942e-03, 3.91278965e-03,\n",
       "        3.28865274e-03, 2.25422479e-04, 4.60053570e-03, 4.22273313e-03]),\n",
       " array([5.07672614e-01, 1.39054038e-01, 1.19021971e-01, 9.37627054e-02,\n",
       "        1.25145744e-01, 1.58860524e-03, 1.21757519e-05, 3.41820045e-04,\n",
       "        4.52107624e-04, 9.39360247e-04, 8.75664333e-04, 1.22126373e-03,\n",
       "        5.62145085e-04, 4.94682943e-05, 2.07672200e-03, 3.25181263e-03,\n",
       "        1.81487883e-03, 9.76523216e-04, 7.85171914e-04, 3.95208656e-04]),\n",
       " array([4.88258856e-01, 1.25815460e-01, 1.13065202e-01, 9.09328509e-02,\n",
       "        1.62552189e-01, 1.67532359e-03, 1.97035967e-05, 2.44740149e-03,\n",
       "        7.25892973e-04, 5.21880516e-04, 5.31988255e-04, 5.46833592e-04,\n",
       "        8.95641120e-04, 7.81190846e-04, 1.06560833e-03, 1.05938495e-03,\n",
       "        5.58700245e-03, 3.47699406e-04, 3.07815879e-03, 9.17322997e-05]),\n",
       " array([4.93871358e-01, 1.26882358e-01, 1.00374012e-01, 1.22056572e-01,\n",
       "        1.33029148e-01, 1.88511982e-03, 0.00000000e+00, 1.01936441e-03,\n",
       "        1.88973119e-03, 2.45671761e-03, 4.63142781e-04, 3.63492822e-05,\n",
       "        4.43391389e-04, 4.50681882e-04, 2.02162011e-03, 3.22785801e-03,\n",
       "        4.59593556e-03, 1.21899807e-03, 3.49227902e-03, 5.85362658e-04]),\n",
       " array([5.10418679e-01, 1.36871193e-01, 9.84504726e-02, 9.89865959e-02,\n",
       "        1.30079357e-01, 1.60136240e-03, 1.27659210e-05, 2.91690243e-03,\n",
       "        6.35276441e-04, 2.82922025e-03, 4.95480365e-04, 2.14447141e-04,\n",
       "        3.45473094e-04, 9.51276306e-04, 7.53889326e-04, 4.63875068e-04,\n",
       "        4.04625394e-03, 6.83243420e-04, 5.74430697e-03, 3.49992961e-03]),\n",
       " array([4.79903988e-01, 1.42417093e-01, 1.08804247e-01, 6.94984761e-02,\n",
       "        1.73443402e-01, 1.92757806e-03, 3.45383926e-04, 1.17111358e-03,\n",
       "        8.13086947e-04, 3.21794509e-03, 2.97959180e-04, 4.57737550e-04,\n",
       "        4.44205845e-04, 7.52486901e-04, 2.53181360e-03, 3.56654507e-03,\n",
       "        2.83969149e-03, 6.84821649e-04, 4.46350513e-03, 2.41892086e-03]),\n",
       " array([5.11012774e-01, 1.17436380e-01, 1.01905046e-01, 1.07223235e-01,\n",
       "        1.31243991e-01, 3.51725812e-03, 1.10547766e-04, 2.50718463e-03,\n",
       "        8.32889499e-04, 4.85113913e-04, 1.31730109e-03, 2.21191383e-03,\n",
       "        3.47126159e-04, 4.42701924e-04, 4.60132912e-03, 2.01829174e-03,\n",
       "        3.49860542e-03, 1.71059640e-04, 5.17612931e-03, 3.94112136e-03]),\n",
       " array([5.20871892e-01, 1.05785517e-01, 9.99165125e-02, 1.04686524e-01,\n",
       "        1.48727668e-01, 2.06747232e-03, 3.78042273e-04, 1.80649604e-03,\n",
       "        8.10325425e-04, 6.43783647e-04, 2.94209792e-04, 2.92660917e-04,\n",
       "        4.57536153e-04, 9.83158043e-04, 2.76998005e-03, 2.28730530e-03,\n",
       "        2.02732096e-03, 1.45122063e-03, 2.47779662e-03, 1.26457909e-03]),\n",
       " array([4.98959107e-01, 1.36993343e-01, 1.16044545e-01, 1.01662666e-01,\n",
       "        1.22548743e-01, 1.44198141e-03, 4.31760884e-05, 6.33468840e-04,\n",
       "        1.02881787e-04, 1.79550328e-03, 2.60338971e-04, 3.07048859e-04,\n",
       "        1.03556858e-03, 4.17571976e-04, 1.63280992e-03, 1.49113382e-03,\n",
       "        5.96056246e-03, 1.00080226e-03, 5.12873512e-03, 2.54001187e-03]),\n",
       " array([4.92900738e-01, 1.44982926e-01, 1.06273555e-01, 9.15263153e-02,\n",
       "        1.38240721e-01, 1.33319710e-03, 3.22604796e-05, 1.70306929e-03,\n",
       "        3.30188220e-04, 2.30051609e-03, 4.63216812e-04, 1.43899171e-04,\n",
       "        8.63887218e-04, 0.00000000e+00, 1.01651443e-03, 3.92929835e-03,\n",
       "        6.23806193e-03, 2.49686058e-03, 2.00532309e-03, 3.21945221e-03]),\n",
       " array([4.87339272e-01, 1.23149862e-01, 1.10173020e-01, 9.16554150e-02,\n",
       "        1.68782847e-01, 4.09692538e-04, 0.00000000e+00, 1.04837927e-03,\n",
       "        7.89736982e-04, 8.57964540e-04, 1.10932219e-04, 4.52079551e-05,\n",
       "        0.00000000e+00, 5.41079595e-04, 1.96074465e-03, 2.37498069e-03,\n",
       "        4.78645432e-03, 8.69487390e-04, 4.24937535e-03, 8.55548397e-04]),\n",
       " array([4.82934549e-01, 1.32531812e-01, 1.05525336e-01, 1.24240434e-01,\n",
       "        1.31760134e-01, 3.63291419e-03, 3.87305909e-05, 1.47478511e-03,\n",
       "        6.12164738e-04, 1.17181706e-03, 8.80808427e-04, 3.64110820e-04,\n",
       "        1.55674237e-03, 2.06412676e-03, 1.54491094e-03, 2.32138157e-03,\n",
       "        1.54708887e-03, 1.44481398e-03, 2.64467940e-03, 1.70866053e-03]),\n",
       " array([4.96169319e-01, 1.46832902e-01, 1.07782760e-01, 8.95331064e-02,\n",
       "        1.37063036e-01, 2.05923765e-03, 1.13336027e-03, 5.74586142e-04,\n",
       "        0.00000000e+00, 6.43627609e-04, 8.34638578e-04, 8.83010593e-04,\n",
       "        6.26409137e-05, 9.69689738e-04, 9.64417239e-04, 2.61797531e-03,\n",
       "        3.28825798e-03, 1.26491549e-03, 4.89337598e-03, 2.42914314e-03]),\n",
       " array([4.97768171e-01, 1.54634431e-01, 9.81545242e-02, 9.98473123e-02,\n",
       "        1.31315758e-01, 1.87081803e-04, 8.01439252e-06, 1.32157318e-03,\n",
       "        1.33782797e-05, 4.89004254e-04, 4.35553649e-04, 1.96931936e-04,\n",
       "        3.37858459e-04, 2.82500839e-04, 1.28974257e-03, 5.85478921e-03,\n",
       "        2.81077305e-03, 9.14555777e-05, 1.84478023e-03, 3.11636674e-03]),\n",
       " array([4.86863193e-01, 1.15800561e-01, 1.05688714e-01, 1.34867574e-01,\n",
       "        1.37498329e-01, 1.12563118e-03, 7.33354749e-05, 2.18623818e-03,\n",
       "        9.02144381e-05, 1.48089870e-03, 1.00619405e-04, 0.00000000e+00,\n",
       "        2.86928582e-04, 9.83163432e-04, 2.35278797e-03, 2.37792987e-03,\n",
       "        2.60848492e-03, 1.37291046e-03, 1.35254117e-03, 2.88994462e-03]),\n",
       " array([5.06325499e-01, 1.22034134e-01, 1.06895571e-01, 1.15933910e-01,\n",
       "        1.27605003e-01, 2.37205645e-03, 8.27789694e-05, 1.64898617e-03,\n",
       "        5.19516856e-04, 7.89752928e-04, 1.79379390e-04, 9.83484724e-04,\n",
       "        1.96721144e-04, 1.28345223e-03, 2.80883148e-03, 2.48627595e-03,\n",
       "        3.04336366e-03, 1.63421762e-04, 2.50885241e-03, 2.13900786e-03]),\n",
       " array([4.68510602e-01, 1.19565185e-01, 1.13786122e-01, 1.35073256e-01,\n",
       "        1.40884749e-01, 3.80584889e-04, 5.50945637e-04, 4.59811772e-04,\n",
       "        3.16504511e-05, 1.14256505e-03, 3.83312185e-04, 3.33840457e-04,\n",
       "        6.03395520e-04, 1.10653567e-03, 1.38378056e-03, 3.02095546e-03,\n",
       "        5.39161513e-03, 7.18713966e-04, 3.79587715e-03, 2.87650267e-03]),\n",
       " array([4.96204280e-01, 1.44473483e-01, 1.07541929e-01, 9.25716255e-02,\n",
       "        1.35056403e-01, 3.24011162e-03, 2.75014709e-05, 2.59601096e-03,\n",
       "        1.13963317e-03, 4.02061057e-04, 6.43611355e-04, 4.00968804e-04,\n",
       "        3.20481688e-04, 0.00000000e+00, 1.94599202e-03, 3.73229776e-03,\n",
       "        2.27843821e-03, 8.69025055e-04, 2.71802309e-03, 3.83812273e-03]),\n",
       " array([3.87485693e-01, 1.42734966e-01, 2.01452105e-01, 1.07431469e-01,\n",
       "        1.44040452e-01, 3.50940464e-04, 6.23337942e-05, 1.41060651e-03,\n",
       "        2.60008855e-04, 1.09136405e-03, 3.78588384e-04, 8.22022421e-04,\n",
       "        6.81427187e-04, 1.75829887e-03, 2.19627529e-03, 1.16570612e-03,\n",
       "        9.32300970e-04, 5.28623655e-04, 3.83837183e-03, 1.37844662e-03]),\n",
       " array([4.96469149e-01, 1.12771410e-01, 1.09476085e-01, 1.21807745e-01,\n",
       "        1.39407099e-01, 2.25544147e-03, 9.02627591e-05, 7.25596832e-04,\n",
       "        0.00000000e+00, 6.96589685e-04, 6.31482254e-04, 1.15217122e-03,\n",
       "        9.06855216e-06, 1.93477138e-03, 6.69945979e-04, 2.98649407e-03,\n",
       "        2.58716884e-03, 9.06621159e-04, 2.90097988e-03, 2.52191752e-03]),\n",
       " array([4.94921878e-01, 1.45350861e-01, 1.05887137e-01, 6.50299176e-02,\n",
       "        1.62044367e-01, 1.86595241e-03, 4.04136098e-04, 2.72241574e-03,\n",
       "        0.00000000e+00, 2.31196070e-03, 5.95074091e-04, 9.96765573e-05,\n",
       "        2.59438123e-04, 1.25114044e-03, 5.10889870e-03, 3.02799089e-03,\n",
       "        2.81628459e-03, 1.26571513e-03, 3.85470456e-03, 1.18245117e-03]),\n",
       " array([5.10765878e-01, 1.35609673e-01, 1.22493706e-01, 9.09901733e-02,\n",
       "        1.18271837e-01, 4.10974979e-03, 3.79503238e-04, 2.72504808e-03,\n",
       "        0.00000000e+00, 1.89758867e-04, 8.36308408e-04, 3.44963106e-04,\n",
       "        5.33046557e-05, 8.42030277e-04, 1.14119171e-03, 1.72267970e-03,\n",
       "        1.26322747e-03, 2.88388737e-03, 3.23873928e-03, 2.13834109e-03]),\n",
       " array([4.95675178e-01, 1.45122498e-01, 1.01848181e-01, 7.46883734e-02,\n",
       "        1.60414437e-01, 2.14346567e-03, 4.07226390e-04, 2.58294400e-03,\n",
       "        1.41396857e-03, 1.68555241e-03, 2.24826758e-04, 1.92000925e-04,\n",
       "        1.22471850e-04, 0.00000000e+00, 1.53780796e-03, 3.28317592e-03,\n",
       "        2.18618409e-03, 9.88493543e-04, 4.74148668e-03, 7.41727296e-04]),\n",
       " array([5.01967730e-01, 1.23631302e-01, 1.06796925e-01, 9.45611417e-02,\n",
       "        1.53127335e-01, 7.49456843e-04, 4.81562697e-04, 2.30396568e-03,\n",
       "        5.55853098e-04, 2.84499625e-03, 6.70754790e-04, 1.33334599e-04,\n",
       "        7.54300098e-04, 4.23329145e-04, 3.81694129e-03, 2.12210834e-03,\n",
       "        8.21811902e-04, 9.76642953e-04, 6.87047693e-04, 2.57346143e-03]),\n",
       " array([4.86711499e-01, 1.44164388e-01, 1.16606773e-01, 1.02669423e-01,\n",
       "        1.28937406e-01, 9.59668290e-04, 7.46756426e-04, 3.02397671e-03,\n",
       "        0.00000000e+00, 1.01832332e-03, 8.50306055e-05, 0.00000000e+00,\n",
       "        2.19978803e-05, 6.06887307e-04, 2.13054803e-03, 3.48142601e-03,\n",
       "        2.58326561e-03, 1.81232389e-03, 1.91244130e-03, 2.52786612e-03]),\n",
       " array([5.01339626e-01, 1.52617390e-01, 1.01359932e-01, 1.00237189e-01,\n",
       "        1.25830103e-01, 7.02099429e-04, 6.69439753e-04, 1.58471793e-03,\n",
       "        3.18545111e-04, 2.52595927e-03, 1.15692928e-03, 1.07583753e-03,\n",
       "        8.33854608e-05, 4.32061187e-04, 3.27943851e-03, 2.52588169e-03,\n",
       "        1.50637314e-03, 4.24101620e-04, 5.43745110e-04, 1.78724562e-03]),\n",
       " array([4.97919591e-01, 1.43507966e-01, 1.04077001e-01, 8.39758081e-02,\n",
       "        1.47900166e-01, 1.72015285e-03, 0.00000000e+00, 2.69318442e-03,\n",
       "        3.96942798e-04, 9.60030678e-05, 4.42234345e-04, 8.78312371e-05,\n",
       "        6.03973737e-04, 1.45988115e-04, 4.71673351e-03, 2.33826939e-03,\n",
       "        1.93421855e-03, 2.17581581e-03, 3.70784005e-03, 1.56028024e-03]),\n",
       " array([4.97174116e-01, 1.34504476e-01, 1.23405424e-01, 8.94726068e-02,\n",
       "        1.30633177e-01, 7.15540519e-04, 4.43122143e-05, 1.28751769e-03,\n",
       "        1.40320344e-04, 2.97199385e-03, 5.31681824e-04, 8.94984956e-04,\n",
       "        0.00000000e+00, 8.24730870e-04, 1.68638635e-03, 4.15950823e-03,\n",
       "        4.48098274e-03, 4.66748667e-04, 5.06821791e-03, 1.53727386e-03]),\n",
       " array([5.04593938e-01, 1.42189333e-01, 1.03447016e-01, 7.44674016e-02,\n",
       "        1.54360249e-01, 1.97383934e-03, 6.21737997e-05, 1.03032325e-03,\n",
       "        0.00000000e+00, 1.06529053e-03, 1.01386363e-03, 1.02140553e-03,\n",
       "        7.77622943e-04, 8.47509382e-04, 3.75740356e-03, 4.06295481e-03,\n",
       "        2.44399114e-03, 4.85160000e-04, 1.39729154e-03, 1.00323208e-03]),\n",
       " array([5.07056173e-01, 1.45983310e-01, 1.00508885e-01, 1.00546382e-01,\n",
       "        1.23960137e-01, 1.18448137e-03, 6.24089465e-05, 2.03727233e-04,\n",
       "        8.06862002e-04, 7.50706468e-04, 4.62789443e-04, 6.39903662e-04,\n",
       "        9.27279095e-05, 5.21064604e-04, 3.38649296e-03, 4.71530378e-03,\n",
       "        5.19329389e-03, 4.45903545e-04, 1.43825487e-03, 2.04119200e-03]),\n",
       " array([4.88423667e-01, 1.54863403e-01, 1.04416533e-01, 8.60704709e-02,\n",
       "        1.45266146e-01, 6.27318035e-04, 1.88531139e-05, 9.63874170e-04,\n",
       "        2.18361200e-05, 1.79698207e-03, 8.35164593e-04, 3.54501076e-04,\n",
       "        1.22963504e-03, 9.83184553e-04, 3.36854804e-03, 4.01285949e-03,\n",
       "        2.68047616e-03, 4.86562831e-04, 2.82688695e-03, 7.53097495e-04]),\n",
       " array([4.87753844e-01, 1.23894991e-01, 1.03140621e-01, 1.03401082e-01,\n",
       "        1.56094286e-01, 1.65263415e-03, 4.16544156e-05, 3.37222995e-03,\n",
       "        4.27698279e-04, 2.48372895e-03, 2.79054476e-04, 9.35622454e-04,\n",
       "        3.97693090e-04, 6.63134424e-04, 2.01100502e-03, 5.39511478e-03,\n",
       "        5.08276946e-03, 4.60048359e-04, 5.69007192e-04, 1.94378050e-03]),\n",
       " array([5.00001989e-01, 1.15510205e-01, 1.08304991e-01, 1.06458578e-01,\n",
       "        1.48641360e-01, 1.23316843e-03, 0.00000000e+00, 1.10460041e-03,\n",
       "        2.41787105e-03, 4.69461063e-04, 3.64556400e-04, 1.10699014e-04,\n",
       "        2.61588936e-04, 6.65005065e-04, 3.64210337e-03, 1.27806677e-03,\n",
       "        2.35735916e-03, 2.78676786e-04, 2.89639022e-03, 4.00333049e-03]),\n",
       " array([4.89307532e-01, 1.33788713e-01, 1.16336521e-01, 9.82916936e-02,\n",
       "        1.42168751e-01, 3.49214284e-04, 1.26995146e-04, 1.22483815e-03,\n",
       "        0.00000000e+00, 8.28186131e-04, 8.32224923e-04, 1.12370431e-03,\n",
       "        4.61125817e-04, 0.00000000e+00, 1.06791857e-03, 1.91659854e-03,\n",
       "        3.02889544e-03, 2.75034887e-03, 5.54310412e-03, 8.53634916e-04]),\n",
       " array([4.98801279e-01, 1.06818288e-01, 1.13107746e-01, 1.15944342e-01,\n",
       "        1.38867043e-01, 1.18017434e-03, 1.60174147e-04, 1.00823257e-03,\n",
       "        7.25191616e-04, 1.21202928e-03, 7.66452319e-04, 1.96123301e-05,\n",
       "        2.41695963e-03, 3.97477135e-04, 3.65777236e-03, 3.41785596e-03,\n",
       "        2.84802011e-03, 7.40198270e-04, 4.93964488e-03, 2.97150782e-03]),\n",
       " array([4.88378779e-01, 1.50637495e-01, 1.00314450e-01, 7.15781202e-02,\n",
       "        1.67156562e-01, 3.45179433e-03, 1.62876849e-05, 2.74244631e-03,\n",
       "        6.01578280e-04, 1.83381224e-03, 7.94577374e-04, 4.98740848e-04,\n",
       "        2.93504277e-04, 9.67858943e-04, 8.22287581e-04, 1.70069222e-03,\n",
       "        3.32139903e-03, 4.00941764e-05, 2.39561685e-03, 2.45390456e-03]),\n",
       " array([4.85945370e-01, 1.32714359e-01, 1.07611696e-01, 1.13630393e-01,\n",
       "        1.37839709e-01, 4.81125446e-03, 0.00000000e+00, 7.37223710e-04,\n",
       "        5.15748329e-04, 1.06191260e-03, 6.29675346e-04, 3.23593553e-04,\n",
       "        1.37844424e-04, 0.00000000e+00, 3.26831434e-03, 4.13156678e-03,\n",
       "        1.04252536e-03, 2.68159098e-04, 5.15114155e-03, 1.79514005e-04]),\n",
       " array([4.85282742e-01, 1.54440044e-01, 1.11415528e-01, 9.25950096e-02,\n",
       "        1.36977023e-01, 6.66040874e-04, 4.91785642e-05, 5.78904317e-04,\n",
       "        6.50012775e-04, 4.23988050e-04, 5.87823473e-04, 0.00000000e+00,\n",
       "        7.55948869e-04, 3.07380637e-04, 2.54609121e-03, 6.42354773e-03,\n",
       "        3.06731876e-03, 8.87773294e-05, 1.59465078e-03, 1.54999034e-03]),\n",
       " array([5.05551772e-01, 1.17370228e-01, 1.09625613e-01, 9.67856979e-02,\n",
       "        1.48709753e-01, 2.13062378e-03, 5.83845705e-05, 1.66055340e-03,\n",
       "        1.11375952e-03, 1.11281506e-03, 7.08760261e-04, 6.30491670e-05,\n",
       "        7.49899992e-04, 1.13118490e-03, 2.25837818e-03, 1.47057820e-03,\n",
       "        5.26898833e-03, 2.85148256e-04, 3.04384222e-03, 9.00969788e-04]),\n",
       " array([4.97412506e-01, 1.50857724e-01, 1.09816911e-01, 8.92305893e-02,\n",
       "        1.30961014e-01, 2.56810487e-03, 3.54637752e-05, 4.74626518e-04,\n",
       "        8.44269591e-05, 7.13094449e-04, 1.03035088e-04, 4.33275763e-04,\n",
       "        1.16016909e-03, 6.04831365e-04, 8.18034824e-04, 6.05428863e-03,\n",
       "        4.67581471e-03, 2.57697935e-04, 1.79823234e-03, 1.94015926e-03]),\n",
       " array([4.95371669e-01, 1.21922789e-01, 1.08968488e-01, 1.17215344e-01,\n",
       "        1.36369927e-01, 1.58359644e-03, 9.78149480e-05, 1.61621359e-03,\n",
       "        4.21071218e-04, 1.99806724e-03, 1.48234903e-04, 8.24939804e-04,\n",
       "        7.53031703e-04, 2.21284719e-05, 2.31516871e-03, 3.34543211e-03,\n",
       "        2.84646473e-03, 1.21693478e-03, 2.00531875e-03, 9.57365142e-04]),\n",
       " array([4.86823103e-01, 1.51794172e-01, 1.08461265e-01, 9.68378219e-02,\n",
       "        1.31832809e-01, 1.42648497e-03, 2.84946775e-04, 1.10072559e-03,\n",
       "        1.13857169e-03, 4.16222047e-04, 1.30461344e-03, 6.99122970e-04,\n",
       "        3.95944781e-04, 5.97977094e-04, 3.30582445e-03, 4.48485630e-03,\n",
       "        3.72973925e-03, 1.52530229e-04, 4.07961421e-03, 1.13365479e-03]),\n",
       " array([4.92401451e-01, 1.38688009e-01, 1.15213185e-01, 6.27131302e-02,\n",
       "        1.63870372e-01, 7.10500196e-04, 1.95804927e-03, 1.52048909e-03,\n",
       "        1.43736687e-03, 1.91022378e-03, 6.09473350e-04, 1.54098743e-04,\n",
       "        1.02919647e-03, 1.33188167e-04, 2.46661954e-03, 2.48417631e-03,\n",
       "        1.75823591e-03, 6.41768901e-04, 6.73290332e-03, 3.56756228e-03]),\n",
       " array([5.04337998e-01, 1.40301761e-01, 1.02565338e-01, 1.04322301e-01,\n",
       "        1.27385921e-01, 1.23730398e-03, 7.71834825e-05, 2.19715401e-03,\n",
       "        3.57532071e-05, 6.40043733e-04, 6.61072740e-04, 7.08417330e-05,\n",
       "        9.61650739e-04, 7.88644362e-04, 2.99690360e-03, 1.96725523e-03,\n",
       "        1.50130425e-03, 1.77358423e-04, 1.31754269e-03, 6.45666813e-03]),\n",
       " array([4.86139687e-01, 1.27073556e-01, 1.12621315e-01, 1.08990270e-01,\n",
       "        1.37432918e-01, 2.77305118e-03, 0.00000000e+00, 1.08453667e-03,\n",
       "        1.48161850e-04, 2.16371842e-03, 9.38545550e-04, 3.74362059e-04,\n",
       "        2.41119496e-03, 1.00888370e-03, 5.00730180e-03, 4.18730858e-03,\n",
       "        3.89613864e-03, 4.27810409e-05, 1.63665100e-03, 2.06961682e-03]),\n",
       " array([4.81866057e-01, 1.44990087e-01, 1.05558911e-01, 9.85994478e-02,\n",
       "        1.45758701e-01, 2.46496907e-03, 4.71414062e-05, 1.84044959e-03,\n",
       "        1.68945597e-03, 2.06582630e-03, 5.67346393e-04, 1.56117657e-03,\n",
       "        1.27943278e-03, 0.00000000e+00, 2.44123779e-03, 2.05863768e-03,\n",
       "        7.45957859e-04, 1.04204154e-03, 3.78103317e-03, 1.64208947e-03]),\n",
       " array([4.83900720e-01, 1.47470153e-01, 1.23036790e-01, 9.30736437e-02,\n",
       "        1.32005957e-01, 5.34561899e-06, 0.00000000e+00, 5.60904583e-04,\n",
       "        9.88928983e-05, 2.44712538e-03, 5.24649430e-04, 3.56572125e-04,\n",
       "        9.83242474e-04, 2.34410573e-04, 1.39885043e-03, 3.06710088e-03,\n",
       "        3.65922666e-03, 1.37135386e-03, 2.56266568e-03, 3.24239610e-03]),\n",
       " array([4.84939967e-01, 1.11071786e-01, 1.14659925e-01, 1.29441637e-01,\n",
       "        1.38082194e-01, 1.10492807e-03, 4.34334217e-05, 3.16820781e-03,\n",
       "        8.95105632e-04, 1.35168279e-03, 2.38154558e-04, 1.39035218e-04,\n",
       "        1.27836977e-03, 4.68655674e-05, 1.50381851e-03, 2.71323001e-03,\n",
       "        5.16755729e-03, 6.59172250e-04, 2.62108918e-03, 8.73839510e-04]),\n",
       " array([4.89175740e-01, 1.29493045e-01, 1.14962054e-01, 1.12257858e-01,\n",
       "        1.29716727e-01, 2.45225710e-03, 1.40122005e-05, 1.13313639e-03,\n",
       "        8.05630377e-04, 2.35044696e-03, 6.92996758e-04, 4.62992002e-04,\n",
       "        3.79596878e-04, 4.29057696e-04, 1.81895763e-03, 3.28477487e-03,\n",
       "        4.17693610e-03, 1.96528181e-03, 2.83828737e-03, 1.59021125e-03]),\n",
       " array([5.05951793e-01, 1.37326697e-01, 1.16536125e-01, 1.00811550e-01,\n",
       "        1.20493935e-01, 5.12425117e-04, 3.29004967e-05, 6.64684923e-04,\n",
       "        1.77442587e-03, 1.71130423e-03, 1.08245670e-03, 4.69415084e-05,\n",
       "        6.95300809e-04, 8.10176926e-04, 1.70426686e-03, 1.83712637e-03,\n",
       "        1.55578595e-03, 7.79312847e-04, 2.74455718e-03, 2.92823355e-03]),\n",
       " array([4.92241339e-01, 1.59867418e-01, 1.06884637e-01, 9.26414494e-02,\n",
       "        1.27748235e-01, 4.28202985e-04, 1.49672571e-05, 1.90483997e-03,\n",
       "        1.89269630e-04, 2.13270170e-03, 5.64248500e-04, 1.34770637e-03,\n",
       "        6.66828800e-04, 1.33726621e-03, 2.59936673e-03, 2.28680769e-03,\n",
       "        1.05406656e-03, 1.10326614e-05, 3.74831586e-03, 2.33129989e-03]),\n",
       " array([4.98428428e-01, 1.28044218e-01, 1.15418253e-01, 1.21190248e-01,\n",
       "        1.19749955e-01, 5.95924065e-04, 4.91153083e-04, 1.76681446e-03,\n",
       "        1.22374652e-03, 8.75869579e-04, 1.35022984e-03, 6.07893716e-04,\n",
       "        4.94260387e-04, 0.00000000e+00, 3.35220811e-03, 8.77588121e-04,\n",
       "        2.39548656e-03, 2.23934135e-03, 8.56189331e-04, 4.21919695e-05]),\n",
       " array([4.90755845e-01, 1.42064128e-01, 1.18599739e-01, 9.66968383e-02,\n",
       "        1.29875247e-01, 3.29513441e-03, 1.87275674e-04, 8.22297442e-04,\n",
       "        1.34744546e-04, 1.42883965e-04, 7.89554202e-04, 1.21531965e-03,\n",
       "        2.63892293e-04, 2.05610154e-03, 3.49420578e-03, 8.19271534e-04,\n",
       "        1.97978734e-03, 4.19438400e-05, 3.04839856e-03, 3.71739324e-03]),\n",
       " array([4.83102491e-01, 1.56926128e-01, 9.68161867e-02, 9.79405483e-02,\n",
       "        1.44525146e-01, 2.75898611e-03, 8.98046737e-05, 8.03444535e-04,\n",
       "        4.88611691e-05, 5.14586181e-04, 8.60245708e-05, 3.42337431e-04,\n",
       "        4.90324936e-04, 1.12622098e-03, 2.33354820e-03, 8.41662821e-04,\n",
       "        5.97175235e-03, 4.85146674e-04, 1.23241475e-03, 3.56438473e-03]),\n",
       " array([5.17448729e-01, 1.39306073e-01, 1.02754924e-01, 8.16689639e-02,\n",
       "        1.39163202e-01, 6.85577612e-04, 2.13019345e-04, 5.81003766e-04,\n",
       "        9.04130901e-04, 2.37675751e-03, 5.07863337e-05, 5.75102547e-04,\n",
       "        1.87016217e-03, 0.00000000e+00, 1.77751634e-03, 1.84657757e-03,\n",
       "        3.50297827e-03, 7.80760917e-04, 2.43594228e-03, 2.05779197e-03]),\n",
       " array([5.04647311e-01, 1.44711936e-01, 1.01689110e-01, 9.16581948e-02,\n",
       "        1.36868553e-01, 1.61806099e-03, 4.81627905e-05, 9.56338275e-04,\n",
       "        3.20387476e-04, 3.83132690e-04, 1.49516056e-04, 4.98317305e-04,\n",
       "        3.48050922e-04, 1.75497354e-03, 6.15904034e-04, 4.45890090e-03,\n",
       "        4.08480006e-03, 8.86359516e-04, 2.23569158e-03, 2.06629953e-03]),\n",
       " array([5.00327085e-01, 1.37038347e-01, 1.11508430e-01, 1.04816668e-01,\n",
       "        1.26421180e-01, 6.93024493e-04, 0.00000000e+00, 3.06964553e-03,\n",
       "        1.12223433e-04, 1.01648131e-03, 5.37402471e-04, 0.00000000e+00,\n",
       "        4.70010129e-04, 4.20176624e-04, 1.10593458e-03, 3.51860369e-03,\n",
       "        4.16487936e-03, 1.30894812e-04, 1.53162049e-03, 3.11739242e-03]),\n",
       " array([5.04442004e-01, 1.59407804e-01, 1.14384067e-01, 8.02853758e-02,\n",
       "        1.19977793e-01, 1.25797866e-03, 4.46597710e-05, 1.75962721e-03,\n",
       "        0.00000000e+00, 9.82324567e-04, 6.22143384e-04, 1.12618158e-03,\n",
       "        1.03353723e-03, 4.80591309e-04, 3.04480986e-03, 1.22316679e-03,\n",
       "        3.03262726e-03, 1.62763957e-03, 2.60615051e-03, 2.66151889e-03]),\n",
       " array([4.83127807e-01, 1.48266991e-01, 1.08717604e-01, 9.94819557e-02,\n",
       "        1.42800527e-01, 9.88598728e-04, 2.79740246e-05, 1.32468871e-03,\n",
       "        1.08593502e-03, 5.02215858e-04, 1.25366604e-04, 0.00000000e+00,\n",
       "        4.29879048e-04, 7.85724272e-04, 2.77388692e-03, 2.97369904e-03,\n",
       "        2.46176869e-03, 4.63790127e-04, 1.53191167e-03, 2.12967706e-03]),\n",
       " array([4.89018588e-01, 1.46259551e-01, 1.09224901e-01, 6.63333955e-02,\n",
       "        1.62048839e-01, 2.69050584e-03, 3.06958859e-05, 5.25925876e-04,\n",
       "        7.15448195e-04, 1.25725522e-03, 2.20618714e-04, 1.06107646e-03,\n",
       "        1.58649379e-03, 7.55256958e-04, 4.00092493e-03, 1.90133814e-03,\n",
       "        4.44384892e-03, 2.53332047e-03, 3.85274982e-03, 1.53926676e-03]),\n",
       " array([4.98597463e-01, 1.38799184e-01, 1.21325725e-01, 8.85867739e-02,\n",
       "        1.32925129e-01, 2.66397805e-03, 3.96478667e-06, 1.90569341e-03,\n",
       "        0.00000000e+00, 1.33668587e-03, 1.95350965e-04, 0.00000000e+00,\n",
       "        5.11612460e-04, 8.11915161e-05, 2.37152892e-03, 2.60588744e-03,\n",
       "        2.73625407e-03, 4.25807738e-04, 2.84449587e-03, 2.08327410e-03]),\n",
       " array([4.90437115e-01, 1.42359707e-01, 1.09578094e-01, 8.74025420e-02,\n",
       "        1.45188822e-01, 2.61802863e-03, 2.20639293e-05, 9.32377295e-04,\n",
       "        2.90400017e-04, 1.95087422e-03, 5.80081862e-04, 2.84078721e-04,\n",
       "        4.63694689e-04, 1.11808678e-03, 3.10432875e-03, 3.57476743e-03,\n",
       "        2.38921882e-03, 7.08989923e-04, 4.48638804e-03, 2.51034107e-03]),\n",
       " array([4.91374256e-01, 1.45886573e-01, 1.13463859e-01, 7.35852502e-02,\n",
       "        1.53674579e-01, 1.58752988e-03, 2.41866586e-04, 1.24010771e-03,\n",
       "        8.11352924e-04, 5.18208267e-04, 1.81032189e-04, 2.05969282e-05,\n",
       "        4.36356312e-04, 6.29821872e-04, 4.44728809e-03, 3.38557037e-03,\n",
       "        1.67508946e-03, 1.28727185e-03, 4.23132933e-03, 1.32206206e-03]),\n",
       " array([4.87389823e-01, 1.50804491e-01, 1.12836084e-01, 9.74044489e-02,\n",
       "        1.26298409e-01, 2.00613871e-03, 7.44292369e-06, 1.85259717e-03,\n",
       "        1.88713928e-03, 3.53456087e-04, 4.19554786e-04, 4.64821042e-04,\n",
       "        3.77833857e-04, 5.64573891e-04, 2.52165449e-03, 3.71160719e-03,\n",
       "        4.24981128e-03, 7.45998499e-04, 3.95195998e-03, 2.15215484e-03]),\n",
       " array([5.07190866e-01, 1.39965663e-01, 1.13330120e-01, 1.01677282e-01,\n",
       "        1.20499381e-01, 1.05895465e-03, 4.33719638e-05, 2.14801509e-03,\n",
       "        4.39409095e-04, 1.38026895e-03, 5.08510031e-04, 0.00000000e+00,\n",
       "        1.30857513e-04, 7.88682991e-04, 1.08153658e-03, 2.33016304e-03,\n",
       "        1.44965184e-03, 3.85184519e-03, 1.34583459e-03, 7.79587057e-04]),\n",
       " array([5.02687434e-01, 1.39519386e-01, 1.13606049e-01, 9.63603764e-02,\n",
       "        1.27040423e-01, 2.15029880e-03, 8.18763335e-05, 1.45015993e-03,\n",
       "        0.00000000e+00, 1.36165961e-03, 2.37502420e-04, 6.36466739e-05,\n",
       "        6.92348508e-04, 4.90862183e-04, 3.49280605e-03, 2.55721236e-03,\n",
       "        3.74584201e-03, 1.24108475e-04, 3.63238108e-03, 7.05627854e-04]),\n",
       " array([5.17436328e-01, 1.43242330e-01, 1.01078608e-01, 1.00913134e-01,\n",
       "        1.13362480e-01, 3.33768102e-03, 3.52962837e-04, 1.44218353e-03,\n",
       "        5.21757275e-05, 1.64373211e-03, 1.99560860e-04, 5.43555226e-04,\n",
       "        1.11222164e-03, 6.88822140e-04, 1.05770418e-03, 1.71533783e-03,\n",
       "        3.72487797e-03, 1.57883059e-03, 5.96970303e-03, 5.47771055e-04]),\n",
       " array([4.87673461e-01, 1.53867797e-01, 1.16246011e-01, 8.69064418e-02,\n",
       "        1.35695795e-01, 9.67491051e-04, 5.89468865e-04, 7.57912934e-04,\n",
       "        4.17364923e-04, 6.58950054e-04, 8.46484843e-04, 7.75575323e-04,\n",
       "        7.07202285e-04, 7.62216805e-04, 2.92363644e-03, 1.70727445e-03,\n",
       "        2.16375260e-03, 6.80297591e-04, 3.61186043e-03, 2.04100515e-03]),\n",
       " array([4.80952291e-01, 1.38136186e-01, 1.11296758e-01, 1.05648153e-01,\n",
       "        1.39952124e-01, 6.54455939e-04, 4.04685186e-05, 2.26465977e-03,\n",
       "        6.76338277e-04, 1.43680054e-03, 7.00953947e-04, 0.00000000e+00,\n",
       "        9.25933235e-04, 0.00000000e+00, 3.13738039e-03, 4.26027422e-03,\n",
       "        1.67510828e-03, 9.74621590e-04, 3.00664758e-03, 4.26084644e-03]),\n",
       " array([5.02200507e-01, 1.53448730e-01, 1.02686656e-01, 8.79460060e-02,\n",
       "        1.35251042e-01, 1.15045604e-03, 4.05742866e-05, 1.29927707e-03,\n",
       "        7.43528449e-04, 1.95917154e-03, 2.15100548e-04, 4.87459232e-04,\n",
       "        1.83336550e-04, 1.13573393e-04, 1.64381807e-03, 2.12950574e-03,\n",
       "        3.85466686e-03, 4.49906332e-04, 1.89036461e-03, 2.30631910e-03]),\n",
       " array([4.93420693e-01, 1.37701001e-01, 1.15481969e-01, 7.71652005e-02,\n",
       "        1.54375686e-01, 4.60230347e-04, 0.00000000e+00, 8.34242826e-04,\n",
       "        5.07547506e-04, 3.60712719e-03, 3.67596888e-04, 2.42457114e-04,\n",
       "        7.56151562e-04, 0.00000000e+00, 2.98333093e-03, 1.23151571e-03,\n",
       "        2.86617089e-03, 3.21205523e-04, 5.78664216e-03, 1.89123069e-03]),\n",
       " array([5.05981448e-01, 1.19531999e-01, 1.12685172e-01, 1.22669508e-01,\n",
       "        1.16735515e-01, 1.85545686e-03, 3.72655284e-05, 9.95382732e-04,\n",
       "        2.47940746e-03, 1.00806230e-03, 1.80416685e-04, 0.00000000e+00,\n",
       "        2.11676323e-04, 2.22855440e-04, 3.97168155e-03, 2.54678051e-03,\n",
       "        2.32499042e-03, 9.94851790e-04, 3.04234610e-03, 2.52518338e-03]),\n",
       " array([4.98508859e-01, 1.54722025e-01, 1.08863783e-01, 8.12942951e-02,\n",
       "        1.34274576e-01, 0.00000000e+00, 6.01515402e-04, 2.84656828e-03,\n",
       "        1.24155801e-03, 1.96556595e-03, 1.11481672e-03, 1.22104313e-04,\n",
       "        7.05129025e-04, 1.83552412e-03, 5.60142100e-04, 1.79458976e-03,\n",
       "        4.54620761e-03, 9.60362375e-04, 9.06869382e-04, 3.13550867e-03]),\n",
       " array([5.01845481e-01, 1.33458232e-01, 1.13191624e-01, 9.44390263e-02,\n",
       "        1.33348313e-01, 7.94606325e-04, 2.73558015e-05, 2.32884261e-03,\n",
       "        1.68855947e-03, 8.30748827e-04, 5.98159524e-04, 6.85646248e-04,\n",
       "        9.97534559e-04, 1.39642407e-05, 2.10166422e-03, 5.62893105e-03,\n",
       "        3.04048081e-03, 1.04586760e-03, 2.20096467e-03, 1.73399822e-03]),\n",
       " array([4.86643803e-01, 1.11943014e-01, 1.03565662e-01, 1.23227851e-01,\n",
       "        1.51676457e-01, 1.57154801e-03, 0.00000000e+00, 2.59833174e-03,\n",
       "        2.09686254e-04, 3.16323309e-03, 1.33774759e-04, 5.55672931e-05,\n",
       "        1.39343081e-05, 2.88654889e-05, 1.74096872e-03, 2.47003259e-03,\n",
       "        4.24409784e-03, 1.08117507e-03, 2.62403642e-03, 3.00796158e-03]),\n",
       " array([5.07703412e-01, 1.47593102e-01, 9.99409519e-02, 7.44537735e-02,\n",
       "        1.48021657e-01, 2.27311494e-04, 5.57457552e-04, 2.11924810e-03,\n",
       "        9.83212415e-04, 1.67375903e-03, 3.36053705e-04, 1.32437365e-04,\n",
       "        2.38135851e-05, 1.78144860e-04, 2.73852817e-03, 1.86459054e-03,\n",
       "        4.54666318e-03, 5.07245432e-04, 4.37522251e-03, 2.02341671e-03]),\n",
       " array([4.95939850e-01, 1.38151685e-01, 1.11701354e-01, 1.03895373e-01,\n",
       "        1.33493988e-01, 2.13704598e-03, 5.38395078e-05, 5.02703828e-04,\n",
       "        9.34599198e-04, 1.14766890e-03, 3.06137427e-04, 4.48387934e-04,\n",
       "        1.16152157e-04, 1.10076895e-04, 2.27155618e-03, 1.61904075e-03,\n",
       "        2.22674369e-03, 1.46404290e-03, 2.05039905e-03, 1.42935637e-03]),\n",
       " array([4.69426483e-01, 1.42436986e-01, 1.17129894e-01, 1.01476251e-01,\n",
       "        1.47583895e-01, 6.11748521e-04, 4.07710749e-06, 2.59185481e-03,\n",
       "        1.66154368e-03, 8.56876055e-04, 5.69891776e-04, 4.43477730e-04,\n",
       "        1.48161901e-04, 6.63375606e-04, 1.93523743e-03, 2.85050648e-03,\n",
       "        1.80855784e-03, 1.83450089e-04, 5.41442079e-03, 2.20331037e-03]),\n",
       " array([4.85386060e-01, 1.42527203e-01, 1.03746993e-01, 7.52442492e-02,\n",
       "        1.69116700e-01, 1.81398709e-03, 7.85296324e-04, 8.57053747e-04,\n",
       "        7.47246752e-04, 8.29738619e-04, 3.05751002e-04, 3.54748679e-04,\n",
       "        5.43472079e-04, 5.24867889e-04, 2.09889421e-03, 3.92573687e-03,\n",
       "        1.40514121e-03, 1.56644449e-03, 4.13164479e-03, 4.08877181e-03])]"
      ]
     },
     "execution_count": 134,
     "metadata": {},
     "output_type": "execute_result"
    }
   ],
   "source": [
    "imp"
   ]
  },
  {
   "cell_type": "code",
   "execution_count": 135,
   "id": "df8be94f",
   "metadata": {},
   "outputs": [],
   "source": [
    "imp_avg = np.mean(imp, axis=0)"
   ]
  },
  {
   "cell_type": "code",
   "execution_count": 136,
   "id": "c15e4eab",
   "metadata": {},
   "outputs": [
    {
     "data": {
      "text/plain": [
       "array([4.94406926e-01, 1.37858036e-01, 1.10367384e-01, 9.75657099e-02,\n",
       "       1.37457774e-01, 1.56322822e-03, 1.65693351e-04, 1.55038378e-03,\n",
       "       6.43746754e-04, 1.39149484e-03, 5.78268029e-04, 4.88292739e-04,\n",
       "       7.13635750e-04, 6.52154411e-04, 2.54031558e-03, 2.83330926e-03,\n",
       "       3.14726578e-03, 8.87796128e-04, 3.08386681e-03, 2.10471855e-03])"
      ]
     },
     "execution_count": 136,
     "metadata": {},
     "output_type": "execute_result"
    }
   ],
   "source": [
    "imp_avg"
   ]
  },
  {
   "cell_type": "code",
   "execution_count": 137,
   "id": "405ebfd0",
   "metadata": {},
   "outputs": [],
   "source": [
    "feature_importance = pd.Series(imp_avg, index=X.columns.tolist()).sort_values(ascending=False)"
   ]
  },
  {
   "cell_type": "code",
   "execution_count": 138,
   "id": "c069104d",
   "metadata": {},
   "outputs": [
    {
     "data": {
      "text/plain": [
       "satisfaction_level       0.494407\n",
       "last_evaluation          0.137858\n",
       "time_spend_company       0.137458\n",
       "number_project           0.110367\n",
       "average_montly_hours     0.097566\n",
       "deptt_technical          0.003147\n",
       "salary_low               0.003084\n",
       "deptt_support            0.002833\n",
       "deptt_sales              0.002540\n",
       "salary_medium            0.002105\n",
       "Work_accident            0.001563\n",
       "deptt_IT                 0.001550\n",
       "deptt_accounting         0.001391\n",
       "salary_high              0.000888\n",
       "deptt_marketing          0.000714\n",
       "deptt_product_mng        0.000652\n",
       "deptt_RandD              0.000644\n",
       "deptt_hr                 0.000578\n",
       "deptt_management         0.000488\n",
       "promotion_last_5years    0.000166\n",
       "dtype: float64"
      ]
     },
     "execution_count": 138,
     "metadata": {},
     "output_type": "execute_result"
    }
   ],
   "source": [
    "feature_importance"
   ]
  },
  {
   "cell_type": "code",
   "execution_count": 139,
   "id": "6a66747c",
   "metadata": {},
   "outputs": [
    {
     "data": {
      "text/plain": [
       "<AxesSubplot:>"
      ]
     },
     "execution_count": 139,
     "metadata": {},
     "output_type": "execute_result"
    },
    {
     "data": {
      "image/png": "[encoded data removed]",
      "text/plain": [
       "<Figure size 432x288 with 1 Axes>"
      ]
     },
     "metadata": {
      "needs_background": "light"
     },
     "output_type": "display_data"
    }
   ],
   "source": [
    "feature_importance.plot(kind='bar')"
   ]
  },
  {
   "cell_type": "code",
   "execution_count": null,
   "id": "637569d8",
   "metadata": {},
   "outputs": [],
   "source": []
  },
  {
   "cell_type": "code",
   "execution_count": 140,
   "id": "9d563a1b",
   "metadata": {},
   "outputs": [],
   "source": [
    "from sklearn.ensemble import RandomForestClassifier"
   ]
  },
  {
   "cell_type": "code",
   "execution_count": 142,
   "id": "e2a2b9d9",
   "metadata": {},
   "outputs": [],
   "source": [
    "clf = RandomForestClassifier(oob_score=True, n_jobs=-1, n_estimators=80, random_state=400)"
   ]
  },
  {
   "cell_type": "code",
   "execution_count": 143,
   "id": "25fc6ba2",
   "metadata": {},
   "outputs": [
    {
     "data": {
      "text/plain": [
       "RandomForestClassifier(n_estimators=80, n_jobs=-1, oob_score=True,\n",
       "                       random_state=400)"
      ]
     },
     "execution_count": 143,
     "metadata": {},
     "output_type": "execute_result"
    }
   ],
   "source": [
    "clf.fit(X_train, y_train)"
   ]
  },
  {
   "cell_type": "code",
   "execution_count": 144,
   "id": "a2452e9b",
   "metadata": {},
   "outputs": [
    {
     "data": {
      "text/plain": [
       "0.9905825485457121"
      ]
     },
     "execution_count": 144,
     "metadata": {},
     "output_type": "execute_result"
    }
   ],
   "source": [
    "clf.oob_score_"
   ]
  },
  {
   "cell_type": "code",
   "execution_count": 145,
   "id": "a4cd03ba",
   "metadata": {},
   "outputs": [
    {
     "data": {
      "text/plain": [
       "0.9886666666666667"
      ]
     },
     "execution_count": 145,
     "metadata": {},
     "output_type": "execute_result"
    }
   ],
   "source": [
    "clf.score(X_test, y_test)"
   ]
  },
  {
   "cell_type": "code",
   "execution_count": 146,
   "id": "009bea87",
   "metadata": {
    "scrolled": true
   },
   "outputs": [
    {
     "name": "stderr",
     "output_type": "stream",
     "text": [
      "C:\\Users\\Swastik\\anaconda3\\lib\\site-packages\\sklearn\\ensemble\\_forest.py:541: UserWarning: Some inputs do not have OOB scores. This probably means too few trees were used to compute any reliable oob estimates.\n",
      "  warn(\"Some inputs do not have OOB scores. \"\n",
      "C:\\Users\\Swastik\\anaconda3\\lib\\site-packages\\sklearn\\ensemble\\_forest.py:545: RuntimeWarning: invalid value encountered in true_divide\n",
      "  decision = (predictions[k] /\n"
     ]
    },
    {
     "name": "stdout",
     "output_type": "stream",
     "text": [
      "For base learners = 10\n",
      "OOB score is 0.9832486040503375\n",
      "***************************\n",
      "For base learners = 30\n",
      "OOB score is 0.9894991249270773\n",
      "***************************\n",
      "For base learners = 50\n",
      "OOB score is 0.990082506875573\n",
      "***************************\n",
      "For base learners = 70\n",
      "OOB score is 0.9905825485457121\n",
      "***************************\n",
      "For base learners = 90\n",
      "OOB score is 0.9904992082673556\n",
      "***************************\n",
      "For base learners = 110\n",
      "OOB score is 0.9908325693807817\n",
      "***************************\n",
      "For base learners = 130\n",
      "OOB score is 0.9908325693807817\n",
      "***************************\n",
      "For base learners = 150\n",
      "OOB score is 0.9905825485457121\n",
      "***************************\n",
      "For base learners = 170\n",
      "OOB score is 0.9909992499374948\n",
      "***************************\n",
      "For base learners = 190\n",
      "OOB score is 0.9909159096591382\n",
      "***************************\n",
      "For base learners = 210\n",
      "OOB score is 0.9908325693807817\n",
      "***************************\n",
      "For base learners = 230\n",
      "OOB score is 0.9908325693807817\n",
      "***************************\n",
      "For base learners = 250\n",
      "OOB score is 0.9907492291024252\n",
      "***************************\n",
      "For base learners = 270\n",
      "OOB score is 0.9906658888240687\n",
      "***************************\n",
      "For base learners = 290\n",
      "OOB score is 0.9906658888240687\n",
      "***************************\n"
     ]
    }
   ],
   "source": [
    "for w in range(10,300,20):\n",
    "    clf = RandomForestClassifier(oob_score=True, n_jobs=-1, n_estimators=w, random_state=400)\n",
    "    clf.fit(X_train, y_train)\n",
    "    oob = clf.oob_score_\n",
    "    print('For base learners = ' + str(w))\n",
    "    print('OOB score is ' + str(oob))\n",
    "    print('***************************')"
   ]
  },
  {
   "cell_type": "code",
   "execution_count": 151,
   "id": "e4f14346",
   "metadata": {},
   "outputs": [
    {
     "data": {
      "text/plain": [
       "RandomForestClassifier(n_estimators=170, n_jobs=-1, oob_score=True,\n",
       "                       random_state=400)"
      ]
     },
     "execution_count": 151,
     "metadata": {},
     "output_type": "execute_result"
    }
   ],
   "source": [
    "clf = RandomForestClassifier(oob_score=True, n_jobs=-1, n_estimators=170, random_state=400)\n",
    "\n",
    "clf.fit(X_train, y_train)"
   ]
  },
  {
   "cell_type": "code",
   "execution_count": 152,
   "id": "c3cefa0e",
   "metadata": {},
   "outputs": [
    {
     "data": {
      "text/plain": [
       "0.988"
      ]
     },
     "execution_count": 152,
     "metadata": {},
     "output_type": "execute_result"
    }
   ],
   "source": [
    "clf.score(X_test,y_test)"
   ]
  },
  {
   "cell_type": "code",
   "execution_count": 153,
   "id": "69ea8f48",
   "metadata": {},
   "outputs": [
    {
     "data": {
      "text/plain": [
       "array([0.31240917, 0.12644956, 0.18351386, 0.15205451, 0.17567889,\n",
       "       0.01014434, 0.00194301, 0.00183847, 0.00180132, 0.00171442,\n",
       "       0.00173656, 0.00173706, 0.00121963, 0.00119858, 0.00352682,\n",
       "       0.0029913 , 0.00366594, 0.00542278, 0.0073752 , 0.00357858])"
      ]
     },
     "execution_count": 153,
     "metadata": {},
     "output_type": "execute_result"
    }
   ],
   "source": [
    "clf.feature_importances_"
   ]
  },
  {
   "cell_type": "code",
   "execution_count": 154,
   "id": "c5628a32",
   "metadata": {},
   "outputs": [],
   "source": [
    "feat_imp = pd.Series(clf.feature_importances_, index=X.columns.tolist()).sort_values(ascending=False)"
   ]
  },
  {
   "cell_type": "code",
   "execution_count": 156,
   "id": "7c21c5e7",
   "metadata": {},
   "outputs": [
    {
     "data": {
      "text/plain": [
       "satisfaction_level       0.312409\n",
       "number_project           0.183514\n",
       "time_spend_company       0.175679\n",
       "average_montly_hours     0.152055\n",
       "last_evaluation          0.126450\n",
       "Work_accident            0.010144\n",
       "salary_low               0.007375\n",
       "salary_high              0.005423\n",
       "deptt_technical          0.003666\n",
       "salary_medium            0.003579\n",
       "deptt_sales              0.003527\n",
       "deptt_support            0.002991\n",
       "promotion_last_5years    0.001943\n",
       "deptt_IT                 0.001838\n",
       "deptt_RandD              0.001801\n",
       "deptt_management         0.001737\n",
       "deptt_hr                 0.001737\n",
       "deptt_accounting         0.001714\n",
       "deptt_marketing          0.001220\n",
       "deptt_product_mng        0.001199\n",
       "dtype: float64"
      ]
     },
     "execution_count": 156,
     "metadata": {},
     "output_type": "execute_result"
    }
   ],
   "source": [
    "feat_imp"
   ]
  },
  {
   "cell_type": "code",
   "execution_count": 155,
   "id": "6689b8a1",
   "metadata": {},
   "outputs": [
    {
     "data": {
      "text/plain": [
       "<AxesSubplot:>"
      ]
     },
     "execution_count": 155,
     "metadata": {},
     "output_type": "execute_result"
    },
    {
     "data": {
      "image/png": "[encoded data removed]",
      "text/plain": [
       "<Figure size 432x288 with 1 Axes>"
      ]
     },
     "metadata": {
      "needs_background": "light"
     },
     "output_type": "display_data"
    }
   ],
   "source": [
    "feat_imp.plot(kind='bar')"
   ]
  },
  {
   "cell_type": "code",
   "execution_count": null,
   "id": "0e398d7e",
   "metadata": {},
   "outputs": [],
   "source": []
  },
  {
   "cell_type": "code",
   "execution_count": 157,
   "id": "9199102f",
   "metadata": {},
   "outputs": [],
   "source": [
    "from sklearn.ensemble import GradientBoostingClassifier"
   ]
  },
  {
   "cell_type": "code",
   "execution_count": 158,
   "id": "7bb9abf4",
   "metadata": {},
   "outputs": [],
   "source": [
    "clf = GradientBoostingClassifier(n_estimators=80, random_state=400)"
   ]
  },
  {
   "cell_type": "code",
   "execution_count": 159,
   "id": "ba5609d1",
   "metadata": {},
   "outputs": [
    {
     "data": {
      "text/plain": [
       "GradientBoostingClassifier(n_estimators=80, random_state=400)"
      ]
     },
     "execution_count": 159,
     "metadata": {},
     "output_type": "execute_result"
    }
   ],
   "source": [
    "clf.fit(X_train, y_train)"
   ]
  },
  {
   "cell_type": "code",
   "execution_count": 160,
   "id": "f365d2b1",
   "metadata": {},
   "outputs": [
    {
     "data": {
      "text/plain": [
       "0.974"
      ]
     },
     "execution_count": 160,
     "metadata": {},
     "output_type": "execute_result"
    }
   ],
   "source": [
    "clf.score(X_test, y_test)"
   ]
  },
  {
   "cell_type": "code",
   "execution_count": 162,
   "id": "7a855b3d",
   "metadata": {},
   "outputs": [],
   "source": [
    "from sklearn.model_selection import GridSearchCV"
   ]
  },
  {
   "cell_type": "code",
   "execution_count": 165,
   "id": "00e65349",
   "metadata": {},
   "outputs": [
    {
     "data": {
      "text/plain": [
       "GridSearchCV(estimator=GradientBoostingClassifier(n_estimators=80,\n",
       "                                                  random_state=400),\n",
       "             param_grid={'n_estimators': [60, 80, 100, 120, 140, 160]})"
      ]
     },
     "execution_count": 165,
     "metadata": {},
     "output_type": "execute_result"
    }
   ],
   "source": [
    "mod = GridSearchCV(clf, param_grid = {'n_estimators':[60,80,100,120,140,160]})\n",
    "\n",
    "mod.fit(X_train, y_train)"
   ]
  },
  {
   "cell_type": "code",
   "execution_count": 166,
   "id": "00505c2d",
   "metadata": {},
   "outputs": [
    {
     "data": {
      "text/plain": [
       "GradientBoostingClassifier(n_estimators=160, random_state=400)"
      ]
     },
     "execution_count": 166,
     "metadata": {},
     "output_type": "execute_result"
    }
   ],
   "source": [
    "mod.best_estimator_"
   ]
  },
  {
   "cell_type": "code",
   "execution_count": 167,
   "id": "7422aa19",
   "metadata": {},
   "outputs": [
    {
     "data": {
      "text/plain": [
       "GradientBoostingClassifier(n_estimators=160, random_state=400)"
      ]
     },
     "execution_count": 167,
     "metadata": {},
     "output_type": "execute_result"
    }
   ],
   "source": [
    "clf = GradientBoostingClassifier(n_estimators=160, random_state=400)\n",
    "\n",
    "clf.fit(X_train, y_train)"
   ]
  },
  {
   "cell_type": "code",
   "execution_count": 168,
   "id": "2bc301ae",
   "metadata": {},
   "outputs": [
    {
     "data": {
      "text/plain": [
       "0.9743333333333334"
      ]
     },
     "execution_count": 168,
     "metadata": {},
     "output_type": "execute_result"
    }
   ],
   "source": [
    "clf.score(X_test, y_test)"
   ]
  },
  {
   "cell_type": "code",
   "execution_count": 169,
   "id": "ccf8d19a",
   "metadata": {},
   "outputs": [
    {
     "data": {
      "text/plain": [
       "array([5.42605861e-01, 9.87507037e-02, 1.14253186e-01, 7.42086956e-02,\n",
       "       1.66362150e-01, 1.11344127e-03, 1.06925506e-04, 1.01338047e-04,\n",
       "       1.22387807e-04, 8.47228502e-05, 3.08801164e-05, 5.33784404e-05,\n",
       "       0.00000000e+00, 8.99324385e-05, 7.99401343e-06, 9.34317188e-05,\n",
       "       2.88849992e-04, 6.12687452e-04, 1.11282520e-03, 6.08032336e-07])"
      ]
     },
     "execution_count": 169,
     "metadata": {},
     "output_type": "execute_result"
    }
   ],
   "source": [
    "clf.feature_importances_"
   ]
  },
  {
   "cell_type": "code",
   "execution_count": 170,
   "id": "13aeca4d",
   "metadata": {},
   "outputs": [
    {
     "data": {
      "text/plain": [
       "satisfaction_level       5.426059e-01\n",
       "time_spend_company       1.663621e-01\n",
       "number_project           1.142532e-01\n",
       "last_evaluation          9.875070e-02\n",
       "average_montly_hours     7.420870e-02\n",
       "Work_accident            1.113441e-03\n",
       "salary_low               1.112825e-03\n",
       "salary_high              6.126875e-04\n",
       "deptt_technical          2.888500e-04\n",
       "deptt_RandD              1.223878e-04\n",
       "promotion_last_5years    1.069255e-04\n",
       "deptt_IT                 1.013380e-04\n",
       "deptt_support            9.343172e-05\n",
       "deptt_product_mng        8.993244e-05\n",
       "deptt_accounting         8.472285e-05\n",
       "deptt_management         5.337844e-05\n",
       "deptt_hr                 3.088012e-05\n",
       "deptt_sales              7.994013e-06\n",
       "salary_medium            6.080323e-07\n",
       "deptt_marketing          0.000000e+00\n",
       "dtype: float64"
      ]
     },
     "execution_count": 170,
     "metadata": {},
     "output_type": "execute_result"
    }
   ],
   "source": [
    "feat_imp = pd.Series(clf.feature_importances_, index=X.columns.tolist()).sort_values(ascending=False)\n",
    "\n",
    "feat_imp"
   ]
  },
  {
   "cell_type": "code",
   "execution_count": null,
   "id": "2756b684",
   "metadata": {},
   "outputs": [],
   "source": []
  },
  {
   "cell_type": "code",
   "execution_count": 171,
   "id": "e8072a8b",
   "metadata": {},
   "outputs": [],
   "source": [
    "from sklearn.ensemble import AdaBoostClassifier"
   ]
  },
  {
   "cell_type": "code",
   "execution_count": 174,
   "id": "325f129b",
   "metadata": {},
   "outputs": [
    {
     "data": {
      "text/plain": [
       "AdaBoostClassifier(n_estimators=80, random_state=400)"
      ]
     },
     "execution_count": 174,
     "metadata": {},
     "output_type": "execute_result"
    }
   ],
   "source": [
    "clf = AdaBoostClassifier(n_estimators=80, random_state=400)\n",
    "\n",
    "clf.fit(X_train, y_train)"
   ]
  },
  {
   "cell_type": "code",
   "execution_count": 175,
   "id": "c2050ba9",
   "metadata": {},
   "outputs": [
    {
     "data": {
      "text/plain": [
       "0.9553333333333334"
      ]
     },
     "execution_count": 175,
     "metadata": {},
     "output_type": "execute_result"
    }
   ],
   "source": [
    "clf.score(X_test, y_test)"
   ]
  },
  {
   "cell_type": "code",
   "execution_count": 179,
   "id": "56dd27a1",
   "metadata": {},
   "outputs": [
    {
     "data": {
      "text/plain": [
       "GridSearchCV(estimator=AdaBoostClassifier(n_estimators=80, random_state=400),\n",
       "             param_grid={'learning_rate': array([0.1, 0.4, 0.7, 1. ]),\n",
       "                         'n_estimators': [60, 80, 100, 120, 140, 160]})"
      ]
     },
     "execution_count": 179,
     "metadata": {},
     "output_type": "execute_result"
    }
   ],
   "source": [
    "mod = GridSearchCV(clf, param_grid = {'n_estimators':[60,80,100,120,140,160],\n",
    "                                     'learning_rate':np.arange(0.1,1.1,0.3)})\n",
    "mod.fit(X_train, y_train)"
   ]
  },
  {
   "cell_type": "code",
   "execution_count": 180,
   "id": "746b1c8a",
   "metadata": {},
   "outputs": [
    {
     "data": {
      "text/plain": [
       "AdaBoostClassifier(learning_rate=0.4, n_estimators=140, random_state=400)"
      ]
     },
     "execution_count": 180,
     "metadata": {},
     "output_type": "execute_result"
    }
   ],
   "source": [
    "mod.best_estimator_"
   ]
  },
  {
   "cell_type": "code",
   "execution_count": 181,
   "id": "642087b4",
   "metadata": {},
   "outputs": [
    {
     "data": {
      "text/plain": [
       "AdaBoostClassifier(learning_rate=0.4, n_estimators=140, random_state=400)"
      ]
     },
     "execution_count": 181,
     "metadata": {},
     "output_type": "execute_result"
    }
   ],
   "source": [
    "clf = AdaBoostClassifier(n_estimators=140, random_state=400, learning_rate=0.4)\n",
    "\n",
    "clf.fit(X_train, y_train)"
   ]
  },
  {
   "cell_type": "code",
   "execution_count": 182,
   "id": "3201bca1",
   "metadata": {},
   "outputs": [
    {
     "data": {
      "text/plain": [
       "0.9563333333333334"
      ]
     },
     "execution_count": 182,
     "metadata": {},
     "output_type": "execute_result"
    }
   ],
   "source": [
    "clf.score(X_test, y_test)"
   ]
  },
  {
   "cell_type": "code",
   "execution_count": 183,
   "id": "380dfecf",
   "metadata": {},
   "outputs": [
    {
     "data": {
      "text/plain": [
       "satisfaction_level       0.314286\n",
       "average_montly_hours     0.171429\n",
       "last_evaluation          0.142857\n",
       "number_project           0.121429\n",
       "time_spend_company       0.114286\n",
       "Work_accident            0.028571\n",
       "salary_high              0.028571\n",
       "salary_low               0.021429\n",
       "deptt_product_mng        0.014286\n",
       "deptt_RandD              0.014286\n",
       "deptt_technical          0.007143\n",
       "deptt_hr                 0.007143\n",
       "deptt_management         0.007143\n",
       "deptt_IT                 0.007143\n",
       "deptt_marketing          0.000000\n",
       "deptt_sales              0.000000\n",
       "deptt_support            0.000000\n",
       "deptt_accounting         0.000000\n",
       "promotion_last_5years    0.000000\n",
       "salary_medium            0.000000\n",
       "dtype: float64"
      ]
     },
     "execution_count": 183,
     "metadata": {},
     "output_type": "execute_result"
    }
   ],
   "source": [
    "feat_imp = pd.Series(clf.feature_importances_, index=X.columns.tolist()).sort_values(ascending=False)\n",
    "\n",
    "feat_imp"
   ]
  },
  {
   "cell_type": "code",
   "execution_count": 184,
   "id": "fd94da7c",
   "metadata": {},
   "outputs": [
    {
     "data": {
      "text/plain": [
       "<AxesSubplot:>"
      ]
     },
     "execution_count": 184,
     "metadata": {},
     "output_type": "execute_result"
    },
    {
     "data": {
      "image/png": "[encoded data removed]",
      "text/plain": [
       "<Figure size 432x288 with 1 Axes>"
      ]
     },
     "metadata": {
      "needs_background": "light"
     },
     "output_type": "display_data"
    }
   ],
   "source": [
    "feat_imp.plot(kind='bar')"
   ]
  },
  {
   "cell_type": "code",
   "execution_count": null,
   "id": "6f723de5",
   "metadata": {},
   "outputs": [],
   "source": [
    "!pip install xgboost"
   ]
  },
  {
   "cell_type": "code",
   "execution_count": 185,
   "id": "c8b4e012",
   "metadata": {},
   "outputs": [],
   "source": [
    "from xgboost import XGBClassifier"
   ]
  },
  {
   "cell_type": "code",
   "execution_count": 186,
   "id": "536e38a6",
   "metadata": {},
   "outputs": [],
   "source": [
    "clf = XGBClassifier(n_estimators=80, random_state=500)"
   ]
  },
  {
   "cell_type": "code",
   "execution_count": 187,
   "id": "b7ba747c",
   "metadata": {},
   "outputs": [
    {
     "name": "stderr",
     "output_type": "stream",
     "text": [
      "C:\\Users\\Swastik\\anaconda3\\lib\\site-packages\\xgboost\\sklearn.py:1224: UserWarning: The use of label encoder in XGBClassifier is deprecated and will be removed in a future release. To remove this warning, do the following: 1) Pass option use_label_encoder=False when constructing XGBClassifier object; and 2) Encode your labels (y) as integers starting with 0, i.e. 0, 1, 2, ..., [num_class - 1].\n",
      "  warnings.warn(label_encoder_deprecation_msg, UserWarning)\n"
     ]
    },
    {
     "name": "stdout",
     "output_type": "stream",
     "text": [
      "[16:42:56] WARNING: C:/Users/Administrator/workspace/xgboost-win64_release_1.5.0/src/learner.cc:1115: Starting in XGBoost 1.3.0, the default evaluation metric used with the objective 'binary:logistic' was changed from 'error' to 'logloss'. Explicitly set eval_metric if you'd like to restore the old behavior.\n"
     ]
    },
    {
     "data": {
      "text/plain": [
       "XGBClassifier(base_score=0.5, booster='gbtree', colsample_bylevel=1,\n",
       "              colsample_bynode=1, colsample_bytree=1, enable_categorical=False,\n",
       "              gamma=0, gpu_id=-1, importance_type=None,\n",
       "              interaction_constraints='', learning_rate=0.300000012,\n",
       "              max_delta_step=0, max_depth=6, min_child_weight=1, missing=nan,\n",
       "              monotone_constraints='()', n_estimators=80, n_jobs=8,\n",
       "              num_parallel_tree=1, predictor='auto', random_state=500,\n",
       "              reg_alpha=0, reg_lambda=1, scale_pos_weight=1, subsample=1,\n",
       "              tree_method='exact', validate_parameters=1, verbosity=None)"
      ]
     },
     "execution_count": 187,
     "metadata": {},
     "output_type": "execute_result"
    }
   ],
   "source": [
    "clf.fit(X_train, y_train)"
   ]
  },
  {
   "cell_type": "code",
   "execution_count": 188,
   "id": "ea0d3a56",
   "metadata": {},
   "outputs": [
    {
     "data": {
      "text/plain": [
       "0.985"
      ]
     },
     "execution_count": 188,
     "metadata": {},
     "output_type": "execute_result"
    }
   ],
   "source": [
    "clf.score(X_test, y_test)"
   ]
  },
  {
   "cell_type": "code",
   "execution_count": 189,
   "id": "2c41f621",
   "metadata": {
    "scrolled": true
   },
   "outputs": [
    {
     "name": "stderr",
     "output_type": "stream",
     "text": [
      "C:\\Users\\Swastik\\anaconda3\\lib\\site-packages\\xgboost\\sklearn.py:1224: UserWarning: The use of label encoder in XGBClassifier is deprecated and will be removed in a future release. To remove this warning, do the following: 1) Pass option use_label_encoder=False when constructing XGBClassifier object; and 2) Encode your labels (y) as integers starting with 0, i.e. 0, 1, 2, ..., [num_class - 1].\n",
      "  warnings.warn(label_encoder_deprecation_msg, UserWarning)\n"
     ]
    },
    {
     "name": "stdout",
     "output_type": "stream",
     "text": [
      "[16:45:56] WARNING: C:/Users/Administrator/workspace/xgboost-win64_release_1.5.0/src/learner.cc:1115: Starting in XGBoost 1.3.0, the default evaluation metric used with the objective 'binary:logistic' was changed from 'error' to 'logloss'. Explicitly set eval_metric if you'd like to restore the old behavior.\n"
     ]
    },
    {
     "name": "stderr",
     "output_type": "stream",
     "text": [
      "C:\\Users\\Swastik\\anaconda3\\lib\\site-packages\\xgboost\\sklearn.py:1224: UserWarning: The use of label encoder in XGBClassifier is deprecated and will be removed in a future release. To remove this warning, do the following: 1) Pass option use_label_encoder=False when constructing XGBClassifier object; and 2) Encode your labels (y) as integers starting with 0, i.e. 0, 1, 2, ..., [num_class - 1].\n",
      "  warnings.warn(label_encoder_deprecation_msg, UserWarning)\n"
     ]
    },
    {
     "name": "stdout",
     "output_type": "stream",
     "text": [
      "[16:45:57] WARNING: C:/Users/Administrator/workspace/xgboost-win64_release_1.5.0/src/learner.cc:1115: Starting in XGBoost 1.3.0, the default evaluation metric used with the objective 'binary:logistic' was changed from 'error' to 'logloss'. Explicitly set eval_metric if you'd like to restore the old behavior.\n"
     ]
    },
    {
     "name": "stderr",
     "output_type": "stream",
     "text": [
      "C:\\Users\\Swastik\\anaconda3\\lib\\site-packages\\xgboost\\sklearn.py:1224: UserWarning: The use of label encoder in XGBClassifier is deprecated and will be removed in a future release. To remove this warning, do the following: 1) Pass option use_label_encoder=False when constructing XGBClassifier object; and 2) Encode your labels (y) as integers starting with 0, i.e. 0, 1, 2, ..., [num_class - 1].\n",
      "  warnings.warn(label_encoder_deprecation_msg, UserWarning)\n"
     ]
    },
    {
     "name": "stdout",
     "output_type": "stream",
     "text": [
      "[16:45:57] WARNING: C:/Users/Administrator/workspace/xgboost-win64_release_1.5.0/src/learner.cc:1115: Starting in XGBoost 1.3.0, the default evaluation metric used with the objective 'binary:logistic' was changed from 'error' to 'logloss'. Explicitly set eval_metric if you'd like to restore the old behavior.\n"
     ]
    },
    {
     "name": "stderr",
     "output_type": "stream",
     "text": [
      "C:\\Users\\Swastik\\anaconda3\\lib\\site-packages\\xgboost\\sklearn.py:1224: UserWarning: The use of label encoder in XGBClassifier is deprecated and will be removed in a future release. To remove this warning, do the following: 1) Pass option use_label_encoder=False when constructing XGBClassifier object; and 2) Encode your labels (y) as integers starting with 0, i.e. 0, 1, 2, ..., [num_class - 1].\n",
      "  warnings.warn(label_encoder_deprecation_msg, UserWarning)\n"
     ]
    },
    {
     "name": "stdout",
     "output_type": "stream",
     "text": [
      "[16:45:57] WARNING: C:/Users/Administrator/workspace/xgboost-win64_release_1.5.0/src/learner.cc:1115: Starting in XGBoost 1.3.0, the default evaluation metric used with the objective 'binary:logistic' was changed from 'error' to 'logloss'. Explicitly set eval_metric if you'd like to restore the old behavior.\n"
     ]
    },
    {
     "name": "stderr",
     "output_type": "stream",
     "text": [
      "C:\\Users\\Swastik\\anaconda3\\lib\\site-packages\\xgboost\\sklearn.py:1224: UserWarning: The use of label encoder in XGBClassifier is deprecated and will be removed in a future release. To remove this warning, do the following: 1) Pass option use_label_encoder=False when constructing XGBClassifier object; and 2) Encode your labels (y) as integers starting with 0, i.e. 0, 1, 2, ..., [num_class - 1].\n",
      "  warnings.warn(label_encoder_deprecation_msg, UserWarning)\n"
     ]
    },
    {
     "name": "stdout",
     "output_type": "stream",
     "text": [
      "[16:45:58] WARNING: C:/Users/Administrator/workspace/xgboost-win64_release_1.5.0/src/learner.cc:1115: Starting in XGBoost 1.3.0, the default evaluation metric used with the objective 'binary:logistic' was changed from 'error' to 'logloss'. Explicitly set eval_metric if you'd like to restore the old behavior.\n"
     ]
    },
    {
     "name": "stderr",
     "output_type": "stream",
     "text": [
      "C:\\Users\\Swastik\\anaconda3\\lib\\site-packages\\xgboost\\sklearn.py:1224: UserWarning: The use of label encoder in XGBClassifier is deprecated and will be removed in a future release. To remove this warning, do the following: 1) Pass option use_label_encoder=False when constructing XGBClassifier object; and 2) Encode your labels (y) as integers starting with 0, i.e. 0, 1, 2, ..., [num_class - 1].\n",
      "  warnings.warn(label_encoder_deprecation_msg, UserWarning)\n"
     ]
    },
    {
     "name": "stdout",
     "output_type": "stream",
     "text": [
      "[16:45:58] WARNING: C:/Users/Administrator/workspace/xgboost-win64_release_1.5.0/src/learner.cc:1115: Starting in XGBoost 1.3.0, the default evaluation metric used with the objective 'binary:logistic' was changed from 'error' to 'logloss'. Explicitly set eval_metric if you'd like to restore the old behavior.\n"
     ]
    },
    {
     "name": "stderr",
     "output_type": "stream",
     "text": [
      "C:\\Users\\Swastik\\anaconda3\\lib\\site-packages\\xgboost\\sklearn.py:1224: UserWarning: The use of label encoder in XGBClassifier is deprecated and will be removed in a future release. To remove this warning, do the following: 1) Pass option use_label_encoder=False when constructing XGBClassifier object; and 2) Encode your labels (y) as integers starting with 0, i.e. 0, 1, 2, ..., [num_class - 1].\n",
      "  warnings.warn(label_encoder_deprecation_msg, UserWarning)\n"
     ]
    },
    {
     "name": "stdout",
     "output_type": "stream",
     "text": [
      "[16:45:59] WARNING: C:/Users/Administrator/workspace/xgboost-win64_release_1.5.0/src/learner.cc:1115: Starting in XGBoost 1.3.0, the default evaluation metric used with the objective 'binary:logistic' was changed from 'error' to 'logloss'. Explicitly set eval_metric if you'd like to restore the old behavior.\n"
     ]
    },
    {
     "name": "stderr",
     "output_type": "stream",
     "text": [
      "C:\\Users\\Swastik\\anaconda3\\lib\\site-packages\\xgboost\\sklearn.py:1224: UserWarning: The use of label encoder in XGBClassifier is deprecated and will be removed in a future release. To remove this warning, do the following: 1) Pass option use_label_encoder=False when constructing XGBClassifier object; and 2) Encode your labels (y) as integers starting with 0, i.e. 0, 1, 2, ..., [num_class - 1].\n",
      "  warnings.warn(label_encoder_deprecation_msg, UserWarning)\n"
     ]
    },
    {
     "name": "stdout",
     "output_type": "stream",
     "text": [
      "[16:46:00] WARNING: C:/Users/Administrator/workspace/xgboost-win64_release_1.5.0/src/learner.cc:1115: Starting in XGBoost 1.3.0, the default evaluation metric used with the objective 'binary:logistic' was changed from 'error' to 'logloss'. Explicitly set eval_metric if you'd like to restore the old behavior.\n"
     ]
    },
    {
     "name": "stderr",
     "output_type": "stream",
     "text": [
      "C:\\Users\\Swastik\\anaconda3\\lib\\site-packages\\xgboost\\sklearn.py:1224: UserWarning: The use of label encoder in XGBClassifier is deprecated and will be removed in a future release. To remove this warning, do the following: 1) Pass option use_label_encoder=False when constructing XGBClassifier object; and 2) Encode your labels (y) as integers starting with 0, i.e. 0, 1, 2, ..., [num_class - 1].\n",
      "  warnings.warn(label_encoder_deprecation_msg, UserWarning)\n"
     ]
    },
    {
     "name": "stdout",
     "output_type": "stream",
     "text": [
      "[16:46:00] WARNING: C:/Users/Administrator/workspace/xgboost-win64_release_1.5.0/src/learner.cc:1115: Starting in XGBoost 1.3.0, the default evaluation metric used with the objective 'binary:logistic' was changed from 'error' to 'logloss'. Explicitly set eval_metric if you'd like to restore the old behavior.\n"
     ]
    },
    {
     "name": "stderr",
     "output_type": "stream",
     "text": [
      "C:\\Users\\Swastik\\anaconda3\\lib\\site-packages\\xgboost\\sklearn.py:1224: UserWarning: The use of label encoder in XGBClassifier is deprecated and will be removed in a future release. To remove this warning, do the following: 1) Pass option use_label_encoder=False when constructing XGBClassifier object; and 2) Encode your labels (y) as integers starting with 0, i.e. 0, 1, 2, ..., [num_class - 1].\n",
      "  warnings.warn(label_encoder_deprecation_msg, UserWarning)\n"
     ]
    },
    {
     "name": "stdout",
     "output_type": "stream",
     "text": [
      "[16:46:01] WARNING: C:/Users/Administrator/workspace/xgboost-win64_release_1.5.0/src/learner.cc:1115: Starting in XGBoost 1.3.0, the default evaluation metric used with the objective 'binary:logistic' was changed from 'error' to 'logloss'. Explicitly set eval_metric if you'd like to restore the old behavior.\n"
     ]
    },
    {
     "name": "stderr",
     "output_type": "stream",
     "text": [
      "C:\\Users\\Swastik\\anaconda3\\lib\\site-packages\\xgboost\\sklearn.py:1224: UserWarning: The use of label encoder in XGBClassifier is deprecated and will be removed in a future release. To remove this warning, do the following: 1) Pass option use_label_encoder=False when constructing XGBClassifier object; and 2) Encode your labels (y) as integers starting with 0, i.e. 0, 1, 2, ..., [num_class - 1].\n",
      "  warnings.warn(label_encoder_deprecation_msg, UserWarning)\n"
     ]
    },
    {
     "name": "stdout",
     "output_type": "stream",
     "text": [
      "[16:46:01] WARNING: C:/Users/Administrator/workspace/xgboost-win64_release_1.5.0/src/learner.cc:1115: Starting in XGBoost 1.3.0, the default evaluation metric used with the objective 'binary:logistic' was changed from 'error' to 'logloss'. Explicitly set eval_metric if you'd like to restore the old behavior.\n"
     ]
    },
    {
     "name": "stderr",
     "output_type": "stream",
     "text": [
      "C:\\Users\\Swastik\\anaconda3\\lib\\site-packages\\xgboost\\sklearn.py:1224: UserWarning: The use of label encoder in XGBClassifier is deprecated and will be removed in a future release. To remove this warning, do the following: 1) Pass option use_label_encoder=False when constructing XGBClassifier object; and 2) Encode your labels (y) as integers starting with 0, i.e. 0, 1, 2, ..., [num_class - 1].\n",
      "  warnings.warn(label_encoder_deprecation_msg, UserWarning)\n"
     ]
    },
    {
     "name": "stdout",
     "output_type": "stream",
     "text": [
      "[16:46:02] WARNING: C:/Users/Administrator/workspace/xgboost-win64_release_1.5.0/src/learner.cc:1115: Starting in XGBoost 1.3.0, the default evaluation metric used with the objective 'binary:logistic' was changed from 'error' to 'logloss'. Explicitly set eval_metric if you'd like to restore the old behavior.\n"
     ]
    },
    {
     "name": "stderr",
     "output_type": "stream",
     "text": [
      "C:\\Users\\Swastik\\anaconda3\\lib\\site-packages\\xgboost\\sklearn.py:1224: UserWarning: The use of label encoder in XGBClassifier is deprecated and will be removed in a future release. To remove this warning, do the following: 1) Pass option use_label_encoder=False when constructing XGBClassifier object; and 2) Encode your labels (y) as integers starting with 0, i.e. 0, 1, 2, ..., [num_class - 1].\n",
      "  warnings.warn(label_encoder_deprecation_msg, UserWarning)\n"
     ]
    },
    {
     "name": "stdout",
     "output_type": "stream",
     "text": [
      "[16:46:03] WARNING: C:/Users/Administrator/workspace/xgboost-win64_release_1.5.0/src/learner.cc:1115: Starting in XGBoost 1.3.0, the default evaluation metric used with the objective 'binary:logistic' was changed from 'error' to 'logloss'. Explicitly set eval_metric if you'd like to restore the old behavior.\n"
     ]
    },
    {
     "name": "stderr",
     "output_type": "stream",
     "text": [
      "C:\\Users\\Swastik\\anaconda3\\lib\\site-packages\\xgboost\\sklearn.py:1224: UserWarning: The use of label encoder in XGBClassifier is deprecated and will be removed in a future release. To remove this warning, do the following: 1) Pass option use_label_encoder=False when constructing XGBClassifier object; and 2) Encode your labels (y) as integers starting with 0, i.e. 0, 1, 2, ..., [num_class - 1].\n",
      "  warnings.warn(label_encoder_deprecation_msg, UserWarning)\n"
     ]
    },
    {
     "name": "stdout",
     "output_type": "stream",
     "text": [
      "[16:46:04] WARNING: C:/Users/Administrator/workspace/xgboost-win64_release_1.5.0/src/learner.cc:1115: Starting in XGBoost 1.3.0, the default evaluation metric used with the objective 'binary:logistic' was changed from 'error' to 'logloss'. Explicitly set eval_metric if you'd like to restore the old behavior.\n"
     ]
    },
    {
     "name": "stderr",
     "output_type": "stream",
     "text": [
      "C:\\Users\\Swastik\\anaconda3\\lib\\site-packages\\xgboost\\sklearn.py:1224: UserWarning: The use of label encoder in XGBClassifier is deprecated and will be removed in a future release. To remove this warning, do the following: 1) Pass option use_label_encoder=False when constructing XGBClassifier object; and 2) Encode your labels (y) as integers starting with 0, i.e. 0, 1, 2, ..., [num_class - 1].\n",
      "  warnings.warn(label_encoder_deprecation_msg, UserWarning)\n"
     ]
    },
    {
     "name": "stdout",
     "output_type": "stream",
     "text": [
      "[16:46:05] WARNING: C:/Users/Administrator/workspace/xgboost-win64_release_1.5.0/src/learner.cc:1115: Starting in XGBoost 1.3.0, the default evaluation metric used with the objective 'binary:logistic' was changed from 'error' to 'logloss'. Explicitly set eval_metric if you'd like to restore the old behavior.\n"
     ]
    },
    {
     "name": "stderr",
     "output_type": "stream",
     "text": [
      "C:\\Users\\Swastik\\anaconda3\\lib\\site-packages\\xgboost\\sklearn.py:1224: UserWarning: The use of label encoder in XGBClassifier is deprecated and will be removed in a future release. To remove this warning, do the following: 1) Pass option use_label_encoder=False when constructing XGBClassifier object; and 2) Encode your labels (y) as integers starting with 0, i.e. 0, 1, 2, ..., [num_class - 1].\n",
      "  warnings.warn(label_encoder_deprecation_msg, UserWarning)\n"
     ]
    },
    {
     "name": "stdout",
     "output_type": "stream",
     "text": [
      "[16:46:06] WARNING: C:/Users/Administrator/workspace/xgboost-win64_release_1.5.0/src/learner.cc:1115: Starting in XGBoost 1.3.0, the default evaluation metric used with the objective 'binary:logistic' was changed from 'error' to 'logloss'. Explicitly set eval_metric if you'd like to restore the old behavior.\n"
     ]
    },
    {
     "name": "stderr",
     "output_type": "stream",
     "text": [
      "C:\\Users\\Swastik\\anaconda3\\lib\\site-packages\\xgboost\\sklearn.py:1224: UserWarning: The use of label encoder in XGBClassifier is deprecated and will be removed in a future release. To remove this warning, do the following: 1) Pass option use_label_encoder=False when constructing XGBClassifier object; and 2) Encode your labels (y) as integers starting with 0, i.e. 0, 1, 2, ..., [num_class - 1].\n",
      "  warnings.warn(label_encoder_deprecation_msg, UserWarning)\n"
     ]
    },
    {
     "name": "stdout",
     "output_type": "stream",
     "text": [
      "[16:46:07] WARNING: C:/Users/Administrator/workspace/xgboost-win64_release_1.5.0/src/learner.cc:1115: Starting in XGBoost 1.3.0, the default evaluation metric used with the objective 'binary:logistic' was changed from 'error' to 'logloss'. Explicitly set eval_metric if you'd like to restore the old behavior.\n"
     ]
    },
    {
     "name": "stderr",
     "output_type": "stream",
     "text": [
      "C:\\Users\\Swastik\\anaconda3\\lib\\site-packages\\xgboost\\sklearn.py:1224: UserWarning: The use of label encoder in XGBClassifier is deprecated and will be removed in a future release. To remove this warning, do the following: 1) Pass option use_label_encoder=False when constructing XGBClassifier object; and 2) Encode your labels (y) as integers starting with 0, i.e. 0, 1, 2, ..., [num_class - 1].\n",
      "  warnings.warn(label_encoder_deprecation_msg, UserWarning)\n"
     ]
    },
    {
     "name": "stdout",
     "output_type": "stream",
     "text": [
      "[16:46:08] WARNING: C:/Users/Administrator/workspace/xgboost-win64_release_1.5.0/src/learner.cc:1115: Starting in XGBoost 1.3.0, the default evaluation metric used with the objective 'binary:logistic' was changed from 'error' to 'logloss'. Explicitly set eval_metric if you'd like to restore the old behavior.\n"
     ]
    },
    {
     "name": "stderr",
     "output_type": "stream",
     "text": [
      "C:\\Users\\Swastik\\anaconda3\\lib\\site-packages\\xgboost\\sklearn.py:1224: UserWarning: The use of label encoder in XGBClassifier is deprecated and will be removed in a future release. To remove this warning, do the following: 1) Pass option use_label_encoder=False when constructing XGBClassifier object; and 2) Encode your labels (y) as integers starting with 0, i.e. 0, 1, 2, ..., [num_class - 1].\n",
      "  warnings.warn(label_encoder_deprecation_msg, UserWarning)\n"
     ]
    },
    {
     "name": "stdout",
     "output_type": "stream",
     "text": [
      "[16:46:09] WARNING: C:/Users/Administrator/workspace/xgboost-win64_release_1.5.0/src/learner.cc:1115: Starting in XGBoost 1.3.0, the default evaluation metric used with the objective 'binary:logistic' was changed from 'error' to 'logloss'. Explicitly set eval_metric if you'd like to restore the old behavior.\n"
     ]
    },
    {
     "name": "stderr",
     "output_type": "stream",
     "text": [
      "C:\\Users\\Swastik\\anaconda3\\lib\\site-packages\\xgboost\\sklearn.py:1224: UserWarning: The use of label encoder in XGBClassifier is deprecated and will be removed in a future release. To remove this warning, do the following: 1) Pass option use_label_encoder=False when constructing XGBClassifier object; and 2) Encode your labels (y) as integers starting with 0, i.e. 0, 1, 2, ..., [num_class - 1].\n",
      "  warnings.warn(label_encoder_deprecation_msg, UserWarning)\n"
     ]
    },
    {
     "name": "stdout",
     "output_type": "stream",
     "text": [
      "[16:46:10] WARNING: C:/Users/Administrator/workspace/xgboost-win64_release_1.5.0/src/learner.cc:1115: Starting in XGBoost 1.3.0, the default evaluation metric used with the objective 'binary:logistic' was changed from 'error' to 'logloss'. Explicitly set eval_metric if you'd like to restore the old behavior.\n"
     ]
    },
    {
     "name": "stderr",
     "output_type": "stream",
     "text": [
      "C:\\Users\\Swastik\\anaconda3\\lib\\site-packages\\xgboost\\sklearn.py:1224: UserWarning: The use of label encoder in XGBClassifier is deprecated and will be removed in a future release. To remove this warning, do the following: 1) Pass option use_label_encoder=False when constructing XGBClassifier object; and 2) Encode your labels (y) as integers starting with 0, i.e. 0, 1, 2, ..., [num_class - 1].\n",
      "  warnings.warn(label_encoder_deprecation_msg, UserWarning)\n"
     ]
    },
    {
     "name": "stdout",
     "output_type": "stream",
     "text": [
      "[16:46:11] WARNING: C:/Users/Administrator/workspace/xgboost-win64_release_1.5.0/src/learner.cc:1115: Starting in XGBoost 1.3.0, the default evaluation metric used with the objective 'binary:logistic' was changed from 'error' to 'logloss'. Explicitly set eval_metric if you'd like to restore the old behavior.\n"
     ]
    },
    {
     "name": "stderr",
     "output_type": "stream",
     "text": [
      "C:\\Users\\Swastik\\anaconda3\\lib\\site-packages\\xgboost\\sklearn.py:1224: UserWarning: The use of label encoder in XGBClassifier is deprecated and will be removed in a future release. To remove this warning, do the following: 1) Pass option use_label_encoder=False when constructing XGBClassifier object; and 2) Encode your labels (y) as integers starting with 0, i.e. 0, 1, 2, ..., [num_class - 1].\n",
      "  warnings.warn(label_encoder_deprecation_msg, UserWarning)\n"
     ]
    },
    {
     "name": "stdout",
     "output_type": "stream",
     "text": [
      "[16:46:12] WARNING: C:/Users/Administrator/workspace/xgboost-win64_release_1.5.0/src/learner.cc:1115: Starting in XGBoost 1.3.0, the default evaluation metric used with the objective 'binary:logistic' was changed from 'error' to 'logloss'. Explicitly set eval_metric if you'd like to restore the old behavior.\n"
     ]
    },
    {
     "name": "stderr",
     "output_type": "stream",
     "text": [
      "C:\\Users\\Swastik\\anaconda3\\lib\\site-packages\\xgboost\\sklearn.py:1224: UserWarning: The use of label encoder in XGBClassifier is deprecated and will be removed in a future release. To remove this warning, do the following: 1) Pass option use_label_encoder=False when constructing XGBClassifier object; and 2) Encode your labels (y) as integers starting with 0, i.e. 0, 1, 2, ..., [num_class - 1].\n",
      "  warnings.warn(label_encoder_deprecation_msg, UserWarning)\n"
     ]
    },
    {
     "name": "stdout",
     "output_type": "stream",
     "text": [
      "[16:46:14] WARNING: C:/Users/Administrator/workspace/xgboost-win64_release_1.5.0/src/learner.cc:1115: Starting in XGBoost 1.3.0, the default evaluation metric used with the objective 'binary:logistic' was changed from 'error' to 'logloss'. Explicitly set eval_metric if you'd like to restore the old behavior.\n"
     ]
    },
    {
     "name": "stderr",
     "output_type": "stream",
     "text": [
      "C:\\Users\\Swastik\\anaconda3\\lib\\site-packages\\xgboost\\sklearn.py:1224: UserWarning: The use of label encoder in XGBClassifier is deprecated and will be removed in a future release. To remove this warning, do the following: 1) Pass option use_label_encoder=False when constructing XGBClassifier object; and 2) Encode your labels (y) as integers starting with 0, i.e. 0, 1, 2, ..., [num_class - 1].\n",
      "  warnings.warn(label_encoder_deprecation_msg, UserWarning)\n"
     ]
    },
    {
     "name": "stdout",
     "output_type": "stream",
     "text": [
      "[16:46:15] WARNING: C:/Users/Administrator/workspace/xgboost-win64_release_1.5.0/src/learner.cc:1115: Starting in XGBoost 1.3.0, the default evaluation metric used with the objective 'binary:logistic' was changed from 'error' to 'logloss'. Explicitly set eval_metric if you'd like to restore the old behavior.\n"
     ]
    },
    {
     "name": "stderr",
     "output_type": "stream",
     "text": [
      "C:\\Users\\Swastik\\anaconda3\\lib\\site-packages\\xgboost\\sklearn.py:1224: UserWarning: The use of label encoder in XGBClassifier is deprecated and will be removed in a future release. To remove this warning, do the following: 1) Pass option use_label_encoder=False when constructing XGBClassifier object; and 2) Encode your labels (y) as integers starting with 0, i.e. 0, 1, 2, ..., [num_class - 1].\n",
      "  warnings.warn(label_encoder_deprecation_msg, UserWarning)\n"
     ]
    },
    {
     "name": "stdout",
     "output_type": "stream",
     "text": [
      "[16:46:17] WARNING: C:/Users/Administrator/workspace/xgboost-win64_release_1.5.0/src/learner.cc:1115: Starting in XGBoost 1.3.0, the default evaluation metric used with the objective 'binary:logistic' was changed from 'error' to 'logloss'. Explicitly set eval_metric if you'd like to restore the old behavior.\n"
     ]
    },
    {
     "name": "stderr",
     "output_type": "stream",
     "text": [
      "C:\\Users\\Swastik\\anaconda3\\lib\\site-packages\\xgboost\\sklearn.py:1224: UserWarning: The use of label encoder in XGBClassifier is deprecated and will be removed in a future release. To remove this warning, do the following: 1) Pass option use_label_encoder=False when constructing XGBClassifier object; and 2) Encode your labels (y) as integers starting with 0, i.e. 0, 1, 2, ..., [num_class - 1].\n",
      "  warnings.warn(label_encoder_deprecation_msg, UserWarning)\n"
     ]
    },
    {
     "name": "stdout",
     "output_type": "stream",
     "text": [
      "[16:46:18] WARNING: C:/Users/Administrator/workspace/xgboost-win64_release_1.5.0/src/learner.cc:1115: Starting in XGBoost 1.3.0, the default evaluation metric used with the objective 'binary:logistic' was changed from 'error' to 'logloss'. Explicitly set eval_metric if you'd like to restore the old behavior.\n"
     ]
    },
    {
     "name": "stderr",
     "output_type": "stream",
     "text": [
      "C:\\Users\\Swastik\\anaconda3\\lib\\site-packages\\xgboost\\sklearn.py:1224: UserWarning: The use of label encoder in XGBClassifier is deprecated and will be removed in a future release. To remove this warning, do the following: 1) Pass option use_label_encoder=False when constructing XGBClassifier object; and 2) Encode your labels (y) as integers starting with 0, i.e. 0, 1, 2, ..., [num_class - 1].\n",
      "  warnings.warn(label_encoder_deprecation_msg, UserWarning)\n"
     ]
    },
    {
     "name": "stdout",
     "output_type": "stream",
     "text": [
      "[16:46:19] WARNING: C:/Users/Administrator/workspace/xgboost-win64_release_1.5.0/src/learner.cc:1115: Starting in XGBoost 1.3.0, the default evaluation metric used with the objective 'binary:logistic' was changed from 'error' to 'logloss'. Explicitly set eval_metric if you'd like to restore the old behavior.\n"
     ]
    },
    {
     "name": "stderr",
     "output_type": "stream",
     "text": [
      "C:\\Users\\Swastik\\anaconda3\\lib\\site-packages\\xgboost\\sklearn.py:1224: UserWarning: The use of label encoder in XGBClassifier is deprecated and will be removed in a future release. To remove this warning, do the following: 1) Pass option use_label_encoder=False when constructing XGBClassifier object; and 2) Encode your labels (y) as integers starting with 0, i.e. 0, 1, 2, ..., [num_class - 1].\n",
      "  warnings.warn(label_encoder_deprecation_msg, UserWarning)\n"
     ]
    },
    {
     "name": "stdout",
     "output_type": "stream",
     "text": [
      "[16:46:20] WARNING: C:/Users/Administrator/workspace/xgboost-win64_release_1.5.0/src/learner.cc:1115: Starting in XGBoost 1.3.0, the default evaluation metric used with the objective 'binary:logistic' was changed from 'error' to 'logloss'. Explicitly set eval_metric if you'd like to restore the old behavior.\n"
     ]
    },
    {
     "name": "stderr",
     "output_type": "stream",
     "text": [
      "C:\\Users\\Swastik\\anaconda3\\lib\\site-packages\\xgboost\\sklearn.py:1224: UserWarning: The use of label encoder in XGBClassifier is deprecated and will be removed in a future release. To remove this warning, do the following: 1) Pass option use_label_encoder=False when constructing XGBClassifier object; and 2) Encode your labels (y) as integers starting with 0, i.e. 0, 1, 2, ..., [num_class - 1].\n",
      "  warnings.warn(label_encoder_deprecation_msg, UserWarning)\n"
     ]
    },
    {
     "name": "stdout",
     "output_type": "stream",
     "text": [
      "[16:46:22] WARNING: C:/Users/Administrator/workspace/xgboost-win64_release_1.5.0/src/learner.cc:1115: Starting in XGBoost 1.3.0, the default evaluation metric used with the objective 'binary:logistic' was changed from 'error' to 'logloss'. Explicitly set eval_metric if you'd like to restore the old behavior.\n"
     ]
    },
    {
     "name": "stderr",
     "output_type": "stream",
     "text": [
      "C:\\Users\\Swastik\\anaconda3\\lib\\site-packages\\xgboost\\sklearn.py:1224: UserWarning: The use of label encoder in XGBClassifier is deprecated and will be removed in a future release. To remove this warning, do the following: 1) Pass option use_label_encoder=False when constructing XGBClassifier object; and 2) Encode your labels (y) as integers starting with 0, i.e. 0, 1, 2, ..., [num_class - 1].\n",
      "  warnings.warn(label_encoder_deprecation_msg, UserWarning)\n"
     ]
    },
    {
     "name": "stdout",
     "output_type": "stream",
     "text": [
      "[16:46:23] WARNING: C:/Users/Administrator/workspace/xgboost-win64_release_1.5.0/src/learner.cc:1115: Starting in XGBoost 1.3.0, the default evaluation metric used with the objective 'binary:logistic' was changed from 'error' to 'logloss'. Explicitly set eval_metric if you'd like to restore the old behavior.\n"
     ]
    },
    {
     "name": "stderr",
     "output_type": "stream",
     "text": [
      "C:\\Users\\Swastik\\anaconda3\\lib\\site-packages\\xgboost\\sklearn.py:1224: UserWarning: The use of label encoder in XGBClassifier is deprecated and will be removed in a future release. To remove this warning, do the following: 1) Pass option use_label_encoder=False when constructing XGBClassifier object; and 2) Encode your labels (y) as integers starting with 0, i.e. 0, 1, 2, ..., [num_class - 1].\n",
      "  warnings.warn(label_encoder_deprecation_msg, UserWarning)\n"
     ]
    },
    {
     "name": "stdout",
     "output_type": "stream",
     "text": [
      "[16:46:25] WARNING: C:/Users/Administrator/workspace/xgboost-win64_release_1.5.0/src/learner.cc:1115: Starting in XGBoost 1.3.0, the default evaluation metric used with the objective 'binary:logistic' was changed from 'error' to 'logloss'. Explicitly set eval_metric if you'd like to restore the old behavior.\n"
     ]
    },
    {
     "data": {
      "text/plain": [
       "GridSearchCV(estimator=XGBClassifier(base_score=0.5, booster='gbtree',\n",
       "                                     colsample_bylevel=1, colsample_bynode=1,\n",
       "                                     colsample_bytree=1,\n",
       "                                     enable_categorical=False, gamma=0,\n",
       "                                     gpu_id=-1, importance_type=None,\n",
       "                                     interaction_constraints='',\n",
       "                                     learning_rate=0.300000012,\n",
       "                                     max_delta_step=0, max_depth=6,\n",
       "                                     min_child_weight=1, missing=nan,\n",
       "                                     monotone_constraints='()', n_estimators=80,\n",
       "                                     n_jobs=8, num_parallel_tree=1,\n",
       "                                     predictor='auto', random_state=500,\n",
       "                                     reg_alpha=0, reg_lambda=1,\n",
       "                                     scale_pos_weight=1, subsample=1,\n",
       "                                     tree_method='exact', validate_parameters=1,\n",
       "                                     verbosity=None),\n",
       "             param_grid={'n_estimators': [60, 80, 100, 120, 140, 160]})"
      ]
     },
     "execution_count": 189,
     "metadata": {},
     "output_type": "execute_result"
    }
   ],
   "source": [
    "mod = GridSearchCV(clf, param_grid = {'n_estimators':[60,80,100,120,140,160]})\n",
    "\n",
    "mod.fit(X_train, y_train)"
   ]
  },
  {
   "cell_type": "code",
   "execution_count": 190,
   "id": "9608efe9",
   "metadata": {},
   "outputs": [
    {
     "data": {
      "text/plain": [
       "XGBClassifier(base_score=0.5, booster='gbtree', colsample_bylevel=1,\n",
       "              colsample_bynode=1, colsample_bytree=1, enable_categorical=False,\n",
       "              gamma=0, gpu_id=-1, importance_type=None,\n",
       "              interaction_constraints='', learning_rate=0.300000012,\n",
       "              max_delta_step=0, max_depth=6, min_child_weight=1, missing=nan,\n",
       "              monotone_constraints='()', n_estimators=140, n_jobs=8,\n",
       "              num_parallel_tree=1, predictor='auto', random_state=500,\n",
       "              reg_alpha=0, reg_lambda=1, scale_pos_weight=1, subsample=1,\n",
       "              tree_method='exact', validate_parameters=1, verbosity=None)"
      ]
     },
     "execution_count": 190,
     "metadata": {},
     "output_type": "execute_result"
    }
   ],
   "source": [
    "mod.best_estimator_"
   ]
  },
  {
   "cell_type": "code",
   "execution_count": 191,
   "id": "931a0d0d",
   "metadata": {},
   "outputs": [
    {
     "name": "stdout",
     "output_type": "stream",
     "text": [
      "[16:47:15] WARNING: C:/Users/Administrator/workspace/xgboost-win64_release_1.5.0/src/learner.cc:1115: Starting in XGBoost 1.3.0, the default evaluation metric used with the objective 'binary:logistic' was changed from 'error' to 'logloss'. Explicitly set eval_metric if you'd like to restore the old behavior.\n"
     ]
    },
    {
     "data": {
      "text/plain": [
       "XGBClassifier(base_score=0.5, booster='gbtree', colsample_bylevel=1,\n",
       "              colsample_bynode=1, colsample_bytree=1, enable_categorical=False,\n",
       "              gamma=0, gpu_id=-1, importance_type=None,\n",
       "              interaction_constraints='', learning_rate=0.300000012,\n",
       "              max_delta_step=0, max_depth=6, min_child_weight=1, missing=nan,\n",
       "              monotone_constraints='()', n_estimators=140, n_jobs=8,\n",
       "              num_parallel_tree=1, predictor='auto', random_state=500,\n",
       "              reg_alpha=0, reg_lambda=1, scale_pos_weight=1, subsample=1,\n",
       "              tree_method='exact', validate_parameters=1, verbosity=None)"
      ]
     },
     "execution_count": 191,
     "metadata": {},
     "output_type": "execute_result"
    }
   ],
   "source": [
    "clf = XGBClassifier(n_estimators=140, random_state=500)\n",
    "\n",
    "clf.fit(X_train, y_train)"
   ]
  },
  {
   "cell_type": "code",
   "execution_count": 192,
   "id": "9cfc1054",
   "metadata": {},
   "outputs": [
    {
     "data": {
      "text/plain": [
       "0.9883333333333333"
      ]
     },
     "execution_count": 192,
     "metadata": {},
     "output_type": "execute_result"
    }
   ],
   "source": [
    "clf.score(X_test, y_test)"
   ]
  },
  {
   "cell_type": "code",
   "execution_count": 193,
   "id": "c31a9a2f",
   "metadata": {},
   "outputs": [
    {
     "data": {
      "text/plain": [
       "satisfaction_level       0.237861\n",
       "time_spend_company       0.204059\n",
       "number_project           0.141526\n",
       "last_evaluation          0.073962\n",
       "Work_accident            0.044384\n",
       "salary_high              0.043156\n",
       "average_montly_hours     0.039332\n",
       "deptt_IT                 0.024373\n",
       "salary_low               0.023878\n",
       "deptt_support            0.022110\n",
       "deptt_hr                 0.021984\n",
       "deptt_accounting         0.020219\n",
       "deptt_technical          0.016814\n",
       "deptt_sales              0.016316\n",
       "salary_medium            0.014658\n",
       "deptt_RandD              0.014343\n",
       "promotion_last_5years    0.014038\n",
       "deptt_management         0.011235\n",
       "deptt_product_mng        0.009842\n",
       "deptt_marketing          0.005910\n",
       "dtype: float32"
      ]
     },
     "execution_count": 193,
     "metadata": {},
     "output_type": "execute_result"
    }
   ],
   "source": [
    "feat_imp = pd.Series(clf.feature_importances_, index=X.columns.tolist()).sort_values(ascending=False)\n",
    "\n",
    "feat_imp"
   ]
  },
  {
   "cell_type": "code",
   "execution_count": 194,
   "id": "556ec582",
   "metadata": {},
   "outputs": [
    {
     "data": {
      "text/plain": [
       "<AxesSubplot:>"
      ]
     },
     "execution_count": 194,
     "metadata": {},
     "output_type": "execute_result"
    },
    {
     "data": {
      "image/png": "[encoded data removed]",
      "text/plain": [
       "<Figure size 432x288 with 1 Axes>"
      ]
     },
     "metadata": {
      "needs_background": "light"
     },
     "output_type": "display_data"
    }
   ],
   "source": [
    "feat_imp.plot(kind='bar')"
   ]
  },
  {
   "cell_type": "code",
   "execution_count": null,
   "id": "9222d379",
   "metadata": {},
   "outputs": [],
   "source": []
  },
  {
   "cell_type": "code",
   "execution_count": null,
   "id": "da873303",
   "metadata": {},
   "outputs": [],
   "source": []
  },
  {
   "cell_type": "code",
   "execution_count": null,
   "id": "39b5de0b",
   "metadata": {},
   "outputs": [],
   "source": []
  },
  {
   "cell_type": "code",
   "execution_count": null,
   "id": "acf4f04b",
   "metadata": {},
   "outputs": [],
   "source": []
  },
  {
   "cell_type": "code",
   "execution_count": null,
   "id": "9b49d2e3",
   "metadata": {},
   "outputs": [],
   "source": []
  },
  {
   "cell_type": "code",
   "execution_count": null,
   "id": "de34f5a8",
   "metadata": {},
   "outputs": [],
   "source": []
  },
  {
   "cell_type": "code",
   "execution_count": null,
   "id": "582d0622",
   "metadata": {},
   "outputs": [],
   "source": []
  },
  {
   "cell_type": "code",
   "execution_count": null,
   "id": "960d0c34",
   "metadata": {},
   "outputs": [],
   "source": []
  },
  {
   "cell_type": "code",
   "execution_count": null,
   "id": "4b1a695c",
   "metadata": {},
   "outputs": [],
   "source": []
  },
  {
   "cell_type": "code",
   "execution_count": null,
   "id": "bcde6896",
   "metadata": {},
   "outputs": [],
   "source": []
  }
 ],
 "metadata": {
  "kernelspec": {
   "display_name": "Python 3",
   "language": "python",
   "name": "python3"
  },
  "language_info": {
   "codemirror_mode": {
    "name": "ipython",
    "version": 3
   },
   "file_extension": ".py",
   "mimetype": "text/x-python",
   "name": "python",
   "nbconvert_exporter": "python",
   "pygments_lexer": "ipython3",
   "version": "3.8.8"
  }
 },
 "nbformat": 4,
 "nbformat_minor": 5
}
